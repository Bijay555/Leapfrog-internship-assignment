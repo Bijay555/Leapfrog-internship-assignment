{
 "cells": [
  {
   "cell_type": "code",
   "execution_count": 104,
   "metadata": {},
   "outputs": [],
   "source": [
    "import pandas as pd\n",
    "import numpy as np\n",
    "# import matplotlib.pyplot as plt\n",
    "# import seaborn as sns"
   ]
  },
  {
   "cell_type": "code",
   "execution_count": 157,
   "metadata": {},
   "outputs": [
    {
     "data": {
      "text/html": [
       "<div>\n",
       "<style scoped>\n",
       "    .dataframe tbody tr th:only-of-type {\n",
       "        vertical-align: middle;\n",
       "    }\n",
       "\n",
       "    .dataframe tbody tr th {\n",
       "        vertical-align: top;\n",
       "    }\n",
       "\n",
       "    .dataframe thead th {\n",
       "        text-align: right;\n",
       "    }\n",
       "</style>\n",
       "<table border=\"1\" class=\"dataframe\">\n",
       "  <thead>\n",
       "    <tr style=\"text-align: right;\">\n",
       "      <th></th>\n",
       "      <th>Brand</th>\n",
       "      <th>Model</th>\n",
       "      <th>Model_year</th>\n",
       "      <th>Transmission</th>\n",
       "      <th>Engine_size(cc)</th>\n",
       "      <th>Drivetrain</th>\n",
       "      <th>Fuel_type</th>\n",
       "      <th>Colour</th>\n",
       "      <th>Lot_no</th>\n",
       "      <th>Kilometer</th>\n",
       "      <th>Status</th>\n",
       "      <th>Price</th>\n",
       "    </tr>\n",
       "  </thead>\n",
       "  <tbody>\n",
       "    <tr>\n",
       "      <th>0</th>\n",
       "      <td>Chevrolet</td>\n",
       "      <td>aveo</td>\n",
       "      <td>2009.0</td>\n",
       "      <td>Manual</td>\n",
       "      <td>1150.0</td>\n",
       "      <td>2WD</td>\n",
       "      <td>Petrol</td>\n",
       "      <td>golden</td>\n",
       "      <td>6.0</td>\n",
       "      <td>200.0</td>\n",
       "      <td>USED</td>\n",
       "      <td>Rs. 975000</td>\n",
       "    </tr>\n",
       "    <tr>\n",
       "      <th>1</th>\n",
       "      <td>Chevrolet</td>\n",
       "      <td>captiva</td>\n",
       "      <td>2015.0</td>\n",
       "      <td>Automatic</td>\n",
       "      <td>2000.0</td>\n",
       "      <td>4WD</td>\n",
       "      <td>Diesel</td>\n",
       "      <td>Grey</td>\n",
       "      <td>8.0</td>\n",
       "      <td>100.0</td>\n",
       "      <td>USED</td>\n",
       "      <td>Rs. 3000000</td>\n",
       "    </tr>\n",
       "    <tr>\n",
       "      <th>2</th>\n",
       "      <td>Chevrolet</td>\n",
       "      <td>aveo</td>\n",
       "      <td>2009.0</td>\n",
       "      <td>Manual</td>\n",
       "      <td>1150.0</td>\n",
       "      <td>2WD</td>\n",
       "      <td>Petrol</td>\n",
       "      <td>golden</td>\n",
       "      <td>6.0</td>\n",
       "      <td>42000.0</td>\n",
       "      <td>USED</td>\n",
       "      <td>Rs. 975000</td>\n",
       "    </tr>\n",
       "    <tr>\n",
       "      <th>3</th>\n",
       "      <td>Chevrolet</td>\n",
       "      <td>captiva</td>\n",
       "      <td>2010.0</td>\n",
       "      <td>Automatic</td>\n",
       "      <td>2000.0</td>\n",
       "      <td>4WD</td>\n",
       "      <td>Diesel</td>\n",
       "      <td>Grey</td>\n",
       "      <td>8.0</td>\n",
       "      <td>51000.0</td>\n",
       "      <td>USED</td>\n",
       "      <td>Rs. 3000000</td>\n",
       "    </tr>\n",
       "    <tr>\n",
       "      <th>4</th>\n",
       "      <td>Chevrolet</td>\n",
       "      <td>spark</td>\n",
       "      <td>2012.0</td>\n",
       "      <td>Manual</td>\n",
       "      <td>1000.0</td>\n",
       "      <td>2WD</td>\n",
       "      <td>Petrol</td>\n",
       "      <td>Sky Blue</td>\n",
       "      <td>9.0</td>\n",
       "      <td>38000.0</td>\n",
       "      <td>USED</td>\n",
       "      <td>Rs. 1000000</td>\n",
       "    </tr>\n",
       "  </tbody>\n",
       "</table>\n",
       "</div>"
      ],
      "text/plain": [
       "       Brand    Model  Model_year Transmission  Engine_size(cc) Drivetrain  \\\n",
       "0  Chevrolet     aveo      2009.0       Manual           1150.0        2WD   \n",
       "1  Chevrolet  captiva      2015.0    Automatic           2000.0        4WD   \n",
       "2  Chevrolet     aveo      2009.0       Manual           1150.0        2WD   \n",
       "3  Chevrolet  captiva      2010.0    Automatic           2000.0        4WD   \n",
       "4  Chevrolet    spark      2012.0       Manual           1000.0        2WD   \n",
       "\n",
       "  Fuel_type      Colour  Lot_no  Kilometer Status        Price  \n",
       "0    Petrol      golden     6.0      200.0   USED   Rs. 975000  \n",
       "1    Diesel        Grey     8.0      100.0   USED  Rs. 3000000  \n",
       "2    Petrol      golden     6.0    42000.0   USED   Rs. 975000  \n",
       "3    Diesel        Grey     8.0    51000.0   USED  Rs. 3000000  \n",
       "4    Petrol   Sky Blue      9.0    38000.0   USED  Rs. 1000000  "
      ]
     },
     "execution_count": 157,
     "metadata": {},
     "output_type": "execute_result"
    }
   ],
   "source": [
    "df = pd.read_csv('used_car_data.csv')\n",
    "df.head()"
   ]
  },
  {
   "cell_type": "code",
   "execution_count": 158,
   "metadata": {},
   "outputs": [
    {
     "data": {
      "text/plain": [
       "(2217, 12)"
      ]
     },
     "execution_count": 158,
     "metadata": {},
     "output_type": "execute_result"
    }
   ],
   "source": [
    "df.shape"
   ]
  },
  {
   "cell_type": "code",
   "execution_count": 159,
   "metadata": {},
   "outputs": [
    {
     "data": {
      "text/plain": [
       "array(['USED', nan], dtype=object)"
      ]
     },
     "execution_count": 159,
     "metadata": {},
     "output_type": "execute_result"
    }
   ],
   "source": [
    "df['Status'].unique()"
   ]
  },
  {
   "cell_type": "markdown",
   "metadata": {},
   "source": [
    "#####  Since we know that the vehicles are used vehicle so this column 'Status' has no use."
   ]
  },
  {
   "cell_type": "code",
   "execution_count": 160,
   "metadata": {},
   "outputs": [],
   "source": [
    "df.drop(['Status'], axis='columns', inplace=True)"
   ]
  },
  {
   "cell_type": "code",
   "execution_count": 161,
   "metadata": {},
   "outputs": [
    {
     "data": {
      "text/html": [
       "<div>\n",
       "<style scoped>\n",
       "    .dataframe tbody tr th:only-of-type {\n",
       "        vertical-align: middle;\n",
       "    }\n",
       "\n",
       "    .dataframe tbody tr th {\n",
       "        vertical-align: top;\n",
       "    }\n",
       "\n",
       "    .dataframe thead th {\n",
       "        text-align: right;\n",
       "    }\n",
       "</style>\n",
       "<table border=\"1\" class=\"dataframe\">\n",
       "  <thead>\n",
       "    <tr style=\"text-align: right;\">\n",
       "      <th></th>\n",
       "      <th>Brand</th>\n",
       "      <th>Model</th>\n",
       "      <th>Model_year</th>\n",
       "      <th>Transmission</th>\n",
       "      <th>Engine_size(cc)</th>\n",
       "      <th>Drivetrain</th>\n",
       "      <th>Fuel_type</th>\n",
       "      <th>Colour</th>\n",
       "      <th>Lot_no</th>\n",
       "      <th>Kilometer</th>\n",
       "      <th>Price</th>\n",
       "    </tr>\n",
       "  </thead>\n",
       "  <tbody>\n",
       "    <tr>\n",
       "      <th>0</th>\n",
       "      <td>Chevrolet</td>\n",
       "      <td>aveo</td>\n",
       "      <td>2009.0</td>\n",
       "      <td>Manual</td>\n",
       "      <td>1150.0</td>\n",
       "      <td>2WD</td>\n",
       "      <td>Petrol</td>\n",
       "      <td>golden</td>\n",
       "      <td>6.0</td>\n",
       "      <td>200.0</td>\n",
       "      <td>Rs. 975000</td>\n",
       "    </tr>\n",
       "    <tr>\n",
       "      <th>1</th>\n",
       "      <td>Chevrolet</td>\n",
       "      <td>captiva</td>\n",
       "      <td>2015.0</td>\n",
       "      <td>Automatic</td>\n",
       "      <td>2000.0</td>\n",
       "      <td>4WD</td>\n",
       "      <td>Diesel</td>\n",
       "      <td>Grey</td>\n",
       "      <td>8.0</td>\n",
       "      <td>100.0</td>\n",
       "      <td>Rs. 3000000</td>\n",
       "    </tr>\n",
       "    <tr>\n",
       "      <th>2</th>\n",
       "      <td>Chevrolet</td>\n",
       "      <td>aveo</td>\n",
       "      <td>2009.0</td>\n",
       "      <td>Manual</td>\n",
       "      <td>1150.0</td>\n",
       "      <td>2WD</td>\n",
       "      <td>Petrol</td>\n",
       "      <td>golden</td>\n",
       "      <td>6.0</td>\n",
       "      <td>42000.0</td>\n",
       "      <td>Rs. 975000</td>\n",
       "    </tr>\n",
       "    <tr>\n",
       "      <th>3</th>\n",
       "      <td>Chevrolet</td>\n",
       "      <td>captiva</td>\n",
       "      <td>2010.0</td>\n",
       "      <td>Automatic</td>\n",
       "      <td>2000.0</td>\n",
       "      <td>4WD</td>\n",
       "      <td>Diesel</td>\n",
       "      <td>Grey</td>\n",
       "      <td>8.0</td>\n",
       "      <td>51000.0</td>\n",
       "      <td>Rs. 3000000</td>\n",
       "    </tr>\n",
       "    <tr>\n",
       "      <th>4</th>\n",
       "      <td>Chevrolet</td>\n",
       "      <td>spark</td>\n",
       "      <td>2012.0</td>\n",
       "      <td>Manual</td>\n",
       "      <td>1000.0</td>\n",
       "      <td>2WD</td>\n",
       "      <td>Petrol</td>\n",
       "      <td>Sky Blue</td>\n",
       "      <td>9.0</td>\n",
       "      <td>38000.0</td>\n",
       "      <td>Rs. 1000000</td>\n",
       "    </tr>\n",
       "  </tbody>\n",
       "</table>\n",
       "</div>"
      ],
      "text/plain": [
       "       Brand    Model  Model_year Transmission  Engine_size(cc) Drivetrain  \\\n",
       "0  Chevrolet     aveo      2009.0       Manual           1150.0        2WD   \n",
       "1  Chevrolet  captiva      2015.0    Automatic           2000.0        4WD   \n",
       "2  Chevrolet     aveo      2009.0       Manual           1150.0        2WD   \n",
       "3  Chevrolet  captiva      2010.0    Automatic           2000.0        4WD   \n",
       "4  Chevrolet    spark      2012.0       Manual           1000.0        2WD   \n",
       "\n",
       "  Fuel_type      Colour  Lot_no  Kilometer        Price  \n",
       "0    Petrol      golden     6.0      200.0   Rs. 975000  \n",
       "1    Diesel        Grey     8.0      100.0  Rs. 3000000  \n",
       "2    Petrol      golden     6.0    42000.0   Rs. 975000  \n",
       "3    Diesel        Grey     8.0    51000.0  Rs. 3000000  \n",
       "4    Petrol   Sky Blue      9.0    38000.0  Rs. 1000000  "
      ]
     },
     "execution_count": 161,
     "metadata": {},
     "output_type": "execute_result"
    }
   ],
   "source": [
    "df.head()"
   ]
  },
  {
   "cell_type": "code",
   "execution_count": 162,
   "metadata": {},
   "outputs": [
    {
     "data": {
      "text/plain": [
       "Brand              316\n",
       "Model              316\n",
       "Model_year         316\n",
       "Transmission       316\n",
       "Engine_size(cc)    316\n",
       "Drivetrain         316\n",
       "Fuel_type          316\n",
       "Colour             316\n",
       "Lot_no             316\n",
       "Kilometer          316\n",
       "Price              316\n",
       "dtype: int64"
      ]
     },
     "execution_count": 162,
     "metadata": {},
     "output_type": "execute_result"
    }
   ],
   "source": [
    "df.isnull().sum()"
   ]
  },
  {
   "cell_type": "code",
   "execution_count": 163,
   "metadata": {},
   "outputs": [
    {
     "data": {
      "text/plain": [
       "['Brand',\n",
       " 'Model',\n",
       " 'Model_year',\n",
       " 'Transmission',\n",
       " 'Engine_size(cc)',\n",
       " 'Drivetrain',\n",
       " 'Fuel_type',\n",
       " 'Colour',\n",
       " 'Lot_no',\n",
       " 'Kilometer',\n",
       " 'Price']"
      ]
     },
     "execution_count": 163,
     "metadata": {},
     "output_type": "execute_result"
    }
   ],
   "source": [
    "cols=['Brand','Model','Model_year','Transmission','Engine_size(cc)','Drivetrain','Fuel_type','Colour','Lot_no','Kilometer','Price']\n",
    "cols"
   ]
  },
  {
   "cell_type": "markdown",
   "metadata": {},
   "source": [
    "###### There are equal no of missing values in all columns of the dataset. But when I see the dataset I found that these are not missing values but empty rows thatswhy all mising values are equal so we remove the these empty rows."
   ]
  },
  {
   "cell_type": "code",
   "execution_count": 164,
   "metadata": {
    "scrolled": true
   },
   "outputs": [
    {
     "data": {
      "text/html": [
       "<div>\n",
       "<style scoped>\n",
       "    .dataframe tbody tr th:only-of-type {\n",
       "        vertical-align: middle;\n",
       "    }\n",
       "\n",
       "    .dataframe tbody tr th {\n",
       "        vertical-align: top;\n",
       "    }\n",
       "\n",
       "    .dataframe thead th {\n",
       "        text-align: right;\n",
       "    }\n",
       "</style>\n",
       "<table border=\"1\" class=\"dataframe\">\n",
       "  <thead>\n",
       "    <tr style=\"text-align: right;\">\n",
       "      <th></th>\n",
       "      <th>Brand</th>\n",
       "      <th>Model</th>\n",
       "      <th>Model_year</th>\n",
       "      <th>Transmission</th>\n",
       "      <th>Engine_size(cc)</th>\n",
       "      <th>Drivetrain</th>\n",
       "      <th>Fuel_type</th>\n",
       "      <th>Colour</th>\n",
       "      <th>Lot_no</th>\n",
       "      <th>Kilometer</th>\n",
       "      <th>Price</th>\n",
       "    </tr>\n",
       "  </thead>\n",
       "  <tbody>\n",
       "    <tr>\n",
       "      <th>2212</th>\n",
       "      <td>Volkswagen</td>\n",
       "      <td>passat</td>\n",
       "      <td>2010.0</td>\n",
       "      <td>Manual</td>\n",
       "      <td>1800.0</td>\n",
       "      <td>2WD</td>\n",
       "      <td>Petrol</td>\n",
       "      <td>black</td>\n",
       "      <td>8.0</td>\n",
       "      <td>11000.0</td>\n",
       "      <td>Rs. 5800000</td>\n",
       "    </tr>\n",
       "    <tr>\n",
       "      <th>2213</th>\n",
       "      <td>NaN</td>\n",
       "      <td>NaN</td>\n",
       "      <td>NaN</td>\n",
       "      <td>NaN</td>\n",
       "      <td>NaN</td>\n",
       "      <td>NaN</td>\n",
       "      <td>NaN</td>\n",
       "      <td>NaN</td>\n",
       "      <td>NaN</td>\n",
       "      <td>NaN</td>\n",
       "      <td>NaN</td>\n",
       "    </tr>\n",
       "    <tr>\n",
       "      <th>2214</th>\n",
       "      <td>Volkswagen</td>\n",
       "      <td>tiguan</td>\n",
       "      <td>2010.0</td>\n",
       "      <td>Manual</td>\n",
       "      <td>2000.0</td>\n",
       "      <td>2WD</td>\n",
       "      <td>Petrol</td>\n",
       "      <td>India blue</td>\n",
       "      <td>8.0</td>\n",
       "      <td>25000.0</td>\n",
       "      <td>Rs. 4900000</td>\n",
       "    </tr>\n",
       "    <tr>\n",
       "      <th>2215</th>\n",
       "      <td>NaN</td>\n",
       "      <td>NaN</td>\n",
       "      <td>NaN</td>\n",
       "      <td>NaN</td>\n",
       "      <td>NaN</td>\n",
       "      <td>NaN</td>\n",
       "      <td>NaN</td>\n",
       "      <td>NaN</td>\n",
       "      <td>NaN</td>\n",
       "      <td>NaN</td>\n",
       "      <td>NaN</td>\n",
       "    </tr>\n",
       "    <tr>\n",
       "      <th>2216</th>\n",
       "      <td>Volkswagen</td>\n",
       "      <td>vento</td>\n",
       "      <td>2012.0</td>\n",
       "      <td>Manual</td>\n",
       "      <td>1600.0</td>\n",
       "      <td>2WD</td>\n",
       "      <td>Diesel</td>\n",
       "      <td>Silver</td>\n",
       "      <td>11.0</td>\n",
       "      <td>14000.0</td>\n",
       "      <td>Rs. 3555555</td>\n",
       "    </tr>\n",
       "  </tbody>\n",
       "</table>\n",
       "</div>"
      ],
      "text/plain": [
       "           Brand   Model  Model_year Transmission  Engine_size(cc) Drivetrain  \\\n",
       "2212  Volkswagen  passat      2010.0       Manual           1800.0        2WD   \n",
       "2213         NaN     NaN         NaN          NaN              NaN        NaN   \n",
       "2214  Volkswagen  tiguan      2010.0       Manual           2000.0        2WD   \n",
       "2215         NaN     NaN         NaN          NaN              NaN        NaN   \n",
       "2216  Volkswagen   vento      2012.0       Manual           1600.0        2WD   \n",
       "\n",
       "     Fuel_type       Colour  Lot_no  Kilometer        Price  \n",
       "2212    Petrol        black     8.0    11000.0  Rs. 5800000  \n",
       "2213       NaN          NaN     NaN        NaN          NaN  \n",
       "2214    Petrol   India blue     8.0    25000.0  Rs. 4900000  \n",
       "2215       NaN          NaN     NaN        NaN          NaN  \n",
       "2216    Diesel       Silver    11.0    14000.0  Rs. 3555555  "
      ]
     },
     "execution_count": 164,
     "metadata": {},
     "output_type": "execute_result"
    }
   ],
   "source": [
    "df.replace('',np.nan, inplace=True)\n",
    "df.tail()"
   ]
  },
  {
   "cell_type": "code",
   "execution_count": 165,
   "metadata": {},
   "outputs": [
    {
     "data": {
      "text/html": [
       "<div>\n",
       "<style scoped>\n",
       "    .dataframe tbody tr th:only-of-type {\n",
       "        vertical-align: middle;\n",
       "    }\n",
       "\n",
       "    .dataframe tbody tr th {\n",
       "        vertical-align: top;\n",
       "    }\n",
       "\n",
       "    .dataframe thead th {\n",
       "        text-align: right;\n",
       "    }\n",
       "</style>\n",
       "<table border=\"1\" class=\"dataframe\">\n",
       "  <thead>\n",
       "    <tr style=\"text-align: right;\">\n",
       "      <th></th>\n",
       "      <th>Brand</th>\n",
       "      <th>Model</th>\n",
       "      <th>Model_year</th>\n",
       "      <th>Transmission</th>\n",
       "      <th>Engine_size(cc)</th>\n",
       "      <th>Drivetrain</th>\n",
       "      <th>Fuel_type</th>\n",
       "      <th>Colour</th>\n",
       "      <th>Lot_no</th>\n",
       "      <th>Kilometer</th>\n",
       "      <th>Price</th>\n",
       "    </tr>\n",
       "  </thead>\n",
       "  <tbody>\n",
       "    <tr>\n",
       "      <th>2210</th>\n",
       "      <td>Volkswagen</td>\n",
       "      <td>polo</td>\n",
       "      <td>2013.0</td>\n",
       "      <td>Manual</td>\n",
       "      <td>1600.0</td>\n",
       "      <td>2WD</td>\n",
       "      <td>Petrol</td>\n",
       "      <td>Silver</td>\n",
       "      <td>11.0</td>\n",
       "      <td>6300.0</td>\n",
       "      <td>Rs. 2700000</td>\n",
       "    </tr>\n",
       "    <tr>\n",
       "      <th>2211</th>\n",
       "      <td>Volkswagen</td>\n",
       "      <td>beetle</td>\n",
       "      <td>2010.0</td>\n",
       "      <td>Manual</td>\n",
       "      <td>1595.0</td>\n",
       "      <td>2WD</td>\n",
       "      <td>Petrol</td>\n",
       "      <td>Maroon Red</td>\n",
       "      <td>8.0</td>\n",
       "      <td>19000.0</td>\n",
       "      <td>Rs. 3950000</td>\n",
       "    </tr>\n",
       "    <tr>\n",
       "      <th>2212</th>\n",
       "      <td>Volkswagen</td>\n",
       "      <td>passat</td>\n",
       "      <td>2010.0</td>\n",
       "      <td>Manual</td>\n",
       "      <td>1800.0</td>\n",
       "      <td>2WD</td>\n",
       "      <td>Petrol</td>\n",
       "      <td>black</td>\n",
       "      <td>8.0</td>\n",
       "      <td>11000.0</td>\n",
       "      <td>Rs. 5800000</td>\n",
       "    </tr>\n",
       "    <tr>\n",
       "      <th>2214</th>\n",
       "      <td>Volkswagen</td>\n",
       "      <td>tiguan</td>\n",
       "      <td>2010.0</td>\n",
       "      <td>Manual</td>\n",
       "      <td>2000.0</td>\n",
       "      <td>2WD</td>\n",
       "      <td>Petrol</td>\n",
       "      <td>India blue</td>\n",
       "      <td>8.0</td>\n",
       "      <td>25000.0</td>\n",
       "      <td>Rs. 4900000</td>\n",
       "    </tr>\n",
       "    <tr>\n",
       "      <th>2216</th>\n",
       "      <td>Volkswagen</td>\n",
       "      <td>vento</td>\n",
       "      <td>2012.0</td>\n",
       "      <td>Manual</td>\n",
       "      <td>1600.0</td>\n",
       "      <td>2WD</td>\n",
       "      <td>Diesel</td>\n",
       "      <td>Silver</td>\n",
       "      <td>11.0</td>\n",
       "      <td>14000.0</td>\n",
       "      <td>Rs. 3555555</td>\n",
       "    </tr>\n",
       "  </tbody>\n",
       "</table>\n",
       "</div>"
      ],
      "text/plain": [
       "           Brand   Model  Model_year Transmission  Engine_size(cc) Drivetrain  \\\n",
       "2210  Volkswagen    polo      2013.0       Manual           1600.0        2WD   \n",
       "2211  Volkswagen  beetle      2010.0       Manual           1595.0        2WD   \n",
       "2212  Volkswagen  passat      2010.0       Manual           1800.0        2WD   \n",
       "2214  Volkswagen  tiguan      2010.0       Manual           2000.0        2WD   \n",
       "2216  Volkswagen   vento      2012.0       Manual           1600.0        2WD   \n",
       "\n",
       "     Fuel_type       Colour  Lot_no  Kilometer        Price  \n",
       "2210    Petrol      Silver     11.0     6300.0  Rs. 2700000  \n",
       "2211    Petrol   Maroon Red     8.0    19000.0  Rs. 3950000  \n",
       "2212    Petrol        black     8.0    11000.0  Rs. 5800000  \n",
       "2214    Petrol   India blue     8.0    25000.0  Rs. 4900000  \n",
       "2216    Diesel       Silver    11.0    14000.0  Rs. 3555555  "
      ]
     },
     "execution_count": 165,
     "metadata": {},
     "output_type": "execute_result"
    }
   ],
   "source": [
    "df.dropna(subset=cols,inplace=True)\n",
    "df.tail()"
   ]
  },
  {
   "cell_type": "code",
   "execution_count": 166,
   "metadata": {},
   "outputs": [
    {
     "name": "stdout",
     "output_type": "stream",
     "text": [
      "<class 'pandas.core.frame.DataFrame'>\n",
      "Int64Index: 1901 entries, 0 to 2216\n",
      "Data columns (total 11 columns):\n",
      "Brand              1901 non-null object\n",
      "Model              1901 non-null object\n",
      "Model_year         1901 non-null float64\n",
      "Transmission       1901 non-null object\n",
      "Engine_size(cc)    1901 non-null float64\n",
      "Drivetrain         1901 non-null object\n",
      "Fuel_type          1901 non-null object\n",
      "Colour             1901 non-null object\n",
      "Lot_no             1901 non-null float64\n",
      "Kilometer          1901 non-null float64\n",
      "Price              1901 non-null object\n",
      "dtypes: float64(4), object(7)\n",
      "memory usage: 178.2+ KB\n"
     ]
    }
   ],
   "source": [
    "df.info()"
   ]
  },
  {
   "cell_type": "code",
   "execution_count": 167,
   "metadata": {},
   "outputs": [
    {
     "data": {
      "text/plain": [
       "array(['Chevrolet', 'Fiat', 'Ford', 'Honda', 'Hyundai', 'Kia',\n",
       "       'Land Rover', 'Mahindra', 'Maruti Suzuki', 'Nissan', 'Skoda',\n",
       "       'Tata', 'Toyota', 'Volkswagen'], dtype=object)"
      ]
     },
     "execution_count": 167,
     "metadata": {},
     "output_type": "execute_result"
    }
   ],
   "source": [
    "df['Brand'].unique()"
   ]
  },
  {
   "cell_type": "code",
   "execution_count": 168,
   "metadata": {},
   "outputs": [
    {
     "data": {
      "text/plain": [
       "array(['aveo', 'captiva', 'spark', 'beat', 'u-va', 'uva', 'sedan',\n",
       "       'avventura', 'punto', 'linea', 'figo', 'palio', 'ecosport',\n",
       "       'titanium', 'fiesta', 'ranger', 'cr-v', 'city', 'jazz', 'brio',\n",
       "       'civic', 'crv', 'accent', 'i10', 'santro', 'i20', 'getz', 'asta',\n",
       "       'tucson', 'eon', 'creta', 'elite', 'elantra', 'sonata', 'sephia',\n",
       "       'sportage', 'picanto', 'rio', 'soul', 'carens', 'cerato',\n",
       "       'freelander', 'discovery', 'defender', 'bolero', 'Kuv', 'scorpio',\n",
       "       'swift', 'alto-800', 'celerio', 'alto-LXI', 'Omni', '800', 'eeco',\n",
       "       'astar', 'alto', 'dzire', 'a-star', 'saloon', 'sunny', 'tiida',\n",
       "       'fabia', 'laura', 'rapid', 'superb', 'octavia', 'sumo', 'safari',\n",
       "       'ace', 'indica', 'bolt', 'strome', 'nano', 'grande', 'manza',\n",
       "       'venture', 'indigo', 'corolla', 'fortuner', 'hilux', 'cruiser',\n",
       "       'etios', 'echo', 'avanza', 'camry', 'corona', 'prado', 'hiace',\n",
       "       'polo', 'tiguan', 'beetle', 'vento', 'touareg', 'passat'],\n",
       "      dtype=object)"
      ]
     },
     "execution_count": 168,
     "metadata": {},
     "output_type": "execute_result"
    }
   ],
   "source": [
    "df['Model'].unique()"
   ]
  },
  {
   "cell_type": "markdown",
   "metadata": {},
   "source": [
    "###### For categorical variables which has only 2 values can be converted to 0 and 1 . "
   ]
  },
  {
   "cell_type": "code",
   "execution_count": 169,
   "metadata": {},
   "outputs": [
    {
     "data": {
      "text/plain": [
       "array([' Manual', ' Automatic'], dtype=object)"
      ]
     },
     "execution_count": 169,
     "metadata": {},
     "output_type": "execute_result"
    }
   ],
   "source": [
    "df['Transmission'].unique()"
   ]
  },
  {
   "cell_type": "code",
   "execution_count": 170,
   "metadata": {},
   "outputs": [],
   "source": [
    "df['Transmission']=df['Transmission'].replace([' Manual',' Automatic'], [0,1])"
   ]
  },
  {
   "cell_type": "code",
   "execution_count": 171,
   "metadata": {},
   "outputs": [
    {
     "data": {
      "text/plain": [
       "0    0\n",
       "1    1\n",
       "2    0\n",
       "3    1\n",
       "4    0\n",
       "Name: Transmission, dtype: int64"
      ]
     },
     "execution_count": 171,
     "metadata": {},
     "output_type": "execute_result"
    }
   ],
   "source": [
    "df['Transmission'].head()"
   ]
  },
  {
   "cell_type": "code",
   "execution_count": 172,
   "metadata": {},
   "outputs": [],
   "source": [
    "df['Transmission']=df['Transmission'].astype(int)"
   ]
  },
  {
   "cell_type": "code",
   "execution_count": 173,
   "metadata": {},
   "outputs": [
    {
     "data": {
      "text/plain": [
       "array([' 2WD', ' 4WD'], dtype=object)"
      ]
     },
     "execution_count": 173,
     "metadata": {},
     "output_type": "execute_result"
    }
   ],
   "source": [
    "df['Drivetrain'].unique()"
   ]
  },
  {
   "cell_type": "code",
   "execution_count": 174,
   "metadata": {},
   "outputs": [],
   "source": [
    "df['Drivetrain']=df['Drivetrain'].replace([' 2WD',' 4WD'], [0,1]) "
   ]
  },
  {
   "cell_type": "code",
   "execution_count": 175,
   "metadata": {},
   "outputs": [
    {
     "data": {
      "text/plain": [
       "0    0\n",
       "1    1\n",
       "2    0\n",
       "3    1\n",
       "4    0\n",
       "Name: Drivetrain, dtype: int64"
      ]
     },
     "execution_count": 175,
     "metadata": {},
     "output_type": "execute_result"
    }
   ],
   "source": [
    "df['Drivetrain'].head()"
   ]
  },
  {
   "cell_type": "code",
   "execution_count": 176,
   "metadata": {},
   "outputs": [
    {
     "data": {
      "text/plain": [
       "array([' Petrol', ' Diesel'], dtype=object)"
      ]
     },
     "execution_count": 176,
     "metadata": {},
     "output_type": "execute_result"
    }
   ],
   "source": [
    "df['Fuel_type'].unique()"
   ]
  },
  {
   "cell_type": "code",
   "execution_count": 177,
   "metadata": {},
   "outputs": [],
   "source": [
    "df['Fuel_type']=df['Fuel_type'].replace([' Petrol', ' Diesel'],[0,1])"
   ]
  },
  {
   "cell_type": "code",
   "execution_count": 178,
   "metadata": {},
   "outputs": [
    {
     "data": {
      "text/plain": [
       "0    0\n",
       "1    1\n",
       "2    0\n",
       "3    1\n",
       "4    0\n",
       "Name: Fuel_type, dtype: int64"
      ]
     },
     "execution_count": 178,
     "metadata": {},
     "output_type": "execute_result"
    }
   ],
   "source": [
    "df['Fuel_type'].head()"
   ]
  },
  {
   "cell_type": "code",
   "execution_count": 179,
   "metadata": {},
   "outputs": [
    {
     "data": {
      "text/plain": [
       "array([' golden', ' Grey', ' Sky Blue ', ' Green', ' Red/Maroon',\n",
       "       ' Maroon', ' royal black', ' metalic sky blue', ' Golden Silver ',\n",
       "       ' Red', ' Lilene Beige', ' White', ' Bue', ' Light Golden',\n",
       "       ' Silver', ' Sky blue', ' golden silver', ' silver', ' Metallic',\n",
       "       ' Golden', ' Gray', ' Black', ' WHITE', ' Platinum Metallic',\n",
       "       ' Dark Gray', ' Blue', ' black', ' Chocolate Grey',\n",
       "       ' Caviar Black ', ' SILVER', ' white ', '  Pearl Silver',\n",
       "       ' orange ', ' Velvet Red', ' Beige', ' sky blue', ' Caviar Black',\n",
       "       ' Lenin Beige', ' Sandive grey', ' Silver ', ' Cream Blue',\n",
       "       ' Off white ', ' dark grey', ' maroon(red)', ' White ',\n",
       "       ' Golden Grey', ' Moondust Silver', ' Mars Red', ' smoke grey',\n",
       "       ' White Gold', ' Orange', ' Chilly Silver ', ' grey', ' white',\n",
       "       ' Sea greay', ' Space gray', ' FROGEN WHITE', ' Paprika Red',\n",
       "       ' Chill', ' Sea gray ', ' Sea Grey', ' Siver', ' Diamond white',\n",
       "       ' Dark grey', ' silky silver', ' Light Green', ' milky white',\n",
       "       ' Beautiful White', ' squeeze ', ' Gray ', ' Metalic Grey',\n",
       "       ' Paprika red ', ' red', ' gray', ' Diamond White',\n",
       "       ' Pearl silver ', ' diamond', ' Paprika red', ' Red ',\n",
       "       ' Colorado Red', ' D.White', ' Squeeze ', ' Silky silver ',\n",
       "       ' SQUEEZE (GREEN)', ' Kinetic blue', ' Smoke', ' Sea Gray',\n",
       "       ' Panther Black', ' maroon red', ' Maroon Red', ' black ',\n",
       "       ' Navy Green', ' Navy green', ' Bluish Silver', ' Baidge',\n",
       "       ' sliver', ' Light Blue', ' Blue ', ' Dark Grey', ' maroon',\n",
       "       ' tafeta white', ' mettalic grey', ' Metallic silver', ' Brown',\n",
       "       ' yellow', ' Grey ', ' light green', ' blue', ' red & black',\n",
       "       ' Real Earth', ' Golden ', ' Sky Blue', ' Maroon red', ' GREY',\n",
       "       ' Carbon grey', ' Silky Brown ', ' Sleek silver',\n",
       "       ' Metalic Silver', ' Blushing Red', ' Maroon ', ' Pearl White',\n",
       "       ' Royal blue', ' Dark Grey Stardust', ' Champion Gold',\n",
       "       ' Standard Black', ' Blushing red', ' BIue', ' SiIver',\n",
       "       ' sky Blue', ' Aqua Silver', ' Marhoon', ' Crystal White',\n",
       "       ' chympigyan gold', ' Whiskey BIue', ' light blue',\n",
       "       ' Sleek Silver', ' Metallic Blue', ' champion gold', ' Stardust',\n",
       "       ' SIVER', ' Amber grey', ' Wine Red', ' Bright Silver',\n",
       "       ' Light Golden ', ' Sampion Gold', ' Black grey ', ' Silk Silver',\n",
       "       ' gray ', ' silver green ', ' silver ', ' Light Glden',\n",
       "       '  Sleek Silver', ' `light golden', ' Metalic ', ' golden ',\n",
       "       ' Oyster grey', ' Metalic Blue', ' silver,green', ' Sliver',\n",
       "       ' light golden', ' golden orange ', ' Black ', ' Grea',\n",
       "       ' marron red', ' Shampion Gold', ' Silk silver', ' Midnight Gray',\n",
       "       ' snow white', ' Brick red', ' Midnight grey', ' Sparkle Blue',\n",
       "       ' champagyan gold', ' silver golden', ' Siliver', ' light gold',\n",
       "       ' Marron', ' Forest Dew', ' Line Blue', ' Gold', ' shympain Gold',\n",
       "       ' Milky white ', ' Blue sky ', ' sampion gold', ' BLUE',\n",
       "       ' Whisky Blue', ' GRAY', ' teal blue', ' yellow ', ' siver',\n",
       "       ' silk silver', ' Carbon Grey', ' DARK GREEN', ' blue sky',\n",
       "       ' Light golden', ' blur', ' Red maron', ' Blue sky', ' silvar',\n",
       "       ' real earth', ' CARBON GREY', ' maroon ', ' blue ',\n",
       "       ' standard red', ' light grey metalic', ' dark blue ', ' BG BLACK',\n",
       "       ' grenyet red', ' LIGHT BLUE', ' RED', '  silver',\n",
       "       ' Maroon metallic', ' Silky Silver', ' Creamy white',\n",
       "       ' Silky silver', ' Light Gold', ' Troquoise Blue', ' Gray &Black',\n",
       "       ' Creamy White', ' skyblue', ' berry red', ' Apline Blue',\n",
       "       ' ldark skyblue', ' light blue  ', ' Champen Gold',\n",
       "       ' Sampain Gold', ' Cream', ' Mid nite grey', ' Dark Blue',\n",
       "       ' light blue ', ' Teal Green', ' Metalic Red', ' Metallic Silver',\n",
       "       ' Blue Metalic', ' PURPLE', ' Vanilla sake', ' Diamond Blue',\n",
       "       ' Silver Metallic Smoke Grey ', ' Metalic Black',\n",
       "       ' Titanium Silver', ' brown ', ' vintage blue', ' Mineral silver',\n",
       "       ' Bright silver', ' Sand Track', ' SIlver Metallic Grey',\n",
       "       ' Titanium ', ' Cafe Mocha', ' Royal black', ' MINARAL SILVER',\n",
       "       ' metalic grey', ' BLACK', ' Metallic Bronze', ' coffee mocha',\n",
       "       ' titanium silver ', ' blue metalic', ' Light Sky Blue',\n",
       "       ' Chocolate', ' green', ' Metallic Grey', ' Royal Blue', ' blue,',\n",
       "       ' Read', ' LIGHT GREY', ' Sea Green', ' Army', ' Dark red',\n",
       "       ' mist silver', ' mist silver ', ' Army colour', ' coat red',\n",
       "       ' black and silver', ' Java Brawn', ' Rocky Beige', ' Mist Silver',\n",
       "       ' designer grey', ' light Green', ' granite red', ' creami white',\n",
       "       ' silky silver ', ' Chocolate Brown ', ' Dark Red', ' alpine blue',\n",
       "       ' Desert brown', ' artic white', ' Parasite Blue', ' Dazzling Red',\n",
       "       ' golden yellow', ' DARK GREY', ' Silver golden', ' Purple Blue',\n",
       "       ' cayenne orange', ' Metallic steel ', ' green ', ' purple',\n",
       "       ' sillky siliver', ' dusky brown', ' orange', ' azure grey',\n",
       "       ' Healing Green', ' GREEN', ' digital blue', ' Maroon/Orange',\n",
       "       ' aqua blue', ' red ', ' Copper Red ', ' METALLIC SILKY SILVER',\n",
       "       ' Dark Blue ', ' pearl blue', ' metallic blue', ' Gret',\n",
       "       ' healing green', ' Metalic Orange', ' Sunlight copper ',\n",
       "       ' Silvery Blue', ' yelleow ', ' dark orange', ' golden brown',\n",
       "       ' navy blue', ' kaleji red', ' Silver Gold', ' Blue And White',\n",
       "       ' Shining White', ' Wine red', ' Arctic Silver', ' Marrone ',\n",
       "       ' Golden brown', ' Golden silver ', ' Yellowish Silver',\n",
       "       ' Capachine Baige', ' Chocolate colour', ' Light brown',\n",
       "       ' Deep Black', ' Silver Grey', ' red/maroon', ' sky blue white',\n",
       "       ' Cycus Grey', ' sea grey', ' Silver white', ' Res', ' Aqua green',\n",
       "       ' Urban bronze', ' Yellow', ' Sardania Red', ' Burgandy royal',\n",
       "       ' tyrine wine', ' Aqua Green', ' KARBON GREY', ' metallic silver',\n",
       "       ' Carbon Black', ' Maroon Orange', ' Smokey Grey', ' walnut green',\n",
       "       ' marin blue', ' Purple', ' matt black', ' Metalic Green',\n",
       "       ' metallic silver ', ' SILVER METALIC', ' Dark Maroon',\n",
       "       ' light blue metalic', ' Metallic Gray',\n",
       "       ' Cocktail of golden & black', ' brown', ' Dark green', ' whit',\n",
       "       ' Grey metallic', ' sleek silver', ' Giolden', ' Grey Metallic',\n",
       "       ' Silver blue', ' toffee brown', ' Golden Beige', ' Red Flash',\n",
       "       ' RID GREEN', ' Dark meta lick blue', ' India blue'], dtype=object)"
      ]
     },
     "execution_count": 179,
     "metadata": {},
     "output_type": "execute_result"
    }
   ],
   "source": [
    "df['Colour'].unique()"
   ]
  },
  {
   "cell_type": "markdown",
   "metadata": {},
   "source": [
    "##### Actually color is personal preference and  has no role in determining the price of the car so I am removing the 'Colour' column"
   ]
  },
  {
   "cell_type": "code",
   "execution_count": 180,
   "metadata": {},
   "outputs": [],
   "source": [
    "df.drop(['Colour'],axis='columns',inplace=True)"
   ]
  },
  {
   "cell_type": "code",
   "execution_count": 181,
   "metadata": {},
   "outputs": [
    {
     "data": {
      "text/plain": [
       "Brand              0\n",
       "Model              0\n",
       "Model_year         0\n",
       "Transmission       0\n",
       "Engine_size(cc)    0\n",
       "Drivetrain         0\n",
       "Fuel_type          0\n",
       "Lot_no             0\n",
       "Kilometer          0\n",
       "Price              0\n",
       "dtype: int64"
      ]
     },
     "execution_count": 181,
     "metadata": {},
     "output_type": "execute_result"
    }
   ],
   "source": [
    "df.isnull().sum()"
   ]
  },
  {
   "cell_type": "markdown",
   "metadata": {},
   "source": [
    "###### Each brand has its different models so instead of two separate features we can change 'Brand' and 'Model' to one single feature."
   ]
  },
  {
   "cell_type": "code",
   "execution_count": 182,
   "metadata": {},
   "outputs": [],
   "source": [
    "df['Brand']=df['Brand']+df['Model']"
   ]
  },
  {
   "cell_type": "code",
   "execution_count": 183,
   "metadata": {},
   "outputs": [],
   "source": [
    "df = df.drop(['Model'], axis = 1)"
   ]
  },
  {
   "cell_type": "code",
   "execution_count": 184,
   "metadata": {},
   "outputs": [
    {
     "name": "stdout",
     "output_type": "stream",
     "text": [
      "<class 'pandas.core.frame.DataFrame'>\n",
      "Int64Index: 1901 entries, 0 to 2216\n",
      "Data columns (total 9 columns):\n",
      "Brand              1901 non-null object\n",
      "Model_year         1901 non-null float64\n",
      "Transmission       1901 non-null int32\n",
      "Engine_size(cc)    1901 non-null float64\n",
      "Drivetrain         1901 non-null int64\n",
      "Fuel_type          1901 non-null int64\n",
      "Lot_no             1901 non-null float64\n",
      "Kilometer          1901 non-null float64\n",
      "Price              1901 non-null object\n",
      "dtypes: float64(4), int32(1), int64(2), object(2)\n",
      "memory usage: 141.1+ KB\n"
     ]
    }
   ],
   "source": [
    "df.info()"
   ]
  },
  {
   "cell_type": "markdown",
   "metadata": {},
   "source": [
    "###### Price column has 'Rs' in every row so we remove it  "
   ]
  },
  {
   "cell_type": "code",
   "execution_count": 185,
   "metadata": {},
   "outputs": [
    {
     "data": {
      "text/plain": [
       "0     975000\n",
       "1    3000000\n",
       "2     975000\n",
       "3    3000000\n",
       "4    1000000\n",
       "Name: Price, dtype: int32"
      ]
     },
     "execution_count": 185,
     "metadata": {},
     "output_type": "execute_result"
    }
   ],
   "source": [
    "df['Price'] = (df['Price'].str.strip('Rs. ').astype(int))\n",
    "df['Price'].head()"
   ]
  },
  {
   "cell_type": "code",
   "execution_count": 186,
   "metadata": {},
   "outputs": [
    {
     "data": {
      "text/plain": [
       "Brand               object\n",
       "Model_year         float64\n",
       "Transmission         int32\n",
       "Engine_size(cc)    float64\n",
       "Drivetrain           int64\n",
       "Fuel_type            int64\n",
       "Lot_no             float64\n",
       "Kilometer          float64\n",
       "Price                int32\n",
       "dtype: object"
      ]
     },
     "execution_count": 186,
     "metadata": {},
     "output_type": "execute_result"
    }
   ],
   "source": [
    "df[['Transmission','Kilometer','Price']] = df[['Transmission','Kilometer','Price']].apply(pd.to_numeric)\n",
    "df.dtypes"
   ]
  },
  {
   "cell_type": "markdown",
   "metadata": {},
   "source": [
    "###### Model is in year date form . lets keep it in no of years (2021-year_date)"
   ]
  },
  {
   "cell_type": "code",
   "execution_count": 188,
   "metadata": {},
   "outputs": [
    {
     "data": {
      "text/html": [
       "<div>\n",
       "<style scoped>\n",
       "    .dataframe tbody tr th:only-of-type {\n",
       "        vertical-align: middle;\n",
       "    }\n",
       "\n",
       "    .dataframe tbody tr th {\n",
       "        vertical-align: top;\n",
       "    }\n",
       "\n",
       "    .dataframe thead th {\n",
       "        text-align: right;\n",
       "    }\n",
       "</style>\n",
       "<table border=\"1\" class=\"dataframe\">\n",
       "  <thead>\n",
       "    <tr style=\"text-align: right;\">\n",
       "      <th></th>\n",
       "      <th>Brand</th>\n",
       "      <th>Model_year</th>\n",
       "      <th>Transmission</th>\n",
       "      <th>Engine_size(cc)</th>\n",
       "      <th>Drivetrain</th>\n",
       "      <th>Fuel_type</th>\n",
       "      <th>Lot_no</th>\n",
       "      <th>Kilometer</th>\n",
       "      <th>Price</th>\n",
       "    </tr>\n",
       "  </thead>\n",
       "  <tbody>\n",
       "    <tr>\n",
       "      <th>0</th>\n",
       "      <td>Chevroletaveo</td>\n",
       "      <td>12.0</td>\n",
       "      <td>0</td>\n",
       "      <td>1150.0</td>\n",
       "      <td>0</td>\n",
       "      <td>0</td>\n",
       "      <td>6.0</td>\n",
       "      <td>200.0</td>\n",
       "      <td>975000</td>\n",
       "    </tr>\n",
       "    <tr>\n",
       "      <th>1</th>\n",
       "      <td>Chevroletcaptiva</td>\n",
       "      <td>6.0</td>\n",
       "      <td>1</td>\n",
       "      <td>2000.0</td>\n",
       "      <td>1</td>\n",
       "      <td>1</td>\n",
       "      <td>8.0</td>\n",
       "      <td>100.0</td>\n",
       "      <td>3000000</td>\n",
       "    </tr>\n",
       "    <tr>\n",
       "      <th>2</th>\n",
       "      <td>Chevroletaveo</td>\n",
       "      <td>12.0</td>\n",
       "      <td>0</td>\n",
       "      <td>1150.0</td>\n",
       "      <td>0</td>\n",
       "      <td>0</td>\n",
       "      <td>6.0</td>\n",
       "      <td>42000.0</td>\n",
       "      <td>975000</td>\n",
       "    </tr>\n",
       "    <tr>\n",
       "      <th>3</th>\n",
       "      <td>Chevroletcaptiva</td>\n",
       "      <td>11.0</td>\n",
       "      <td>1</td>\n",
       "      <td>2000.0</td>\n",
       "      <td>1</td>\n",
       "      <td>1</td>\n",
       "      <td>8.0</td>\n",
       "      <td>51000.0</td>\n",
       "      <td>3000000</td>\n",
       "    </tr>\n",
       "    <tr>\n",
       "      <th>4</th>\n",
       "      <td>Chevroletspark</td>\n",
       "      <td>9.0</td>\n",
       "      <td>0</td>\n",
       "      <td>1000.0</td>\n",
       "      <td>0</td>\n",
       "      <td>0</td>\n",
       "      <td>9.0</td>\n",
       "      <td>38000.0</td>\n",
       "      <td>1000000</td>\n",
       "    </tr>\n",
       "  </tbody>\n",
       "</table>\n",
       "</div>"
      ],
      "text/plain": [
       "              Brand  Model_year  Transmission  Engine_size(cc)  Drivetrain  \\\n",
       "0     Chevroletaveo        12.0             0           1150.0           0   \n",
       "1  Chevroletcaptiva         6.0             1           2000.0           1   \n",
       "2     Chevroletaveo        12.0             0           1150.0           0   \n",
       "3  Chevroletcaptiva        11.0             1           2000.0           1   \n",
       "4    Chevroletspark         9.0             0           1000.0           0   \n",
       "\n",
       "   Fuel_type  Lot_no  Kilometer    Price  \n",
       "0          0     6.0      200.0   975000  \n",
       "1          1     8.0      100.0  3000000  \n",
       "2          0     6.0    42000.0   975000  \n",
       "3          1     8.0    51000.0  3000000  \n",
       "4          0     9.0    38000.0  1000000  "
      ]
     },
     "execution_count": 188,
     "metadata": {},
     "output_type": "execute_result"
    }
   ],
   "source": [
    "df.loc[:, \"Model_year\"] = df[\"Model_year\"].apply(lambda x: 2021-x) # Model_year is in year(date) form so converting it into no of year form.\n",
    "df.head()"
   ]
  },
  {
   "cell_type": "code",
   "execution_count": 189,
   "metadata": {},
   "outputs": [
    {
     "name": "stdout",
     "output_type": "stream",
     "text": [
      "<class 'pandas.core.frame.DataFrame'>\n",
      "Int64Index: 1901 entries, 0 to 2216\n",
      "Data columns (total 9 columns):\n",
      "Brand              1901 non-null object\n",
      "Model_year         1901 non-null float64\n",
      "Transmission       1901 non-null int32\n",
      "Engine_size(cc)    1901 non-null float64\n",
      "Drivetrain         1901 non-null int64\n",
      "Fuel_type          1901 non-null int64\n",
      "Lot_no             1901 non-null float64\n",
      "Kilometer          1901 non-null float64\n",
      "Price              1901 non-null int32\n",
      "dtypes: float64(4), int32(2), int64(2), object(1)\n",
      "memory usage: 133.7+ KB\n"
     ]
    }
   ],
   "source": [
    "df.info()"
   ]
  },
  {
   "cell_type": "code",
   "execution_count": 190,
   "metadata": {},
   "outputs": [],
   "source": [
    "df['Model_year'] = df['Model_year'].astype('int64')\n",
    "df['Transmission'] = df['Transmission'].astype('int64')\n",
    "df['Engine_size(cc)'] = df['Engine_size(cc)'].astype('int64')\n",
    "df['Drivetrain'] = df['Drivetrain'].astype('int64')\n",
    "df['Fuel_type'] = df['Fuel_type'].astype('int64')\n",
    "df['Lot_no'] = df['Lot_no'].astype('int64')\n",
    "df['Kilometer'] = df['Kilometer'].astype('int64')\n",
    "df['Price'] = df['Price'].astype('int64')"
   ]
  },
  {
   "cell_type": "code",
   "execution_count": 191,
   "metadata": {},
   "outputs": [],
   "source": [
    "df.to_csv('cleaned_used_car_data.csv', index=False)"
   ]
  },
  {
   "cell_type": "code",
   "execution_count": 77,
   "metadata": {},
   "outputs": [
    {
     "data": {
      "text/plain": [
       "Hyundaii10               214\n",
       "Hyundaisantro            194\n",
       "Maruti Suzukiswift       121\n",
       "Fordfigo                  90\n",
       "Maruti Suzukialto-800     86\n",
       "Hyundaiasta               80\n",
       "Maruti Suzukialto-LXI     72\n",
       "Mahindrascorpio           66\n",
       "Hyundaitucson             54\n",
       "Kiasportage               50\n",
       "Toyotacorolla             48\n",
       "Kiapicanto                46\n",
       "Tataindica                45\n",
       "Volkswagenpolo            41\n",
       "Hyundaii20                39\n",
       "Hondacity                 33\n",
       "Mahindrabolero            30\n",
       "Hyundaieon                29\n",
       "Chevroletaveo             29\n",
       "Fordtitanium              27\n",
       "Hyundaigetz               24\n",
       "Hyundaiaccent             22\n",
       "Name: Brand, dtype: int64"
      ]
     },
     "execution_count": 77,
     "metadata": {},
     "output_type": "execute_result"
    }
   ],
   "source": [
    "# finding the top 20 categories\n",
    "df.Brand.value_counts().sort_values(ascending=False).head(22)"
   ]
  },
  {
   "cell_type": "code",
   "execution_count": 78,
   "metadata": {},
   "outputs": [
    {
     "data": {
      "text/plain": [
       "['Hyundaii10',\n",
       " 'Hyundaisantro',\n",
       " 'Maruti Suzukiswift',\n",
       " 'Fordfigo',\n",
       " 'Maruti Suzukialto-800',\n",
       " 'Hyundaiasta',\n",
       " 'Maruti Suzukialto-LXI',\n",
       " 'Mahindrascorpio',\n",
       " 'Hyundaitucson',\n",
       " 'Kiasportage']"
      ]
     },
     "execution_count": 78,
     "metadata": {},
     "output_type": "execute_result"
    }
   ],
   "source": [
    "# make list with top 10 variables\n",
    "top_10 = [x for x in df.Brand.value_counts().sort_values(ascending=False).head(10).index]\n",
    "top_10"
   ]
  },
  {
   "cell_type": "markdown",
   "metadata": {},
   "source": [
    "###### Top 10 car model which is maximum sold as a second hand car"
   ]
  }
 ],
 "metadata": {
  "kernelspec": {
   "display_name": "Python 3",
   "language": "python",
   "name": "python3"
  },
  "language_info": {
   "codemirror_mode": {
    "name": "ipython",
    "version": 3
   },
   "file_extension": ".py",
   "mimetype": "text/x-python",
   "name": "python",
   "nbconvert_exporter": "python",
   "pygments_lexer": "ipython3",
   "version": "3.8.2"
  }
 },
 "nbformat": 4,
 "nbformat_minor": 2
}
