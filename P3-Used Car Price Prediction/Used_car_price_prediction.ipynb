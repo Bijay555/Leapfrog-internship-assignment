{
  "nbformat": 4,
  "nbformat_minor": 0,
  "metadata": {
    "kernelspec": {
      "display_name": "Python 3",
      "language": "python",
      "name": "python3"
    },
    "language_info": {
      "codemirror_mode": {
        "name": "ipython",
        "version": 3
      },
      "file_extension": ".py",
      "mimetype": "text/x-python",
      "name": "python",
      "nbconvert_exporter": "python",
      "pygments_lexer": "ipython3",
      "version": "3.8.2"
    },
    "colab": {
      "name": "Used car price prediction.ipynb",
      "provenance": [],
      "collapsed_sections": []
    }
  },
  "cells": [
    {
      "cell_type": "markdown",
      "metadata": {
        "id": "GHWGe4ZrMiId"
      },
      "source": [
        "### Project Description"
      ]
    },
    {
      "cell_type": "markdown",
      "metadata": {
        "id": "MyNoA2NzMiIe"
      },
      "source": [
        "The project is about building a price prediction model for used car . The dataset is collected from Open Data Nepal. The dataset consists of 12 features:\n",
        "1. Brand: The brand of the car\n",
        "2. Model: Car's model\n",
        "3. Model_year: The year when the car was manufactured\n",
        "4. Transmission: The transmission allows the vehicle to change gears,\n",
        "5. Engine_size(cc): the size of an engine refers to the total volume of air and fuel being pushed through the engine by the cylinders. It's measured in cubic centimetres (cc). \n",
        "6. Drivetrain: the system in a motor vehicle which connects the transmission to the drive axles. 2WD-Two Wheel Drive and 4WD-Four Wheel Drive\n",
        "7. Fuel_type: Car fuel type-Petrol or diesel\n",
        "8. Colour: Color of the car\n",
        "9. Lot_no: A lot number is an identification number assigned to a particular quantity like car. \n",
        "10. Kilometer: distance covered in kilometer\n",
        "11. Status: used or new car\n",
        "12. Price: price of the car"
      ]
    },
    {
      "cell_type": "markdown",
      "metadata": {
        "id": "s8CoE78PMiIg"
      },
      "source": [
        "### Importing packages"
      ]
    },
    {
      "cell_type": "code",
      "metadata": {
        "id": "yuRFqg7pMiIg"
      },
      "source": [
        "#import all the necessary modules\n",
        "import pandas as pd\n",
        "import numpy as np\n",
        "import matplotlib.pyplot as plt\n",
        "import seaborn as sns\n",
        "import plotly.express as px\n",
        "import warnings\n",
        "warnings.filterwarnings(\"ignore\")\n",
        "\n",
        "from sklearn import metrics\n",
        "from sklearn.model_selection import train_test_split\n",
        "from sklearn.ensemble import RandomForestRegressor\n",
        "from sklearn.ensemble import GradientBoostingRegressor\n",
        "from sklearn.linear_model import LinearRegression\n",
        "from sklearn.tree import DecisionTreeRegressor"
      ],
      "execution_count": 2113,
      "outputs": []
    },
    {
      "cell_type": "code",
      "metadata": {
        "colab": {
          "base_uri": "https://localhost:8080/",
          "height": 309
        },
        "id": "Ke3W3ncDMiIi",
        "outputId": "ee69eb62-08e7-4489-dd42-5a6966e78624"
      },
      "source": [
        "df = pd.read_csv('used_car_data.csv')\n",
        "df.head()"
      ],
      "execution_count": 2114,
      "outputs": [
        {
          "output_type": "execute_result",
          "data": {
            "text/html": [
              "<div>\n",
              "<style scoped>\n",
              "    .dataframe tbody tr th:only-of-type {\n",
              "        vertical-align: middle;\n",
              "    }\n",
              "\n",
              "    .dataframe tbody tr th {\n",
              "        vertical-align: top;\n",
              "    }\n",
              "\n",
              "    .dataframe thead th {\n",
              "        text-align: right;\n",
              "    }\n",
              "</style>\n",
              "<table border=\"1\" class=\"dataframe\">\n",
              "  <thead>\n",
              "    <tr style=\"text-align: right;\">\n",
              "      <th></th>\n",
              "      <th>Brand</th>\n",
              "      <th>Model</th>\n",
              "      <th>Model_year</th>\n",
              "      <th>Transmission</th>\n",
              "      <th>Engine_size(cc)</th>\n",
              "      <th>Drivetrain</th>\n",
              "      <th>Fuel_type</th>\n",
              "      <th>Colour</th>\n",
              "      <th>Lot_no</th>\n",
              "      <th>Kilometer</th>\n",
              "      <th>Status</th>\n",
              "      <th>Price</th>\n",
              "    </tr>\n",
              "  </thead>\n",
              "  <tbody>\n",
              "    <tr>\n",
              "      <th>0</th>\n",
              "      <td>Chevrolet</td>\n",
              "      <td>aveo</td>\n",
              "      <td>2009</td>\n",
              "      <td>Manual</td>\n",
              "      <td>1150</td>\n",
              "      <td>2WD</td>\n",
              "      <td>Petrol</td>\n",
              "      <td>golden</td>\n",
              "      <td>6</td>\n",
              "      <td>200</td>\n",
              "      <td>USED</td>\n",
              "      <td>Rs. 975000</td>\n",
              "    </tr>\n",
              "    <tr>\n",
              "      <th>1</th>\n",
              "      <td>Chevrolet</td>\n",
              "      <td>captiva</td>\n",
              "      <td>2015</td>\n",
              "      <td>Automatic</td>\n",
              "      <td>2000</td>\n",
              "      <td>4WD</td>\n",
              "      <td>Diesel</td>\n",
              "      <td>Grey</td>\n",
              "      <td>8</td>\n",
              "      <td>100</td>\n",
              "      <td>USED</td>\n",
              "      <td>Rs. 3000000</td>\n",
              "    </tr>\n",
              "    <tr>\n",
              "      <th>2</th>\n",
              "      <td>Chevrolet</td>\n",
              "      <td>aveo</td>\n",
              "      <td>2009</td>\n",
              "      <td>Manual</td>\n",
              "      <td>1150</td>\n",
              "      <td>2WD</td>\n",
              "      <td>Petrol</td>\n",
              "      <td>golden</td>\n",
              "      <td>6</td>\n",
              "      <td>42000</td>\n",
              "      <td>USED</td>\n",
              "      <td>Rs. 975000</td>\n",
              "    </tr>\n",
              "    <tr>\n",
              "      <th>3</th>\n",
              "      <td>Chevrolet</td>\n",
              "      <td>captiva</td>\n",
              "      <td>2010</td>\n",
              "      <td>Automatic</td>\n",
              "      <td>2000</td>\n",
              "      <td>4WD</td>\n",
              "      <td>Diesel</td>\n",
              "      <td>Grey</td>\n",
              "      <td>8</td>\n",
              "      <td>51000</td>\n",
              "      <td>USED</td>\n",
              "      <td>Rs. 3000000</td>\n",
              "    </tr>\n",
              "    <tr>\n",
              "      <th>4</th>\n",
              "      <td>Chevrolet</td>\n",
              "      <td>spark</td>\n",
              "      <td>2012</td>\n",
              "      <td>Manual</td>\n",
              "      <td>1000</td>\n",
              "      <td>2WD</td>\n",
              "      <td>Petrol</td>\n",
              "      <td>Sky Blue</td>\n",
              "      <td>9</td>\n",
              "      <td>38000</td>\n",
              "      <td>USED</td>\n",
              "      <td>Rs. 1000000</td>\n",
              "    </tr>\n",
              "  </tbody>\n",
              "</table>\n",
              "</div>"
            ],
            "text/plain": [
              "       Brand    Model  Model_year  ... Kilometer  Status        Price\n",
              "0  Chevrolet     aveo        2009  ...       200    USED   Rs. 975000\n",
              "1  Chevrolet  captiva        2015  ...       100    USED  Rs. 3000000\n",
              "2  Chevrolet     aveo        2009  ...     42000    USED   Rs. 975000\n",
              "3  Chevrolet  captiva        2010  ...     51000    USED  Rs. 3000000\n",
              "4  Chevrolet    spark        2012  ...     38000    USED  Rs. 1000000\n",
              "\n",
              "[5 rows x 12 columns]"
            ]
          },
          "metadata": {
            "tags": []
          },
          "execution_count": 2114
        }
      ]
    },
    {
      "cell_type": "code",
      "metadata": {
        "colab": {
          "base_uri": "https://localhost:8080/"
        },
        "id": "QLCuPDCdMiIj",
        "outputId": "ea024b47-b8b2-46e8-f3a3-9f18759b2e90"
      },
      "source": [
        "df.shape"
      ],
      "execution_count": 2115,
      "outputs": [
        {
          "output_type": "execute_result",
          "data": {
            "text/plain": [
              "(2217, 12)"
            ]
          },
          "metadata": {
            "tags": []
          },
          "execution_count": 2115
        }
      ]
    },
    {
      "cell_type": "code",
      "metadata": {
        "colab": {
          "base_uri": "https://localhost:8080/"
        },
        "id": "Fo9gQhqiMiIl",
        "outputId": "2ac1a633-ec7b-4544-ac98-b993c7491de4"
      },
      "source": [
        "df['Status'].unique()"
      ],
      "execution_count": 2116,
      "outputs": [
        {
          "output_type": "execute_result",
          "data": {
            "text/plain": [
              "array(['USED', nan], dtype=object)"
            ]
          },
          "metadata": {
            "tags": []
          },
          "execution_count": 2116
        }
      ]
    },
    {
      "cell_type": "markdown",
      "metadata": {
        "id": "TyWekKYdMiIl"
      },
      "source": [
        "#####  Since we know that the vehicles are used vehicle so this column 'Status' has no use."
      ]
    },
    {
      "cell_type": "code",
      "metadata": {
        "id": "Rkh6vmXSMiIm"
      },
      "source": [
        "df.drop(['Status'], axis='columns', inplace=True)"
      ],
      "execution_count": 2117,
      "outputs": []
    },
    {
      "cell_type": "code",
      "metadata": {
        "colab": {
          "base_uri": "https://localhost:8080/",
          "height": 289
        },
        "id": "YNvRfKhjMiIn",
        "outputId": "4884c768-4869-4eff-cc71-d959ecdd914b"
      },
      "source": [
        "df.head()"
      ],
      "execution_count": 2118,
      "outputs": [
        {
          "output_type": "execute_result",
          "data": {
            "text/html": [
              "<div>\n",
              "<style scoped>\n",
              "    .dataframe tbody tr th:only-of-type {\n",
              "        vertical-align: middle;\n",
              "    }\n",
              "\n",
              "    .dataframe tbody tr th {\n",
              "        vertical-align: top;\n",
              "    }\n",
              "\n",
              "    .dataframe thead th {\n",
              "        text-align: right;\n",
              "    }\n",
              "</style>\n",
              "<table border=\"1\" class=\"dataframe\">\n",
              "  <thead>\n",
              "    <tr style=\"text-align: right;\">\n",
              "      <th></th>\n",
              "      <th>Brand</th>\n",
              "      <th>Model</th>\n",
              "      <th>Model_year</th>\n",
              "      <th>Transmission</th>\n",
              "      <th>Engine_size(cc)</th>\n",
              "      <th>Drivetrain</th>\n",
              "      <th>Fuel_type</th>\n",
              "      <th>Colour</th>\n",
              "      <th>Lot_no</th>\n",
              "      <th>Kilometer</th>\n",
              "      <th>Price</th>\n",
              "    </tr>\n",
              "  </thead>\n",
              "  <tbody>\n",
              "    <tr>\n",
              "      <th>0</th>\n",
              "      <td>Chevrolet</td>\n",
              "      <td>aveo</td>\n",
              "      <td>2009</td>\n",
              "      <td>Manual</td>\n",
              "      <td>1150</td>\n",
              "      <td>2WD</td>\n",
              "      <td>Petrol</td>\n",
              "      <td>golden</td>\n",
              "      <td>6</td>\n",
              "      <td>200</td>\n",
              "      <td>Rs. 975000</td>\n",
              "    </tr>\n",
              "    <tr>\n",
              "      <th>1</th>\n",
              "      <td>Chevrolet</td>\n",
              "      <td>captiva</td>\n",
              "      <td>2015</td>\n",
              "      <td>Automatic</td>\n",
              "      <td>2000</td>\n",
              "      <td>4WD</td>\n",
              "      <td>Diesel</td>\n",
              "      <td>Grey</td>\n",
              "      <td>8</td>\n",
              "      <td>100</td>\n",
              "      <td>Rs. 3000000</td>\n",
              "    </tr>\n",
              "    <tr>\n",
              "      <th>2</th>\n",
              "      <td>Chevrolet</td>\n",
              "      <td>aveo</td>\n",
              "      <td>2009</td>\n",
              "      <td>Manual</td>\n",
              "      <td>1150</td>\n",
              "      <td>2WD</td>\n",
              "      <td>Petrol</td>\n",
              "      <td>golden</td>\n",
              "      <td>6</td>\n",
              "      <td>42000</td>\n",
              "      <td>Rs. 975000</td>\n",
              "    </tr>\n",
              "    <tr>\n",
              "      <th>3</th>\n",
              "      <td>Chevrolet</td>\n",
              "      <td>captiva</td>\n",
              "      <td>2010</td>\n",
              "      <td>Automatic</td>\n",
              "      <td>2000</td>\n",
              "      <td>4WD</td>\n",
              "      <td>Diesel</td>\n",
              "      <td>Grey</td>\n",
              "      <td>8</td>\n",
              "      <td>51000</td>\n",
              "      <td>Rs. 3000000</td>\n",
              "    </tr>\n",
              "    <tr>\n",
              "      <th>4</th>\n",
              "      <td>Chevrolet</td>\n",
              "      <td>spark</td>\n",
              "      <td>2012</td>\n",
              "      <td>Manual</td>\n",
              "      <td>1000</td>\n",
              "      <td>2WD</td>\n",
              "      <td>Petrol</td>\n",
              "      <td>Sky Blue</td>\n",
              "      <td>9</td>\n",
              "      <td>38000</td>\n",
              "      <td>Rs. 1000000</td>\n",
              "    </tr>\n",
              "  </tbody>\n",
              "</table>\n",
              "</div>"
            ],
            "text/plain": [
              "       Brand    Model  Model_year  ... Lot_no  Kilometer        Price\n",
              "0  Chevrolet     aveo        2009  ...      6        200   Rs. 975000\n",
              "1  Chevrolet  captiva        2015  ...      8        100  Rs. 3000000\n",
              "2  Chevrolet     aveo        2009  ...      6      42000   Rs. 975000\n",
              "3  Chevrolet  captiva        2010  ...      8      51000  Rs. 3000000\n",
              "4  Chevrolet    spark        2012  ...      9      38000  Rs. 1000000\n",
              "\n",
              "[5 rows x 11 columns]"
            ]
          },
          "metadata": {
            "tags": []
          },
          "execution_count": 2118
        }
      ]
    },
    {
      "cell_type": "markdown",
      "metadata": {
        "id": "VL0hOIL8MiIn"
      },
      "source": [
        "### Handling Missing Values"
      ]
    },
    {
      "cell_type": "code",
      "metadata": {
        "colab": {
          "base_uri": "https://localhost:8080/"
        },
        "id": "il4iUe7fMiIn",
        "outputId": "bb13b7df-c78b-424a-97cf-31df0619f964"
      },
      "source": [
        "df.isnull().sum()"
      ],
      "execution_count": 2119,
      "outputs": [
        {
          "output_type": "execute_result",
          "data": {
            "text/plain": [
              "Brand              316\n",
              "Model              316\n",
              "Model_year         316\n",
              "Transmission       316\n",
              "Engine_size(cc)    316\n",
              "Drivetrain         316\n",
              "Fuel_type          316\n",
              "Colour             316\n",
              "Lot_no             316\n",
              "Kilometer          316\n",
              "Price              316\n",
              "dtype: int64"
            ]
          },
          "metadata": {
            "tags": []
          },
          "execution_count": 2119
        }
      ]
    },
    {
      "cell_type": "markdown",
      "metadata": {
        "id": "YaU2a8TMMiIo"
      },
      "source": [
        "###### There are equal no of missing values in all columns of the dataset. But when I see the dataset I found that these are not missing values but empty rows thatswhy all missing values are equal so we remove the these empty rows."
      ]
    },
    {
      "cell_type": "code",
      "metadata": {
        "colab": {
          "base_uri": "https://localhost:8080/"
        },
        "id": "rui5rRxrMiIo",
        "outputId": "1d97fa2f-50b6-477e-9684-140dfece03db"
      },
      "source": [
        "cols=['Brand','Model','Model_year','Transmission','Engine_size(cc)','Drivetrain','Fuel_type','Colour','Lot_no','Kilometer','Price']\n",
        "cols"
      ],
      "execution_count": 2120,
      "outputs": [
        {
          "output_type": "execute_result",
          "data": {
            "text/plain": [
              "['Brand',\n",
              " 'Model',\n",
              " 'Model_year',\n",
              " 'Transmission',\n",
              " 'Engine_size(cc)',\n",
              " 'Drivetrain',\n",
              " 'Fuel_type',\n",
              " 'Colour',\n",
              " 'Lot_no',\n",
              " 'Kilometer',\n",
              " 'Price']"
            ]
          },
          "metadata": {
            "tags": []
          },
          "execution_count": 2120
        }
      ]
    },
    {
      "cell_type": "code",
      "metadata": {
        "scrolled": true,
        "colab": {
          "base_uri": "https://localhost:8080/",
          "height": 275
        },
        "id": "6eQLHyGAMiIo",
        "outputId": "8135b5d2-83db-43cc-8acc-0a1f994e4db8"
      },
      "source": [
        "df.replace('',np.nan, inplace=True)\n",
        "df.tail()"
      ],
      "execution_count": 2121,
      "outputs": [
        {
          "output_type": "execute_result",
          "data": {
            "text/html": [
              "<div>\n",
              "<style scoped>\n",
              "    .dataframe tbody tr th:only-of-type {\n",
              "        vertical-align: middle;\n",
              "    }\n",
              "\n",
              "    .dataframe tbody tr th {\n",
              "        vertical-align: top;\n",
              "    }\n",
              "\n",
              "    .dataframe thead th {\n",
              "        text-align: right;\n",
              "    }\n",
              "</style>\n",
              "<table border=\"1\" class=\"dataframe\">\n",
              "  <thead>\n",
              "    <tr style=\"text-align: right;\">\n",
              "      <th></th>\n",
              "      <th>Brand</th>\n",
              "      <th>Model</th>\n",
              "      <th>Model_year</th>\n",
              "      <th>Transmission</th>\n",
              "      <th>Engine_size(cc)</th>\n",
              "      <th>Drivetrain</th>\n",
              "      <th>Fuel_type</th>\n",
              "      <th>Colour</th>\n",
              "      <th>Lot_no</th>\n",
              "      <th>Kilometer</th>\n",
              "      <th>Price</th>\n",
              "    </tr>\n",
              "  </thead>\n",
              "  <tbody>\n",
              "    <tr>\n",
              "      <th>2212</th>\n",
              "      <td>Volkswagen</td>\n",
              "      <td>passat</td>\n",
              "      <td>2010</td>\n",
              "      <td>Manual</td>\n",
              "      <td>1800</td>\n",
              "      <td>2WD</td>\n",
              "      <td>Petrol</td>\n",
              "      <td>black</td>\n",
              "      <td>8</td>\n",
              "      <td>11000</td>\n",
              "      <td>Rs. 5800000</td>\n",
              "    </tr>\n",
              "    <tr>\n",
              "      <th>2213</th>\n",
              "      <td>NaN</td>\n",
              "      <td>NaN</td>\n",
              "      <td>nan</td>\n",
              "      <td>NaN</td>\n",
              "      <td>nan</td>\n",
              "      <td>NaN</td>\n",
              "      <td>NaN</td>\n",
              "      <td>NaN</td>\n",
              "      <td>nan</td>\n",
              "      <td>nan</td>\n",
              "      <td>NaN</td>\n",
              "    </tr>\n",
              "    <tr>\n",
              "      <th>2214</th>\n",
              "      <td>Volkswagen</td>\n",
              "      <td>tiguan</td>\n",
              "      <td>2010</td>\n",
              "      <td>Manual</td>\n",
              "      <td>2000</td>\n",
              "      <td>2WD</td>\n",
              "      <td>Petrol</td>\n",
              "      <td>India blue</td>\n",
              "      <td>8</td>\n",
              "      <td>25000</td>\n",
              "      <td>Rs. 4900000</td>\n",
              "    </tr>\n",
              "    <tr>\n",
              "      <th>2215</th>\n",
              "      <td>NaN</td>\n",
              "      <td>NaN</td>\n",
              "      <td>nan</td>\n",
              "      <td>NaN</td>\n",
              "      <td>nan</td>\n",
              "      <td>NaN</td>\n",
              "      <td>NaN</td>\n",
              "      <td>NaN</td>\n",
              "      <td>nan</td>\n",
              "      <td>nan</td>\n",
              "      <td>NaN</td>\n",
              "    </tr>\n",
              "    <tr>\n",
              "      <th>2216</th>\n",
              "      <td>Volkswagen</td>\n",
              "      <td>vento</td>\n",
              "      <td>2012</td>\n",
              "      <td>Manual</td>\n",
              "      <td>1600</td>\n",
              "      <td>2WD</td>\n",
              "      <td>Diesel</td>\n",
              "      <td>Silver</td>\n",
              "      <td>11</td>\n",
              "      <td>14000</td>\n",
              "      <td>Rs. 3555555</td>\n",
              "    </tr>\n",
              "  </tbody>\n",
              "</table>\n",
              "</div>"
            ],
            "text/plain": [
              "           Brand   Model  Model_year  ... Lot_no  Kilometer        Price\n",
              "2212  Volkswagen  passat        2010  ...      8      11000  Rs. 5800000\n",
              "2213         NaN     NaN         nan  ...    nan        nan          NaN\n",
              "2214  Volkswagen  tiguan        2010  ...      8      25000  Rs. 4900000\n",
              "2215         NaN     NaN         nan  ...    nan        nan          NaN\n",
              "2216  Volkswagen   vento        2012  ...     11      14000  Rs. 3555555\n",
              "\n",
              "[5 rows x 11 columns]"
            ]
          },
          "metadata": {
            "tags": []
          },
          "execution_count": 2121
        }
      ]
    },
    {
      "cell_type": "code",
      "metadata": {
        "colab": {
          "base_uri": "https://localhost:8080/",
          "height": 309
        },
        "id": "oOO-CDO4MiIp",
        "outputId": "3ea5ed39-2776-43bf-eb2f-ad4771bb445d"
      },
      "source": [
        "df.dropna(subset=cols,inplace=True)\n",
        "df.tail()"
      ],
      "execution_count": 2122,
      "outputs": [
        {
          "output_type": "execute_result",
          "data": {
            "text/html": [
              "<div>\n",
              "<style scoped>\n",
              "    .dataframe tbody tr th:only-of-type {\n",
              "        vertical-align: middle;\n",
              "    }\n",
              "\n",
              "    .dataframe tbody tr th {\n",
              "        vertical-align: top;\n",
              "    }\n",
              "\n",
              "    .dataframe thead th {\n",
              "        text-align: right;\n",
              "    }\n",
              "</style>\n",
              "<table border=\"1\" class=\"dataframe\">\n",
              "  <thead>\n",
              "    <tr style=\"text-align: right;\">\n",
              "      <th></th>\n",
              "      <th>Brand</th>\n",
              "      <th>Model</th>\n",
              "      <th>Model_year</th>\n",
              "      <th>Transmission</th>\n",
              "      <th>Engine_size(cc)</th>\n",
              "      <th>Drivetrain</th>\n",
              "      <th>Fuel_type</th>\n",
              "      <th>Colour</th>\n",
              "      <th>Lot_no</th>\n",
              "      <th>Kilometer</th>\n",
              "      <th>Price</th>\n",
              "    </tr>\n",
              "  </thead>\n",
              "  <tbody>\n",
              "    <tr>\n",
              "      <th>2210</th>\n",
              "      <td>Volkswagen</td>\n",
              "      <td>polo</td>\n",
              "      <td>2013</td>\n",
              "      <td>Manual</td>\n",
              "      <td>1600</td>\n",
              "      <td>2WD</td>\n",
              "      <td>Petrol</td>\n",
              "      <td>Silver</td>\n",
              "      <td>11</td>\n",
              "      <td>6300</td>\n",
              "      <td>Rs. 2700000</td>\n",
              "    </tr>\n",
              "    <tr>\n",
              "      <th>2211</th>\n",
              "      <td>Volkswagen</td>\n",
              "      <td>beetle</td>\n",
              "      <td>2010</td>\n",
              "      <td>Manual</td>\n",
              "      <td>1595</td>\n",
              "      <td>2WD</td>\n",
              "      <td>Petrol</td>\n",
              "      <td>Maroon Red</td>\n",
              "      <td>8</td>\n",
              "      <td>19000</td>\n",
              "      <td>Rs. 3950000</td>\n",
              "    </tr>\n",
              "    <tr>\n",
              "      <th>2212</th>\n",
              "      <td>Volkswagen</td>\n",
              "      <td>passat</td>\n",
              "      <td>2010</td>\n",
              "      <td>Manual</td>\n",
              "      <td>1800</td>\n",
              "      <td>2WD</td>\n",
              "      <td>Petrol</td>\n",
              "      <td>black</td>\n",
              "      <td>8</td>\n",
              "      <td>11000</td>\n",
              "      <td>Rs. 5800000</td>\n",
              "    </tr>\n",
              "    <tr>\n",
              "      <th>2214</th>\n",
              "      <td>Volkswagen</td>\n",
              "      <td>tiguan</td>\n",
              "      <td>2010</td>\n",
              "      <td>Manual</td>\n",
              "      <td>2000</td>\n",
              "      <td>2WD</td>\n",
              "      <td>Petrol</td>\n",
              "      <td>India blue</td>\n",
              "      <td>8</td>\n",
              "      <td>25000</td>\n",
              "      <td>Rs. 4900000</td>\n",
              "    </tr>\n",
              "    <tr>\n",
              "      <th>2216</th>\n",
              "      <td>Volkswagen</td>\n",
              "      <td>vento</td>\n",
              "      <td>2012</td>\n",
              "      <td>Manual</td>\n",
              "      <td>1600</td>\n",
              "      <td>2WD</td>\n",
              "      <td>Diesel</td>\n",
              "      <td>Silver</td>\n",
              "      <td>11</td>\n",
              "      <td>14000</td>\n",
              "      <td>Rs. 3555555</td>\n",
              "    </tr>\n",
              "  </tbody>\n",
              "</table>\n",
              "</div>"
            ],
            "text/plain": [
              "           Brand   Model  Model_year  ... Lot_no  Kilometer        Price\n",
              "2210  Volkswagen    polo        2013  ...     11       6300  Rs. 2700000\n",
              "2211  Volkswagen  beetle        2010  ...      8      19000  Rs. 3950000\n",
              "2212  Volkswagen  passat        2010  ...      8      11000  Rs. 5800000\n",
              "2214  Volkswagen  tiguan        2010  ...      8      25000  Rs. 4900000\n",
              "2216  Volkswagen   vento        2012  ...     11      14000  Rs. 3555555\n",
              "\n",
              "[5 rows x 11 columns]"
            ]
          },
          "metadata": {
            "tags": []
          },
          "execution_count": 2122
        }
      ]
    },
    {
      "cell_type": "code",
      "metadata": {
        "colab": {
          "base_uri": "https://localhost:8080/"
        },
        "id": "551CA9ynMiIq",
        "outputId": "6eb5a28b-7cc9-4dd7-d829-ad1f1d059b51"
      },
      "source": [
        "df.info()"
      ],
      "execution_count": 2123,
      "outputs": [
        {
          "output_type": "stream",
          "text": [
            "<class 'pandas.core.frame.DataFrame'>\n",
            "Int64Index: 1901 entries, 0 to 2216\n",
            "Data columns (total 11 columns):\n",
            " #   Column           Non-Null Count  Dtype  \n",
            "---  ------           --------------  -----  \n",
            " 0   Brand            1901 non-null   object \n",
            " 1   Model            1901 non-null   object \n",
            " 2   Model_year       1901 non-null   float64\n",
            " 3   Transmission     1901 non-null   object \n",
            " 4   Engine_size(cc)  1901 non-null   float64\n",
            " 5   Drivetrain       1901 non-null   object \n",
            " 6   Fuel_type        1901 non-null   object \n",
            " 7   Colour           1901 non-null   object \n",
            " 8   Lot_no           1901 non-null   float64\n",
            " 9   Kilometer        1901 non-null   float64\n",
            " 10  Price            1901 non-null   object \n",
            "dtypes: float64(4), object(7)\n",
            "memory usage: 178.2+ KB\n"
          ],
          "name": "stdout"
        }
      ]
    },
    {
      "cell_type": "markdown",
      "metadata": {
        "id": "eb_wB9YIMiIq"
      },
      "source": [
        "###### Price is an object datatype that is bacause of the 'Rs.' . Price column has 'Rs' in every row  so we remove 'Rs' and make it integer"
      ]
    },
    {
      "cell_type": "code",
      "metadata": {
        "colab": {
          "base_uri": "https://localhost:8080/"
        },
        "id": "9lZBNrkgMiIr",
        "outputId": "6795f22e-6d20-43fa-ab33-5872056f1883"
      },
      "source": [
        "df['Price'] = (df['Price'].str.strip('Rs. ').astype('int64'))\n",
        "df['Price'].head()"
      ],
      "execution_count": 2124,
      "outputs": [
        {
          "output_type": "execute_result",
          "data": {
            "text/plain": [
              "0     975000\n",
              "1    3000000\n",
              "2     975000\n",
              "3    3000000\n",
              "4    1000000\n",
              "Name: Price, dtype: int64"
            ]
          },
          "metadata": {
            "tags": []
          },
          "execution_count": 2124
        }
      ]
    },
    {
      "cell_type": "markdown",
      "metadata": {
        "id": "vCGD1cftMiIr"
      },
      "source": [
        "###### Here we have both categorical and numerical data. lets separate numerical and categorical into 2 groups"
      ]
    },
    {
      "cell_type": "code",
      "metadata": {
        "colab": {
          "base_uri": "https://localhost:8080/"
        },
        "id": "TeHH8MQuMiIs",
        "outputId": "14362396-6e90-43d4-9497-5bb3460101b5"
      },
      "source": [
        "num_features=[col for col in df.columns if df[col].dtype!='O']\n",
        "num_features"
      ],
      "execution_count": 2125,
      "outputs": [
        {
          "output_type": "execute_result",
          "data": {
            "text/plain": [
              "['Model_year', 'Engine_size(cc)', 'Lot_no', 'Kilometer', 'Price']"
            ]
          },
          "metadata": {
            "tags": []
          },
          "execution_count": 2125
        }
      ]
    },
    {
      "cell_type": "code",
      "metadata": {
        "colab": {
          "base_uri": "https://localhost:8080/"
        },
        "id": "CpKIZ9PAMiIs",
        "outputId": "55c15b93-9ac7-4a10-c2dc-1e3bb0a9a6e8"
      },
      "source": [
        "cat_features=[col for col in df.columns if df[col].dtype=='O']\n",
        "cat_features"
      ],
      "execution_count": 2126,
      "outputs": [
        {
          "output_type": "execute_result",
          "data": {
            "text/plain": [
              "['Brand', 'Model', 'Transmission', 'Drivetrain', 'Fuel_type', 'Colour']"
            ]
          },
          "metadata": {
            "tags": []
          },
          "execution_count": 2126
        }
      ]
    },
    {
      "cell_type": "markdown",
      "metadata": {
        "id": "MOF8mZYwMiIt"
      },
      "source": [
        "### Numerical data analysis"
      ]
    },
    {
      "cell_type": "markdown",
      "metadata": {
        "id": "jxpreRzNMiIt"
      },
      "source": [
        "###### Model is in year date form . lets keep it in number of years (2021-year_date)"
      ]
    },
    {
      "cell_type": "code",
      "metadata": {
        "colab": {
          "base_uri": "https://localhost:8080/",
          "height": 204
        },
        "id": "RBt5xPYDMiIu",
        "outputId": "4c0d5625-fea2-4d6e-f998-8aed8b2338cc"
      },
      "source": [
        "df.loc[:, \"Model_year\"] = df[\"Model_year\"].apply(lambda x: 2021-x) # Model_year is in year(date) form so converting it into no of year form.\n",
        "df.head()"
      ],
      "execution_count": 2127,
      "outputs": [
        {
          "output_type": "execute_result",
          "data": {
            "text/html": [
              "<div>\n",
              "<style scoped>\n",
              "    .dataframe tbody tr th:only-of-type {\n",
              "        vertical-align: middle;\n",
              "    }\n",
              "\n",
              "    .dataframe tbody tr th {\n",
              "        vertical-align: top;\n",
              "    }\n",
              "\n",
              "    .dataframe thead th {\n",
              "        text-align: right;\n",
              "    }\n",
              "</style>\n",
              "<table border=\"1\" class=\"dataframe\">\n",
              "  <thead>\n",
              "    <tr style=\"text-align: right;\">\n",
              "      <th></th>\n",
              "      <th>Brand</th>\n",
              "      <th>Model</th>\n",
              "      <th>Model_year</th>\n",
              "      <th>Transmission</th>\n",
              "      <th>Engine_size(cc)</th>\n",
              "      <th>Drivetrain</th>\n",
              "      <th>Fuel_type</th>\n",
              "      <th>Colour</th>\n",
              "      <th>Lot_no</th>\n",
              "      <th>Kilometer</th>\n",
              "      <th>Price</th>\n",
              "    </tr>\n",
              "  </thead>\n",
              "  <tbody>\n",
              "    <tr>\n",
              "      <th>0</th>\n",
              "      <td>Chevrolet</td>\n",
              "      <td>aveo</td>\n",
              "      <td>12</td>\n",
              "      <td>Manual</td>\n",
              "      <td>1150</td>\n",
              "      <td>2WD</td>\n",
              "      <td>Petrol</td>\n",
              "      <td>golden</td>\n",
              "      <td>6</td>\n",
              "      <td>200</td>\n",
              "      <td>975000</td>\n",
              "    </tr>\n",
              "    <tr>\n",
              "      <th>1</th>\n",
              "      <td>Chevrolet</td>\n",
              "      <td>captiva</td>\n",
              "      <td>6</td>\n",
              "      <td>Automatic</td>\n",
              "      <td>2000</td>\n",
              "      <td>4WD</td>\n",
              "      <td>Diesel</td>\n",
              "      <td>Grey</td>\n",
              "      <td>8</td>\n",
              "      <td>100</td>\n",
              "      <td>3000000</td>\n",
              "    </tr>\n",
              "    <tr>\n",
              "      <th>2</th>\n",
              "      <td>Chevrolet</td>\n",
              "      <td>aveo</td>\n",
              "      <td>12</td>\n",
              "      <td>Manual</td>\n",
              "      <td>1150</td>\n",
              "      <td>2WD</td>\n",
              "      <td>Petrol</td>\n",
              "      <td>golden</td>\n",
              "      <td>6</td>\n",
              "      <td>42000</td>\n",
              "      <td>975000</td>\n",
              "    </tr>\n",
              "    <tr>\n",
              "      <th>3</th>\n",
              "      <td>Chevrolet</td>\n",
              "      <td>captiva</td>\n",
              "      <td>11</td>\n",
              "      <td>Automatic</td>\n",
              "      <td>2000</td>\n",
              "      <td>4WD</td>\n",
              "      <td>Diesel</td>\n",
              "      <td>Grey</td>\n",
              "      <td>8</td>\n",
              "      <td>51000</td>\n",
              "      <td>3000000</td>\n",
              "    </tr>\n",
              "    <tr>\n",
              "      <th>4</th>\n",
              "      <td>Chevrolet</td>\n",
              "      <td>spark</td>\n",
              "      <td>9</td>\n",
              "      <td>Manual</td>\n",
              "      <td>1000</td>\n",
              "      <td>2WD</td>\n",
              "      <td>Petrol</td>\n",
              "      <td>Sky Blue</td>\n",
              "      <td>9</td>\n",
              "      <td>38000</td>\n",
              "      <td>1000000</td>\n",
              "    </tr>\n",
              "  </tbody>\n",
              "</table>\n",
              "</div>"
            ],
            "text/plain": [
              "       Brand    Model  Model_year  ... Lot_no  Kilometer    Price\n",
              "0  Chevrolet     aveo          12  ...      6        200   975000\n",
              "1  Chevrolet  captiva           6  ...      8        100  3000000\n",
              "2  Chevrolet     aveo          12  ...      6      42000   975000\n",
              "3  Chevrolet  captiva          11  ...      8      51000  3000000\n",
              "4  Chevrolet    spark           9  ...      9      38000  1000000\n",
              "\n",
              "[5 rows x 11 columns]"
            ]
          },
          "metadata": {
            "tags": []
          },
          "execution_count": 2127
        }
      ]
    },
    {
      "cell_type": "code",
      "metadata": {
        "colab": {
          "base_uri": "https://localhost:8080/",
          "height": 297
        },
        "id": "EK3JRXAcMiIu",
        "outputId": "dda4e7e6-c60e-4d1f-d39d-5d5b51597b0d"
      },
      "source": [
        "df[num_features].describe()"
      ],
      "execution_count": 2128,
      "outputs": [
        {
          "output_type": "execute_result",
          "data": {
            "text/html": [
              "<div>\n",
              "<style scoped>\n",
              "    .dataframe tbody tr th:only-of-type {\n",
              "        vertical-align: middle;\n",
              "    }\n",
              "\n",
              "    .dataframe tbody tr th {\n",
              "        vertical-align: top;\n",
              "    }\n",
              "\n",
              "    .dataframe thead th {\n",
              "        text-align: right;\n",
              "    }\n",
              "</style>\n",
              "<table border=\"1\" class=\"dataframe\">\n",
              "  <thead>\n",
              "    <tr style=\"text-align: right;\">\n",
              "      <th></th>\n",
              "      <th>Model_year</th>\n",
              "      <th>Engine_size(cc)</th>\n",
              "      <th>Lot_no</th>\n",
              "      <th>Kilometer</th>\n",
              "      <th>Price</th>\n",
              "    </tr>\n",
              "  </thead>\n",
              "  <tbody>\n",
              "    <tr>\n",
              "      <th>count</th>\n",
              "      <td>1901</td>\n",
              "      <td>1901</td>\n",
              "      <td>1901</td>\n",
              "      <td>1901</td>\n",
              "      <td>1901</td>\n",
              "    </tr>\n",
              "    <tr>\n",
              "      <th>mean</th>\n",
              "      <td>12</td>\n",
              "      <td>1420</td>\n",
              "      <td>8</td>\n",
              "      <td>41095</td>\n",
              "      <td>2024845</td>\n",
              "    </tr>\n",
              "    <tr>\n",
              "      <th>std</th>\n",
              "      <td>4</td>\n",
              "      <td>508</td>\n",
              "      <td>3</td>\n",
              "      <td>38439</td>\n",
              "      <td>1797278</td>\n",
              "    </tr>\n",
              "    <tr>\n",
              "      <th>min</th>\n",
              "      <td>2</td>\n",
              "      <td>624</td>\n",
              "      <td>1</td>\n",
              "      <td>100</td>\n",
              "      <td>2011</td>\n",
              "    </tr>\n",
              "    <tr>\n",
              "      <th>25%</th>\n",
              "      <td>9</td>\n",
              "      <td>1100</td>\n",
              "      <td>6</td>\n",
              "      <td>25000</td>\n",
              "      <td>1190000</td>\n",
              "    </tr>\n",
              "    <tr>\n",
              "      <th>50%</th>\n",
              "      <td>11</td>\n",
              "      <td>1200</td>\n",
              "      <td>8</td>\n",
              "      <td>36000</td>\n",
              "      <td>1575000</td>\n",
              "    </tr>\n",
              "    <tr>\n",
              "      <th>75%</th>\n",
              "      <td>13</td>\n",
              "      <td>1600</td>\n",
              "      <td>10</td>\n",
              "      <td>50000</td>\n",
              "      <td>2400000</td>\n",
              "    </tr>\n",
              "    <tr>\n",
              "      <th>max</th>\n",
              "      <td>35</td>\n",
              "      <td>4400</td>\n",
              "      <td>22</td>\n",
              "      <td>800000</td>\n",
              "      <td>32000000</td>\n",
              "    </tr>\n",
              "  </tbody>\n",
              "</table>\n",
              "</div>"
            ],
            "text/plain": [
              "       Model_year  Engine_size(cc)  Lot_no  Kilometer    Price\n",
              "count        1901             1901    1901       1901     1901\n",
              "mean           12             1420       8      41095  2024845\n",
              "std             4              508       3      38439  1797278\n",
              "min             2              624       1        100     2011\n",
              "25%             9             1100       6      25000  1190000\n",
              "50%            11             1200       8      36000  1575000\n",
              "75%            13             1600      10      50000  2400000\n",
              "max            35             4400      22     800000 32000000"
            ]
          },
          "metadata": {
            "tags": []
          },
          "execution_count": 2128
        }
      ]
    },
    {
      "cell_type": "markdown",
      "metadata": {
        "id": "0XZ_jsg5MiIv"
      },
      "source": [
        "Statistical Analysis:\n",
        "\n",
        "+ The used car are as old as 35 years and as new as 2 years.\n",
        "+ All features have mean and median almost equal so we can say that  dataset looks perfectly symmetrical distribution.(normal distribution) but they are not normal because of outliers.\n",
        "+ For the features model_year, Kilometer and price,the difference in 75th percentile and max is too high. That means they have some outlier values.\n",
        "For it to be Gaussian distribution we have empirical formula the data should lies between (mean-3*sd, mean, mean+3*sd).Anyvalue outside the range is an outliers. The presence of outlier can be determine without calculation"
      ]
    },
    {
      "cell_type": "markdown",
      "metadata": {
        "id": "7G20_l9Nzrmp"
      },
      "source": [
        "### Outlier Removal"
      ]
    },
    {
      "cell_type": "markdown",
      "metadata": {
        "id": "q0g7f9Jy0AYs"
      },
      "source": [
        "InterQuantile Range\n",
        "75%- 25% values in a dataset\n",
        "\n",
        "Steps\n",
        "1. Arrange the data in increasing order\n",
        "2. Calculate first(q1) and third quartile(q3)\n",
        "3. Find interquartile range (q3-q1)\n",
        "4. Find lower bound q1*1.5\n",
        "5. Find upper bound q3*1.5\n",
        "\n",
        "\n",
        "Anything that lies outside of lower and upper bound is an outlier"
      ]
    },
    {
      "cell_type": "code",
      "metadata": {
        "id": "7tjOA158LK_2"
      },
      "source": [
        "def outlier_removal(data):\n",
        "  quantile1, quantile3= np.percentile(sorted(np.array(df[data])),[25,75])\n",
        "  ## Find the IQR\n",
        "  iqr_value=quantile3-quantile1\n",
        "  ## Find the lower bound value and the higher bound value\n",
        "  lower_bound_val = quantile1 -(1.5 * iqr_value) \n",
        "  upper_bound_val = quantile3 +(1.5 * iqr_value)\n",
        "  df.drop(df[df[data] > upper_bound_val].index, inplace=True)\n",
        "  return df.shape"
      ],
      "execution_count": 2129,
      "outputs": []
    },
    {
      "cell_type": "code",
      "metadata": {
        "colab": {
          "base_uri": "https://localhost:8080/"
        },
        "id": "JZEpj3U7ML_0",
        "outputId": "c4f18f4a-a196-46d1-ad1b-bddf47849674"
      },
      "source": [
        "outlier_removal('Price')"
      ],
      "execution_count": 2130,
      "outputs": [
        {
          "output_type": "execute_result",
          "data": {
            "text/plain": [
              "(1774, 11)"
            ]
          },
          "metadata": {
            "tags": []
          },
          "execution_count": 2130
        }
      ]
    },
    {
      "cell_type": "code",
      "metadata": {
        "colab": {
          "base_uri": "https://localhost:8080/"
        },
        "id": "UAQjQif2L1tY",
        "outputId": "5899b01e-9154-481a-a14c-a1380a219282"
      },
      "source": [
        "outlier_removal('Kilometer')"
      ],
      "execution_count": 2131,
      "outputs": [
        {
          "output_type": "execute_result",
          "data": {
            "text/plain": [
              "(1708, 11)"
            ]
          },
          "metadata": {
            "tags": []
          },
          "execution_count": 2131
        }
      ]
    },
    {
      "cell_type": "code",
      "metadata": {
        "colab": {
          "base_uri": "https://localhost:8080/"
        },
        "id": "Hbvz1C4OL-RD",
        "outputId": "0cddd515-0270-4e84-8bbd-db1c4ae77f7d"
      },
      "source": [
        "outlier_removal('Engine_size(cc)')"
      ],
      "execution_count": 2132,
      "outputs": [
        {
          "output_type": "execute_result",
          "data": {
            "text/plain": [
              "(1596, 11)"
            ]
          },
          "metadata": {
            "tags": []
          },
          "execution_count": 2132
        }
      ]
    },
    {
      "cell_type": "code",
      "metadata": {
        "colab": {
          "base_uri": "https://localhost:8080/"
        },
        "id": "7FEJ_mlpj52P",
        "outputId": "ed02479e-b868-4a23-b0e1-03ee1cc039b6"
      },
      "source": [
        "outlier_removal('Model_year')"
      ],
      "execution_count": 2133,
      "outputs": [
        {
          "output_type": "execute_result",
          "data": {
            "text/plain": [
              "(1532, 11)"
            ]
          },
          "metadata": {
            "tags": []
          },
          "execution_count": 2133
        }
      ]
    },
    {
      "cell_type": "markdown",
      "metadata": {
        "id": "WCJxd1iz1ANt"
      },
      "source": [
        "Here most of the outliers are upper bound so I am only focusing in removing the upper bound values\n"
      ]
    },
    {
      "cell_type": "markdown",
      "metadata": {
        "id": "p6wOvzcT-BPQ"
      },
      "source": [
        "### EDA Analysis"
      ]
    },
    {
      "cell_type": "code",
      "metadata": {
        "colab": {
          "base_uri": "https://localhost:8080/",
          "height": 204
        },
        "id": "q-BApYumMiIv",
        "outputId": "3e80c517-8c1d-45fd-ec9f-e5d048794c58"
      },
      "source": [
        "# corelation analysis\n",
        "co_relation=df.corr()\n",
        "co_relation"
      ],
      "execution_count": 2134,
      "outputs": [
        {
          "output_type": "execute_result",
          "data": {
            "text/html": [
              "<div>\n",
              "<style scoped>\n",
              "    .dataframe tbody tr th:only-of-type {\n",
              "        vertical-align: middle;\n",
              "    }\n",
              "\n",
              "    .dataframe tbody tr th {\n",
              "        vertical-align: top;\n",
              "    }\n",
              "\n",
              "    .dataframe thead th {\n",
              "        text-align: right;\n",
              "    }\n",
              "</style>\n",
              "<table border=\"1\" class=\"dataframe\">\n",
              "  <thead>\n",
              "    <tr style=\"text-align: right;\">\n",
              "      <th></th>\n",
              "      <th>Model_year</th>\n",
              "      <th>Engine_size(cc)</th>\n",
              "      <th>Lot_no</th>\n",
              "      <th>Kilometer</th>\n",
              "      <th>Price</th>\n",
              "    </tr>\n",
              "  </thead>\n",
              "  <tbody>\n",
              "    <tr>\n",
              "      <th>Model_year</th>\n",
              "      <td>1</td>\n",
              "      <td>0</td>\n",
              "      <td>-1</td>\n",
              "      <td>1</td>\n",
              "      <td>-0</td>\n",
              "    </tr>\n",
              "    <tr>\n",
              "      <th>Engine_size(cc)</th>\n",
              "      <td>0</td>\n",
              "      <td>1</td>\n",
              "      <td>-0</td>\n",
              "      <td>0</td>\n",
              "      <td>1</td>\n",
              "    </tr>\n",
              "    <tr>\n",
              "      <th>Lot_no</th>\n",
              "      <td>-1</td>\n",
              "      <td>-0</td>\n",
              "      <td>1</td>\n",
              "      <td>-1</td>\n",
              "      <td>0</td>\n",
              "    </tr>\n",
              "    <tr>\n",
              "      <th>Kilometer</th>\n",
              "      <td>1</td>\n",
              "      <td>0</td>\n",
              "      <td>-1</td>\n",
              "      <td>1</td>\n",
              "      <td>-0</td>\n",
              "    </tr>\n",
              "    <tr>\n",
              "      <th>Price</th>\n",
              "      <td>-0</td>\n",
              "      <td>1</td>\n",
              "      <td>0</td>\n",
              "      <td>-0</td>\n",
              "      <td>1</td>\n",
              "    </tr>\n",
              "  </tbody>\n",
              "</table>\n",
              "</div>"
            ],
            "text/plain": [
              "                 Model_year  Engine_size(cc)  Lot_no  Kilometer  Price\n",
              "Model_year                1                0      -1          1     -0\n",
              "Engine_size(cc)           0                1      -0          0      1\n",
              "Lot_no                   -1               -0       1         -1      0\n",
              "Kilometer                 1                0      -1          1     -0\n",
              "Price                    -0                1       0         -0      1"
            ]
          },
          "metadata": {
            "tags": []
          },
          "execution_count": 2134
        }
      ]
    },
    {
      "cell_type": "markdown",
      "metadata": {
        "id": "pXSk8_QgMiIv"
      },
      "source": [
        "+ Price has negative corelation with Model_year and Kilometer. \n",
        "+ The car with high kilometer travelled is supposed to be very old car over course of time so price should be low.\n",
        "+ The car manufactured long back ago will have greater model_year but is old so the price should be low.\n",
        "+ Price has positive corelation with Engine_size and lot_no\n",
        "+ Engine size higher means expenisve car so price is sufficiently high.\n",
        "+ Lot no is positively corelated to price\n",
        "+ Model year and Lot no are negatively strong correlated as both represent the age of the vehicle but in opposite way."
      ]
    },
    {
      "cell_type": "code",
      "metadata": {
        "colab": {
          "base_uri": "https://localhost:8080/",
          "height": 396
        },
        "id": "QBroNEFEMiIw",
        "outputId": "d017384c-2651-437d-9a55-c83894a5e124"
      },
      "source": [
        "plt.rcParams['figure.figsize'] = (8, 6)\n",
        "corr_df = df.corr()\n",
        "sns.heatmap(corr_df,annot=True)"
      ],
      "execution_count": 2135,
      "outputs": [
        {
          "output_type": "execute_result",
          "data": {
            "text/plain": [
              "<matplotlib.axes._subplots.AxesSubplot at 0x7fb72d4f1950>"
            ]
          },
          "metadata": {
            "tags": []
          },
          "execution_count": 2135
        },
        {
          "output_type": "display_data",
          "data": {
            "image/png": "[encoded data removed]",
            "text/plain": [
              "<Figure size 576x432 with 2 Axes>"
            ]
          },
          "metadata": {
            "tags": [],
            "needs_background": "light"
          }
        }
      ]
    },
    {
      "cell_type": "code",
      "metadata": {
        "colab": {
          "base_uri": "https://localhost:8080/",
          "height": 403
        },
        "id": "XCqXeb4IMiIw",
        "outputId": "d5e8d7d6-a08d-41df-acce-d4d9325d7aa7"
      },
      "source": [
        "for i,feature in enumerate(num_features):\n",
        "    plt.subplot(2,4,i+1 , facecolor='#ADD8E6' )\n",
        "    df[feature].hist()\n",
        "    plt.title(feature)"
      ],
      "execution_count": 2136,
      "outputs": [
        {
          "output_type": "display_data",
          "data": {
            "image/png": "[encoded data removed]",
            "text/plain": [
              "<Figure size 576x432 with 5 Axes>"
            ]
          },
          "metadata": {
            "tags": [],
            "needs_background": "light"
          }
        }
      ]
    },
    {
      "cell_type": "markdown",
      "metadata": {
        "id": "tBdNRiTIMiIw"
      },
      "source": [
        "By figure the data is shifted centrally after removing the outliers"
      ]
    },
    {
      "cell_type": "code",
      "metadata": {
        "id": "KFQ-yWQ_RHyO"
      },
      "source": [
        "pd.options.display.float_format = '{:.0f}'.format"
      ],
      "execution_count": 2137,
      "outputs": []
    },
    {
      "cell_type": "code",
      "metadata": {
        "id": "RELbyC48MiIx"
      },
      "source": [
        "# Defining box_plot and scatter plot & kde_plot functions\n",
        "\n",
        "def make_boxplot(feature):\n",
        "    plt.rcParams['figure.figsize'] = (8, 6)\n",
        "    sns.boxplot(x=df[feature])\n",
        "    \n",
        "\n",
        "def scatters(col1,col2):\n",
        "    plt.rcParams['figure.figsize'] = (6, 4)\n",
        "    fig = px.scatter(df, x=col1, y=col2 )\n",
        "    return fig.show()\n",
        "\n",
        "def make_kdeplot(feature) : \n",
        "    plt.rcParams['figure.figsize'] = (8, 6)\n",
        "    sns.kdeplot(df[feature], shade=True)"
      ],
      "execution_count": 2138,
      "outputs": []
    },
    {
      "cell_type": "code",
      "metadata": {
        "colab": {
          "base_uri": "https://localhost:8080/",
          "height": 399
        },
        "id": "_BGDLjg0MiIy",
        "outputId": "a0195402-7432-49df-d01d-b5e318d287c2"
      },
      "source": [
        "make_kdeplot('Price')"
      ],
      "execution_count": 2139,
      "outputs": [
        {
          "output_type": "display_data",
          "data": {
            "image/png": "[encoded data removed]",
            "text/plain": [
              "<Figure size 576x432 with 1 Axes>"
            ]
          },
          "metadata": {
            "tags": [],
            "needs_background": "light"
          }
        }
      ]
    },
    {
      "cell_type": "code",
      "metadata": {
        "colab": {
          "base_uri": "https://localhost:8080/",
          "height": 389
        },
        "id": "AAMc0NMQMiIy",
        "outputId": "e7d4db22-fca4-4a1b-8edd-4f170ae6e38f"
      },
      "source": [
        "make_kdeplot('Model_year')"
      ],
      "execution_count": 2140,
      "outputs": [
        {
          "output_type": "display_data",
          "data": {
            "image/png": "[encoded data removed]",
            "text/plain": [
              "<Figure size 576x432 with 1 Axes>"
            ]
          },
          "metadata": {
            "tags": [],
            "needs_background": "light"
          }
        }
      ]
    },
    {
      "cell_type": "code",
      "metadata": {
        "colab": {
          "base_uri": "https://localhost:8080/",
          "height": 389
        },
        "id": "gy8YQhqaHX38",
        "outputId": "e84409bb-e150-49e5-da13-b392ac888295"
      },
      "source": [
        "make_kdeplot('Lot_no')"
      ],
      "execution_count": 2141,
      "outputs": [
        {
          "output_type": "display_data",
          "data": {
            "image/png": "[encoded data removed]",
            "text/plain": [
              "<Figure size 576x432 with 1 Axes>"
            ]
          },
          "metadata": {
            "tags": [],
            "needs_background": "light"
          }
        }
      ]
    },
    {
      "cell_type": "code",
      "metadata": {
        "colab": {
          "base_uri": "https://localhost:8080/",
          "height": 389
        },
        "id": "tpH47PZjHYTT",
        "outputId": "f270f7b3-8edb-4e35-cfad-16b287625828"
      },
      "source": [
        "make_kdeplot('Engine_size(cc)')"
      ],
      "execution_count": 2142,
      "outputs": [
        {
          "output_type": "display_data",
          "data": {
            "image/png": "[encoded data removed]",
            "text/plain": [
              "<Figure size 576x432 with 1 Axes>"
            ]
          },
          "metadata": {
            "tags": [],
            "needs_background": "light"
          }
        }
      ]
    },
    {
      "cell_type": "code",
      "metadata": {
        "colab": {
          "base_uri": "https://localhost:8080/",
          "height": 399
        },
        "id": "_qZqy_hRHYb0",
        "outputId": "42746ff1-f0e0-4cf9-da91-8ae9a8b1e836"
      },
      "source": [
        "make_kdeplot('Kilometer')"
      ],
      "execution_count": 2143,
      "outputs": [
        {
          "output_type": "display_data",
          "data": {
            "image/png": "[encoded data removed]",
            "text/plain": [
              "<Figure size 576x432 with 1 Axes>"
            ]
          },
          "metadata": {
            "tags": [],
            "needs_background": "light"
          }
        }
      ]
    },
    {
      "cell_type": "code",
      "metadata": {
        "colab": {
          "base_uri": "https://localhost:8080/",
          "height": 542
        },
        "id": "80Z7Ll6dMiIy",
        "outputId": "95e045ec-70ce-4083-aab0-0503a25c85cc"
      },
      "source": [
        "scatters('Model_year','Price') "
      ],
      "execution_count": 2144,
      "outputs": [
        {
          "output_type": "display_data",
          "data": {
            "text/html": [
              "<html>\n",
              "<head><meta charset=\"utf-8\" /></head>\n",
              "<body>\n",
              "    <div>\n",
              "            <script src=\"https://cdnjs.cloudflare.com/ajax/libs/mathjax/2.7.5/MathJax.js?config=TeX-AMS-MML_SVG\"></script><script type=\"text/javascript\">if (window.MathJax) {MathJax.Hub.Config({SVG: {font: \"STIX-Web\"}});}</script>\n",
              "                <script type=\"text/javascript\">window.PlotlyConfig = {MathJaxConfig: 'local'};</script>\n",
              "        <script src=\"https://cdn.plot.ly/plotly-latest.min.js\"></script>    \n",
              "            <div id=\"0b9adedb-b939-4bd9-93f8-c23cb66fdaa4\" class=\"plotly-graph-div\" style=\"height:525px; width:100%;\"></div>\n",
              "            <script type=\"text/javascript\">\n",
              "                \n",
              "                    window.PLOTLYENV=window.PLOTLYENV || {};\n",
              "                    \n",
              "                if (document.getElementById(\"0b9adedb-b939-4bd9-93f8-c23cb66fdaa4\")) {\n",
              "                    Plotly.newPlot(\n",
              "                        '0b9adedb-b939-4bd9-93f8-c23cb66fdaa4',\n",
              "                        [{\"hoverlabel\": {\"namelength\": 0}, \"hovertemplate\": \"Model_year=%{x}<br>Price=%{y}\", \"legendgroup\": \"\", \"marker\": {\"color\": \"#636efa\", \"symbol\": \"circle\"}, \"mode\": \"markers\", \"name\": \"\", \"showlegend\": false, \"type\": \"scattergl\", \"x\": [12.0, 6.0, 12.0, 11.0, 9.0, 11.0, 13.0, 9.0, 9.0, 11.0, 12.0, 9.0, 9.0, 12.0, 12.0, 9.0, 11.0, 11.0, 11.0, 12.0, 13.0, 11.0, 12.0, 11.0, 12.0, 11.0, 12.0, 12.0, 12.0, 12.0, 12.0, 11.0, 10.0, 14.0, 10.0, 12.0, 11.0, 12.0, 12.0, 12.0, 11.0, 8.0, 11.0, 13.0, 12.0, 12.0, 10.0, 15.0, 14.0, 15.0, 9.0, 10.0, 11.0, 12.0, 12.0, 11.0, 9.0, 12.0, 11.0, 13.0, 10.0, 11.0, 14.0, 6.0, 6.0, 9.0, 9.0, 6.0, 18.0, 10.0, 18.0, 8.0, 11.0, 10.0, 9.0, 3.0, 7.0, 5.0, 8.0, 5.0, 2.0, 8.0, 7.0, 6.0, 6.0, 8.0, 7.0, 7.0, 7.0, 9.0, 9.0, 5.0, 3.0, 7.0, 7.0, 7.0, 11.0, 7.0, 10.0, 8.0, 7.0, 7.0, 9.0, 9.0, 7.0, 11.0, 9.0, 9.0, 7.0, 10.0, 8.0, 9.0, 8.0, 10.0, 10.0, 7.0, 7.0, 9.0, 9.0, 7.0, 10.0, 9.0, 11.0, 8.0, 10.0, 9.0, 8.0, 8.0, 10.0, 10.0, 6.0, 9.0, 6.0, 9.0, 18.0, 9.0, 11.0, 6.0, 7.0, 10.0, 7.0, 7.0, 9.0, 7.0, 7.0, 7.0, 9.0, 7.0, 9.0, 11.0, 8.0, 9.0, 9.0, 9.0, 15.0, 7.0, 11.0, 10.0, 10.0, 9.0, 10.0, 9.0, 10.0, 8.0, 10.0, 7.0, 7.0, 8.0, 6.0, 9.0, 8.0, 9.0, 7.0, 7.0, 7.0, 6.0, 10.0, 11.0, 9.0, 7.0, 11.0, 9.0, 10.0, 8.0, 11.0, 11.0, 11.0, 8.0, 9.0, 9.0, 9.0, 9.0, 9.0, 9.0, 9.0, 7.0, 11.0, 7.0, 10.0, 10.0, 8.0, 10.0, 7.0, 7.0, 11.0, 9.0, 8.0, 5.0, 13.0, 8.0, 11.0, 12.0, 7.0, 11.0, 13.0, 6.0, 12.0, 10.0, 14.0, 11.0, 11.0, 15.0, 15.0, 8.0, 17.0, 9.0, 9.0, 8.0, 15.0, 14.0, 12.0, 6.0, 12.0, 12.0, 12.0, 9.0, 16.0, 9.0, 16.0, 15.0, 9.0, 7.0, 9.0, 19.0, 11.0, 7.0, 14.0, 15.0, 17.0, 10.0, 16.0, 13.0, 8.0, 16.0, 12.0, 5.0, 8.0, 5.0, 7.0, 13.0, 10.0, 11.0, 12.0, 14.0, 5.0, 11.0, 14.0, 12.0, 18.0, 8.0, 12.0, 11.0, 6.0, 12.0, 12.0, 12.0, 5.0, 7.0, 7.0, 7.0, 6.0, 11.0, 15.0, 9.0, 12.0, 5.0, 6.0, 8.0, 5.0, 3.0, 12.0, 5.0, 4.0, 8.0, 5.0, 10.0, 5.0, 7.0, 7.0, 3.0, 7.0, 8.0, 14.0, 12.0, 14.0, 7.0, 7.0, 7.0, 5.0, 14.0, 9.0, 8.0, 8.0, 5.0, 12.0, 12.0, 12.0, 19.0, 9.0, 11.0, 4.0, 10.0, 12.0, 8.0, 7.0, 13.0, 12.0, 6.0, 11.0, 12.0, 13.0, 11.0, 7.0, 15.0, 11.0, 12.0, 13.0, 12.0, 13.0, 13.0, 10.0, 13.0, 11.0, 11.0, 5.0, 12.0, 11.0, 13.0, 11.0, 7.0, 14.0, 10.0, 7.0, 12.0, 14.0, 11.0, 12.0, 14.0, 12.0, 12.0, 6.0, 8.0, 12.0, 9.0, 18.0, 12.0, 8.0, 11.0, 11.0, 15.0, 12.0, 12.0, 14.0, 7.0, 11.0, 13.0, 15.0, 13.0, 11.0, 11.0, 12.0, 12.0, 12.0, 12.0, 18.0, 13.0, 16.0, 12.0, 12.0, 12.0, 15.0, 8.0, 15.0, 10.0, 11.0, 9.0, 9.0, 12.0, 9.0, 13.0, 14.0, 14.0, 12.0, 12.0, 11.0, 11.0, 7.0, 10.0, 7.0, 11.0, 12.0, 10.0, 11.0, 7.0, 14.0, 7.0, 15.0, 11.0, 11.0, 11.0, 7.0, 18.0, 17.0, 8.0, 12.0, 11.0, 13.0, 12.0, 10.0, 14.0, 8.0, 11.0, 9.0, 7.0, 13.0, 15.0, 12.0, 11.0, 12.0, 11.0, 11.0, 14.0, 12.0, 9.0, 13.0, 12.0, 12.0, 10.0, 13.0, 15.0, 5.0, 14.0, 10.0, 14.0, 11.0, 11.0, 15.0, 7.0, 8.0, 8.0, 12.0, 11.0, 8.0, 8.0, 8.0, 8.0, 17.0, 8.0, 13.0, 8.0, 12.0, 8.0, 14.0, 14.0, 8.0, 8.0, 13.0, 16.0, 12.0, 10.0, 11.0, 13.0, 9.0, 12.0, 7.0, 15.0, 14.0, 14.0, 12.0, 9.0, 12.0, 15.0, 12.0, 11.0, 12.0, 13.0, 7.0, 8.0, 12.0, 13.0, 13.0, 19.0, 8.0, 12.0, 12.0, 12.0, 11.0, 17.0, 12.0, 12.0, 13.0, 15.0, 7.0, 11.0, 11.0, 14.0, 7.0, 7.0, 11.0, 7.0, 15.0, 10.0, 12.0, 7.0, 12.0, 11.0, 12.0, 12.0, 12.0, 13.0, 11.0, 12.0, 11.0, 18.0, 7.0, 16.0, 14.0, 14.0, 7.0, 12.0, 7.0, 8.0, 12.0, 8.0, 11.0, 12.0, 11.0, 8.0, 18.0, 13.0, 10.0, 18.0, 12.0, 12.0, 12.0, 17.0, 7.0, 12.0, 12.0, 11.0, 7.0, 12.0, 11.0, 11.0, 12.0, 14.0, 16.0, 12.0, 12.0, 12.0, 14.0, 12.0, 8.0, 10.0, 11.0, 12.0, 12.0, 14.0, 16.0, 13.0, 10.0, 12.0, 11.0, 12.0, 19.0, 13.0, 6.0, 12.0, 11.0, 12.0, 12.0, 15.0, 11.0, 12.0, 15.0, 12.0, 12.0, 11.0, 7.0, 9.0, 16.0, 14.0, 12.0, 12.0, 14.0, 11.0, 15.0, 12.0, 15.0, 13.0, 11.0, 12.0, 12.0, 11.0, 15.0, 12.0, 11.0, 12.0, 11.0, 11.0, 15.0, 9.0, 14.0, 13.0, 9.0, 12.0, 10.0, 11.0, 9.0, 11.0, 12.0, 12.0, 16.0, 9.0, 18.0, 14.0, 17.0, 12.0, 11.0, 12.0, 13.0, 12.0, 11.0, 12.0, 10.0, 11.0, 12.0, 10.0, 12.0, 13.0, 19.0, 12.0, 13.0, 15.0, 11.0, 11.0, 7.0, 7.0, 11.0, 11.0, 10.0, 9.0, 12.0, 16.0, 7.0, 9.0, 12.0, 12.0, 19.0, 12.0, 10.0, 12.0, 17.0, 11.0, 13.0, 8.0, 7.0, 11.0, 12.0, 15.0, 11.0, 9.0, 7.0, 13.0, 11.0, 13.0, 13.0, 12.0, 12.0, 12.0, 12.0, 12.0, 12.0, 9.0, 11.0, 9.0, 14.0, 8.0, 11.0, 12.0, 11.0, 13.0, 11.0, 7.0, 13.0, 15.0, 10.0, 11.0, 14.0, 17.0, 12.0, 15.0, 12.0, 11.0, 11.0, 11.0, 12.0, 18.0, 18.0, 12.0, 12.0, 18.0, 10.0, 12.0, 12.0, 12.0, 17.0, 13.0, 14.0, 12.0, 15.0, 7.0, 18.0, 11.0, 14.0, 16.0, 16.0, 12.0, 7.0, 9.0, 12.0, 10.0, 11.0, 9.0, 14.0, 12.0, 11.0, 15.0, 11.0, 16.0, 9.0, 19.0, 11.0, 8.0, 12.0, 10.0, 18.0, 18.0, 11.0, 11.0, 19.0, 13.0, 9.0, 9.0, 10.0, 12.0, 13.0, 15.0, 14.0, 13.0, 10.0, 9.0, 14.0, 14.0, 9.0, 10.0, 10.0, 14.0, 10.0, 12.0, 8.0, 10.0, 10.0, 11.0, 14.0, 11.0, 16.0, 12.0, 13.0, 9.0, 13.0, 11.0, 8.0, 12.0, 8.0, 14.0, 12.0, 11.0, 11.0, 11.0, 11.0, 15.0, 16.0, 7.0, 13.0, 7.0, 12.0, 14.0, 7.0, 11.0, 10.0, 11.0, 13.0, 14.0, 11.0, 14.0, 9.0, 8.0, 18.0, 12.0, 13.0, 9.0, 8.0, 12.0, 8.0, 9.0, 11.0, 12.0, 9.0, 14.0, 8.0, 15.0, 17.0, 12.0, 12.0, 13.0, 11.0, 14.0, 8.0, 16.0, 15.0, 7.0, 12.0, 11.0, 11.0, 11.0, 12.0, 12.0, 16.0, 10.0, 12.0, 14.0, 11.0, 12.0, 18.0, 16.0, 11.0, 14.0, 14.0, 17.0, 12.0, 12.0, 12.0, 11.0, 13.0, 10.0, 13.0, 12.0, 15.0, 12.0, 12.0, 13.0, 12.0, 15.0, 15.0, 18.0, 8.0, 18.0, 11.0, 7.0, 12.0, 12.0, 11.0, 11.0, 15.0, 16.0, 15.0, 10.0, 11.0, 10.0, 14.0, 16.0, 17.0, 11.0, 11.0, 17.0, 17.0, 10.0, 17.0, 13.0, 18.0, 12.0, 13.0, 10.0, 7.0, 13.0, 14.0, 10.0, 13.0, 11.0, 11.0, 10.0, 12.0, 9.0, 15.0, 17.0, 18.0, 14.0, 12.0, 16.0, 18.0, 12.0, 14.0, 12.0, 10.0, 17.0, 17.0, 14.0, 13.0, 10.0, 17.0, 10.0, 12.0, 10.0, 10.0, 15.0, 10.0, 14.0, 13.0, 17.0, 11.0, 11.0, 13.0, 13.0, 12.0, 13.0, 10.0, 11.0, 18.0, 14.0, 16.0, 10.0, 14.0, 18.0, 12.0, 16.0, 11.0, 9.0, 15.0, 15.0, 14.0, 10.0, 14.0, 13.0, 17.0, 13.0, 13.0, 18.0, 18.0, 15.0, 11.0, 11.0, 18.0, 18.0, 15.0, 17.0, 16.0, 5.0, 5.0, 5.0, 5.0, 6.0, 5.0, 5.0, 5.0, 8.0, 16.0, 3.0, 15.0, 5.0, 10.0, 19.0, 18.0, 5.0, 16.0, 6.0, 7.0, 12.0, 16.0, 3.0, 12.0, 5.0, 9.0, 5.0, 7.0, 6.0, 12.0, 7.0, 5.0, 13.0, 9.0, 13.0, 12.0, 7.0, 16.0, 9.0, 7.0, 9.0, 8.0, 15.0, 6.0, 3.0, 3.0, 9.0, 12.0, 8.0, 3.0, 8.0, 8.0, 11.0, 14.0, 11.0, 7.0, 7.0, 9.0, 12.0, 11.0, 9.0, 9.0, 7.0, 11.0, 10.0, 17.0, 18.0, 8.0, 11.0, 11.0, 11.0, 12.0, 14.0, 7.0, 11.0, 9.0, 12.0, 8.0, 7.0, 7.0, 16.0, 8.0, 10.0, 11.0, 9.0, 8.0, 11.0, 13.0, 11.0, 7.0, 8.0, 10.0, 7.0, 8.0, 11.0, 9.0, 9.0, 14.0, 7.0, 8.0, 12.0, 19.0, 19.0, 16.0, 9.0, 12.0, 14.0, 10.0, 10.0, 7.0, 11.0, 19.0, 15.0, 8.0, 17.0, 8.0, 7.0, 13.0, 10.0, 11.0, 7.0, 10.0, 14.0, 14.0, 10.0, 11.0, 11.0, 9.0, 12.0, 11.0, 10.0, 12.0, 10.0, 7.0, 8.0, 10.0, 6.0, 7.0, 8.0, 14.0, 11.0, 7.0, 11.0, 16.0, 11.0, 15.0, 7.0, 8.0, 14.0, 13.0, 8.0, 9.0, 8.0, 8.0, 11.0, 7.0, 7.0, 8.0, 7.0, 10.0, 11.0, 7.0, 12.0, 7.0, 10.0, 8.0, 13.0, 11.0, 7.0, 8.0, 6.0, 12.0, 13.0, 11.0, 15.0, 10.0, 9.0, 9.0, 7.0, 12.0, 13.0, 12.0, 12.0, 11.0, 11.0, 12.0, 15.0, 12.0, 8.0, 10.0, 13.0, 12.0, 7.0, 13.0, 12.0, 11.0, 11.0, 15.0, 9.0, 8.0, 10.0, 12.0, 17.0, 8.0, 8.0, 8.0, 8.0, 8.0, 9.0, 10.0, 7.0, 9.0, 12.0, 12.0, 13.0, 12.0, 10.0, 10.0, 12.0, 12.0, 12.0, 9.0, 10.0, 10.0, 8.0, 8.0, 9.0, 12.0, 11.0, 13.0, 12.0, 19.0, 12.0, 15.0, 15.0, 11.0, 7.0, 16.0, 7.0, 9.0, 12.0, 8.0, 12.0, 12.0, 16.0, 13.0, 12.0, 16.0, 9.0, 11.0, 16.0, 11.0, 11.0, 11.0, 7.0, 12.0, 15.0, 10.0, 11.0, 7.0, 12.0, 12.0, 8.0, 9.0, 11.0, 10.0, 7.0, 13.0, 13.0, 10.0, 8.0, 19.0, 11.0, 9.0, 14.0, 12.0, 8.0, 16.0, 12.0, 12.0, 9.0, 14.0, 12.0, 14.0, 8.0, 13.0, 19.0, 8.0, 12.0, 13.0, 16.0, 5.0, 19.0, 11.0, 13.0, 14.0, 14.0, 11.0, 16.0, 16.0, 8.0, 11.0, 11.0, 12.0, 8.0, 8.0, 9.0, 16.0, 8.0, 11.0, 8.0, 15.0, 16.0, 8.0, 16.0, 12.0, 8.0, 15.0, 14.0, 9.0, 11.0, 9.0, 12.0, 18.0, 13.0, 6.0, 16.0, 19.0, 11.0, 13.0, 18.0, 11.0, 8.0, 7.0, 11.0, 16.0, 19.0, 16.0, 14.0, 14.0, 14.0, 15.0, 14.0, 13.0, 11.0, 14.0, 8.0, 14.0, 15.0, 17.0, 18.0, 15.0, 16.0, 15.0, 19.0, 14.0, 12.0, 12.0, 10.0, 10.0, 9.0, 8.0, 11.0, 10.0, 12.0, 8.0, 8.0, 12.0, 11.0, 10.0, 12.0, 10.0, 10.0, 12.0, 7.0, 11.0, 12.0, 12.0, 11.0, 12.0, 9.0, 9.0, 13.0, 8.0, 13.0, 5.0, 4.0, 11.0, 7.0, 11.0, 12.0, 11.0, 17.0, 9.0, 9.0, 6.0, 10.0, 9.0, 9.0, 15.0, 10.0, 14.0, 9.0, 18.0, 16.0, 17.0, 5.0, 16.0, 9.0, 10.0, 11.0, 10.0, 8.0, 11.0, 12.0, 11.0, 9.0, 11.0, 19.0, 19.0, 19.0, 11.0, 11.0, 7.0, 9.0, 10.0, 10.0, 14.0, 11.0, 15.0, 18.0, 14.0, 11.0, 19.0, 13.0, 11.0, 14.0, 16.0, 10.0, 9.0, 12.0, 11.0, 8.0, 10.0, 14.0, 7.0, 16.0, 16.0, 18.0, 10.0, 14.0, 14.0, 14.0, 9.0, 13.0, 11.0, 7.0, 11.0, 8.0, 13.0, 14.0, 13.0, 14.0, 15.0, 14.0, 12.0, 19.0, 10.0, 14.0, 11.0, 8.0, 18.0, 14.0, 9.0, 14.0, 9.0, 14.0, 15.0, 15.0, 19.0, 13.0, 13.0, 15.0, 17.0, 14.0, 6.0, 10.0, 13.0, 11.0, 11.0, 11.0, 8.0, 14.0, 14.0, 10.0, 14.0, 18.0, 13.0, 13.0, 13.0, 12.0, 13.0, 7.0, 10.0, 6.0, 11.0, 10.0, 10.0, 11.0, 10.0, 6.0, 6.0, 10.0, 6.0, 8.0, 8.0, 8.0, 9.0, 10.0, 8.0, 8.0, 8.0, 10.0, 10.0, 7.0, 10.0, 9.0, 9.0, 8.0, 8.0, 10.0, 9.0, 10.0, 7.0, 8.0, 11.0, 10.0, 9.0, 8.0, 9.0, 10.0, 10.0, 7.0, 9.0, 9.0, 7.0, 9.0, 8.0, 9.0, 9.0, 9.0, 7.0, 8.0, 11.0, 9.0], \"xaxis\": \"x\", \"y\": [975000, 3000000, 975000, 3000000, 1000000, 1425000, 1250000, 1475000, 1300000, 1150000, 925000, 1650000, 1100000, 975000, 975000, 1200000, 1075000, 1275000, 110000, 1450000, 1050000, 3500000, 1200000, 1450000, 1400000, 1450000, 1100000, 1100000, 3750000, 4000000, 1450000, 1200000, 1600000, 1050000, 1650000, 1400000, 1700000, 1350000, 1550000, 1050000, 1695000, 2000000, 1200000, 1300000, 1200000, 4200000, 1150000, 1350000, 1575000, 1425000, 2300000, 1600000, 1600000, 1200000, 1125000, 1725000, 2200000, 1500000, 4000000, 1325000, 1800000, 1800000, 1200000, 2300000, 2700000, 1499999, 2350000, 1800000, 550000, 1375000, 675000, 1425000, 1200000, 1250000, 1250000, 3300000, 2600000, 17000, 1450000, 1850000, 3100000, 2400000, 1400000, 2900000, 1450000, 2500000, 1700000, 1700000, 3100000, 2700000, 1500000, 260000, 3400000, 2250000, 3100000, 1850000, 1200000, 3000000, 1375000, 1850000, 2800000, 2080000, 1750000, 2400000, 1525000, 1300000, 1350000, 1550000, 200000, 1350000, 1525000, 1375000, 3550000, 1435000, 1325000, 3400000, 3800000, 1750000, 1475000, 2450000, 1425000, 1375000, 1250000, 1650000, 1450000, 1600000, 3275000, 1800000, 1350000, 1500000, 2380000, 1650000, 3999000, 1600000, 425000, 2300000, 1550000, 3000000, 2200000, 1574997, 3400000, 3700000, 1400000, 1950000, 2800000, 2350000, 1850000, 2350000, 1400000, 1450000, 1400000, 2650000, 1725000, 1600000, 3000000, 4150000, 1525000, 1575000, 1500000, 1775000, 1425000, 1725000, 1575000, 1650000, 1550000, 2000000, 1925000, 1650000, 2025000, 2700000, 2150000, 1650000, 3800000, 3250000, 3000000, 2000000, 1550000, 1425000, 1550000, 3800000, 1450000, 2000000, 1750000, 1675000, 1600000, 1475000, 1600000, 4000000, 1800000, 2300000, 2300000, 1850000, 1575000, 3000000, 1750000, 3500000, 1750000, 3350000, 1800000, 1950000, 4000000, 1700000, 3350000, 1650000, 1590000, 2850000, 3450000, 1000000, 1350000, 2400000, 2250000, 1650000, 1875000, 1800000, 1450000, 2800000, 1600000, 110000, 4151000, 3250000, 2325000, 1800000, 4200000, 2750000, 1250000, 2250000, 1775000, 3100000, 1800000, 4200000, 1775000, 3500000, 2150000, 2150000, 2150000, 2600000, 1425000, 1750000, 1475000, 1700000, 1800000, 3100000, 1750000, 1325000, 2550000, 3400000, 2000000, 1450000, 1200000, 3150000, 1400000, 1800000, 3000000, 1425000, 2650000, 2200000, 1450000, 2150000, 1700000, 950000, 1750000, 1250000, 1125000, 1050000, 2950000, 1450000, 1150000, 1350000, 600000, 1850000, 1720000, 1475000, 2775000, 1215000, 1425000, 1325000, 2950000, 2175000, 1875000, 2050000, 2800000, 1600000, 1950000, 1575000, 1250000, 1950000, 2250000, 1225000, 4150000, 2975000, 1050000, 3000000, 3100000, 1450000, 3000000, 3700000, 3700000, 1850000, 1850000, 4000000, 1900000, 2100000, 1000000, 1200000, 2400000, 2196000, 1850000, 1850000, 3200000, 1000000, 1525000, 4200000, 1450000, 2300000, 1089996, 1180000, 1150000, 625000, 1250000, 1475000, 1350000, 1650000, 1550000, 1675000, 1850000, 2600000, 1150000, 2455000, 1750000, 1380000, 1235000, 1325000, 2025000, 2500000, 1525000, 1450000, 1150000, 3150000, 1410000, 1099999, 1325000, 1125000, 1775000, 1725000, 2400000, 1275000, 1750000, 2650000, 1725000, 2400000, 1125000, 675000, 2375000, 1475000, 1135000, 1475000, 1650000, 2900000, 1650000, 1225000, 2950000, 1850000, 1425000, 1695000, 750000, 1700000, 1450000, 1585000, 1575000, 975000, 1300000, 1275000, 850000, 2100000, 1790000, 3100000, 1100000, 1175000, 1750000, 1575000, 1375000, 1700000, 1225000, 1525000, 775000, 1100000, 950000, 1775000, 3349000, 1275000, 1000000, 1775000, 2600000, 1575000, 1795000, 1775000, 1090000, 1540000, 1665000, 1425000, 900000, 1150000, 1850000, 1850000, 1600000, 1525000, 2450000, 1550000, 2375000, 1725000, 1500000, 1575000, 1775000, 1875000, 1150000, 2200000, 1200000, 1500000, 1575000, 1575000, 2400000, 725000, 850000, 1860000, 1300000, 1575000, 1225000, 1325000, 1650000, 900000, 1600000, 1575000, 1350000, 3100000, 1325000, 1075000, 1445000, 1325000, 1400000, 1800000, 1310000, 1175000, 1650000, 1600000, 1425000, 1275000, 1400000, 1345000, 1550000, 1050000, 3350000, 1150000, 2011, 1000000, 2000000, 1525000, 1025000, 2125000, 1600000, 1600000, 1350000, 1625000, 1500000, 1775000, 1550000, 1550000, 800000, 3100000, 1324999, 1600000, 1225000, 1875000, 2725000, 1170000, 1600000, 1400000, 1175000, 850000, 1575000, 1675000, 1525000, 1545000, 1675000, 1700000, 3199999, 1050000, 1150000, 2850000, 1225000, 1675000, 1435000, 1355000, 3300000, 1625000, 1360000, 1150000, 2455000, 1975000, 155000, 1175000, 1325000, 650000, 1850000, 1725000, 1725000, 1550000, 1850000, 1025000, 1550000, 3300000, 1325000, 2650000, 2000000, 1300000, 1650000, 2650000, 2300000, 2450000, 1650000, 2000000, 1100000, 1350000, 1450000, 2076000, 1575000, 1475000, 1250000, 1250000, 3500000, 1350000, 1725000, 1390000, 1850000, 700000, 2475000, 1100000, 1175000, 1175000, 2450000, 1250000, 2450000, 1300000, 1499999, 1400000, 1850000, 1250000, 1300000, 1775000, 825000, 3200000, 1675000, 725000, 1400000, 1175000, 1750000, 780000, 2450000, 1150000, 1150000, 1525000, 2000000, 1425000, 1225000, 1575000, 1625000, 1050000, 1000000, 1250000, 1725000, 1250000, 1175000, 3300000, 1250000, 1350000, 1550000, 1525000, 1750000, 1175000, 1025000, 1150000, 1680000, 1450000, 1475000, 1750000, 2450000, 1175000, 2150000, 3500000, 1250000, 1400000, 1250000, 1090000, 1850000, 1625000, 2600000, 1200000, 1750000, 1300000, 2450000, 1225000, 1025000, 1150000, 1550000, 1425000, 1150000, 1225000, 1550000, 1600000, 1300000, 3150000, 1520000, 1575000, 1705000, 1850000, 1100000, 1475000, 1750000, 1400000, 1824000, 1575000, 1075000, 1750000, 2850000, 1175000, 1275000, 1380000, 1350000, 1590000, 1450000, 1225000, 1360000, 1275000, 1050000, 1725000, 675000, 1200000, 950000, 1350000, 1825000, 1400000, 1275000, 1750000, 1775000, 1400000, 1725000, 1350000, 1200000, 2200000, 1400000, 1200000, 725000, 1400000, 1325000, 1100000, 1525000, 1590000, 2550000, 1700000, 1900000, 1325000, 1750000, 1725000, 1425000, 1050000, 2450000, 1800000, 1400000, 1225000, 750000, 3700000, 1750000, 1200000, 2400000, 1575000, 1333333, 1450000, 2154993, 1825000, 3400000, 900000, 1800000, 1325000, 2150000, 1350000, 1550000, 850000, 1350000, 1825000, 1400000, 1400000, 1650000, 1350000, 1350000, 1190000, 1500000, 1325000, 1500000, 1750000, 1525000, 1775000, 1550000, 3175000, 4000000, 2550000, 1700000, 1075000, 1675000, 1300000, 1200000, 845000, 1425000, 2900000, 1500000, 1500000, 1850000, 1575000, 1450000, 850000, 785000, 1175000, 3500000, 825000, 1750000, 1450000, 3700000, 3250000, 800000, 1225000, 925000, 1315000, 2700000, 1765000, 700000, 1825000, 1150000, 1050000, 925000, 1250000, 170000, 2300000, 3400000, 1625000, 1375000, 1375000, 1200000, 1225000, 1850000, 950000, 1849000, 1025000, 1650000, 750000, 1375000, 1425000, 1375000, 1625000, 785000, 800000, 1450000, 1625000, 1450000, 3250000, 1325000, 1530000, 1650000, 1235000, 1000000, 975000, 1140000, 1275000, 1950000, 1875000, 1175000, 850000, 1425000, 1750000, 1625000, 1195000, 1775000, 1450000, 1475000, 1825000, 1950000, 1625000, 1150000, 1550000, 2550000, 1395000, 1250000, 1425000, 1265000, 1290000, 1775000, 3450000, 1460000, 1050000, 1225000, 1575000, 1875000, 1625000, 1390000, 900000, 1425000, 2250000, 1300000, 2499000, 1375000, 1550000, 1425000, 1340000, 1700000, 1899999, 3300000, 850000, 1475000, 1650000, 1250000, 1900000, 750000, 1325000, 1225000, 1725000, 1950000, 1850000, 1525000, 1575000, 1990000, 1380000, 1325000, 1150000, 2350000, 850000, 2450000, 1550000, 1440000, 1450000, 2050000, 1000000, 2325000, 102500, 1050000, 1700000, 1350000, 1575000, 1875000, 1725000, 1400000, 1425000, 1450000, 1775000, 1240000, 1170000, 1515000, 1690000, 950000, 1050000, 2050000, 1150000, 1850000, 1000000, 1450000, 1425000, 3500000, 2100000, 1350000, 1650000, 1190000, 1250000, 1125000, 1385000, 1250000, 1400000, 1575000, 1225000, 1425000, 1000000, 1900000, 1250000, 1575000, 3600000, 1475000, 1600000, 3250000, 3700000, 2050000, 2175000, 870000, 4150000, 1050000, 1075000, 900000, 925000, 650000, 3200000, 1260000, 750000, 875000, 4099999, 625000, 2850000, 1050000, 1000000, 1075000, 1500000, 2375000, 1100000, 1100000, 1500000, 2850000, 1300000, 1225000, 1975000, 2300000, 2150000, 875000, 725000, 625000, 975000, 1450000, 750000, 1350000, 1225000, 2850000, 1275000, 300000, 950000, 800000, 2850000, 1100000, 1650000, 825000, 1750000, 1175000, 2000000, 2300000, 1475000, 1550000, 2900000, 850000, 880000, 4200000, 4200000, 3000000, 3000000, 1400000, 1150000, 1750000, 2499000, 1100000, 975000, 850000, 1475000, 1350000, 1650000, 1600000, 875000, 3000000, 2000000, 1600000, 1000000, 1450000, 3100000, 1500000, 3200000, 890000, 1175000, 1180000, 790000, 1600000, 1200000, 3100000, 1400000, 1600000, 1600000, 2600000, 975000, 950000, 2100000, 2200000, 2400000, 2600000, 3600000, 2600000, 2450000, 2600000, 3100000, 1225000, 2850000, 575000, 1725000, 1150000, 400000, 300000, 1500000, 550000, 675000, 117500, 710000, 350000, 975000, 1400000, 2479000, 750000, 2475000, 1900000, 1050000, 625000, 1900000, 1750000, 650000, 1025000, 1325000, 625000, 975000, 1000000, 525000, 2049000, 800000, 1150000, 700000, 2450000, 1479000, 1099000, 1025000, 1300000, 825000, 2199000, 2250000, 2300000, 1130000, 675000, 1850000, 2295000, 2350000, 1325000, 1399000, 925000, 1975000, 2250000, 2225000, 1500000, 1160000, 450000, 1225000, 1300000, 1875000, 1775000, 800000, 800000, 750000, 2450000, 875000, 1325000, 1000000, 1050000, 2475000, 2475000, 1050000, 1275000, 1200000, 1025000, 1250000, 1150000, 1750000, 1000000, 1125000, 2450000, 2175000, 625000, 1575000, 2300000, 975000, 2250000, 1875000, 775000, 1575000, 2275000, 1550000, 675000, 650000, 690000, 2250000, 1450000, 1325000, 600000, 1225000, 1375000, 1100000, 575000, 725000, 1525000, 600000, 2400000, 145000, 825000, 1000000, 1650000, 1275000, 1150000, 1200000, 775000, 1250000, 1500000, 875000, 915000, 900000, 1250000, 1250000, 1550000, 1150000, 2550000, 1525000, 1175000, 2650000, 2525000, 2375000, 800000, 1650000, 2490000, 1790000, 1150000, 1650000, 525000, 1375000, 2700000, 1275000, 1350000, 2350000, 600000, 1350000, 1350000, 1650000, 2350000, 1450000, 2175000, 1375000, 1025000, 1350000, 2575000, 925000, 1125000, 1225000, 2200000, 1400000, 825000, 1000000, 1390000, 2750000, 825000, 775000, 1650000, 725000, 1250000, 1275000, 2300000, 2600000, 1550000, 1475000, 1550000, 1525000, 1000000, 1300000, 1475000, 900000, 1175000, 1375000, 1250000, 1425000, 1175000, 2575000, 850000, 1199999, 1200000, 500000, 1200000, 1300000, 1350000, 1095000, 825000, 525000, 2000000, 1385000, 1200000, 2425000, 2350000, 2250000, 975000, 2650000, 1025000, 1600000, 1400000, 1450000, 1500000, 1150000, 1225000, 1575000, 950000, 1210000, 1450000, 1050000, 1225000, 1375000, 1425000, 2000000, 1425000, 950000, 1350000, 1600000, 650000, 1600000, 750000, 650000, 1350000, 2350000, 950000, 1150000, 1400000, 1275000, 1425000, 1450000, 1250000, 675000, 1500000, 900000, 650000, 1350000, 1650000, 736000, 1350000, 1245000, 650000, 2350000, 1175000, 1800000, 1350000, 1450000, 1425000, 910000, 1425000, 1450000, 1325000, 1200000, 925000, 2150000, 1400000, 850000, 1300000, 1400000, 450000, 1900000, 2125000, 785000, 950000, 1075000, 900000, 1275000, 1625000, 1375000, 850000, 1625000, 825000, 2500000, 800000, 660000, 1375000, 1625000, 715000, 1100000, 475000, 625000, 1900000, 900000, 800000, 775000, 950000, 1125000, 1050000, 2850000, 1950000, 1850000, 1500000, 2450000, 1300000, 2400000, 1250000, 1499000, 1925000, 1500000, 750000, 850000, 2500000, 1325000, 1800000, 1400000, 775000, 880000, 1200000, 800000, 1600000, 1600000, 990000, 1800000, 2150000, 1550000, 1100000, 1850000, 1800000, 1300000, 2300000, 2850000, 3250000, 2000000, 1500000, 1100000, 1375000, 2000000, 1875000, 1800000, 1690000, 1700000, 2975000, 2300000, 1775000, 2900000, 1750000, 1725000, 1800000, 1650000, 2200000, 1650000, 1800000, 1250000, 2000000, 1125000, 900000, 3600000, 4000000, 2250000, 1850000, 3600000, 3800000, 1275000, 2250000, 2675000, 1425000, 3600000, 4200000, 2750000, 4200000, 3800000, 1300000, 3300000, 1650000, 1625000, 3300000, 3650000, 1575000, 2200000, 2400000, 2675000, 550000, 1300000, 2100000, 1100000, 925000, 930000, 900000, 900000, 1300000, 450000, 1325000, 475000, 1050000, 450000, 600000, 1050000, 666666, 450000, 550000, 425000, 850000, 525000, 500000, 1200000, 575000, 1230000, 400000, 1350000, 400000, 2450000, 800000, 875000, 1350000, 475000, 1550000, 565000, 437000, 645000, 775000, 1300000, 1400000, 1400000, 675000, 475000, 770000, 1200000, 1250000, 800000, 700000, 200000, 380000, 1300000, 1350000, 700000, 610000, 575000, 525000, 1050000, 1575000, 2450000, 1125000, 850000, 2450000, 725000, 700000, 595000, 1600000, 725000, 2250000, 2600000, 3500000, 2850000, 3700000, 2700000, 2400000, 2400000, 3225000, 2650000, 3150000, 2900000, 2975000, 2900000, 3400000, 1075000, 2450000, 2750000, 3850000, 3000000, 1550000, 2475000, 3500000, 2825000, 3500000, 2825000, 2100000, 2300000, 1125000, 3250000, 3400000, 2175000, 1400000, 2850000, 3150000, 3200000, 2950000, 4075000, 4150000, 2500000, 2950000, 2825000, 2450000, 2875000, 3150000, 1475000, 3200000, 3400000, 2500000, 4150000, 3550000, 2075000, 2200000, 2500000, 3000000, 2000000, 2025000, 4100000, 1725000, 2500000, 2650000, 2025000, 3450000, 2800000, 2350000, 3480000, 2350000, 1975000, 2800000, 2450000, 2150000, 2000000, 1950000, 2350000, 2125000, 2100000, 2450000, 2650000, 2550000, 2250000, 1850000, 2400000, 2650000, 2475000, 3800000, 2100000, 3000000, 2100000, 2450000, 2350000, 2100000, 2550000, 2050000, 3000000, 2650000, 1995000, 2650000, 2000000, 2550000, 2150000, 2400000, 2700000, 3950000, 3555555], \"yaxis\": \"y\"}],\n",
              "                        {\"legend\": {\"tracegroupgap\": 0}, \"margin\": {\"t\": 60}, \"template\": {\"data\": {\"bar\": [{\"error_x\": {\"color\": \"#2a3f5f\"}, \"error_y\": {\"color\": \"#2a3f5f\"}, \"marker\": {\"line\": {\"color\": \"#E5ECF6\", \"width\": 0.5}}, \"type\": \"bar\"}], \"barpolar\": [{\"marker\": {\"line\": {\"color\": \"#E5ECF6\", \"width\": 0.5}}, \"type\": \"barpolar\"}], \"carpet\": [{\"aaxis\": {\"endlinecolor\": \"#2a3f5f\", \"gridcolor\": \"white\", \"linecolor\": \"white\", \"minorgridcolor\": \"white\", \"startlinecolor\": \"#2a3f5f\"}, \"baxis\": {\"endlinecolor\": \"#2a3f5f\", \"gridcolor\": \"white\", \"linecolor\": \"white\", \"minorgridcolor\": \"white\", \"startlinecolor\": \"#2a3f5f\"}, \"type\": \"carpet\"}], \"choropleth\": [{\"colorbar\": {\"outlinewidth\": 0, \"ticks\": \"\"}, \"type\": \"choropleth\"}], \"contour\": [{\"colorbar\": {\"outlinewidth\": 0, \"ticks\": \"\"}, \"colorscale\": [[0.0, \"#0d0887\"], [0.1111111111111111, \"#46039f\"], [0.2222222222222222, \"#7201a8\"], [0.3333333333333333, \"#9c179e\"], [0.4444444444444444, \"#bd3786\"], [0.5555555555555556, \"#d8576b\"], [0.6666666666666666, \"#ed7953\"], [0.7777777777777778, \"#fb9f3a\"], [0.8888888888888888, \"#fdca26\"], [1.0, \"#f0f921\"]], \"type\": \"contour\"}], \"contourcarpet\": [{\"colorbar\": {\"outlinewidth\": 0, \"ticks\": \"\"}, \"type\": \"contourcarpet\"}], \"heatmap\": [{\"colorbar\": {\"outlinewidth\": 0, \"ticks\": \"\"}, \"colorscale\": [[0.0, \"#0d0887\"], [0.1111111111111111, \"#46039f\"], [0.2222222222222222, \"#7201a8\"], [0.3333333333333333, \"#9c179e\"], [0.4444444444444444, \"#bd3786\"], [0.5555555555555556, \"#d8576b\"], [0.6666666666666666, \"#ed7953\"], [0.7777777777777778, \"#fb9f3a\"], [0.8888888888888888, \"#fdca26\"], [1.0, \"#f0f921\"]], \"type\": \"heatmap\"}], \"heatmapgl\": [{\"colorbar\": {\"outlinewidth\": 0, \"ticks\": \"\"}, \"colorscale\": [[0.0, \"#0d0887\"], [0.1111111111111111, \"#46039f\"], [0.2222222222222222, \"#7201a8\"], [0.3333333333333333, \"#9c179e\"], [0.4444444444444444, \"#bd3786\"], [0.5555555555555556, \"#d8576b\"], [0.6666666666666666, \"#ed7953\"], [0.7777777777777778, \"#fb9f3a\"], [0.8888888888888888, \"#fdca26\"], [1.0, \"#f0f921\"]], \"type\": \"heatmapgl\"}], \"histogram\": [{\"marker\": {\"colorbar\": {\"outlinewidth\": 0, \"ticks\": \"\"}}, \"type\": \"histogram\"}], \"histogram2d\": [{\"colorbar\": {\"outlinewidth\": 0, \"ticks\": \"\"}, \"colorscale\": [[0.0, \"#0d0887\"], [0.1111111111111111, \"#46039f\"], [0.2222222222222222, \"#7201a8\"], [0.3333333333333333, \"#9c179e\"], [0.4444444444444444, \"#bd3786\"], [0.5555555555555556, \"#d8576b\"], [0.6666666666666666, \"#ed7953\"], [0.7777777777777778, \"#fb9f3a\"], [0.8888888888888888, \"#fdca26\"], [1.0, \"#f0f921\"]], \"type\": \"histogram2d\"}], \"histogram2dcontour\": [{\"colorbar\": {\"outlinewidth\": 0, \"ticks\": \"\"}, \"colorscale\": [[0.0, \"#0d0887\"], [0.1111111111111111, \"#46039f\"], [0.2222222222222222, \"#7201a8\"], [0.3333333333333333, \"#9c179e\"], [0.4444444444444444, \"#bd3786\"], [0.5555555555555556, \"#d8576b\"], [0.6666666666666666, \"#ed7953\"], [0.7777777777777778, \"#fb9f3a\"], [0.8888888888888888, \"#fdca26\"], [1.0, \"#f0f921\"]], \"type\": \"histogram2dcontour\"}], \"mesh3d\": [{\"colorbar\": {\"outlinewidth\": 0, \"ticks\": \"\"}, \"type\": \"mesh3d\"}], \"parcoords\": [{\"line\": {\"colorbar\": {\"outlinewidth\": 0, \"ticks\": \"\"}}, \"type\": \"parcoords\"}], \"pie\": [{\"automargin\": true, \"type\": \"pie\"}], \"scatter\": [{\"marker\": {\"colorbar\": {\"outlinewidth\": 0, \"ticks\": \"\"}}, \"type\": \"scatter\"}], \"scatter3d\": [{\"line\": {\"colorbar\": {\"outlinewidth\": 0, \"ticks\": \"\"}}, \"marker\": {\"colorbar\": {\"outlinewidth\": 0, \"ticks\": \"\"}}, \"type\": \"scatter3d\"}], \"scattercarpet\": [{\"marker\": {\"colorbar\": {\"outlinewidth\": 0, \"ticks\": \"\"}}, \"type\": \"scattercarpet\"}], \"scattergeo\": [{\"marker\": {\"colorbar\": {\"outlinewidth\": 0, \"ticks\": \"\"}}, \"type\": \"scattergeo\"}], \"scattergl\": [{\"marker\": {\"colorbar\": {\"outlinewidth\": 0, \"ticks\": \"\"}}, \"type\": \"scattergl\"}], \"scattermapbox\": [{\"marker\": {\"colorbar\": {\"outlinewidth\": 0, \"ticks\": \"\"}}, \"type\": \"scattermapbox\"}], \"scatterpolar\": [{\"marker\": {\"colorbar\": {\"outlinewidth\": 0, \"ticks\": \"\"}}, \"type\": \"scatterpolar\"}], \"scatterpolargl\": [{\"marker\": {\"colorbar\": {\"outlinewidth\": 0, \"ticks\": \"\"}}, \"type\": \"scatterpolargl\"}], \"scatterternary\": [{\"marker\": {\"colorbar\": {\"outlinewidth\": 0, \"ticks\": \"\"}}, \"type\": \"scatterternary\"}], \"surface\": [{\"colorbar\": {\"outlinewidth\": 0, \"ticks\": \"\"}, \"colorscale\": [[0.0, \"#0d0887\"], [0.1111111111111111, \"#46039f\"], [0.2222222222222222, \"#7201a8\"], [0.3333333333333333, \"#9c179e\"], [0.4444444444444444, \"#bd3786\"], [0.5555555555555556, \"#d8576b\"], [0.6666666666666666, \"#ed7953\"], [0.7777777777777778, \"#fb9f3a\"], [0.8888888888888888, \"#fdca26\"], [1.0, \"#f0f921\"]], \"type\": \"surface\"}], \"table\": [{\"cells\": {\"fill\": {\"color\": \"#EBF0F8\"}, \"line\": {\"color\": \"white\"}}, \"header\": {\"fill\": {\"color\": \"#C8D4E3\"}, \"line\": {\"color\": \"white\"}}, \"type\": \"table\"}]}, \"layout\": {\"annotationdefaults\": {\"arrowcolor\": \"#2a3f5f\", \"arrowhead\": 0, \"arrowwidth\": 1}, \"coloraxis\": {\"colorbar\": {\"outlinewidth\": 0, \"ticks\": \"\"}}, \"colorscale\": {\"diverging\": [[0, \"#8e0152\"], [0.1, \"#c51b7d\"], [0.2, \"#de77ae\"], [0.3, \"#f1b6da\"], [0.4, \"#fde0ef\"], [0.5, \"#f7f7f7\"], [0.6, \"#e6f5d0\"], [0.7, \"#b8e186\"], [0.8, \"#7fbc41\"], [0.9, \"#4d9221\"], [1, \"#276419\"]], \"sequential\": [[0.0, \"#0d0887\"], [0.1111111111111111, \"#46039f\"], [0.2222222222222222, \"#7201a8\"], [0.3333333333333333, \"#9c179e\"], [0.4444444444444444, \"#bd3786\"], [0.5555555555555556, \"#d8576b\"], [0.6666666666666666, \"#ed7953\"], [0.7777777777777778, \"#fb9f3a\"], [0.8888888888888888, \"#fdca26\"], [1.0, \"#f0f921\"]], \"sequentialminus\": [[0.0, \"#0d0887\"], [0.1111111111111111, \"#46039f\"], [0.2222222222222222, \"#7201a8\"], [0.3333333333333333, \"#9c179e\"], [0.4444444444444444, \"#bd3786\"], [0.5555555555555556, \"#d8576b\"], [0.6666666666666666, \"#ed7953\"], [0.7777777777777778, \"#fb9f3a\"], [0.8888888888888888, \"#fdca26\"], [1.0, \"#f0f921\"]]}, \"colorway\": [\"#636efa\", \"#EF553B\", \"#00cc96\", \"#ab63fa\", \"#FFA15A\", \"#19d3f3\", \"#FF6692\", \"#B6E880\", \"#FF97FF\", \"#FECB52\"], \"font\": {\"color\": \"#2a3f5f\"}, \"geo\": {\"bgcolor\": \"white\", \"lakecolor\": \"white\", \"landcolor\": \"#E5ECF6\", \"showlakes\": true, \"showland\": true, \"subunitcolor\": \"white\"}, \"hoverlabel\": {\"align\": \"left\"}, \"hovermode\": \"closest\", \"mapbox\": {\"style\": \"light\"}, \"paper_bgcolor\": \"white\", \"plot_bgcolor\": \"#E5ECF6\", \"polar\": {\"angularaxis\": {\"gridcolor\": \"white\", \"linecolor\": \"white\", \"ticks\": \"\"}, \"bgcolor\": \"#E5ECF6\", \"radialaxis\": {\"gridcolor\": \"white\", \"linecolor\": \"white\", \"ticks\": \"\"}}, \"scene\": {\"xaxis\": {\"backgroundcolor\": \"#E5ECF6\", \"gridcolor\": \"white\", \"gridwidth\": 2, \"linecolor\": \"white\", \"showbackground\": true, \"ticks\": \"\", \"zerolinecolor\": \"white\"}, \"yaxis\": {\"backgroundcolor\": \"#E5ECF6\", \"gridcolor\": \"white\", \"gridwidth\": 2, \"linecolor\": \"white\", \"showbackground\": true, \"ticks\": \"\", \"zerolinecolor\": \"white\"}, \"zaxis\": {\"backgroundcolor\": \"#E5ECF6\", \"gridcolor\": \"white\", \"gridwidth\": 2, \"linecolor\": \"white\", \"showbackground\": true, \"ticks\": \"\", \"zerolinecolor\": \"white\"}}, \"shapedefaults\": {\"line\": {\"color\": \"#2a3f5f\"}}, \"ternary\": {\"aaxis\": {\"gridcolor\": \"white\", \"linecolor\": \"white\", \"ticks\": \"\"}, \"baxis\": {\"gridcolor\": \"white\", \"linecolor\": \"white\", \"ticks\": \"\"}, \"bgcolor\": \"#E5ECF6\", \"caxis\": {\"gridcolor\": \"white\", \"linecolor\": \"white\", \"ticks\": \"\"}}, \"title\": {\"x\": 0.05}, \"xaxis\": {\"automargin\": true, \"gridcolor\": \"white\", \"linecolor\": \"white\", \"ticks\": \"\", \"title\": {\"standoff\": 15}, \"zerolinecolor\": \"white\", \"zerolinewidth\": 2}, \"yaxis\": {\"automargin\": true, \"gridcolor\": \"white\", \"linecolor\": \"white\", \"ticks\": \"\", \"title\": {\"standoff\": 15}, \"zerolinecolor\": \"white\", \"zerolinewidth\": 2}}}, \"xaxis\": {\"anchor\": \"y\", \"domain\": [0.0, 1.0], \"title\": {\"text\": \"Model_year\"}}, \"yaxis\": {\"anchor\": \"x\", \"domain\": [0.0, 1.0], \"title\": {\"text\": \"Price\"}}},\n",
              "                        {\"responsive\": true}\n",
              "                    ).then(function(){\n",
              "                            \n",
              "var gd = document.getElementById('0b9adedb-b939-4bd9-93f8-c23cb66fdaa4');\n",
              "var x = new MutationObserver(function (mutations, observer) {{\n",
              "        var display = window.getComputedStyle(gd).display;\n",
              "        if (!display || display === 'none') {{\n",
              "            console.log([gd, 'removed!']);\n",
              "            Plotly.purge(gd);\n",
              "            observer.disconnect();\n",
              "        }}\n",
              "}});\n",
              "\n",
              "// Listen for the removal of the full notebook cells\n",
              "var notebookContainer = gd.closest('#notebook-container');\n",
              "if (notebookContainer) {{\n",
              "    x.observe(notebookContainer, {childList: true});\n",
              "}}\n",
              "\n",
              "// Listen for the clearing of the current output cell\n",
              "var outputEl = gd.closest('.output');\n",
              "if (outputEl) {{\n",
              "    x.observe(outputEl, {childList: true});\n",
              "}}\n",
              "\n",
              "                        })\n",
              "                };\n",
              "                \n",
              "            </script>\n",
              "        </div>\n",
              "</body>\n",
              "</html>"
            ]
          },
          "metadata": {
            "tags": []
          }
        }
      ]
    },
    {
      "cell_type": "code",
      "metadata": {
        "id": "wS_pYWvLMiIz"
      },
      "source": [
        ""
      ],
      "execution_count": 2144,
      "outputs": []
    },
    {
      "cell_type": "code",
      "metadata": {
        "colab": {
          "base_uri": "https://localhost:8080/",
          "height": 389
        },
        "id": "V0N02BqVMiIz",
        "outputId": "cdc41a3c-4dbb-4afb-8bf1-42a497a91ae7"
      },
      "source": [
        "make_boxplot('Model_year')"
      ],
      "execution_count": 2145,
      "outputs": [
        {
          "output_type": "display_data",
          "data": {
            "image/png": "[encoded data removed]",
            "text/plain": [
              "<Figure size 576x432 with 1 Axes>"
            ]
          },
          "metadata": {
            "tags": [],
            "needs_background": "light"
          }
        }
      ]
    },
    {
      "cell_type": "code",
      "metadata": {
        "colab": {
          "base_uri": "https://localhost:8080/",
          "height": 389
        },
        "id": "yU-aL_yYMiIz",
        "outputId": "52ddeb88-52a4-4f77-da73-7c33d5638ac4"
      },
      "source": [
        "make_boxplot('Engine_size(cc)')"
      ],
      "execution_count": 2146,
      "outputs": [
        {
          "output_type": "display_data",
          "data": {
            "image/png": "[encoded data removed]",
            "text/plain": [
              "<Figure size 576x432 with 1 Axes>"
            ]
          },
          "metadata": {
            "tags": [],
            "needs_background": "light"
          }
        }
      ]
    },
    {
      "cell_type": "code",
      "metadata": {
        "colab": {
          "base_uri": "https://localhost:8080/",
          "height": 389
        },
        "id": "1iIJWcu2MiI0",
        "outputId": "5bbae7c5-e536-43f0-cb04-4cf69b52126c"
      },
      "source": [
        "make_boxplot('Lot_no')"
      ],
      "execution_count": 2147,
      "outputs": [
        {
          "output_type": "display_data",
          "data": {
            "image/png": "[encoded data removed]",
            "text/plain": [
              "<Figure size 576x432 with 1 Axes>"
            ]
          },
          "metadata": {
            "tags": [],
            "needs_background": "light"
          }
        }
      ]
    },
    {
      "cell_type": "code",
      "metadata": {
        "colab": {
          "base_uri": "https://localhost:8080/",
          "height": 388
        },
        "id": "jQCDp2BkMiI0",
        "outputId": "60397e18-8222-42ec-cb51-9c498b9f7b1d"
      },
      "source": [
        "make_boxplot('Kilometer')"
      ],
      "execution_count": 2148,
      "outputs": [
        {
          "output_type": "display_data",
          "data": {
            "image/png": "[encoded data removed]",
            "text/plain": [
              "<Figure size 576x432 with 1 Axes>"
            ]
          },
          "metadata": {
            "tags": [],
            "needs_background": "light"
          }
        }
      ]
    },
    {
      "cell_type": "code",
      "metadata": {
        "colab": {
          "base_uri": "https://localhost:8080/",
          "height": 542
        },
        "id": "ZaYfIUdeN_Hr",
        "outputId": "c6594b5a-6fb7-4db7-ead4-4cb3357c79be"
      },
      "source": [
        "scatters('Kilometer','Price')"
      ],
      "execution_count": 2149,
      "outputs": [
        {
          "output_type": "display_data",
          "data": {
            "text/html": [
              "<html>\n",
              "<head><meta charset=\"utf-8\" /></head>\n",
              "<body>\n",
              "    <div>\n",
              "            <script src=\"https://cdnjs.cloudflare.com/ajax/libs/mathjax/2.7.5/MathJax.js?config=TeX-AMS-MML_SVG\"></script><script type=\"text/javascript\">if (window.MathJax) {MathJax.Hub.Config({SVG: {font: \"STIX-Web\"}});}</script>\n",
              "                <script type=\"text/javascript\">window.PlotlyConfig = {MathJaxConfig: 'local'};</script>\n",
              "        <script src=\"https://cdn.plot.ly/plotly-latest.min.js\"></script>    \n",
              "            <div id=\"fc19168f-ddd1-440c-a95d-d064d50ad6a5\" class=\"plotly-graph-div\" style=\"height:525px; width:100%;\"></div>\n",
              "            <script type=\"text/javascript\">\n",
              "                \n",
              "                    window.PLOTLYENV=window.PLOTLYENV || {};\n",
              "                    \n",
              "                if (document.getElementById(\"fc19168f-ddd1-440c-a95d-d064d50ad6a5\")) {\n",
              "                    Plotly.newPlot(\n",
              "                        'fc19168f-ddd1-440c-a95d-d064d50ad6a5',\n",
              "                        [{\"hoverlabel\": {\"namelength\": 0}, \"hovertemplate\": \"Kilometer=%{x}<br>Price=%{y}\", \"legendgroup\": \"\", \"marker\": {\"color\": \"#636efa\", \"symbol\": \"circle\"}, \"mode\": \"markers\", \"name\": \"\", \"showlegend\": false, \"type\": \"scattergl\", \"x\": [200.0, 100.0, 42000.0, 51000.0, 38000.0, 15000.0, 36800.0, 26000.0, 70000.0, 45000.0, 45000.0, 17000.0, 40000.0, 27000.0, 40000.0, 34000.0, 36000.0, 35000.0, 53000.0, 30000.0, 41000.0, 62000.0, 50500.0, 34500.0, 30000.0, 48000.0, 38000.0, 53000.0, 51000.0, 52000.0, 46000.0, 30000.0, 35000.0, 40000.0, 25000.0, 35000.0, 52000.0, 60000.0, 40000.0, 34000.0, 50000.0, 3800.0, 30000.0, 61500.0, 25000.0, 48000.0, 30000.0, 40000.0, 45000.0, 43000.0, 13000.0, 26000.0, 32000.0, 26000.0, 34000.0, 28000.0, 19000.0, 35000.0, 30000.0, 50000.0, 9500.0, 42083.0, 42000.0, 22000.0, 10000.0, 18300.0, 26000.0, 20000.0, 60000.0, 28500.0, 79000.0, 47000.0, 30000.0, 41000.0, 60000.0, 16000.0, 37000.0, 72000.0, 47000.0, 31000.0, 7000.0, 40000.0, 33000.0, 40000.0, 35000.0, 43000.0, 16401.0, 12800.0, 52000.0, 41500.0, 23500.0, 30000.0, 5000.0, 55000.0, 52000.0, 12300.0, 55000.0, 44000.0, 32000.0, 42500.0, 25000.0, 4500.0, 16000.0, 34500.0, 20000.0, 39000.0, 20000.0, 20000.0, 8000.0, 40500.0, 42500.0, 47500.0, 18000.0, 33000.0, 25000.0, 22000.0, 26450.0, 42000.0, 7000.0, 11000.0, 38500.0, 18000.0, 35000.0, 22000.0, 40000.0, 29000.0, 28000.0, 20000.0, 31000.0, 36000.0, 300.0, 26000.0, 600.0, 30000.0, 60000.0, 27500.0, 32000.0, 300.0, 4300.0, 32000.0, 370.0, 5185.0, 31000.0, 4900.0, 1700.0, 2400.0, 42000.0, 2400.0, 21000.0, 45000.0, 16000.0, 27000.0, 13000.0, 23000.0, 30000.0, 17000.0, 35000.0, 23000.0, 20000.0, 35000.0, 40000.0, 22000.0, 35000.0, 25000.0, 35000.0, 5000.0, 18000.0, 23000.0, 6000.0, 23500.0, 4200.0, 22000.0, 6500.0, 14000.0, 6400.0, 6000.0, 35000.0, 27100.0, 24000.0, 4000.0, 25000.0, 29000.0, 26000.0, 9100.0, 22000.0, 23000.0, 27100.0, 13000.0, 29000.0, 10000.0, 20000.0, 29000.0, 15800.0, 40000.0, 22000.0, 12000.0, 21000.0, 2200.0, 25000.0, 10500.0, 18000.0, 17000.0, 14000.0, 14000.0, 20000.0, 27000.0, 8900.0, 8000.0, 63000.0, 37000.0, 37000.0, 40000.0, 13600.0, 45606.0, 52000.0, 2015.0, 42000.0, 37000.0, 57000.0, 44000.0, 29000.0, 50010.0, 55000.0, 19000.0, 50000.0, 10000.0, 27600.0, 49000.0, 50010.0, 55000.0, 49000.0, 4500.0, 33000.0, 40000.0, 38000.0, 41000.0, 55000.0, 20000.0, 45000.0, 47900.0, 27000.0, 20000.0, 15000.0, 72000.0, 32100.0, 7231.0, 30000.0, 50000.0, 36000.0, 12800.0, 45000.0, 37000.0, 35000.0, 31000.0, 35000.0, 28000.0, 45000.0, 29000.0, 62000.0, 40000.0, 40000.0, 40000.0, 45000.0, 80000.0, 31000.0, 41000.0, 70000.0, 50000.0, 47000.0, 37000.0, 75000.0, 50000.0, 30000.0, 50000.0, 45000.0, 45000.0, 29000.0, 38000.0, 36000.0, 39000.0, 28000.0, 45000.0, 82000.0, 41000.0, 52000.0, 25000.0, 40000.0, 31000.0, 38000.0, 9900.0, 60000.0, 25000.0, 15000.0, 38600.0, 34000.0, 59000.0, 20000.0, 27000.0, 27000.0, 11000.0, 27000.0, 43000.0, 65000.0, 45000.0, 60000.0, 40000.0, 27005.0, 42000.0, 7500.0, 65000.0, 36000.0, 31000.0, 45000.0, 18000.0, 47000.0, 45000.0, 60000.0, 65000.0, 50000.0, 31000.0, 25000.0, 33000.0, 48000.0, 38255.0, 34000.0, 53000.0, 49000.0, 5200.0, 35000.0, 30000.0, 34000.0, 20000.0, 25000.0, 74000.0, 32000.0, 44500.0, 35000.0, 65700.0, 38000.0, 59000.0, 35600.0, 55000.0, 43000.0, 32400.0, 13000.0, 46000.0, 39000.0, 51000.0, 32400.0, 5200.0, 53000.0, 57000.0, 15500.0, 67000.0, 56700.0, 39000.0, 37000.0, 77000.0, 27000.0, 40000.0, 9000.0, 23000.0, 26600.0, 27000.0, 79000.0, 30000.0, 10000.0, 42000.0, 41000.0, 80000.0, 25000.0, 18000.0, 52000.0, 22000.0, 46000.0, 56581.0, 49723.0, 34000.0, 38000.0, 42000.0, 46000.0, 27000.0, 40000.0, 32000.0, 26000.0, 40000.0, 50000.0, 32000.0, 45000.0, 30000.0, 50000.0, 21000.0, 56000.0, 26000.0, 25500.0, 28000.0, 29000.0, 43000.0, 33000.0, 40000.0, 40000.0, 40000.0, 40000.0, 43000.0, 26000.0, 31000.0, 16000.0, 23000.0, 14000.0, 37000.0, 26000.0, 30000.0, 30000.0, 14000.0, 40000.0, 15000.0, 60000.0, 32000.0, 30000.0, 30000.0, 25000.0, 50000.0, 53000.0, 43000.0, 50000.0, 37000.0, 50000.0, 50000.0, 29000.0, 52000.0, 25000.0, 30000.0, 64400.0, 13000.0, 40000.0, 50000.0, 35000.0, 32000.0, 38000.0, 30000.0, 37000.0, 53000.0, 34000.0, 35000.0, 35000.0, 40000.0, 37000.0, 22500.0, 42000.0, 55000.0, 400.0, 45000.0, 35000.0, 63000.0, 4500.0, 42000.0, 40000.0, 5500.0, 25000.0, 25000.0, 40000.0, 28000.0, 25000.0, 26000.0, 25000.0, 25000.0, 60000.0, 21000.0, 20000.0, 25000.0, 50000.0, 16000.0, 1991.0, 4000.0, 25000.0, 1500.0, 35000.0, 65000.0, 40000.0, 29000.0, 49000.0, 35000.0, 23000.0, 35000.0, 16000.0, 40000.0, 50000.0, 46000.0, 40000.0, 23000.0, 40000.0, 59000.0, 40000.0, 30000.0, 38000.0, 57000.0, 10900.0, 18000.0, 19200.0, 45000.0, 42000.0, 70000.0, 18000.0, 20000.0, 27000.0, 19200.0, 41000.0, 49000.0, 30000.0, 43000.0, 39000.0, 54000.0, 30400.0, 30000.0, 29000.0, 68600.0, 6000.0, 22000.0, 35500.0, 30450.0, 40000.0, 30000.0, 41000.0, 30000.0, 46000.0, 30000.0, 29000.0, 22000.0, 35000.0, 36000.0, 35000.0, 45000.0, 30000.0, 40000.0, 15000.0, 47000.0, 44000.0, 50000.0, 13000.0, 29000.0, 22000.0, 30000.0, 39000.0, 14000.0, 17000.0, 26000.0, 28000.0, 18000.0, 70000.0, 51000.0, 23000.0, 51000.0, 37000.0, 42000.0, 40000.0, 74000.0, 14000.0, 38000.0, 41000.0, 34000.0, 5000.0, 27900.0, 26000.0, 30000.0, 46000.0, 38000.0, 54000.0, 40000.0, 26000.0, 22000.0, 41000.0, 55000.0, 20000.0, 26000.0, 45000.0, 36000.0, 40000.0, 29000.0, 51000.0, 35000.0, 30000.0, 36000.0, 31200.0, 40000.0, 41300.0, 45000.0, 11000.0, 46700.0, 32000.0, 33000.0, 45000.0, 48000.0, 30000.0, 42000.0, 54000.0, 33000.0, 40000.0, 30000.0, 18000.0, 29000.0, 40000.0, 36000.0, 50000.0, 37000.0, 39000.0, 41000.0, 35000.0, 50000.0, 45000.0, 49000.0, 22000.0, 39000.0, 37000.0, 45000.0, 50000.0, 55000.0, 34000.0, 35000.0, 36000.0, 23000.0, 36000.0, 18000.0, 59000.0, 55000.0, 32000.0, 25000.0, 27000.0, 25100.0, 11700.0, 31000.0, 40000.0, 35000.0, 55000.0, 30000.0, 50000.0, 40000.0, 43000.0, 32000.0, 25000.0, 37000.0, 40000.0, 32000.0, 33000.0, 35000.0, 32000.0, 7100.0, 37000.0, 6500.0, 40000.0, 40000.0, 58000.0, 32000.0, 37000.0, 50000.0, 30000.0, 28000.0, 14000.0, 3000.0, 31442.0, 47000.0, 9000.0, 27000.0, 30000.0, 44000.0, 9000.0, 24000.0, 48000.0, 37000.0, 58000.0, 27000.0, 26000.0, 36000.0, 41000.0, 32000.0, 44000.0, 50000.0, 8000.0, 38000.0, 49000.0, 50000.0, 38000.0, 23000.0, 80000.0, 39000.0, 34000.0, 37000.0, 39000.0, 46000.0, 36000.0, 35600.0, 26000.0, 35000.0, 28000.0, 22000.0, 33000.0, 23000.0, 45000.0, 17000.0, 27950.0, 34000.0, 40000.0, 64272.0, 9000.0, 11000.0, 27000.0, 59000.0, 38000.0, 48000.0, 50000.0, 34000.0, 28000.0, 45890.0, 31000.0, 33000.0, 23000.0, 32000.0, 21000.0, 66000.0, 60000.0, 45000.0, 50000.0, 52000.0, 30000.0, 28000.0, 49000.0, 36195.0, 81000.0, 35000.0, 50000.0, 42000.0, 32000.0, 16000.0, 85000.0, 32000.0, 40000.0, 43000.0, 52000.0, 34000.0, 7000.0, 14135.0, 44000.0, 32000.0, 24000.0, 14000.0, 32000.0, 35000.0, 32000.0, 35000.0, 43000.0, 34000.0, 15000.0, 78000.0, 31000.0, 12000.0, 32000.0, 30000.0, 46000.0, 59336.0, 18000.0, 26000.0, 63100.0, 34000.0, 35000.0, 37000.0, 22000.0, 37000.0, 74000.0, 70000.0, 47000.0, 37000.0, 16630.0, 11000.0, 42000.0, 65000.0, 23000.0, 27000.0, 23000.0, 37000.0, 23000.0, 35000.0, 11000.0, 23000.0, 17000.0, 26000.0, 57000.0, 36000.0, 43000.0, 31000.0, 35000.0, 12500.0, 30000.0, 25000.0, 17000.0, 41000.0, 16000.0, 60000.0, 36000.0, 33000.0, 55000.0, 31800.0, 37000.0, 65000.0, 35000.0, 6660.0, 34000.0, 3500.0, 34000.0, 30000.0, 9000.0, 53000.0, 26000.0, 27000.0, 37000.0, 45000.0, 25000.0, 20000.0, 24000.0, 22000.0, 35000.0, 19000.0, 39000.0, 15000.0, 15000.0, 40000.0, 9500.0, 3700.0, 32000.0, 27000.0, 18000.0, 38000.0, 9000.0, 45000.0, 51000.0, 24500.0, 35000.0, 58000.0, 18000.0, 80000.0, 6700.0, 80000.0, 35000.0, 1200.0, 27050.0, 30000.0, 35000.0, 38000.0, 80000.0, 40000.0, 58000.0, 19000.0, 29000.0, 32000.0, 40000.0, 31000.0, 74000.0, 62000.0, 23000.0, 36000.0, 28000.0, 57000.0, 23000.0, 25000.0, 42000.0, 12700.0, 67000.0, 25800.0, 37500.0, 37000.0, 43000.0, 29000.0, 50000.0, 37500.0, 29000.0, 45000.0, 51115.0, 58400.0, 17000.0, 45000.0, 29660.0, 28338.0, 29376.0, 43623.0, 51000.0, 48000.0, 66000.0, 59000.0, 34859.0, 43000.0, 65000.0, 55000.0, 47500.0, 50000.0, 63000.0, 35000.0, 27500.0, 75000.0, 65000.0, 23000.0, 62500.0, 55000.0, 55000.0, 40000.0, 37000.0, 25000.0, 16000.0, 50000.0, 70000.0, 29000.0, 45000.0, 27000.0, 57000.0, 35000.0, 50000.0, 24000.0, 50000.0, 45000.0, 56700.0, 69000.0, 25000.0, 57000.0, 55000.0, 40000.0, 40000.0, 54000.0, 62000.0, 35400.0, 75000.0, 48000.0, 40000.0, 37000.0, 50000.0, 32000.0, 40000.0, 40000.0, 62000.0, 42000.0, 30000.0, 48000.0, 47251.0, 66000.0, 20800.0, 22000.0, 52000.0, 35000.0, 35000.0, 48074.0, 26000.0, 35000.0, 80000.0, 57000.0, 85000.0, 12500.0, 48000.0, 45000.0, 31000.0, 50000.0, 28500.0, 30000.0, 30450.0, 54000.0, 42000.0, 48000.0, 42000.0, 30000.0, 53000.0, 22000.0, 17500.0, 73000.0, 60000.0, 70000.0, 28000.0, 45000.0, 60000.0, 60000.0, 60300.0, 71118.0, 44436.0, 31000.0, 16000.0, 28000.0, 1000.0, 20000.0, 3200.0, 6000.0, 3200.0, 36000.0, 52000.0, 18000.0, 55000.0, 41000.0, 38000.0, 76342.0, 70000.0, 35000.0, 65000.0, 34000.0, 37000.0, 55000.0, 55000.0, 1500.0, 58000.0, 29500.0, 45000.0, 35000.0, 34000.0, 45000.0, 52000.0, 34000.0, 15000.0, 56000.0, 52000.0, 60000.0, 33000.0, 23000.0, 56000.0, 38000.0, 34000.0, 35000.0, 38600.0, 56000.0, 25000.0, 3000.0, 3500.0, 52000.0, 48000.0, 45000.0, 300.0, 8000.0, 18000.0, 39000.0, 60000.0, 31000.0, 21000.0, 21000.0, 26000.0, 39000.0, 40500.0, 34000.0, 23000.0, 18000.0, 57500.0, 37000.0, 8000.0, 46000.0, 20000.0, 35000.0, 38000.0, 20000.0, 34000.0, 37000.0, 18000.0, 41000.0, 20000.0, 13000.0, 10000.0, 26000.0, 11000.0, 50000.0, 20000.0, 40000.0, 25800.0, 18000.0, 21000.0, 42000.0, 85000.0, 26000.0, 12000.0, 27000.0, 20800.0, 22000.0, 17000.0, 30000.0, 20000.0, 35500.0, 51000.0, 22000.0, 17000.0, 32000.0, 52000.0, 68990.0, 68000.0, 34000.0, 35000.0, 51500.0, 40000.0, 35000.0, 15000.0, 40000.0, 60000.0, 55000.0, 14000.0, 80000.0, 18000.0, 20000.0, 50000.0, 40000.0, 35000.0, 25000.0, 33000.0, 37000.0, 40000.0, 20000.0, 49000.0, 22000.0, 25000.0, 27000.0, 35000.0, 20000.0, 46500.0, 25000.0, 18000.0, 25000.0, 35000.0, 8000.0, 12000.0, 21000.0, 24000.0, 32000.0, 13000.0, 34000.0, 50000.0, 32000.0, 48700.0, 18000.0, 7000.0, 51000.0, 41000.0, 19000.0, 22000.0, 14500.0, 27000.0, 31000.0, 26000.0, 6000.0, 18373.0, 14000.0, 21000.0, 40000.0, 23000.0, 30000.0, 1800.0, 31000.0, 28000.0, 33333.0, 32000.0, 35000.0, 20000.0, 1200.0, 58000.0, 69000.0, 36000.0, 39000.0, 38000.0, 22000.0, 18000.0, 3800.0, 34000.0, 35000.0, 46000.0, 45000.0, 40000.0, 46000.0, 32000.0, 55000.0, 40000.0, 15500.0, 28000.0, 40000.0, 56000.0, 12880.0, 68700.0, 45000.0, 34000.0, 40000.0, 33000.0, 20000.0, 17000.0, 20000.0, 35000.0, 34000.0, 30000.0, 17000.0, 21000.0, 18000.0, 17000.0, 20000.0, 40000.0, 5500.0, 12000.0, 41000.0, 39000.0, 45000.0, 40000.0, 17000.0, 23000.0, 40000.0, 35000.0, 40000.0, 23000.0, 32000.0, 25000.0, 23000.0, 13000.0, 15000.0, 37000.0, 73000.0, 42000.0, 33300.0, 65000.0, 38000.0, 51000.0, 25000.0, 34000.0, 12000.0, 45000.0, 6600.0, 25000.0, 48000.0, 20000.0, 38000.0, 42000.0, 55000.0, 40000.0, 31000.0, 38000.0, 32000.0, 25000.0, 36000.0, 33000.0, 39000.0, 35000.0, 4000.0, 35000.0, 50000.0, 20000.0, 10000.0, 3400.0, 17000.0, 34000.0, 7000.0, 37000.0, 16000.0, 26000.0, 5900.0, 33000.0, 36000.0, 24000.0, 27000.0, 50000.0, 35000.0, 25000.0, 55000.0, 30000.0, 25000.0, 50806.0, 39000.0, 31000.0, 17000.0, 45000.0, 34000.0, 50000.0, 25000.0, 28000.0, 75000.0, 14000.0, 31000.0, 37500.0, 43000.0, 52000.0, 75000.0, 40000.0, 40000.0, 24000.0, 24000.0, 19000.0, 41000.0, 45000.0, 13000.0, 15000.0, 35000.0, 40000.0, 30000.0, 12000.0, 5200.0, 58000.0, 9000.0, 40000.0, 24000.0, 39900.0, 69079.0, 9800.0, 36000.0, 28000.0, 9000.0, 67003.0, 33000.0, 16000.0, 61000.0, 26000.0, 21000.0, 58000.0, 53000.0, 26000.0, 46000.0, 85000.0, 39000.0, 53000.0, 42000.0, 38000.0, 24000.0, 17000.0, 39000.0, 39000.0, 79000.0, 39000.0, 30000.0, 46000.0, 56000.0, 43500.0, 30000.0, 29000.0, 31000.0, 12345.0, 19000.0, 48000.0, 32000.0, 64000.0, 57773.0, 61483.0, 43828.0, 19000.0, 37000.0, 58000.0, 42000.0, 45000.0, 35000.0, 42000.0, 65000.0, 32000.0, 49000.0, 50000.0, 54000.0, 22000.0, 18000.0, 40000.0, 47000.0, 53000.0, 57000.0, 53000.0, 45000.0, 40000.0, 13500.0, 35000.0, 33000.0, 43000.0, 40000.0, 29000.0, 9000.0, 7100.0, 34216.0, 40000.0, 65000.0, 36000.0, 48000.0, 70000.0, 35000.0, 60000.0, 41000.0, 20000.0, 62000.0, 52000.0, 5500.0, 16300.0, 20000.0, 44000.0, 40000.0, 36000.0, 8000.0, 52000.0, 10000.0, 33000.0, 52300.0, 60000.0, 5000.0, 55700.0, 13000.0, 40000.0, 40000.0, 25000.0, 25000.0, 35000.0, 45000.0, 40000.0, 23000.0, 30000.0, 76000.0, 22606.0, 75000.0, 19000.0, 36000.0, 11000.0, 32000.0, 6000.0, 21000.0, 43000.0, 35265.0, 60000.0, 31059.0, 73060.0, 15000.0, 60000.0, 55000.0, 40000.0, 38000.0, 72300.0, 31000.0, 20000.0, 35000.0, 64000.0, 15000.0, 32000.0, 70000.0, 15000.0, 69000.0, 75000.0, 54000.0, 11000.0, 67000.0, 85000.0, 42000.0, 35000.0, 52000.0, 40000.0, 7000.0, 50000.0, 31000.0, 42000.0, 42000.0, 37000.0, 38000.0, 53000.0, 38000.0, 64000.0, 69000.0, 50000.0, 40000.0, 45000.0, 13000.0, 70000.0, 40500.0, 38000.0, 29000.0, 45000.0, 29000.0, 70000.0, 69000.0, 50000.0, 37200.0, 33000.0, 67000.0, 45000.0, 70000.0, 8000.0, 23000.0, 44000.0, 60000.0, 40000.0, 45000.0, 8800.0, 35000.0, 80000.0, 28000.0, 55145.0, 60000.0, 32000.0, 35000.0, 40000.0, 30500.0, 31900.0, 32000.0, 11331.0, 27000.0, 30000.0, 35000.0, 40000.0, 43000.0, 51000.0, 27000.0, 35000.0, 26876.0, 10800.0, 27000.0, 28000.0, 15000.0, 25000.0, 32000.0, 43000.0, 23000.0, 25000.0, 58382.0, 21000.0, 13000.0, 27000.0, 25000.0, 50000.0, 24000.0, 30000.0, 28000.0, 23000.0, 24324.0, 10000.0, 24000.0, 19000.0, 36000.0, 23000.0, 22000.0, 21000.0, 19000.0, 17000.0, 14000.0, 17000.0, 30000.0, 10000.0, 20000.0, 6300.0, 20000.0, 9000.0, 8700.0, 7500.0, 6300.0, 19000.0, 14000.0], \"xaxis\": \"x\", \"y\": [975000, 3000000, 975000, 3000000, 1000000, 1425000, 1250000, 1475000, 1300000, 1150000, 925000, 1650000, 1100000, 975000, 975000, 1200000, 1075000, 1275000, 110000, 1450000, 1050000, 3500000, 1200000, 1450000, 1400000, 1450000, 1100000, 1100000, 3750000, 4000000, 1450000, 1200000, 1600000, 1050000, 1650000, 1400000, 1700000, 1350000, 1550000, 1050000, 1695000, 2000000, 1200000, 1300000, 1200000, 4200000, 1150000, 1350000, 1575000, 1425000, 2300000, 1600000, 1600000, 1200000, 1125000, 1725000, 2200000, 1500000, 4000000, 1325000, 1800000, 1800000, 1200000, 2300000, 2700000, 1499999, 2350000, 1800000, 550000, 1375000, 675000, 1425000, 1200000, 1250000, 1250000, 3300000, 2600000, 17000, 1450000, 1850000, 3100000, 2400000, 1400000, 2900000, 1450000, 2500000, 1700000, 1700000, 3100000, 2700000, 1500000, 260000, 3400000, 2250000, 3100000, 1850000, 1200000, 3000000, 1375000, 1850000, 2800000, 2080000, 1750000, 2400000, 1525000, 1300000, 1350000, 1550000, 200000, 1350000, 1525000, 1375000, 3550000, 1435000, 1325000, 3400000, 3800000, 1750000, 1475000, 2450000, 1425000, 1375000, 1250000, 1650000, 1450000, 1600000, 3275000, 1800000, 1350000, 1500000, 2380000, 1650000, 3999000, 1600000, 425000, 2300000, 1550000, 3000000, 2200000, 1574997, 3400000, 3700000, 1400000, 1950000, 2800000, 2350000, 1850000, 2350000, 1400000, 1450000, 1400000, 2650000, 1725000, 1600000, 3000000, 4150000, 1525000, 1575000, 1500000, 1775000, 1425000, 1725000, 1575000, 1650000, 1550000, 2000000, 1925000, 1650000, 2025000, 2700000, 2150000, 1650000, 3800000, 3250000, 3000000, 2000000, 1550000, 1425000, 1550000, 3800000, 1450000, 2000000, 1750000, 1675000, 1600000, 1475000, 1600000, 4000000, 1800000, 2300000, 2300000, 1850000, 1575000, 3000000, 1750000, 3500000, 1750000, 3350000, 1800000, 1950000, 4000000, 1700000, 3350000, 1650000, 1590000, 2850000, 3450000, 1000000, 1350000, 2400000, 2250000, 1650000, 1875000, 1800000, 1450000, 2800000, 1600000, 110000, 4151000, 3250000, 2325000, 1800000, 4200000, 2750000, 1250000, 2250000, 1775000, 3100000, 1800000, 4200000, 1775000, 3500000, 2150000, 2150000, 2150000, 2600000, 1425000, 1750000, 1475000, 1700000, 1800000, 3100000, 1750000, 1325000, 2550000, 3400000, 2000000, 1450000, 1200000, 3150000, 1400000, 1800000, 3000000, 1425000, 2650000, 2200000, 1450000, 2150000, 1700000, 950000, 1750000, 1250000, 1125000, 1050000, 2950000, 1450000, 1150000, 1350000, 600000, 1850000, 1720000, 1475000, 2775000, 1215000, 1425000, 1325000, 2950000, 2175000, 1875000, 2050000, 2800000, 1600000, 1950000, 1575000, 1250000, 1950000, 2250000, 1225000, 4150000, 2975000, 1050000, 3000000, 3100000, 1450000, 3000000, 3700000, 3700000, 1850000, 1850000, 4000000, 1900000, 2100000, 1000000, 1200000, 2400000, 2196000, 1850000, 1850000, 3200000, 1000000, 1525000, 4200000, 1450000, 2300000, 1089996, 1180000, 1150000, 625000, 1250000, 1475000, 1350000, 1650000, 1550000, 1675000, 1850000, 2600000, 1150000, 2455000, 1750000, 1380000, 1235000, 1325000, 2025000, 2500000, 1525000, 1450000, 1150000, 3150000, 1410000, 1099999, 1325000, 1125000, 1775000, 1725000, 2400000, 1275000, 1750000, 2650000, 1725000, 2400000, 1125000, 675000, 2375000, 1475000, 1135000, 1475000, 1650000, 2900000, 1650000, 1225000, 2950000, 1850000, 1425000, 1695000, 750000, 1700000, 1450000, 1585000, 1575000, 975000, 1300000, 1275000, 850000, 2100000, 1790000, 3100000, 1100000, 1175000, 1750000, 1575000, 1375000, 1700000, 1225000, 1525000, 775000, 1100000, 950000, 1775000, 3349000, 1275000, 1000000, 1775000, 2600000, 1575000, 1795000, 1775000, 1090000, 1540000, 1665000, 1425000, 900000, 1150000, 1850000, 1850000, 1600000, 1525000, 2450000, 1550000, 2375000, 1725000, 1500000, 1575000, 1775000, 1875000, 1150000, 2200000, 1200000, 1500000, 1575000, 1575000, 2400000, 725000, 850000, 1860000, 1300000, 1575000, 1225000, 1325000, 1650000, 900000, 1600000, 1575000, 1350000, 3100000, 1325000, 1075000, 1445000, 1325000, 1400000, 1800000, 1310000, 1175000, 1650000, 1600000, 1425000, 1275000, 1400000, 1345000, 1550000, 1050000, 3350000, 1150000, 2011, 1000000, 2000000, 1525000, 1025000, 2125000, 1600000, 1600000, 1350000, 1625000, 1500000, 1775000, 1550000, 1550000, 800000, 3100000, 1324999, 1600000, 1225000, 1875000, 2725000, 1170000, 1600000, 1400000, 1175000, 850000, 1575000, 1675000, 1525000, 1545000, 1675000, 1700000, 3199999, 1050000, 1150000, 2850000, 1225000, 1675000, 1435000, 1355000, 3300000, 1625000, 1360000, 1150000, 2455000, 1975000, 155000, 1175000, 1325000, 650000, 1850000, 1725000, 1725000, 1550000, 1850000, 1025000, 1550000, 3300000, 1325000, 2650000, 2000000, 1300000, 1650000, 2650000, 2300000, 2450000, 1650000, 2000000, 1100000, 1350000, 1450000, 2076000, 1575000, 1475000, 1250000, 1250000, 3500000, 1350000, 1725000, 1390000, 1850000, 700000, 2475000, 1100000, 1175000, 1175000, 2450000, 1250000, 2450000, 1300000, 1499999, 1400000, 1850000, 1250000, 1300000, 1775000, 825000, 3200000, 1675000, 725000, 1400000, 1175000, 1750000, 780000, 2450000, 1150000, 1150000, 1525000, 2000000, 1425000, 1225000, 1575000, 1625000, 1050000, 1000000, 1250000, 1725000, 1250000, 1175000, 3300000, 1250000, 1350000, 1550000, 1525000, 1750000, 1175000, 1025000, 1150000, 1680000, 1450000, 1475000, 1750000, 2450000, 1175000, 2150000, 3500000, 1250000, 1400000, 1250000, 1090000, 1850000, 1625000, 2600000, 1200000, 1750000, 1300000, 2450000, 1225000, 1025000, 1150000, 1550000, 1425000, 1150000, 1225000, 1550000, 1600000, 1300000, 3150000, 1520000, 1575000, 1705000, 1850000, 1100000, 1475000, 1750000, 1400000, 1824000, 1575000, 1075000, 1750000, 2850000, 1175000, 1275000, 1380000, 1350000, 1590000, 1450000, 1225000, 1360000, 1275000, 1050000, 1725000, 675000, 1200000, 950000, 1350000, 1825000, 1400000, 1275000, 1750000, 1775000, 1400000, 1725000, 1350000, 1200000, 2200000, 1400000, 1200000, 725000, 1400000, 1325000, 1100000, 1525000, 1590000, 2550000, 1700000, 1900000, 1325000, 1750000, 1725000, 1425000, 1050000, 2450000, 1800000, 1400000, 1225000, 750000, 3700000, 1750000, 1200000, 2400000, 1575000, 1333333, 1450000, 2154993, 1825000, 3400000, 900000, 1800000, 1325000, 2150000, 1350000, 1550000, 850000, 1350000, 1825000, 1400000, 1400000, 1650000, 1350000, 1350000, 1190000, 1500000, 1325000, 1500000, 1750000, 1525000, 1775000, 1550000, 3175000, 4000000, 2550000, 1700000, 1075000, 1675000, 1300000, 1200000, 845000, 1425000, 2900000, 1500000, 1500000, 1850000, 1575000, 1450000, 850000, 785000, 1175000, 3500000, 825000, 1750000, 1450000, 3700000, 3250000, 800000, 1225000, 925000, 1315000, 2700000, 1765000, 700000, 1825000, 1150000, 1050000, 925000, 1250000, 170000, 2300000, 3400000, 1625000, 1375000, 1375000, 1200000, 1225000, 1850000, 950000, 1849000, 1025000, 1650000, 750000, 1375000, 1425000, 1375000, 1625000, 785000, 800000, 1450000, 1625000, 1450000, 3250000, 1325000, 1530000, 1650000, 1235000, 1000000, 975000, 1140000, 1275000, 1950000, 1875000, 1175000, 850000, 1425000, 1750000, 1625000, 1195000, 1775000, 1450000, 1475000, 1825000, 1950000, 1625000, 1150000, 1550000, 2550000, 1395000, 1250000, 1425000, 1265000, 1290000, 1775000, 3450000, 1460000, 1050000, 1225000, 1575000, 1875000, 1625000, 1390000, 900000, 1425000, 2250000, 1300000, 2499000, 1375000, 1550000, 1425000, 1340000, 1700000, 1899999, 3300000, 850000, 1475000, 1650000, 1250000, 1900000, 750000, 1325000, 1225000, 1725000, 1950000, 1850000, 1525000, 1575000, 1990000, 1380000, 1325000, 1150000, 2350000, 850000, 2450000, 1550000, 1440000, 1450000, 2050000, 1000000, 2325000, 102500, 1050000, 1700000, 1350000, 1575000, 1875000, 1725000, 1400000, 1425000, 1450000, 1775000, 1240000, 1170000, 1515000, 1690000, 950000, 1050000, 2050000, 1150000, 1850000, 1000000, 1450000, 1425000, 3500000, 2100000, 1350000, 1650000, 1190000, 1250000, 1125000, 1385000, 1250000, 1400000, 1575000, 1225000, 1425000, 1000000, 1900000, 1250000, 1575000, 3600000, 1475000, 1600000, 3250000, 3700000, 2050000, 2175000, 870000, 4150000, 1050000, 1075000, 900000, 925000, 650000, 3200000, 1260000, 750000, 875000, 4099999, 625000, 2850000, 1050000, 1000000, 1075000, 1500000, 2375000, 1100000, 1100000, 1500000, 2850000, 1300000, 1225000, 1975000, 2300000, 2150000, 875000, 725000, 625000, 975000, 1450000, 750000, 1350000, 1225000, 2850000, 1275000, 300000, 950000, 800000, 2850000, 1100000, 1650000, 825000, 1750000, 1175000, 2000000, 2300000, 1475000, 1550000, 2900000, 850000, 880000, 4200000, 4200000, 3000000, 3000000, 1400000, 1150000, 1750000, 2499000, 1100000, 975000, 850000, 1475000, 1350000, 1650000, 1600000, 875000, 3000000, 2000000, 1600000, 1000000, 1450000, 3100000, 1500000, 3200000, 890000, 1175000, 1180000, 790000, 1600000, 1200000, 3100000, 1400000, 1600000, 1600000, 2600000, 975000, 950000, 2100000, 2200000, 2400000, 2600000, 3600000, 2600000, 2450000, 2600000, 3100000, 1225000, 2850000, 575000, 1725000, 1150000, 400000, 300000, 1500000, 550000, 675000, 117500, 710000, 350000, 975000, 1400000, 2479000, 750000, 2475000, 1900000, 1050000, 625000, 1900000, 1750000, 650000, 1025000, 1325000, 625000, 975000, 1000000, 525000, 2049000, 800000, 1150000, 700000, 2450000, 1479000, 1099000, 1025000, 1300000, 825000, 2199000, 2250000, 2300000, 1130000, 675000, 1850000, 2295000, 2350000, 1325000, 1399000, 925000, 1975000, 2250000, 2225000, 1500000, 1160000, 450000, 1225000, 1300000, 1875000, 1775000, 800000, 800000, 750000, 2450000, 875000, 1325000, 1000000, 1050000, 2475000, 2475000, 1050000, 1275000, 1200000, 1025000, 1250000, 1150000, 1750000, 1000000, 1125000, 2450000, 2175000, 625000, 1575000, 2300000, 975000, 2250000, 1875000, 775000, 1575000, 2275000, 1550000, 675000, 650000, 690000, 2250000, 1450000, 1325000, 600000, 1225000, 1375000, 1100000, 575000, 725000, 1525000, 600000, 2400000, 145000, 825000, 1000000, 1650000, 1275000, 1150000, 1200000, 775000, 1250000, 1500000, 875000, 915000, 900000, 1250000, 1250000, 1550000, 1150000, 2550000, 1525000, 1175000, 2650000, 2525000, 2375000, 800000, 1650000, 2490000, 1790000, 1150000, 1650000, 525000, 1375000, 2700000, 1275000, 1350000, 2350000, 600000, 1350000, 1350000, 1650000, 2350000, 1450000, 2175000, 1375000, 1025000, 1350000, 2575000, 925000, 1125000, 1225000, 2200000, 1400000, 825000, 1000000, 1390000, 2750000, 825000, 775000, 1650000, 725000, 1250000, 1275000, 2300000, 2600000, 1550000, 1475000, 1550000, 1525000, 1000000, 1300000, 1475000, 900000, 1175000, 1375000, 1250000, 1425000, 1175000, 2575000, 850000, 1199999, 1200000, 500000, 1200000, 1300000, 1350000, 1095000, 825000, 525000, 2000000, 1385000, 1200000, 2425000, 2350000, 2250000, 975000, 2650000, 1025000, 1600000, 1400000, 1450000, 1500000, 1150000, 1225000, 1575000, 950000, 1210000, 1450000, 1050000, 1225000, 1375000, 1425000, 2000000, 1425000, 950000, 1350000, 1600000, 650000, 1600000, 750000, 650000, 1350000, 2350000, 950000, 1150000, 1400000, 1275000, 1425000, 1450000, 1250000, 675000, 1500000, 900000, 650000, 1350000, 1650000, 736000, 1350000, 1245000, 650000, 2350000, 1175000, 1800000, 1350000, 1450000, 1425000, 910000, 1425000, 1450000, 1325000, 1200000, 925000, 2150000, 1400000, 850000, 1300000, 1400000, 450000, 1900000, 2125000, 785000, 950000, 1075000, 900000, 1275000, 1625000, 1375000, 850000, 1625000, 825000, 2500000, 800000, 660000, 1375000, 1625000, 715000, 1100000, 475000, 625000, 1900000, 900000, 800000, 775000, 950000, 1125000, 1050000, 2850000, 1950000, 1850000, 1500000, 2450000, 1300000, 2400000, 1250000, 1499000, 1925000, 1500000, 750000, 850000, 2500000, 1325000, 1800000, 1400000, 775000, 880000, 1200000, 800000, 1600000, 1600000, 990000, 1800000, 2150000, 1550000, 1100000, 1850000, 1800000, 1300000, 2300000, 2850000, 3250000, 2000000, 1500000, 1100000, 1375000, 2000000, 1875000, 1800000, 1690000, 1700000, 2975000, 2300000, 1775000, 2900000, 1750000, 1725000, 1800000, 1650000, 2200000, 1650000, 1800000, 1250000, 2000000, 1125000, 900000, 3600000, 4000000, 2250000, 1850000, 3600000, 3800000, 1275000, 2250000, 2675000, 1425000, 3600000, 4200000, 2750000, 4200000, 3800000, 1300000, 3300000, 1650000, 1625000, 3300000, 3650000, 1575000, 2200000, 2400000, 2675000, 550000, 1300000, 2100000, 1100000, 925000, 930000, 900000, 900000, 1300000, 450000, 1325000, 475000, 1050000, 450000, 600000, 1050000, 666666, 450000, 550000, 425000, 850000, 525000, 500000, 1200000, 575000, 1230000, 400000, 1350000, 400000, 2450000, 800000, 875000, 1350000, 475000, 1550000, 565000, 437000, 645000, 775000, 1300000, 1400000, 1400000, 675000, 475000, 770000, 1200000, 1250000, 800000, 700000, 200000, 380000, 1300000, 1350000, 700000, 610000, 575000, 525000, 1050000, 1575000, 2450000, 1125000, 850000, 2450000, 725000, 700000, 595000, 1600000, 725000, 2250000, 2600000, 3500000, 2850000, 3700000, 2700000, 2400000, 2400000, 3225000, 2650000, 3150000, 2900000, 2975000, 2900000, 3400000, 1075000, 2450000, 2750000, 3850000, 3000000, 1550000, 2475000, 3500000, 2825000, 3500000, 2825000, 2100000, 2300000, 1125000, 3250000, 3400000, 2175000, 1400000, 2850000, 3150000, 3200000, 2950000, 4075000, 4150000, 2500000, 2950000, 2825000, 2450000, 2875000, 3150000, 1475000, 3200000, 3400000, 2500000, 4150000, 3550000, 2075000, 2200000, 2500000, 3000000, 2000000, 2025000, 4100000, 1725000, 2500000, 2650000, 2025000, 3450000, 2800000, 2350000, 3480000, 2350000, 1975000, 2800000, 2450000, 2150000, 2000000, 1950000, 2350000, 2125000, 2100000, 2450000, 2650000, 2550000, 2250000, 1850000, 2400000, 2650000, 2475000, 3800000, 2100000, 3000000, 2100000, 2450000, 2350000, 2100000, 2550000, 2050000, 3000000, 2650000, 1995000, 2650000, 2000000, 2550000, 2150000, 2400000, 2700000, 3950000, 3555555], \"yaxis\": \"y\"}],\n",
              "                        {\"legend\": {\"tracegroupgap\": 0}, \"margin\": {\"t\": 60}, \"template\": {\"data\": {\"bar\": [{\"error_x\": {\"color\": \"#2a3f5f\"}, \"error_y\": {\"color\": \"#2a3f5f\"}, \"marker\": {\"line\": {\"color\": \"#E5ECF6\", \"width\": 0.5}}, \"type\": \"bar\"}], \"barpolar\": [{\"marker\": {\"line\": {\"color\": \"#E5ECF6\", \"width\": 0.5}}, \"type\": \"barpolar\"}], \"carpet\": [{\"aaxis\": {\"endlinecolor\": \"#2a3f5f\", \"gridcolor\": \"white\", \"linecolor\": \"white\", \"minorgridcolor\": \"white\", \"startlinecolor\": \"#2a3f5f\"}, \"baxis\": {\"endlinecolor\": \"#2a3f5f\", \"gridcolor\": \"white\", \"linecolor\": \"white\", \"minorgridcolor\": \"white\", \"startlinecolor\": \"#2a3f5f\"}, \"type\": \"carpet\"}], \"choropleth\": [{\"colorbar\": {\"outlinewidth\": 0, \"ticks\": \"\"}, \"type\": \"choropleth\"}], \"contour\": [{\"colorbar\": {\"outlinewidth\": 0, \"ticks\": \"\"}, \"colorscale\": [[0.0, \"#0d0887\"], [0.1111111111111111, \"#46039f\"], [0.2222222222222222, \"#7201a8\"], [0.3333333333333333, \"#9c179e\"], [0.4444444444444444, \"#bd3786\"], [0.5555555555555556, \"#d8576b\"], [0.6666666666666666, \"#ed7953\"], [0.7777777777777778, \"#fb9f3a\"], [0.8888888888888888, \"#fdca26\"], [1.0, \"#f0f921\"]], \"type\": \"contour\"}], \"contourcarpet\": [{\"colorbar\": {\"outlinewidth\": 0, \"ticks\": \"\"}, \"type\": \"contourcarpet\"}], \"heatmap\": [{\"colorbar\": {\"outlinewidth\": 0, \"ticks\": \"\"}, \"colorscale\": [[0.0, \"#0d0887\"], [0.1111111111111111, \"#46039f\"], [0.2222222222222222, \"#7201a8\"], [0.3333333333333333, \"#9c179e\"], [0.4444444444444444, \"#bd3786\"], [0.5555555555555556, \"#d8576b\"], [0.6666666666666666, \"#ed7953\"], [0.7777777777777778, \"#fb9f3a\"], [0.8888888888888888, \"#fdca26\"], [1.0, \"#f0f921\"]], \"type\": \"heatmap\"}], \"heatmapgl\": [{\"colorbar\": {\"outlinewidth\": 0, \"ticks\": \"\"}, \"colorscale\": [[0.0, \"#0d0887\"], [0.1111111111111111, \"#46039f\"], [0.2222222222222222, \"#7201a8\"], [0.3333333333333333, \"#9c179e\"], [0.4444444444444444, \"#bd3786\"], [0.5555555555555556, \"#d8576b\"], [0.6666666666666666, \"#ed7953\"], [0.7777777777777778, \"#fb9f3a\"], [0.8888888888888888, \"#fdca26\"], [1.0, \"#f0f921\"]], \"type\": \"heatmapgl\"}], \"histogram\": [{\"marker\": {\"colorbar\": {\"outlinewidth\": 0, \"ticks\": \"\"}}, \"type\": \"histogram\"}], \"histogram2d\": [{\"colorbar\": {\"outlinewidth\": 0, \"ticks\": \"\"}, \"colorscale\": [[0.0, \"#0d0887\"], [0.1111111111111111, \"#46039f\"], [0.2222222222222222, \"#7201a8\"], [0.3333333333333333, \"#9c179e\"], [0.4444444444444444, \"#bd3786\"], [0.5555555555555556, \"#d8576b\"], [0.6666666666666666, \"#ed7953\"], [0.7777777777777778, \"#fb9f3a\"], [0.8888888888888888, \"#fdca26\"], [1.0, \"#f0f921\"]], \"type\": \"histogram2d\"}], \"histogram2dcontour\": [{\"colorbar\": {\"outlinewidth\": 0, \"ticks\": \"\"}, \"colorscale\": [[0.0, \"#0d0887\"], [0.1111111111111111, \"#46039f\"], [0.2222222222222222, \"#7201a8\"], [0.3333333333333333, \"#9c179e\"], [0.4444444444444444, \"#bd3786\"], [0.5555555555555556, \"#d8576b\"], [0.6666666666666666, \"#ed7953\"], [0.7777777777777778, \"#fb9f3a\"], [0.8888888888888888, \"#fdca26\"], [1.0, \"#f0f921\"]], \"type\": \"histogram2dcontour\"}], \"mesh3d\": [{\"colorbar\": {\"outlinewidth\": 0, \"ticks\": \"\"}, \"type\": \"mesh3d\"}], \"parcoords\": [{\"line\": {\"colorbar\": {\"outlinewidth\": 0, \"ticks\": \"\"}}, \"type\": \"parcoords\"}], \"pie\": [{\"automargin\": true, \"type\": \"pie\"}], \"scatter\": [{\"marker\": {\"colorbar\": {\"outlinewidth\": 0, \"ticks\": \"\"}}, \"type\": \"scatter\"}], \"scatter3d\": [{\"line\": {\"colorbar\": {\"outlinewidth\": 0, \"ticks\": \"\"}}, \"marker\": {\"colorbar\": {\"outlinewidth\": 0, \"ticks\": \"\"}}, \"type\": \"scatter3d\"}], \"scattercarpet\": [{\"marker\": {\"colorbar\": {\"outlinewidth\": 0, \"ticks\": \"\"}}, \"type\": \"scattercarpet\"}], \"scattergeo\": [{\"marker\": {\"colorbar\": {\"outlinewidth\": 0, \"ticks\": \"\"}}, \"type\": \"scattergeo\"}], \"scattergl\": [{\"marker\": {\"colorbar\": {\"outlinewidth\": 0, \"ticks\": \"\"}}, \"type\": \"scattergl\"}], \"scattermapbox\": [{\"marker\": {\"colorbar\": {\"outlinewidth\": 0, \"ticks\": \"\"}}, \"type\": \"scattermapbox\"}], \"scatterpolar\": [{\"marker\": {\"colorbar\": {\"outlinewidth\": 0, \"ticks\": \"\"}}, \"type\": \"scatterpolar\"}], \"scatterpolargl\": [{\"marker\": {\"colorbar\": {\"outlinewidth\": 0, \"ticks\": \"\"}}, \"type\": \"scatterpolargl\"}], \"scatterternary\": [{\"marker\": {\"colorbar\": {\"outlinewidth\": 0, \"ticks\": \"\"}}, \"type\": \"scatterternary\"}], \"surface\": [{\"colorbar\": {\"outlinewidth\": 0, \"ticks\": \"\"}, \"colorscale\": [[0.0, \"#0d0887\"], [0.1111111111111111, \"#46039f\"], [0.2222222222222222, \"#7201a8\"], [0.3333333333333333, \"#9c179e\"], [0.4444444444444444, \"#bd3786\"], [0.5555555555555556, \"#d8576b\"], [0.6666666666666666, \"#ed7953\"], [0.7777777777777778, \"#fb9f3a\"], [0.8888888888888888, \"#fdca26\"], [1.0, \"#f0f921\"]], \"type\": \"surface\"}], \"table\": [{\"cells\": {\"fill\": {\"color\": \"#EBF0F8\"}, \"line\": {\"color\": \"white\"}}, \"header\": {\"fill\": {\"color\": \"#C8D4E3\"}, \"line\": {\"color\": \"white\"}}, \"type\": \"table\"}]}, \"layout\": {\"annotationdefaults\": {\"arrowcolor\": \"#2a3f5f\", \"arrowhead\": 0, \"arrowwidth\": 1}, \"coloraxis\": {\"colorbar\": {\"outlinewidth\": 0, \"ticks\": \"\"}}, \"colorscale\": {\"diverging\": [[0, \"#8e0152\"], [0.1, \"#c51b7d\"], [0.2, \"#de77ae\"], [0.3, \"#f1b6da\"], [0.4, \"#fde0ef\"], [0.5, \"#f7f7f7\"], [0.6, \"#e6f5d0\"], [0.7, \"#b8e186\"], [0.8, \"#7fbc41\"], [0.9, \"#4d9221\"], [1, \"#276419\"]], \"sequential\": [[0.0, \"#0d0887\"], [0.1111111111111111, \"#46039f\"], [0.2222222222222222, \"#7201a8\"], [0.3333333333333333, \"#9c179e\"], [0.4444444444444444, \"#bd3786\"], [0.5555555555555556, \"#d8576b\"], [0.6666666666666666, \"#ed7953\"], [0.7777777777777778, \"#fb9f3a\"], [0.8888888888888888, \"#fdca26\"], [1.0, \"#f0f921\"]], \"sequentialminus\": [[0.0, \"#0d0887\"], [0.1111111111111111, \"#46039f\"], [0.2222222222222222, \"#7201a8\"], [0.3333333333333333, \"#9c179e\"], [0.4444444444444444, \"#bd3786\"], [0.5555555555555556, \"#d8576b\"], [0.6666666666666666, \"#ed7953\"], [0.7777777777777778, \"#fb9f3a\"], [0.8888888888888888, \"#fdca26\"], [1.0, \"#f0f921\"]]}, \"colorway\": [\"#636efa\", \"#EF553B\", \"#00cc96\", \"#ab63fa\", \"#FFA15A\", \"#19d3f3\", \"#FF6692\", \"#B6E880\", \"#FF97FF\", \"#FECB52\"], \"font\": {\"color\": \"#2a3f5f\"}, \"geo\": {\"bgcolor\": \"white\", \"lakecolor\": \"white\", \"landcolor\": \"#E5ECF6\", \"showlakes\": true, \"showland\": true, \"subunitcolor\": \"white\"}, \"hoverlabel\": {\"align\": \"left\"}, \"hovermode\": \"closest\", \"mapbox\": {\"style\": \"light\"}, \"paper_bgcolor\": \"white\", \"plot_bgcolor\": \"#E5ECF6\", \"polar\": {\"angularaxis\": {\"gridcolor\": \"white\", \"linecolor\": \"white\", \"ticks\": \"\"}, \"bgcolor\": \"#E5ECF6\", \"radialaxis\": {\"gridcolor\": \"white\", \"linecolor\": \"white\", \"ticks\": \"\"}}, \"scene\": {\"xaxis\": {\"backgroundcolor\": \"#E5ECF6\", \"gridcolor\": \"white\", \"gridwidth\": 2, \"linecolor\": \"white\", \"showbackground\": true, \"ticks\": \"\", \"zerolinecolor\": \"white\"}, \"yaxis\": {\"backgroundcolor\": \"#E5ECF6\", \"gridcolor\": \"white\", \"gridwidth\": 2, \"linecolor\": \"white\", \"showbackground\": true, \"ticks\": \"\", \"zerolinecolor\": \"white\"}, \"zaxis\": {\"backgroundcolor\": \"#E5ECF6\", \"gridcolor\": \"white\", \"gridwidth\": 2, \"linecolor\": \"white\", \"showbackground\": true, \"ticks\": \"\", \"zerolinecolor\": \"white\"}}, \"shapedefaults\": {\"line\": {\"color\": \"#2a3f5f\"}}, \"ternary\": {\"aaxis\": {\"gridcolor\": \"white\", \"linecolor\": \"white\", \"ticks\": \"\"}, \"baxis\": {\"gridcolor\": \"white\", \"linecolor\": \"white\", \"ticks\": \"\"}, \"bgcolor\": \"#E5ECF6\", \"caxis\": {\"gridcolor\": \"white\", \"linecolor\": \"white\", \"ticks\": \"\"}}, \"title\": {\"x\": 0.05}, \"xaxis\": {\"automargin\": true, \"gridcolor\": \"white\", \"linecolor\": \"white\", \"ticks\": \"\", \"title\": {\"standoff\": 15}, \"zerolinecolor\": \"white\", \"zerolinewidth\": 2}, \"yaxis\": {\"automargin\": true, \"gridcolor\": \"white\", \"linecolor\": \"white\", \"ticks\": \"\", \"title\": {\"standoff\": 15}, \"zerolinecolor\": \"white\", \"zerolinewidth\": 2}}}, \"xaxis\": {\"anchor\": \"y\", \"domain\": [0.0, 1.0], \"title\": {\"text\": \"Kilometer\"}}, \"yaxis\": {\"anchor\": \"x\", \"domain\": [0.0, 1.0], \"title\": {\"text\": \"Price\"}}},\n",
              "                        {\"responsive\": true}\n",
              "                    ).then(function(){\n",
              "                            \n",
              "var gd = document.getElementById('fc19168f-ddd1-440c-a95d-d064d50ad6a5');\n",
              "var x = new MutationObserver(function (mutations, observer) {{\n",
              "        var display = window.getComputedStyle(gd).display;\n",
              "        if (!display || display === 'none') {{\n",
              "            console.log([gd, 'removed!']);\n",
              "            Plotly.purge(gd);\n",
              "            observer.disconnect();\n",
              "        }}\n",
              "}});\n",
              "\n",
              "// Listen for the removal of the full notebook cells\n",
              "var notebookContainer = gd.closest('#notebook-container');\n",
              "if (notebookContainer) {{\n",
              "    x.observe(notebookContainer, {childList: true});\n",
              "}}\n",
              "\n",
              "// Listen for the clearing of the current output cell\n",
              "var outputEl = gd.closest('.output');\n",
              "if (outputEl) {{\n",
              "    x.observe(outputEl, {childList: true});\n",
              "}}\n",
              "\n",
              "                        })\n",
              "                };\n",
              "                \n",
              "            </script>\n",
              "        </div>\n",
              "</body>\n",
              "</html>"
            ]
          },
          "metadata": {
            "tags": []
          }
        }
      ]
    },
    {
      "cell_type": "markdown",
      "metadata": {
        "id": "xYDlVa4kOQ80"
      },
      "source": [
        "Kilometer had few outliers on both sides and after we remove it now the distribution is shifted to central"
      ]
    },
    {
      "cell_type": "markdown",
      "metadata": {
        "id": "_puWkHhIMiI1"
      },
      "source": [
        "### Categorical Data Analysis"
      ]
    },
    {
      "cell_type": "code",
      "metadata": {
        "colab": {
          "base_uri": "https://localhost:8080/"
        },
        "id": "5ax4HjvZMiI1",
        "outputId": "22f5e372-7ccb-4b9e-95fd-9c488dcf3bfa"
      },
      "source": [
        "for column in cat_features:\n",
        "  print('{} has {} values '.format(column,df[column].unique()))\n",
        "  print('\\n')"
      ],
      "execution_count": 2151,
      "outputs": [
        {
          "output_type": "stream",
          "text": [
            "Brand has ['Chevrolet' 'Fiat' 'Ford' 'Honda' 'Hyundai' 'Kia' 'Mahindra'\n",
            " 'Maruti Suzuki' 'Nissan' 'Skoda' 'Tata' 'Toyota' 'Volkswagen'] values \n",
            "\n",
            "\n",
            "Model has ['aveo' 'captiva' 'spark' 'beat' 'u-va' 'uva' 'sedan' 'avventura' 'punto'\n",
            " 'linea' 'figo' 'palio' 'ecosport' 'titanium' 'fiesta' 'cr-v' 'city'\n",
            " 'jazz' 'brio' 'civic' 'crv' 'i10' 'santro' 'i20' 'getz' 'accent' 'asta'\n",
            " 'tucson' 'eon' 'creta' 'elite' 'elantra' 'sonata' 'sportage' 'picanto'\n",
            " 'soul' 'rio' 'sephia' 'carens' 'cerato' 'Kuv' 'scorpio' 'bolero' 'swift'\n",
            " 'alto-800' 'celerio' 'alto-LXI' '800' 'eeco' 'Omni' 'astar' 'alto'\n",
            " 'dzire' 'a-star' 'saloon' 'sunny' 'tiida' 'fabia' 'laura' 'rapid'\n",
            " 'octavia' 'ace' 'indica' 'bolt' 'nano' 'grande' 'manza' 'venture' 'sumo'\n",
            " 'indigo' 'corolla' 'etios' 'avanza' 'echo' 'hilux' 'polo' 'beetle'\n",
            " 'tiguan' 'vento'] values \n",
            "\n",
            "\n",
            "Transmission has [' Manual' ' Automatic'] values \n",
            "\n",
            "\n",
            "Drivetrain has [' 2WD' ' 4WD'] values \n",
            "\n",
            "\n",
            "Fuel_type has [' Petrol' ' Diesel'] values \n",
            "\n",
            "\n",
            "Colour has [' golden' ' Grey' ' Sky Blue ' ' Green' ' Maroon' ' royal black'\n",
            " ' metalic sky blue' ' Golden Silver ' ' Red' ' Lilene Beige' ' White'\n",
            " ' Bue' ' Light Golden' ' Silver' ' Sky blue' ' golden silver' ' silver'\n",
            " ' Metallic' ' Golden' ' Gray' ' Black' ' WHITE' ' Platinum Metallic'\n",
            " ' Dark Gray' ' Blue' ' black' ' Chocolate Grey' ' Caviar Black '\n",
            " ' SILVER' ' white ' '  Pearl Silver' ' orange ' ' Velvet Red' ' Beige'\n",
            " ' sky blue' ' Caviar Black' ' Sandive grey' ' Silver ' ' Cream Blue'\n",
            " ' Off white ' ' dark grey' ' White ' ' Golden Grey' ' Moondust Silver'\n",
            " ' Mars Red' ' smoke grey' ' White Gold' ' Orange' ' Chilly Silver '\n",
            " ' grey' ' white' ' Sea greay' ' Space gray' ' Paprika Red' ' Chill'\n",
            " ' Sea gray ' ' Sea Grey' ' Siver' ' Diamond white' ' Dark grey'\n",
            " ' silky silver' ' milky white' ' squeeze ' ' Gray ' ' Metalic Grey'\n",
            " ' Paprika red ' ' red' ' gray' ' Diamond White' ' Pearl silver '\n",
            " ' diamond' ' Paprika red' ' Red ' ' Colorado Red' ' D.White' ' Squeeze '\n",
            " ' Silky silver ' ' SQUEEZE (GREEN)' ' Kinetic blue' ' Smoke' ' Sea Gray'\n",
            " ' Panther Black' ' maroon red' ' Maroon Red' ' black ' ' Navy Green'\n",
            " ' Navy green' ' Bluish Silver' ' Baidge' ' sliver' ' Light Blue' ' Blue '\n",
            " ' Dark Grey' ' maroon' ' tafeta white' ' mettalic grey'\n",
            " ' Metallic silver' ' Brown' ' yellow' ' Grey ' ' light green' ' blue'\n",
            " ' red & black' ' Real Earth' ' Golden ' ' Sky Blue' ' Maroon red' ' GREY'\n",
            " ' Carbon grey' ' Silky Brown ' ' Sleek silver' ' Metalic Silver'\n",
            " ' Blushing Red' ' Maroon ' ' Pearl White' ' Royal blue'\n",
            " ' Dark Grey Stardust' ' Champion Gold' ' Standard Black' ' Blushing red'\n",
            " ' BIue' ' Light Green' ' SiIver' ' sky Blue' ' Aqua Silver' ' Marhoon'\n",
            " ' Crystal White' ' chympigyan gold' ' Whiskey BIue' ' light blue'\n",
            " ' Sleek Silver' ' Metallic Blue' ' champion gold' ' Stardust' ' SIVER'\n",
            " ' Amber grey' ' Wine Red' ' Bright Silver' ' Light Golden '\n",
            " ' Sampion Gold' ' Silk Silver' ' gray ' ' silver green ' ' silver '\n",
            " ' Light Glden' '  Sleek Silver' ' `light golden' ' golden '\n",
            " ' Oyster grey' ' silver,green' ' light golden' ' golden orange '\n",
            " ' Black ' ' Beautiful White' ' Grea' ' marron red' ' Shampion Gold'\n",
            " ' Silk silver' ' Midnight Gray' ' snow white' ' Brick red'\n",
            " ' Midnight grey' ' Sparkle Blue' ' champagyan gold' ' silver golden'\n",
            " ' Siliver' ' light gold' ' Forest Dew' ' Line Blue' ' Gold'\n",
            " ' shympain Gold' ' Blue sky ' ' sampion gold' ' BLUE' ' Marron'\n",
            " ' Whisky Blue' ' GRAY' ' teal blue' ' yellow ' ' siver' ' silk silver'\n",
            " ' Carbon Grey' ' blue sky' ' Light golden' ' blur' ' Red maron'\n",
            " ' Blue sky' ' silvar' ' real earth' ' CARBON GREY' ' maroon ' ' blue '\n",
            " ' standard red' ' light grey metalic' ' dark blue ' ' BG BLACK'\n",
            " ' grenyet red' ' RED' '  silver' ' Maroon metallic' ' Silky Silver'\n",
            " ' Silky silver' ' Troquoise Blue' ' Gray &Black' ' skyblue' ' berry red'\n",
            " ' Apline Blue' ' ldark skyblue' ' Sliver' ' light blue  ' ' Champen Gold'\n",
            " ' Sampain Gold' ' Cream' ' Mid nite grey' ' Dark Blue' ' light blue '\n",
            " ' Teal Green' ' Metalic Red' ' Metallic Silver' ' Blue Metalic' ' PURPLE'\n",
            " ' Vanilla sake' ' Diamond Blue' ' Silver Metallic Smoke Grey '\n",
            " ' Titanium Silver' ' brown ' ' SIlver Metallic Grey' ' Titanium '\n",
            " ' Cafe Mocha' ' Royal black' ' BLACK' ' Metallic Bronze' ' coffee mocha'\n",
            " ' titanium silver ' ' Light Sky Blue' ' Metallic Grey' ' Royal Blue'\n",
            " ' Bright silver' ' blue,' ' Read' ' designer grey' ' Chocolate'\n",
            " ' silky silver ' ' Chocolate Brown ' ' Dark Red' ' alpine blue'\n",
            " ' Desert brown' ' artic white' ' Parasite Blue' ' Dazzling Red'\n",
            " ' DARK GREY' ' Silver golden' ' Purple Blue' ' cayenne orange'\n",
            " ' Metallic steel ' ' purple' ' sillky siliver' ' dusky brown' ' orange'\n",
            " ' azure grey' ' Healing Green' ' GREEN' ' digital blue' ' Maroon/Orange'\n",
            " ' aqua blue' ' red ' ' Copper Red ' ' METALLIC SILKY SILVER'\n",
            " ' Dark Blue ' ' pearl blue' ' metallic blue' ' Gret' ' healing green'\n",
            " ' Metalic Orange' ' Sunlight copper ' ' dark orange' ' golden brown'\n",
            " ' navy blue' ' kaleji red' ' Silver Gold' ' Shining White' ' Wine red'\n",
            " ' Arctic Silver' ' Marrone ' ' Golden silver ' ' Yellowish Silver'\n",
            " ' Capachine Baige' ' Chocolate colour' ' Light brown' ' Deep Black'\n",
            " ' sky blue white' ' sea grey' ' Res' ' Aqua green' ' Yellow' ' green'\n",
            " ' Burgandy royal' ' tyrine wine' ' Aqua Green' ' KARBON GREY'\n",
            " ' metallic silver' ' Carbon Black' ' Maroon Orange' ' Smokey Grey'\n",
            " ' Purple' ' matt black' ' light blue metalic' ' Metallic Gray' ' whit'\n",
            " ' sleek silver' ' toffee brown' ' Golden Beige' ' Red Flash'] values \n",
            "\n",
            "\n"
          ],
          "name": "stdout"
        }
      ]
    },
    {
      "cell_type": "markdown",
      "metadata": {
        "id": "1vM2Z48uMiI2"
      },
      "source": [
        "###### For categorical variables which has only 2 classes can be converted to 0 and 1 . "
      ]
    },
    {
      "cell_type": "code",
      "metadata": {
        "colab": {
          "base_uri": "https://localhost:8080/"
        },
        "id": "2-nBxj0tMiI2",
        "outputId": "7dadb787-58e1-432c-dae5-b57daed50adc"
      },
      "source": [
        "df['Transmission'].unique()"
      ],
      "execution_count": 2152,
      "outputs": [
        {
          "output_type": "execute_result",
          "data": {
            "text/plain": [
              "array([' Manual', ' Automatic'], dtype=object)"
            ]
          },
          "metadata": {
            "tags": []
          },
          "execution_count": 2152
        }
      ]
    },
    {
      "cell_type": "code",
      "metadata": {
        "colab": {
          "base_uri": "https://localhost:8080/"
        },
        "id": "_gT6zG_-MiI2",
        "outputId": "c067f523-3e24-4d4f-af36-c53de8d2007b"
      },
      "source": [
        "df['Transmission']=df['Transmission'].replace([' Manual',' Automatic'], [0,1])\n",
        "df['Transmission'].unique()"
      ],
      "execution_count": 2153,
      "outputs": [
        {
          "output_type": "execute_result",
          "data": {
            "text/plain": [
              "array([0, 1])"
            ]
          },
          "metadata": {
            "tags": []
          },
          "execution_count": 2153
        }
      ]
    },
    {
      "cell_type": "code",
      "metadata": {
        "colab": {
          "base_uri": "https://localhost:8080/",
          "height": 345
        },
        "id": "34qbzgaIT1Iv",
        "outputId": "79e3dca6-90ad-4a01-fb07-57a9e11259e7"
      },
      "source": [
        "# lets check how transmission affects our price feature\n",
        "plt.subplots(figsize=(5,5))\n",
        "city_revenue_group = df[\"Price\"].groupby(df[\"Transmission\"])\n",
        "agg_data = city_revenue_group.sum()\n",
        "x_axis = agg_data.index\n",
        "y_axis = agg_data\n",
        "plt.bar(x_axis,y_axis)\n",
        "plt.xlabel(\"Transmission\")\n",
        "plt.ylabel(\"Price\")\n",
        "plt.show()\n"
      ],
      "execution_count": 2154,
      "outputs": [
        {
          "output_type": "display_data",
          "data": {
            "image/png": "[encoded data removed]",
            "text/plain": [
              "<Figure size 360x360 with 1 Axes>"
            ]
          },
          "metadata": {
            "tags": [],
            "needs_background": "light"
          }
        }
      ]
    },
    {
      "cell_type": "code",
      "metadata": {
        "colab": {
          "base_uri": "https://localhost:8080/",
          "height": 388
        },
        "id": "7RUkN-8AVOuZ",
        "outputId": "6d55b4b6-a59c-4a83-e40e-76312a761abc"
      },
      "source": [
        "make_kdeplot('Transmission')"
      ],
      "execution_count": 2155,
      "outputs": [
        {
          "output_type": "display_data",
          "data": {
            "image/png": "[encoded data removed]",
            "text/plain": [
              "<Figure size 576x432 with 1 Axes>"
            ]
          },
          "metadata": {
            "tags": [],
            "needs_background": "light"
          }
        }
      ]
    },
    {
      "cell_type": "markdown",
      "metadata": {
        "id": "n6ZCOHTjVX9E"
      },
      "source": [
        "There are many manual transmission type cars and very few automatic "
      ]
    },
    {
      "cell_type": "code",
      "metadata": {
        "colab": {
          "base_uri": "https://localhost:8080/"
        },
        "id": "x5ItVwwnMt0u",
        "outputId": "324b7755-dde6-450b-c0fc-03a0a714b285"
      },
      "source": [
        "df['Transmission'].value_counts()"
      ],
      "execution_count": 2156,
      "outputs": [
        {
          "output_type": "execute_result",
          "data": {
            "text/plain": [
              "0    1491\n",
              "1      41\n",
              "Name: Transmission, dtype: int64"
            ]
          },
          "metadata": {
            "tags": []
          },
          "execution_count": 2156
        }
      ]
    },
    {
      "cell_type": "code",
      "metadata": {
        "colab": {
          "base_uri": "https://localhost:8080/"
        },
        "id": "D-k5J53DMiI2",
        "outputId": "c5089349-27f4-4693-f18c-c8c828881bce"
      },
      "source": [
        "df['Drivetrain'].unique()"
      ],
      "execution_count": 2157,
      "outputs": [
        {
          "output_type": "execute_result",
          "data": {
            "text/plain": [
              "array([' 2WD', ' 4WD'], dtype=object)"
            ]
          },
          "metadata": {
            "tags": []
          },
          "execution_count": 2157
        }
      ]
    },
    {
      "cell_type": "code",
      "metadata": {
        "id": "6DxOAmklMiI3"
      },
      "source": [
        "df['Drivetrain']=df['Drivetrain'].replace([' 2WD',' 4WD'], [0,1]) "
      ],
      "execution_count": 2158,
      "outputs": []
    },
    {
      "cell_type": "code",
      "metadata": {
        "colab": {
          "base_uri": "https://localhost:8080/",
          "height": 542
        },
        "id": "v9BeIruDUH3O",
        "outputId": "7f5fb418-188e-47ca-b349-9cdf5ea14f98"
      },
      "source": [
        "scatters('Drivetrain','Price')"
      ],
      "execution_count": 2159,
      "outputs": [
        {
          "output_type": "display_data",
          "data": {
            "text/html": [
              "<html>\n",
              "<head><meta charset=\"utf-8\" /></head>\n",
              "<body>\n",
              "    <div>\n",
              "            <script src=\"https://cdnjs.cloudflare.com/ajax/libs/mathjax/2.7.5/MathJax.js?config=TeX-AMS-MML_SVG\"></script><script type=\"text/javascript\">if (window.MathJax) {MathJax.Hub.Config({SVG: {font: \"STIX-Web\"}});}</script>\n",
              "                <script type=\"text/javascript\">window.PlotlyConfig = {MathJaxConfig: 'local'};</script>\n",
              "        <script src=\"https://cdn.plot.ly/plotly-latest.min.js\"></script>    \n",
              "            <div id=\"9db2697a-3ce2-4599-b283-1ec24cdea0a3\" class=\"plotly-graph-div\" style=\"height:525px; width:100%;\"></div>\n",
              "            <script type=\"text/javascript\">\n",
              "                \n",
              "                    window.PLOTLYENV=window.PLOTLYENV || {};\n",
              "                    \n",
              "                if (document.getElementById(\"9db2697a-3ce2-4599-b283-1ec24cdea0a3\")) {\n",
              "                    Plotly.newPlot(\n",
              "                        '9db2697a-3ce2-4599-b283-1ec24cdea0a3',\n",
              "                        [{\"hoverlabel\": {\"namelength\": 0}, \"hovertemplate\": \"Drivetrain=%{x}<br>Price=%{y}\", \"legendgroup\": \"\", \"marker\": {\"color\": \"#636efa\", \"symbol\": \"circle\"}, \"mode\": \"markers\", \"name\": \"\", \"showlegend\": false, \"type\": \"scattergl\", \"x\": [0, 1, 0, 1, 0, 0, 0, 0, 0, 0, 0, 0, 0, 0, 0, 0, 0, 0, 0, 0, 0, 1, 0, 0, 0, 0, 0, 0, 1, 1, 0, 0, 0, 0, 0, 0, 0, 0, 0, 0, 0, 1, 0, 0, 0, 1, 0, 0, 0, 0, 0, 0, 0, 0, 0, 0, 0, 0, 0, 0, 0, 0, 0, 0, 0, 0, 0, 0, 0, 0, 0, 0, 0, 0, 0, 0, 0, 0, 0, 0, 0, 0, 0, 0, 0, 0, 0, 0, 0, 0, 0, 0, 0, 0, 0, 0, 0, 0, 0, 0, 0, 0, 0, 0, 0, 0, 0, 0, 0, 0, 0, 0, 0, 0, 0, 0, 0, 0, 0, 0, 0, 0, 0, 0, 0, 0, 0, 0, 0, 0, 0, 0, 0, 0, 0, 0, 0, 0, 0, 0, 0, 0, 0, 0, 0, 0, 0, 0, 0, 0, 0, 0, 0, 0, 0, 0, 0, 0, 0, 0, 0, 0, 0, 0, 0, 0, 0, 0, 0, 0, 0, 0, 1, 0, 0, 0, 0, 0, 0, 0, 0, 0, 0, 0, 0, 0, 0, 0, 0, 0, 0, 0, 0, 0, 0, 0, 0, 0, 0, 0, 0, 0, 0, 0, 0, 0, 0, 0, 0, 0, 0, 0, 0, 0, 0, 0, 0, 0, 1, 0, 0, 0, 0, 0, 0, 0, 0, 0, 0, 0, 0, 0, 0, 0, 0, 0, 0, 0, 0, 0, 0, 0, 0, 0, 0, 0, 0, 0, 0, 0, 0, 0, 0, 0, 0, 0, 0, 0, 0, 0, 0, 0, 0, 0, 0, 0, 0, 0, 0, 0, 0, 0, 0, 0, 0, 0, 0, 0, 0, 0, 0, 0, 0, 0, 0, 0, 0, 0, 0, 0, 0, 0, 0, 0, 0, 1, 0, 0, 0, 0, 0, 0, 0, 0, 1, 0, 0, 0, 0, 0, 0, 1, 0, 0, 0, 0, 0, 0, 0, 0, 0, 0, 0, 0, 0, 1, 0, 0, 0, 0, 0, 0, 0, 1, 0, 0, 0, 1, 0, 0, 0, 0, 0, 0, 1, 0, 0, 1, 0, 0, 0, 0, 0, 0, 0, 0, 0, 1, 0, 0, 0, 0, 0, 0, 0, 0, 0, 0, 0, 0, 0, 0, 0, 0, 0, 1, 0, 0, 0, 0, 0, 0, 0, 0, 0, 0, 0, 0, 1, 0, 0, 0, 1, 0, 0, 0, 0, 0, 0, 0, 0, 0, 0, 0, 0, 0, 0, 0, 0, 0, 0, 0, 0, 0, 0, 0, 0, 0, 0, 0, 0, 0, 0, 0, 0, 0, 0, 0, 0, 0, 0, 0, 0, 0, 0, 0, 0, 0, 0, 0, 0, 0, 0, 0, 0, 0, 0, 0, 0, 0, 0, 0, 0, 0, 0, 0, 0, 0, 0, 0, 0, 0, 0, 0, 0, 0, 0, 0, 0, 0, 0, 0, 0, 0, 0, 0, 0, 0, 0, 0, 0, 0, 0, 0, 0, 0, 0, 0, 0, 0, 0, 0, 1, 0, 0, 0, 0, 0, 0, 0, 0, 0, 0, 0, 0, 0, 0, 0, 0, 0, 0, 0, 0, 0, 0, 1, 0, 0, 0, 0, 0, 0, 0, 0, 0, 0, 0, 0, 1, 0, 0, 0, 0, 0, 0, 0, 0, 0, 0, 0, 0, 0, 0, 0, 0, 0, 0, 0, 0, 1, 0, 0, 0, 0, 0, 0, 0, 0, 0, 0, 0, 0, 0, 0, 0, 0, 0, 0, 0, 0, 0, 1, 0, 0, 0, 0, 0, 0, 0, 0, 0, 0, 0, 0, 1, 0, 0, 1, 0, 0, 0, 0, 0, 0, 1, 0, 0, 0, 0, 0, 0, 0, 0, 0, 0, 0, 0, 0, 0, 1, 0, 0, 0, 0, 0, 0, 0, 0, 0, 0, 0, 0, 1, 0, 0, 0, 0, 0, 0, 0, 0, 0, 0, 0, 0, 0, 0, 0, 0, 0, 0, 0, 0, 0, 0, 0, 0, 0, 0, 0, 0, 0, 0, 0, 0, 0, 0, 0, 0, 0, 0, 0, 0, 0, 0, 0, 0, 0, 0, 1, 0, 0, 1, 0, 0, 0, 0, 0, 0, 0, 0, 0, 0, 0, 0, 0, 0, 0, 0, 0, 0, 0, 0, 0, 0, 0, 0, 0, 0, 0, 0, 1, 0, 0, 0, 0, 0, 0, 0, 0, 0, 1, 0, 0, 0, 0, 0, 0, 0, 0, 0, 0, 0, 0, 1, 1, 0, 0, 0, 0, 1, 0, 0, 0, 0, 0, 0, 0, 0, 1, 1, 0, 0, 0, 0, 0, 0, 0, 0, 0, 0, 0, 0, 0, 0, 0, 0, 0, 0, 0, 1, 1, 0, 0, 0, 0, 0, 0, 0, 0, 0, 0, 0, 0, 0, 0, 0, 0, 0, 0, 0, 0, 0, 0, 0, 0, 0, 0, 0, 0, 0, 0, 0, 1, 0, 0, 0, 0, 0, 0, 0, 0, 0, 0, 0, 0, 0, 0, 0, 0, 0, 0, 1, 0, 0, 0, 0, 0, 0, 0, 0, 0, 0, 0, 0, 0, 0, 0, 0, 0, 0, 0, 1, 0, 0, 0, 0, 0, 0, 0, 0, 0, 0, 0, 0, 0, 0, 0, 0, 0, 0, 0, 0, 0, 0, 0, 0, 0, 0, 0, 0, 0, 0, 0, 0, 0, 0, 0, 0, 0, 0, 0, 0, 0, 0, 0, 0, 0, 0, 1, 0, 0, 0, 1, 1, 1, 0, 1, 0, 0, 0, 0, 0, 0, 0, 0, 0, 1, 0, 1, 0, 0, 0, 0, 0, 0, 0, 0, 0, 0, 0, 0, 0, 0, 0, 0, 0, 0, 0, 0, 0, 0, 0, 0, 1, 0, 0, 0, 0, 0, 0, 0, 0, 0, 1, 0, 0, 0, 0, 0, 1, 1, 1, 1, 0, 0, 0, 0, 1, 0, 0, 0, 0, 0, 0, 0, 0, 0, 0, 0, 0, 0, 0, 0, 0, 0, 0, 0, 1, 0, 0, 0, 1, 1, 1, 0, 0, 0, 0, 0, 0, 0, 0, 0, 0, 0, 1, 0, 0, 0, 0, 0, 0, 0, 0, 0, 0, 0, 0, 1, 0, 0, 0, 0, 0, 0, 0, 0, 0, 0, 0, 0, 0, 0, 0, 0, 0, 0, 0, 0, 0, 0, 0, 0, 0, 0, 0, 0, 0, 0, 0, 0, 0, 0, 0, 0, 0, 0, 0, 0, 0, 0, 0, 0, 0, 0, 0, 0, 0, 0, 0, 0, 0, 0, 0, 0, 0, 0, 0, 0, 0, 0, 0, 0, 0, 0, 0, 0, 0, 0, 0, 0, 0, 0, 0, 0, 0, 0, 0, 0, 0, 0, 0, 0, 0, 0, 0, 0, 0, 0, 0, 0, 0, 0, 0, 0, 0, 0, 0, 0, 0, 0, 0, 0, 0, 0, 0, 0, 0, 0, 0, 0, 0, 0, 0, 0, 0, 0, 0, 0, 0, 0, 0, 0, 0, 0, 0, 0, 0, 0, 0, 0, 0, 0, 0, 0, 0, 0, 0, 0, 0, 0, 0, 0, 0, 0, 0, 0, 0, 0, 0, 0, 0, 0, 0, 0, 0, 0, 0, 0, 0, 0, 0, 0, 0, 0, 0, 0, 0, 0, 0, 0, 0, 0, 0, 0, 0, 0, 0, 0, 0, 0, 0, 0, 0, 0, 0, 0, 0, 0, 0, 0, 0, 0, 0, 0, 0, 0, 0, 0, 0, 0, 0, 0, 0, 0, 0, 0, 0, 0, 0, 0, 0, 0, 0, 0, 0, 0, 0, 0, 0, 0, 0, 0, 0, 0, 0, 0, 0, 0, 0, 0, 0, 0, 0, 0, 0, 0, 0, 0, 0, 0, 0, 0, 0, 0, 0, 0, 0, 0, 0, 0, 0, 0, 0, 0, 0, 0, 0, 0, 0, 0, 0, 0, 0, 0, 0, 0, 0, 0, 0, 0, 0, 0, 0, 0, 0, 0, 0, 0, 0, 0, 0, 0, 0, 0, 0, 0, 0, 0, 0, 0, 0, 0, 0, 0, 0, 0, 0, 0, 0, 0, 0, 0, 0, 0, 0, 0, 0, 0, 0, 0, 0, 0, 0, 0, 0, 0, 0, 0, 0, 0, 0, 0, 0, 0, 0, 0, 0, 0, 0, 0, 0, 0, 0, 0, 0, 0, 0, 0, 0, 0, 0, 0, 0, 0, 0, 0, 0, 0, 0, 0, 0, 0, 0, 0, 0, 0, 0, 0, 0, 0, 0, 0, 0, 0, 0, 0, 0, 0, 0, 0, 0, 0, 0, 0, 0, 0, 0, 0, 0, 0, 0, 0, 0, 0, 0, 0, 0, 0, 0, 0, 0, 0, 0, 0, 1, 0, 0, 0, 0, 0, 0, 0, 0, 0, 0, 0, 0, 0, 0, 0, 0, 0, 0, 0, 0, 0, 0, 0, 0, 0, 0, 0, 0, 0, 0, 0, 0, 0, 1, 0, 0, 0, 0, 0, 0, 0, 0, 0, 0, 0, 0, 0, 0, 0, 0, 0, 0, 0, 0, 0, 0, 0, 0, 0, 0, 0, 0, 0, 0, 0, 0, 0, 0, 1, 0, 0, 0, 0, 0, 0, 0, 0, 0, 0, 0, 0, 0, 0, 0, 0, 0, 0, 0, 1, 0, 0, 0, 0, 0, 0, 0, 0, 0, 0, 0, 0, 0, 0, 0, 0, 0, 0, 0, 0, 0, 0, 0, 0, 0, 0, 0, 0, 0, 0, 0, 0, 0, 0, 0, 0, 0, 0, 0, 0, 0, 0, 0, 0, 0, 0], \"xaxis\": \"x\", \"y\": [975000, 3000000, 975000, 3000000, 1000000, 1425000, 1250000, 1475000, 1300000, 1150000, 925000, 1650000, 1100000, 975000, 975000, 1200000, 1075000, 1275000, 110000, 1450000, 1050000, 3500000, 1200000, 1450000, 1400000, 1450000, 1100000, 1100000, 3750000, 4000000, 1450000, 1200000, 1600000, 1050000, 1650000, 1400000, 1700000, 1350000, 1550000, 1050000, 1695000, 2000000, 1200000, 1300000, 1200000, 4200000, 1150000, 1350000, 1575000, 1425000, 2300000, 1600000, 1600000, 1200000, 1125000, 1725000, 2200000, 1500000, 4000000, 1325000, 1800000, 1800000, 1200000, 2300000, 2700000, 1499999, 2350000, 1800000, 550000, 1375000, 675000, 1425000, 1200000, 1250000, 1250000, 3300000, 2600000, 17000, 1450000, 1850000, 3100000, 2400000, 1400000, 2900000, 1450000, 2500000, 1700000, 1700000, 3100000, 2700000, 1500000, 260000, 3400000, 2250000, 3100000, 1850000, 1200000, 3000000, 1375000, 1850000, 2800000, 2080000, 1750000, 2400000, 1525000, 1300000, 1350000, 1550000, 200000, 1350000, 1525000, 1375000, 3550000, 1435000, 1325000, 3400000, 3800000, 1750000, 1475000, 2450000, 1425000, 1375000, 1250000, 1650000, 1450000, 1600000, 3275000, 1800000, 1350000, 1500000, 2380000, 1650000, 3999000, 1600000, 425000, 2300000, 1550000, 3000000, 2200000, 1574997, 3400000, 3700000, 1400000, 1950000, 2800000, 2350000, 1850000, 2350000, 1400000, 1450000, 1400000, 2650000, 1725000, 1600000, 3000000, 4150000, 1525000, 1575000, 1500000, 1775000, 1425000, 1725000, 1575000, 1650000, 1550000, 2000000, 1925000, 1650000, 2025000, 2700000, 2150000, 1650000, 3800000, 3250000, 3000000, 2000000, 1550000, 1425000, 1550000, 3800000, 1450000, 2000000, 1750000, 1675000, 1600000, 1475000, 1600000, 4000000, 1800000, 2300000, 2300000, 1850000, 1575000, 3000000, 1750000, 3500000, 1750000, 3350000, 1800000, 1950000, 4000000, 1700000, 3350000, 1650000, 1590000, 2850000, 3450000, 1000000, 1350000, 2400000, 2250000, 1650000, 1875000, 1800000, 1450000, 2800000, 1600000, 110000, 4151000, 3250000, 2325000, 1800000, 4200000, 2750000, 1250000, 2250000, 1775000, 3100000, 1800000, 4200000, 1775000, 3500000, 2150000, 2150000, 2150000, 2600000, 1425000, 1750000, 1475000, 1700000, 1800000, 3100000, 1750000, 1325000, 2550000, 3400000, 2000000, 1450000, 1200000, 3150000, 1400000, 1800000, 3000000, 1425000, 2650000, 2200000, 1450000, 2150000, 1700000, 950000, 1750000, 1250000, 1125000, 1050000, 2950000, 1450000, 1150000, 1350000, 600000, 1850000, 1720000, 1475000, 2775000, 1215000, 1425000, 1325000, 2950000, 2175000, 1875000, 2050000, 2800000, 1600000, 1950000, 1575000, 1250000, 1950000, 2250000, 1225000, 4150000, 2975000, 1050000, 3000000, 3100000, 1450000, 3000000, 3700000, 3700000, 1850000, 1850000, 4000000, 1900000, 2100000, 1000000, 1200000, 2400000, 2196000, 1850000, 1850000, 3200000, 1000000, 1525000, 4200000, 1450000, 2300000, 1089996, 1180000, 1150000, 625000, 1250000, 1475000, 1350000, 1650000, 1550000, 1675000, 1850000, 2600000, 1150000, 2455000, 1750000, 1380000, 1235000, 1325000, 2025000, 2500000, 1525000, 1450000, 1150000, 3150000, 1410000, 1099999, 1325000, 1125000, 1775000, 1725000, 2400000, 1275000, 1750000, 2650000, 1725000, 2400000, 1125000, 675000, 2375000, 1475000, 1135000, 1475000, 1650000, 2900000, 1650000, 1225000, 2950000, 1850000, 1425000, 1695000, 750000, 1700000, 1450000, 1585000, 1575000, 975000, 1300000, 1275000, 850000, 2100000, 1790000, 3100000, 1100000, 1175000, 1750000, 1575000, 1375000, 1700000, 1225000, 1525000, 775000, 1100000, 950000, 1775000, 3349000, 1275000, 1000000, 1775000, 2600000, 1575000, 1795000, 1775000, 1090000, 1540000, 1665000, 1425000, 900000, 1150000, 1850000, 1850000, 1600000, 1525000, 2450000, 1550000, 2375000, 1725000, 1500000, 1575000, 1775000, 1875000, 1150000, 2200000, 1200000, 1500000, 1575000, 1575000, 2400000, 725000, 850000, 1860000, 1300000, 1575000, 1225000, 1325000, 1650000, 900000, 1600000, 1575000, 1350000, 3100000, 1325000, 1075000, 1445000, 1325000, 1400000, 1800000, 1310000, 1175000, 1650000, 1600000, 1425000, 1275000, 1400000, 1345000, 1550000, 1050000, 3350000, 1150000, 2011, 1000000, 2000000, 1525000, 1025000, 2125000, 1600000, 1600000, 1350000, 1625000, 1500000, 1775000, 1550000, 1550000, 800000, 3100000, 1324999, 1600000, 1225000, 1875000, 2725000, 1170000, 1600000, 1400000, 1175000, 850000, 1575000, 1675000, 1525000, 1545000, 1675000, 1700000, 3199999, 1050000, 1150000, 2850000, 1225000, 1675000, 1435000, 1355000, 3300000, 1625000, 1360000, 1150000, 2455000, 1975000, 155000, 1175000, 1325000, 650000, 1850000, 1725000, 1725000, 1550000, 1850000, 1025000, 1550000, 3300000, 1325000, 2650000, 2000000, 1300000, 1650000, 2650000, 2300000, 2450000, 1650000, 2000000, 1100000, 1350000, 1450000, 2076000, 1575000, 1475000, 1250000, 1250000, 3500000, 1350000, 1725000, 1390000, 1850000, 700000, 2475000, 1100000, 1175000, 1175000, 2450000, 1250000, 2450000, 1300000, 1499999, 1400000, 1850000, 1250000, 1300000, 1775000, 825000, 3200000, 1675000, 725000, 1400000, 1175000, 1750000, 780000, 2450000, 1150000, 1150000, 1525000, 2000000, 1425000, 1225000, 1575000, 1625000, 1050000, 1000000, 1250000, 1725000, 1250000, 1175000, 3300000, 1250000, 1350000, 1550000, 1525000, 1750000, 1175000, 1025000, 1150000, 1680000, 1450000, 1475000, 1750000, 2450000, 1175000, 2150000, 3500000, 1250000, 1400000, 1250000, 1090000, 1850000, 1625000, 2600000, 1200000, 1750000, 1300000, 2450000, 1225000, 1025000, 1150000, 1550000, 1425000, 1150000, 1225000, 1550000, 1600000, 1300000, 3150000, 1520000, 1575000, 1705000, 1850000, 1100000, 1475000, 1750000, 1400000, 1824000, 1575000, 1075000, 1750000, 2850000, 1175000, 1275000, 1380000, 1350000, 1590000, 1450000, 1225000, 1360000, 1275000, 1050000, 1725000, 675000, 1200000, 950000, 1350000, 1825000, 1400000, 1275000, 1750000, 1775000, 1400000, 1725000, 1350000, 1200000, 2200000, 1400000, 1200000, 725000, 1400000, 1325000, 1100000, 1525000, 1590000, 2550000, 1700000, 1900000, 1325000, 1750000, 1725000, 1425000, 1050000, 2450000, 1800000, 1400000, 1225000, 750000, 3700000, 1750000, 1200000, 2400000, 1575000, 1333333, 1450000, 2154993, 1825000, 3400000, 900000, 1800000, 1325000, 2150000, 1350000, 1550000, 850000, 1350000, 1825000, 1400000, 1400000, 1650000, 1350000, 1350000, 1190000, 1500000, 1325000, 1500000, 1750000, 1525000, 1775000, 1550000, 3175000, 4000000, 2550000, 1700000, 1075000, 1675000, 1300000, 1200000, 845000, 1425000, 2900000, 1500000, 1500000, 1850000, 1575000, 1450000, 850000, 785000, 1175000, 3500000, 825000, 1750000, 1450000, 3700000, 3250000, 800000, 1225000, 925000, 1315000, 2700000, 1765000, 700000, 1825000, 1150000, 1050000, 925000, 1250000, 170000, 2300000, 3400000, 1625000, 1375000, 1375000, 1200000, 1225000, 1850000, 950000, 1849000, 1025000, 1650000, 750000, 1375000, 1425000, 1375000, 1625000, 785000, 800000, 1450000, 1625000, 1450000, 3250000, 1325000, 1530000, 1650000, 1235000, 1000000, 975000, 1140000, 1275000, 1950000, 1875000, 1175000, 850000, 1425000, 1750000, 1625000, 1195000, 1775000, 1450000, 1475000, 1825000, 1950000, 1625000, 1150000, 1550000, 2550000, 1395000, 1250000, 1425000, 1265000, 1290000, 1775000, 3450000, 1460000, 1050000, 1225000, 1575000, 1875000, 1625000, 1390000, 900000, 1425000, 2250000, 1300000, 2499000, 1375000, 1550000, 1425000, 1340000, 1700000, 1899999, 3300000, 850000, 1475000, 1650000, 1250000, 1900000, 750000, 1325000, 1225000, 1725000, 1950000, 1850000, 1525000, 1575000, 1990000, 1380000, 1325000, 1150000, 2350000, 850000, 2450000, 1550000, 1440000, 1450000, 2050000, 1000000, 2325000, 102500, 1050000, 1700000, 1350000, 1575000, 1875000, 1725000, 1400000, 1425000, 1450000, 1775000, 1240000, 1170000, 1515000, 1690000, 950000, 1050000, 2050000, 1150000, 1850000, 1000000, 1450000, 1425000, 3500000, 2100000, 1350000, 1650000, 1190000, 1250000, 1125000, 1385000, 1250000, 1400000, 1575000, 1225000, 1425000, 1000000, 1900000, 1250000, 1575000, 3600000, 1475000, 1600000, 3250000, 3700000, 2050000, 2175000, 870000, 4150000, 1050000, 1075000, 900000, 925000, 650000, 3200000, 1260000, 750000, 875000, 4099999, 625000, 2850000, 1050000, 1000000, 1075000, 1500000, 2375000, 1100000, 1100000, 1500000, 2850000, 1300000, 1225000, 1975000, 2300000, 2150000, 875000, 725000, 625000, 975000, 1450000, 750000, 1350000, 1225000, 2850000, 1275000, 300000, 950000, 800000, 2850000, 1100000, 1650000, 825000, 1750000, 1175000, 2000000, 2300000, 1475000, 1550000, 2900000, 850000, 880000, 4200000, 4200000, 3000000, 3000000, 1400000, 1150000, 1750000, 2499000, 1100000, 975000, 850000, 1475000, 1350000, 1650000, 1600000, 875000, 3000000, 2000000, 1600000, 1000000, 1450000, 3100000, 1500000, 3200000, 890000, 1175000, 1180000, 790000, 1600000, 1200000, 3100000, 1400000, 1600000, 1600000, 2600000, 975000, 950000, 2100000, 2200000, 2400000, 2600000, 3600000, 2600000, 2450000, 2600000, 3100000, 1225000, 2850000, 575000, 1725000, 1150000, 400000, 300000, 1500000, 550000, 675000, 117500, 710000, 350000, 975000, 1400000, 2479000, 750000, 2475000, 1900000, 1050000, 625000, 1900000, 1750000, 650000, 1025000, 1325000, 625000, 975000, 1000000, 525000, 2049000, 800000, 1150000, 700000, 2450000, 1479000, 1099000, 1025000, 1300000, 825000, 2199000, 2250000, 2300000, 1130000, 675000, 1850000, 2295000, 2350000, 1325000, 1399000, 925000, 1975000, 2250000, 2225000, 1500000, 1160000, 450000, 1225000, 1300000, 1875000, 1775000, 800000, 800000, 750000, 2450000, 875000, 1325000, 1000000, 1050000, 2475000, 2475000, 1050000, 1275000, 1200000, 1025000, 1250000, 1150000, 1750000, 1000000, 1125000, 2450000, 2175000, 625000, 1575000, 2300000, 975000, 2250000, 1875000, 775000, 1575000, 2275000, 1550000, 675000, 650000, 690000, 2250000, 1450000, 1325000, 600000, 1225000, 1375000, 1100000, 575000, 725000, 1525000, 600000, 2400000, 145000, 825000, 1000000, 1650000, 1275000, 1150000, 1200000, 775000, 1250000, 1500000, 875000, 915000, 900000, 1250000, 1250000, 1550000, 1150000, 2550000, 1525000, 1175000, 2650000, 2525000, 2375000, 800000, 1650000, 2490000, 1790000, 1150000, 1650000, 525000, 1375000, 2700000, 1275000, 1350000, 2350000, 600000, 1350000, 1350000, 1650000, 2350000, 1450000, 2175000, 1375000, 1025000, 1350000, 2575000, 925000, 1125000, 1225000, 2200000, 1400000, 825000, 1000000, 1390000, 2750000, 825000, 775000, 1650000, 725000, 1250000, 1275000, 2300000, 2600000, 1550000, 1475000, 1550000, 1525000, 1000000, 1300000, 1475000, 900000, 1175000, 1375000, 1250000, 1425000, 1175000, 2575000, 850000, 1199999, 1200000, 500000, 1200000, 1300000, 1350000, 1095000, 825000, 525000, 2000000, 1385000, 1200000, 2425000, 2350000, 2250000, 975000, 2650000, 1025000, 1600000, 1400000, 1450000, 1500000, 1150000, 1225000, 1575000, 950000, 1210000, 1450000, 1050000, 1225000, 1375000, 1425000, 2000000, 1425000, 950000, 1350000, 1600000, 650000, 1600000, 750000, 650000, 1350000, 2350000, 950000, 1150000, 1400000, 1275000, 1425000, 1450000, 1250000, 675000, 1500000, 900000, 650000, 1350000, 1650000, 736000, 1350000, 1245000, 650000, 2350000, 1175000, 1800000, 1350000, 1450000, 1425000, 910000, 1425000, 1450000, 1325000, 1200000, 925000, 2150000, 1400000, 850000, 1300000, 1400000, 450000, 1900000, 2125000, 785000, 950000, 1075000, 900000, 1275000, 1625000, 1375000, 850000, 1625000, 825000, 2500000, 800000, 660000, 1375000, 1625000, 715000, 1100000, 475000, 625000, 1900000, 900000, 800000, 775000, 950000, 1125000, 1050000, 2850000, 1950000, 1850000, 1500000, 2450000, 1300000, 2400000, 1250000, 1499000, 1925000, 1500000, 750000, 850000, 2500000, 1325000, 1800000, 1400000, 775000, 880000, 1200000, 800000, 1600000, 1600000, 990000, 1800000, 2150000, 1550000, 1100000, 1850000, 1800000, 1300000, 2300000, 2850000, 3250000, 2000000, 1500000, 1100000, 1375000, 2000000, 1875000, 1800000, 1690000, 1700000, 2975000, 2300000, 1775000, 2900000, 1750000, 1725000, 1800000, 1650000, 2200000, 1650000, 1800000, 1250000, 2000000, 1125000, 900000, 3600000, 4000000, 2250000, 1850000, 3600000, 3800000, 1275000, 2250000, 2675000, 1425000, 3600000, 4200000, 2750000, 4200000, 3800000, 1300000, 3300000, 1650000, 1625000, 3300000, 3650000, 1575000, 2200000, 2400000, 2675000, 550000, 1300000, 2100000, 1100000, 925000, 930000, 900000, 900000, 1300000, 450000, 1325000, 475000, 1050000, 450000, 600000, 1050000, 666666, 450000, 550000, 425000, 850000, 525000, 500000, 1200000, 575000, 1230000, 400000, 1350000, 400000, 2450000, 800000, 875000, 1350000, 475000, 1550000, 565000, 437000, 645000, 775000, 1300000, 1400000, 1400000, 675000, 475000, 770000, 1200000, 1250000, 800000, 700000, 200000, 380000, 1300000, 1350000, 700000, 610000, 575000, 525000, 1050000, 1575000, 2450000, 1125000, 850000, 2450000, 725000, 700000, 595000, 1600000, 725000, 2250000, 2600000, 3500000, 2850000, 3700000, 2700000, 2400000, 2400000, 3225000, 2650000, 3150000, 2900000, 2975000, 2900000, 3400000, 1075000, 2450000, 2750000, 3850000, 3000000, 1550000, 2475000, 3500000, 2825000, 3500000, 2825000, 2100000, 2300000, 1125000, 3250000, 3400000, 2175000, 1400000, 2850000, 3150000, 3200000, 2950000, 4075000, 4150000, 2500000, 2950000, 2825000, 2450000, 2875000, 3150000, 1475000, 3200000, 3400000, 2500000, 4150000, 3550000, 2075000, 2200000, 2500000, 3000000, 2000000, 2025000, 4100000, 1725000, 2500000, 2650000, 2025000, 3450000, 2800000, 2350000, 3480000, 2350000, 1975000, 2800000, 2450000, 2150000, 2000000, 1950000, 2350000, 2125000, 2100000, 2450000, 2650000, 2550000, 2250000, 1850000, 2400000, 2650000, 2475000, 3800000, 2100000, 3000000, 2100000, 2450000, 2350000, 2100000, 2550000, 2050000, 3000000, 2650000, 1995000, 2650000, 2000000, 2550000, 2150000, 2400000, 2700000, 3950000, 3555555], \"yaxis\": \"y\"}],\n",
              "                        {\"legend\": {\"tracegroupgap\": 0}, \"margin\": {\"t\": 60}, \"template\": {\"data\": {\"bar\": [{\"error_x\": {\"color\": \"#2a3f5f\"}, \"error_y\": {\"color\": \"#2a3f5f\"}, \"marker\": {\"line\": {\"color\": \"#E5ECF6\", \"width\": 0.5}}, \"type\": \"bar\"}], \"barpolar\": [{\"marker\": {\"line\": {\"color\": \"#E5ECF6\", \"width\": 0.5}}, \"type\": \"barpolar\"}], \"carpet\": [{\"aaxis\": {\"endlinecolor\": \"#2a3f5f\", \"gridcolor\": \"white\", \"linecolor\": \"white\", \"minorgridcolor\": \"white\", \"startlinecolor\": \"#2a3f5f\"}, \"baxis\": {\"endlinecolor\": \"#2a3f5f\", \"gridcolor\": \"white\", \"linecolor\": \"white\", \"minorgridcolor\": \"white\", \"startlinecolor\": \"#2a3f5f\"}, \"type\": \"carpet\"}], \"choropleth\": [{\"colorbar\": {\"outlinewidth\": 0, \"ticks\": \"\"}, \"type\": \"choropleth\"}], \"contour\": [{\"colorbar\": {\"outlinewidth\": 0, \"ticks\": \"\"}, \"colorscale\": [[0.0, \"#0d0887\"], [0.1111111111111111, \"#46039f\"], [0.2222222222222222, \"#7201a8\"], [0.3333333333333333, \"#9c179e\"], [0.4444444444444444, \"#bd3786\"], [0.5555555555555556, \"#d8576b\"], [0.6666666666666666, \"#ed7953\"], [0.7777777777777778, \"#fb9f3a\"], [0.8888888888888888, \"#fdca26\"], [1.0, \"#f0f921\"]], \"type\": \"contour\"}], \"contourcarpet\": [{\"colorbar\": {\"outlinewidth\": 0, \"ticks\": \"\"}, \"type\": \"contourcarpet\"}], \"heatmap\": [{\"colorbar\": {\"outlinewidth\": 0, \"ticks\": \"\"}, \"colorscale\": [[0.0, \"#0d0887\"], [0.1111111111111111, \"#46039f\"], [0.2222222222222222, \"#7201a8\"], [0.3333333333333333, \"#9c179e\"], [0.4444444444444444, \"#bd3786\"], [0.5555555555555556, \"#d8576b\"], [0.6666666666666666, \"#ed7953\"], [0.7777777777777778, \"#fb9f3a\"], [0.8888888888888888, \"#fdca26\"], [1.0, \"#f0f921\"]], \"type\": \"heatmap\"}], \"heatmapgl\": [{\"colorbar\": {\"outlinewidth\": 0, \"ticks\": \"\"}, \"colorscale\": [[0.0, \"#0d0887\"], [0.1111111111111111, \"#46039f\"], [0.2222222222222222, \"#7201a8\"], [0.3333333333333333, \"#9c179e\"], [0.4444444444444444, \"#bd3786\"], [0.5555555555555556, \"#d8576b\"], [0.6666666666666666, \"#ed7953\"], [0.7777777777777778, \"#fb9f3a\"], [0.8888888888888888, \"#fdca26\"], [1.0, \"#f0f921\"]], \"type\": \"heatmapgl\"}], \"histogram\": [{\"marker\": {\"colorbar\": {\"outlinewidth\": 0, \"ticks\": \"\"}}, \"type\": \"histogram\"}], \"histogram2d\": [{\"colorbar\": {\"outlinewidth\": 0, \"ticks\": \"\"}, \"colorscale\": [[0.0, \"#0d0887\"], [0.1111111111111111, \"#46039f\"], [0.2222222222222222, \"#7201a8\"], [0.3333333333333333, \"#9c179e\"], [0.4444444444444444, \"#bd3786\"], [0.5555555555555556, \"#d8576b\"], [0.6666666666666666, \"#ed7953\"], [0.7777777777777778, \"#fb9f3a\"], [0.8888888888888888, \"#fdca26\"], [1.0, \"#f0f921\"]], \"type\": \"histogram2d\"}], \"histogram2dcontour\": [{\"colorbar\": {\"outlinewidth\": 0, \"ticks\": \"\"}, \"colorscale\": [[0.0, \"#0d0887\"], [0.1111111111111111, \"#46039f\"], [0.2222222222222222, \"#7201a8\"], [0.3333333333333333, \"#9c179e\"], [0.4444444444444444, \"#bd3786\"], [0.5555555555555556, \"#d8576b\"], [0.6666666666666666, \"#ed7953\"], [0.7777777777777778, \"#fb9f3a\"], [0.8888888888888888, \"#fdca26\"], [1.0, \"#f0f921\"]], \"type\": \"histogram2dcontour\"}], \"mesh3d\": [{\"colorbar\": {\"outlinewidth\": 0, \"ticks\": \"\"}, \"type\": \"mesh3d\"}], \"parcoords\": [{\"line\": {\"colorbar\": {\"outlinewidth\": 0, \"ticks\": \"\"}}, \"type\": \"parcoords\"}], \"pie\": [{\"automargin\": true, \"type\": \"pie\"}], \"scatter\": [{\"marker\": {\"colorbar\": {\"outlinewidth\": 0, \"ticks\": \"\"}}, \"type\": \"scatter\"}], \"scatter3d\": [{\"line\": {\"colorbar\": {\"outlinewidth\": 0, \"ticks\": \"\"}}, \"marker\": {\"colorbar\": {\"outlinewidth\": 0, \"ticks\": \"\"}}, \"type\": \"scatter3d\"}], \"scattercarpet\": [{\"marker\": {\"colorbar\": {\"outlinewidth\": 0, \"ticks\": \"\"}}, \"type\": \"scattercarpet\"}], \"scattergeo\": [{\"marker\": {\"colorbar\": {\"outlinewidth\": 0, \"ticks\": \"\"}}, \"type\": \"scattergeo\"}], \"scattergl\": [{\"marker\": {\"colorbar\": {\"outlinewidth\": 0, \"ticks\": \"\"}}, \"type\": \"scattergl\"}], \"scattermapbox\": [{\"marker\": {\"colorbar\": {\"outlinewidth\": 0, \"ticks\": \"\"}}, \"type\": \"scattermapbox\"}], \"scatterpolar\": [{\"marker\": {\"colorbar\": {\"outlinewidth\": 0, \"ticks\": \"\"}}, \"type\": \"scatterpolar\"}], \"scatterpolargl\": [{\"marker\": {\"colorbar\": {\"outlinewidth\": 0, \"ticks\": \"\"}}, \"type\": \"scatterpolargl\"}], \"scatterternary\": [{\"marker\": {\"colorbar\": {\"outlinewidth\": 0, \"ticks\": \"\"}}, \"type\": \"scatterternary\"}], \"surface\": [{\"colorbar\": {\"outlinewidth\": 0, \"ticks\": \"\"}, \"colorscale\": [[0.0, \"#0d0887\"], [0.1111111111111111, \"#46039f\"], [0.2222222222222222, \"#7201a8\"], [0.3333333333333333, \"#9c179e\"], [0.4444444444444444, \"#bd3786\"], [0.5555555555555556, \"#d8576b\"], [0.6666666666666666, \"#ed7953\"], [0.7777777777777778, \"#fb9f3a\"], [0.8888888888888888, \"#fdca26\"], [1.0, \"#f0f921\"]], \"type\": \"surface\"}], \"table\": [{\"cells\": {\"fill\": {\"color\": \"#EBF0F8\"}, \"line\": {\"color\": \"white\"}}, \"header\": {\"fill\": {\"color\": \"#C8D4E3\"}, \"line\": {\"color\": \"white\"}}, \"type\": \"table\"}]}, \"layout\": {\"annotationdefaults\": {\"arrowcolor\": \"#2a3f5f\", \"arrowhead\": 0, \"arrowwidth\": 1}, \"coloraxis\": {\"colorbar\": {\"outlinewidth\": 0, \"ticks\": \"\"}}, \"colorscale\": {\"diverging\": [[0, \"#8e0152\"], [0.1, \"#c51b7d\"], [0.2, \"#de77ae\"], [0.3, \"#f1b6da\"], [0.4, \"#fde0ef\"], [0.5, \"#f7f7f7\"], [0.6, \"#e6f5d0\"], [0.7, \"#b8e186\"], [0.8, \"#7fbc41\"], [0.9, \"#4d9221\"], [1, \"#276419\"]], \"sequential\": [[0.0, \"#0d0887\"], [0.1111111111111111, \"#46039f\"], [0.2222222222222222, \"#7201a8\"], [0.3333333333333333, \"#9c179e\"], [0.4444444444444444, \"#bd3786\"], [0.5555555555555556, \"#d8576b\"], [0.6666666666666666, \"#ed7953\"], [0.7777777777777778, \"#fb9f3a\"], [0.8888888888888888, \"#fdca26\"], [1.0, \"#f0f921\"]], \"sequentialminus\": [[0.0, \"#0d0887\"], [0.1111111111111111, \"#46039f\"], [0.2222222222222222, \"#7201a8\"], [0.3333333333333333, \"#9c179e\"], [0.4444444444444444, \"#bd3786\"], [0.5555555555555556, \"#d8576b\"], [0.6666666666666666, \"#ed7953\"], [0.7777777777777778, \"#fb9f3a\"], [0.8888888888888888, \"#fdca26\"], [1.0, \"#f0f921\"]]}, \"colorway\": [\"#636efa\", \"#EF553B\", \"#00cc96\", \"#ab63fa\", \"#FFA15A\", \"#19d3f3\", \"#FF6692\", \"#B6E880\", \"#FF97FF\", \"#FECB52\"], \"font\": {\"color\": \"#2a3f5f\"}, \"geo\": {\"bgcolor\": \"white\", \"lakecolor\": \"white\", \"landcolor\": \"#E5ECF6\", \"showlakes\": true, \"showland\": true, \"subunitcolor\": \"white\"}, \"hoverlabel\": {\"align\": \"left\"}, \"hovermode\": \"closest\", \"mapbox\": {\"style\": \"light\"}, \"paper_bgcolor\": \"white\", \"plot_bgcolor\": \"#E5ECF6\", \"polar\": {\"angularaxis\": {\"gridcolor\": \"white\", \"linecolor\": \"white\", \"ticks\": \"\"}, \"bgcolor\": \"#E5ECF6\", \"radialaxis\": {\"gridcolor\": \"white\", \"linecolor\": \"white\", \"ticks\": \"\"}}, \"scene\": {\"xaxis\": {\"backgroundcolor\": \"#E5ECF6\", \"gridcolor\": \"white\", \"gridwidth\": 2, \"linecolor\": \"white\", \"showbackground\": true, \"ticks\": \"\", \"zerolinecolor\": \"white\"}, \"yaxis\": {\"backgroundcolor\": \"#E5ECF6\", \"gridcolor\": \"white\", \"gridwidth\": 2, \"linecolor\": \"white\", \"showbackground\": true, \"ticks\": \"\", \"zerolinecolor\": \"white\"}, \"zaxis\": {\"backgroundcolor\": \"#E5ECF6\", \"gridcolor\": \"white\", \"gridwidth\": 2, \"linecolor\": \"white\", \"showbackground\": true, \"ticks\": \"\", \"zerolinecolor\": \"white\"}}, \"shapedefaults\": {\"line\": {\"color\": \"#2a3f5f\"}}, \"ternary\": {\"aaxis\": {\"gridcolor\": \"white\", \"linecolor\": \"white\", \"ticks\": \"\"}, \"baxis\": {\"gridcolor\": \"white\", \"linecolor\": \"white\", \"ticks\": \"\"}, \"bgcolor\": \"#E5ECF6\", \"caxis\": {\"gridcolor\": \"white\", \"linecolor\": \"white\", \"ticks\": \"\"}}, \"title\": {\"x\": 0.05}, \"xaxis\": {\"automargin\": true, \"gridcolor\": \"white\", \"linecolor\": \"white\", \"ticks\": \"\", \"title\": {\"standoff\": 15}, \"zerolinecolor\": \"white\", \"zerolinewidth\": 2}, \"yaxis\": {\"automargin\": true, \"gridcolor\": \"white\", \"linecolor\": \"white\", \"ticks\": \"\", \"title\": {\"standoff\": 15}, \"zerolinecolor\": \"white\", \"zerolinewidth\": 2}}}, \"xaxis\": {\"anchor\": \"y\", \"domain\": [0.0, 1.0], \"title\": {\"text\": \"Drivetrain\"}}, \"yaxis\": {\"anchor\": \"x\", \"domain\": [0.0, 1.0], \"title\": {\"text\": \"Price\"}}},\n",
              "                        {\"responsive\": true}\n",
              "                    ).then(function(){\n",
              "                            \n",
              "var gd = document.getElementById('9db2697a-3ce2-4599-b283-1ec24cdea0a3');\n",
              "var x = new MutationObserver(function (mutations, observer) {{\n",
              "        var display = window.getComputedStyle(gd).display;\n",
              "        if (!display || display === 'none') {{\n",
              "            console.log([gd, 'removed!']);\n",
              "            Plotly.purge(gd);\n",
              "            observer.disconnect();\n",
              "        }}\n",
              "}});\n",
              "\n",
              "// Listen for the removal of the full notebook cells\n",
              "var notebookContainer = gd.closest('#notebook-container');\n",
              "if (notebookContainer) {{\n",
              "    x.observe(notebookContainer, {childList: true});\n",
              "}}\n",
              "\n",
              "// Listen for the clearing of the current output cell\n",
              "var outputEl = gd.closest('.output');\n",
              "if (outputEl) {{\n",
              "    x.observe(outputEl, {childList: true});\n",
              "}}\n",
              "\n",
              "                        })\n",
              "                };\n",
              "                \n",
              "            </script>\n",
              "        </div>\n",
              "</body>\n",
              "</html>"
            ]
          },
          "metadata": {
            "tags": []
          }
        }
      ]
    },
    {
      "cell_type": "code",
      "metadata": {
        "colab": {
          "base_uri": "https://localhost:8080/",
          "height": 388
        },
        "id": "itLu_a_HUSwq",
        "outputId": "e57a5686-1c30-4803-ae1c-e5347949e612"
      },
      "source": [
        "make_kdeplot('Drivetrain')"
      ],
      "execution_count": 2160,
      "outputs": [
        {
          "output_type": "display_data",
          "data": {
            "image/png": "[encoded data removed]",
            "text/plain": [
              "<Figure size 576x432 with 1 Axes>"
            ]
          },
          "metadata": {
            "tags": [],
            "needs_background": "light"
          }
        }
      ]
    },
    {
      "cell_type": "markdown",
      "metadata": {
        "id": "hvzGR0aqUiHp"
      },
      "source": [
        "From the figure it seems like there is more 2WD than 4WD. "
      ]
    },
    {
      "cell_type": "code",
      "metadata": {
        "colab": {
          "base_uri": "https://localhost:8080/"
        },
        "id": "5j0OjB6AMiI3",
        "outputId": "7f3e2dd7-ea39-4f91-f35a-45ec2e4faaa0"
      },
      "source": [
        "df['Fuel_type'].unique()"
      ],
      "execution_count": 2161,
      "outputs": [
        {
          "output_type": "execute_result",
          "data": {
            "text/plain": [
              "array([' Petrol', ' Diesel'], dtype=object)"
            ]
          },
          "metadata": {
            "tags": []
          },
          "execution_count": 2161
        }
      ]
    },
    {
      "cell_type": "code",
      "metadata": {
        "id": "4A7zHfdPMiI3"
      },
      "source": [
        "df['Fuel_type']=df['Fuel_type'].replace([' Petrol', ' Diesel'],[0,1])"
      ],
      "execution_count": 2162,
      "outputs": []
    },
    {
      "cell_type": "code",
      "metadata": {
        "colab": {
          "base_uri": "https://localhost:8080/",
          "height": 389
        },
        "id": "okWFSwY3U1qf",
        "outputId": "cb33209a-b3a3-4e07-fb33-87b8775a0eb5"
      },
      "source": [
        "make_kdeplot('Fuel_type')"
      ],
      "execution_count": 2163,
      "outputs": [
        {
          "output_type": "display_data",
          "data": {
            "image/png": "[encoded data removed]",
            "text/plain": [
              "<Figure size 576x432 with 1 Axes>"
            ]
          },
          "metadata": {
            "tags": [],
            "needs_background": "light"
          }
        }
      ]
    },
    {
      "cell_type": "markdown",
      "metadata": {
        "id": "29NoNbcdU89z"
      },
      "source": [
        "There are more petrol fuel vehicle  than diesel fueled vehicle. The data seems to be imbalanced among its classes."
      ]
    },
    {
      "cell_type": "code",
      "metadata": {
        "colab": {
          "base_uri": "https://localhost:8080/"
        },
        "id": "rk6l5DtNMiI3",
        "outputId": "f78d85ac-5379-417e-f743-4b899ac5a42c"
      },
      "source": [
        "df['Colour'].unique()"
      ],
      "execution_count": 2164,
      "outputs": [
        {
          "output_type": "execute_result",
          "data": {
            "text/plain": [
              "array([' golden', ' Grey', ' Sky Blue ', ' Green', ' Maroon',\n",
              "       ' royal black', ' metalic sky blue', ' Golden Silver ', ' Red',\n",
              "       ' Lilene Beige', ' White', ' Bue', ' Light Golden', ' Silver',\n",
              "       ' Sky blue', ' golden silver', ' silver', ' Metallic', ' Golden',\n",
              "       ' Gray', ' Black', ' WHITE', ' Platinum Metallic', ' Dark Gray',\n",
              "       ' Blue', ' black', ' Chocolate Grey', ' Caviar Black ', ' SILVER',\n",
              "       ' white ', '  Pearl Silver', ' orange ', ' Velvet Red', ' Beige',\n",
              "       ' sky blue', ' Caviar Black', ' Sandive grey', ' Silver ',\n",
              "       ' Cream Blue', ' Off white ', ' dark grey', ' White ',\n",
              "       ' Golden Grey', ' Moondust Silver', ' Mars Red', ' smoke grey',\n",
              "       ' White Gold', ' Orange', ' Chilly Silver ', ' grey', ' white',\n",
              "       ' Sea greay', ' Space gray', ' Paprika Red', ' Chill',\n",
              "       ' Sea gray ', ' Sea Grey', ' Siver', ' Diamond white',\n",
              "       ' Dark grey', ' silky silver', ' milky white', ' squeeze ',\n",
              "       ' Gray ', ' Metalic Grey', ' Paprika red ', ' red', ' gray',\n",
              "       ' Diamond White', ' Pearl silver ', ' diamond', ' Paprika red',\n",
              "       ' Red ', ' Colorado Red', ' D.White', ' Squeeze ',\n",
              "       ' Silky silver ', ' SQUEEZE (GREEN)', ' Kinetic blue', ' Smoke',\n",
              "       ' Sea Gray', ' Panther Black', ' maroon red', ' Maroon Red',\n",
              "       ' black ', ' Navy Green', ' Navy green', ' Bluish Silver',\n",
              "       ' Baidge', ' sliver', ' Light Blue', ' Blue ', ' Dark Grey',\n",
              "       ' maroon', ' tafeta white', ' mettalic grey', ' Metallic silver',\n",
              "       ' Brown', ' yellow', ' Grey ', ' light green', ' blue',\n",
              "       ' red & black', ' Real Earth', ' Golden ', ' Sky Blue',\n",
              "       ' Maroon red', ' GREY', ' Carbon grey', ' Silky Brown ',\n",
              "       ' Sleek silver', ' Metalic Silver', ' Blushing Red', ' Maroon ',\n",
              "       ' Pearl White', ' Royal blue', ' Dark Grey Stardust',\n",
              "       ' Champion Gold', ' Standard Black', ' Blushing red', ' BIue',\n",
              "       ' Light Green', ' SiIver', ' sky Blue', ' Aqua Silver', ' Marhoon',\n",
              "       ' Crystal White', ' chympigyan gold', ' Whiskey BIue',\n",
              "       ' light blue', ' Sleek Silver', ' Metallic Blue', ' champion gold',\n",
              "       ' Stardust', ' SIVER', ' Amber grey', ' Wine Red',\n",
              "       ' Bright Silver', ' Light Golden ', ' Sampion Gold',\n",
              "       ' Silk Silver', ' gray ', ' silver green ', ' silver ',\n",
              "       ' Light Glden', '  Sleek Silver', ' `light golden', ' golden ',\n",
              "       ' Oyster grey', ' silver,green', ' light golden',\n",
              "       ' golden orange ', ' Black ', ' Beautiful White', ' Grea',\n",
              "       ' marron red', ' Shampion Gold', ' Silk silver', ' Midnight Gray',\n",
              "       ' snow white', ' Brick red', ' Midnight grey', ' Sparkle Blue',\n",
              "       ' champagyan gold', ' silver golden', ' Siliver', ' light gold',\n",
              "       ' Forest Dew', ' Line Blue', ' Gold', ' shympain Gold',\n",
              "       ' Blue sky ', ' sampion gold', ' BLUE', ' Marron', ' Whisky Blue',\n",
              "       ' GRAY', ' teal blue', ' yellow ', ' siver', ' silk silver',\n",
              "       ' Carbon Grey', ' blue sky', ' Light golden', ' blur',\n",
              "       ' Red maron', ' Blue sky', ' silvar', ' real earth',\n",
              "       ' CARBON GREY', ' maroon ', ' blue ', ' standard red',\n",
              "       ' light grey metalic', ' dark blue ', ' BG BLACK', ' grenyet red',\n",
              "       ' RED', '  silver', ' Maroon metallic', ' Silky Silver',\n",
              "       ' Silky silver', ' Troquoise Blue', ' Gray &Black', ' skyblue',\n",
              "       ' berry red', ' Apline Blue', ' ldark skyblue', ' Sliver',\n",
              "       ' light blue  ', ' Champen Gold', ' Sampain Gold', ' Cream',\n",
              "       ' Mid nite grey', ' Dark Blue', ' light blue ', ' Teal Green',\n",
              "       ' Metalic Red', ' Metallic Silver', ' Blue Metalic', ' PURPLE',\n",
              "       ' Vanilla sake', ' Diamond Blue', ' Silver Metallic Smoke Grey ',\n",
              "       ' Titanium Silver', ' brown ', ' SIlver Metallic Grey',\n",
              "       ' Titanium ', ' Cafe Mocha', ' Royal black', ' BLACK',\n",
              "       ' Metallic Bronze', ' coffee mocha', ' titanium silver ',\n",
              "       ' Light Sky Blue', ' Metallic Grey', ' Royal Blue',\n",
              "       ' Bright silver', ' blue,', ' Read', ' designer grey',\n",
              "       ' Chocolate', ' silky silver ', ' Chocolate Brown ', ' Dark Red',\n",
              "       ' alpine blue', ' Desert brown', ' artic white', ' Parasite Blue',\n",
              "       ' Dazzling Red', ' DARK GREY', ' Silver golden', ' Purple Blue',\n",
              "       ' cayenne orange', ' Metallic steel ', ' purple',\n",
              "       ' sillky siliver', ' dusky brown', ' orange', ' azure grey',\n",
              "       ' Healing Green', ' GREEN', ' digital blue', ' Maroon/Orange',\n",
              "       ' aqua blue', ' red ', ' Copper Red ', ' METALLIC SILKY SILVER',\n",
              "       ' Dark Blue ', ' pearl blue', ' metallic blue', ' Gret',\n",
              "       ' healing green', ' Metalic Orange', ' Sunlight copper ',\n",
              "       ' dark orange', ' golden brown', ' navy blue', ' kaleji red',\n",
              "       ' Silver Gold', ' Shining White', ' Wine red', ' Arctic Silver',\n",
              "       ' Marrone ', ' Golden silver ', ' Yellowish Silver',\n",
              "       ' Capachine Baige', ' Chocolate colour', ' Light brown',\n",
              "       ' Deep Black', ' sky blue white', ' sea grey', ' Res',\n",
              "       ' Aqua green', ' Yellow', ' green', ' Burgandy royal',\n",
              "       ' tyrine wine', ' Aqua Green', ' KARBON GREY', ' metallic silver',\n",
              "       ' Carbon Black', ' Maroon Orange', ' Smokey Grey', ' Purple',\n",
              "       ' matt black', ' light blue metalic', ' Metallic Gray', ' whit',\n",
              "       ' sleek silver', ' toffee brown', ' Golden Beige', ' Red Flash'],\n",
              "      dtype=object)"
            ]
          },
          "metadata": {
            "tags": []
          },
          "execution_count": 2164
        }
      ]
    },
    {
      "cell_type": "markdown",
      "metadata": {
        "id": "8Icg008wMiI3"
      },
      "source": [
        "##### Actually Color would have more impact if the problem was about which car would get sold faster but it is about predicting the price  and color is personal preference and  has no role in determining the price of the car so I am removing the 'Colour' column"
      ]
    },
    {
      "cell_type": "code",
      "metadata": {
        "id": "QEs-P5HRMiI3"
      },
      "source": [
        "df.drop(['Colour'],axis='columns',inplace=True)"
      ],
      "execution_count": 2165,
      "outputs": []
    },
    {
      "cell_type": "code",
      "metadata": {
        "colab": {
          "base_uri": "https://localhost:8080/"
        },
        "id": "072eLPXxRKHQ",
        "outputId": "4c15e579-ff06-4e87-f91f-2667dc62bb8c"
      },
      "source": [
        "df['Brand'].unique(), len(df['Brand'].unique())"
      ],
      "execution_count": 2166,
      "outputs": [
        {
          "output_type": "execute_result",
          "data": {
            "text/plain": [
              "(array(['Chevrolet', 'Fiat', 'Ford', 'Honda', 'Hyundai', 'Kia', 'Mahindra',\n",
              "        'Maruti Suzuki', 'Nissan', 'Skoda', 'Tata', 'Toyota', 'Volkswagen'],\n",
              "       dtype=object), 13)"
            ]
          },
          "metadata": {
            "tags": []
          },
          "execution_count": 2166
        }
      ]
    },
    {
      "cell_type": "code",
      "metadata": {
        "colab": {
          "base_uri": "https://localhost:8080/"
        },
        "id": "Hn3SsPAURKUG",
        "outputId": "385e4236-8aa2-475f-e71c-62d6cb3dee24"
      },
      "source": [
        "df['Model'].unique(),len(df['Model'].unique())"
      ],
      "execution_count": 2167,
      "outputs": [
        {
          "output_type": "execute_result",
          "data": {
            "text/plain": [
              "(array(['aveo', 'captiva', 'spark', 'beat', 'u-va', 'uva', 'sedan',\n",
              "        'avventura', 'punto', 'linea', 'figo', 'palio', 'ecosport',\n",
              "        'titanium', 'fiesta', 'cr-v', 'city', 'jazz', 'brio', 'civic',\n",
              "        'crv', 'i10', 'santro', 'i20', 'getz', 'accent', 'asta', 'tucson',\n",
              "        'eon', 'creta', 'elite', 'elantra', 'sonata', 'sportage',\n",
              "        'picanto', 'soul', 'rio', 'sephia', 'carens', 'cerato', 'Kuv',\n",
              "        'scorpio', 'bolero', 'swift', 'alto-800', 'celerio', 'alto-LXI',\n",
              "        '800', 'eeco', 'Omni', 'astar', 'alto', 'dzire', 'a-star',\n",
              "        'saloon', 'sunny', 'tiida', 'fabia', 'laura', 'rapid', 'octavia',\n",
              "        'ace', 'indica', 'bolt', 'nano', 'grande', 'manza', 'venture',\n",
              "        'sumo', 'indigo', 'corolla', 'etios', 'avanza', 'echo', 'hilux',\n",
              "        'polo', 'beetle', 'tiguan', 'vento'], dtype=object), 79)"
            ]
          },
          "metadata": {
            "tags": []
          },
          "execution_count": 2167
        }
      ]
    },
    {
      "cell_type": "code",
      "metadata": {
        "colab": {
          "base_uri": "https://localhost:8080/",
          "height": 367
        },
        "id": "VHD-aTC8__AO",
        "outputId": "29f0f6c9-e680-4c8c-b49f-851178b083f3"
      },
      "source": [
        "# lets check how car model affects our price feature\n",
        "plt.subplots(figsize=(30,10))\n",
        "city_revenue_group = df[\"Price\"].groupby(df[\"Model\"])\n",
        "agg_data = city_revenue_group.sum()\n",
        "x_axis = agg_data.index\n",
        "y_axis = agg_data\n",
        "plt.bar(x_axis,y_axis)\n",
        "plt.xticks(rotation=90)\n",
        "plt.xlabel(\"Model\")\n",
        "plt.ylabel(\"Price\")\n",
        "plt.show()"
      ],
      "execution_count": 2168,
      "outputs": [
        {
          "output_type": "display_data",
          "data": {
            "image/png": "[encoded data removed]",
            "text/plain": [
              "<Figure size 2160x720 with 1 Axes>"
            ]
          },
          "metadata": {
            "tags": [],
            "needs_background": "light"
          }
        }
      ]
    },
    {
      "cell_type": "markdown",
      "metadata": {
        "id": "K87rWDLxByDX"
      },
      "source": [
        "The maximum sold used car is i10, Santro, Swift, Figo and Asta"
      ]
    },
    {
      "cell_type": "code",
      "metadata": {
        "colab": {
          "base_uri": "https://localhost:8080/",
          "height": 376
        },
        "id": "5d95kiewB_7Z",
        "outputId": "43eb8e73-d243-41f2-e422-e7f7fc46c23e"
      },
      "source": [
        "# lets check how model affects our price feature\n",
        "plt.subplots(figsize=(30,10))\n",
        "city_revenue_group = df[\"Price\"].groupby(df[\"Brand\"])\n",
        "agg_data = city_revenue_group.sum()\n",
        "x_axis = agg_data.index\n",
        "y_axis = agg_data\n",
        "plt.bar(x_axis,y_axis)\n",
        "plt.xticks(rotation=90)\n",
        "plt.xlabel(\"Brand\")\n",
        "plt.ylabel(\"Price\")\n",
        "plt.show()"
      ],
      "execution_count": 2169,
      "outputs": [
        {
          "output_type": "display_data",
          "data": {
            "image/png": "[encoded data removed]",
            "text/plain": [
              "<Figure size 2160x720 with 1 Axes>"
            ]
          },
          "metadata": {
            "tags": [],
            "needs_background": "light"
          }
        }
      ]
    },
    {
      "cell_type": "markdown",
      "metadata": {
        "id": "r2Uo3xHtCQjh"
      },
      "source": [
        "Hyundai and Maruti Suzuki are the leading car company whose car models are max sold and bought as used car in Nepal"
      ]
    },
    {
      "cell_type": "markdown",
      "metadata": {
        "id": "3ToI2TotRkX_"
      },
      "source": [
        "There are lot of classes in Brand and Models. "
      ]
    },
    {
      "cell_type": "markdown",
      "metadata": {
        "id": "1zl8z_8-MiI4"
      },
      "source": [
        "###### Each brand have their own different models . Model and brand have  similar in terms of impact on buying cars.  so instead of two separate features we can change 'Brand' and 'Model' to one single feature."
      ]
    },
    {
      "cell_type": "code",
      "metadata": {
        "id": "viBez9vAMiI4"
      },
      "source": [
        "df['Brand']=df['Brand']+df['Model']"
      ],
      "execution_count": 2170,
      "outputs": []
    },
    {
      "cell_type": "code",
      "metadata": {
        "id": "MQHcqoApMiI4"
      },
      "source": [
        "df = df.drop(['Model'], axis = 1)"
      ],
      "execution_count": 2171,
      "outputs": []
    },
    {
      "cell_type": "code",
      "metadata": {
        "colab": {
          "base_uri": "https://localhost:8080/"
        },
        "id": "sf7s3HdfMiI4",
        "outputId": "71fff2ff-aee2-423d-c426-2da5831d8e81"
      },
      "source": [
        "df.info()"
      ],
      "execution_count": 2172,
      "outputs": [
        {
          "output_type": "stream",
          "text": [
            "<class 'pandas.core.frame.DataFrame'>\n",
            "Int64Index: 1532 entries, 0 to 2216\n",
            "Data columns (total 9 columns):\n",
            " #   Column           Non-Null Count  Dtype  \n",
            "---  ------           --------------  -----  \n",
            " 0   Brand            1532 non-null   object \n",
            " 1   Model_year       1532 non-null   float64\n",
            " 2   Transmission     1532 non-null   int64  \n",
            " 3   Engine_size(cc)  1532 non-null   float64\n",
            " 4   Drivetrain       1532 non-null   int64  \n",
            " 5   Fuel_type        1532 non-null   int64  \n",
            " 6   Lot_no           1532 non-null   float64\n",
            " 7   Kilometer        1532 non-null   float64\n",
            " 8   Price            1532 non-null   int64  \n",
            "dtypes: float64(4), int64(4), object(1)\n",
            "memory usage: 159.7+ KB\n"
          ],
          "name": "stdout"
        }
      ]
    },
    {
      "cell_type": "code",
      "metadata": {
        "colab": {
          "base_uri": "https://localhost:8080/"
        },
        "id": "Yfg41zVrMiI6",
        "outputId": "080e24c1-d994-4b54-9c14-c29740dbbc7b"
      },
      "source": [
        "# finding the top 20 categories\n",
        "df.Brand.value_counts().sort_values(ascending=False).head(22)"
      ],
      "execution_count": 2173,
      "outputs": [
        {
          "output_type": "execute_result",
          "data": {
            "text/plain": [
              "Hyundaii10               214\n",
              "Hyundaisantro            174\n",
              "Maruti Suzukiswift       119\n",
              "Fordfigo                  88\n",
              "Hyundaiasta               78\n",
              "Maruti Suzukialto-800     71\n",
              "Maruti Suzukialto-LXI     71\n",
              "Kiapicanto                45\n",
              "Hyundaitucson             44\n",
              "Tataindica                41\n",
              "Volkswagenpolo            41\n",
              "Hyundaii20                38\n",
              "Toyotacorolla             33\n",
              "Hondacity                 33\n",
              "Hyundaieon                29\n",
              "Chevroletaveo             29\n",
              "Hyundaigetz               24\n",
              "Kiasportage               23\n",
              "Fordtitanium              19\n",
              "Fordecosport              18\n",
              "Hyundaiaccent             18\n",
              "Nissansaloon              18\n",
              "Name: Brand, dtype: int64"
            ]
          },
          "metadata": {
            "tags": []
          },
          "execution_count": 2173
        }
      ]
    },
    {
      "cell_type": "markdown",
      "metadata": {
        "id": "p9Pv2z_ZMiI6"
      },
      "source": [
        "###### Top 15 car model which is maximum sold as a second hand car are:"
      ]
    },
    {
      "cell_type": "code",
      "metadata": {
        "colab": {
          "base_uri": "https://localhost:8080/"
        },
        "id": "5PFUKvSZMiI7",
        "outputId": "3d5ea4d6-9aa3-411f-8dd7-66c2518a0345"
      },
      "source": [
        "# make list with top 10 variables\n",
        "top_15 = [x for x in df.Brand.value_counts().sort_values(ascending=False).head(15).index]\n",
        "top_15"
      ],
      "execution_count": 2174,
      "outputs": [
        {
          "output_type": "execute_result",
          "data": {
            "text/plain": [
              "['Hyundaii10',\n",
              " 'Hyundaisantro',\n",
              " 'Maruti Suzukiswift',\n",
              " 'Fordfigo',\n",
              " 'Hyundaiasta',\n",
              " 'Maruti Suzukialto-800',\n",
              " 'Maruti Suzukialto-LXI',\n",
              " 'Kiapicanto',\n",
              " 'Hyundaitucson',\n",
              " 'Tataindica',\n",
              " 'Volkswagenpolo',\n",
              " 'Hyundaii20',\n",
              " 'Toyotacorolla',\n",
              " 'Hondacity',\n",
              " 'Hyundaieon']"
            ]
          },
          "metadata": {
            "tags": []
          },
          "execution_count": 2174
        }
      ]
    },
    {
      "cell_type": "markdown",
      "metadata": {
        "id": "4WQPB5r3MiI7"
      },
      "source": [
        "lets make top 15 classes of Brand as a separate features and include it in dataframe using One Hot encoding technique."
      ]
    },
    {
      "cell_type": "code",
      "metadata": {
        "id": "HZnrYZMvMiI7"
      },
      "source": [
        "for categories in top_15:\n",
        "    df[categories]=np.where(df['Brand']==categories,1,0)\n",
        "top_15.append('Brand')"
      ],
      "execution_count": 2175,
      "outputs": []
    },
    {
      "cell_type": "code",
      "metadata": {
        "colab": {
          "base_uri": "https://localhost:8080/",
          "height": 413
        },
        "id": "KbXFELT9MiI7",
        "outputId": "8862fdd6-8526-4957-8b18-0636e3568bf7"
      },
      "source": [
        "df[top_15][100:110] #we can verify the one hot encoding values with Brand classes"
      ],
      "execution_count": 2176,
      "outputs": [
        {
          "output_type": "execute_result",
          "data": {
            "text/html": [
              "<div>\n",
              "<style scoped>\n",
              "    .dataframe tbody tr th:only-of-type {\n",
              "        vertical-align: middle;\n",
              "    }\n",
              "\n",
              "    .dataframe tbody tr th {\n",
              "        vertical-align: top;\n",
              "    }\n",
              "\n",
              "    .dataframe thead th {\n",
              "        text-align: right;\n",
              "    }\n",
              "</style>\n",
              "<table border=\"1\" class=\"dataframe\">\n",
              "  <thead>\n",
              "    <tr style=\"text-align: right;\">\n",
              "      <th></th>\n",
              "      <th>Hyundaii10</th>\n",
              "      <th>Hyundaisantro</th>\n",
              "      <th>Maruti Suzukiswift</th>\n",
              "      <th>Fordfigo</th>\n",
              "      <th>Hyundaiasta</th>\n",
              "      <th>Maruti Suzukialto-800</th>\n",
              "      <th>Maruti Suzukialto-LXI</th>\n",
              "      <th>Kiapicanto</th>\n",
              "      <th>Hyundaitucson</th>\n",
              "      <th>Tataindica</th>\n",
              "      <th>Volkswagenpolo</th>\n",
              "      <th>Hyundaii20</th>\n",
              "      <th>Toyotacorolla</th>\n",
              "      <th>Hondacity</th>\n",
              "      <th>Hyundaieon</th>\n",
              "      <th>Brand</th>\n",
              "    </tr>\n",
              "  </thead>\n",
              "  <tbody>\n",
              "    <tr>\n",
              "      <th>109</th>\n",
              "      <td>0</td>\n",
              "      <td>0</td>\n",
              "      <td>0</td>\n",
              "      <td>0</td>\n",
              "      <td>0</td>\n",
              "      <td>0</td>\n",
              "      <td>0</td>\n",
              "      <td>0</td>\n",
              "      <td>0</td>\n",
              "      <td>0</td>\n",
              "      <td>0</td>\n",
              "      <td>0</td>\n",
              "      <td>0</td>\n",
              "      <td>0</td>\n",
              "      <td>0</td>\n",
              "      <td>Fordecosport</td>\n",
              "    </tr>\n",
              "    <tr>\n",
              "      <th>110</th>\n",
              "      <td>0</td>\n",
              "      <td>0</td>\n",
              "      <td>0</td>\n",
              "      <td>1</td>\n",
              "      <td>0</td>\n",
              "      <td>0</td>\n",
              "      <td>0</td>\n",
              "      <td>0</td>\n",
              "      <td>0</td>\n",
              "      <td>0</td>\n",
              "      <td>0</td>\n",
              "      <td>0</td>\n",
              "      <td>0</td>\n",
              "      <td>0</td>\n",
              "      <td>0</td>\n",
              "      <td>Fordfigo</td>\n",
              "    </tr>\n",
              "    <tr>\n",
              "      <th>111</th>\n",
              "      <td>0</td>\n",
              "      <td>0</td>\n",
              "      <td>0</td>\n",
              "      <td>1</td>\n",
              "      <td>0</td>\n",
              "      <td>0</td>\n",
              "      <td>0</td>\n",
              "      <td>0</td>\n",
              "      <td>0</td>\n",
              "      <td>0</td>\n",
              "      <td>0</td>\n",
              "      <td>0</td>\n",
              "      <td>0</td>\n",
              "      <td>0</td>\n",
              "      <td>0</td>\n",
              "      <td>Fordfigo</td>\n",
              "    </tr>\n",
              "    <tr>\n",
              "      <th>112</th>\n",
              "      <td>0</td>\n",
              "      <td>0</td>\n",
              "      <td>0</td>\n",
              "      <td>0</td>\n",
              "      <td>0</td>\n",
              "      <td>0</td>\n",
              "      <td>0</td>\n",
              "      <td>0</td>\n",
              "      <td>0</td>\n",
              "      <td>0</td>\n",
              "      <td>0</td>\n",
              "      <td>0</td>\n",
              "      <td>0</td>\n",
              "      <td>0</td>\n",
              "      <td>0</td>\n",
              "      <td>Fordtitanium</td>\n",
              "    </tr>\n",
              "    <tr>\n",
              "      <th>113</th>\n",
              "      <td>0</td>\n",
              "      <td>0</td>\n",
              "      <td>0</td>\n",
              "      <td>1</td>\n",
              "      <td>0</td>\n",
              "      <td>0</td>\n",
              "      <td>0</td>\n",
              "      <td>0</td>\n",
              "      <td>0</td>\n",
              "      <td>0</td>\n",
              "      <td>0</td>\n",
              "      <td>0</td>\n",
              "      <td>0</td>\n",
              "      <td>0</td>\n",
              "      <td>0</td>\n",
              "      <td>Fordfigo</td>\n",
              "    </tr>\n",
              "    <tr>\n",
              "      <th>114</th>\n",
              "      <td>0</td>\n",
              "      <td>0</td>\n",
              "      <td>0</td>\n",
              "      <td>1</td>\n",
              "      <td>0</td>\n",
              "      <td>0</td>\n",
              "      <td>0</td>\n",
              "      <td>0</td>\n",
              "      <td>0</td>\n",
              "      <td>0</td>\n",
              "      <td>0</td>\n",
              "      <td>0</td>\n",
              "      <td>0</td>\n",
              "      <td>0</td>\n",
              "      <td>0</td>\n",
              "      <td>Fordfigo</td>\n",
              "    </tr>\n",
              "    <tr>\n",
              "      <th>115</th>\n",
              "      <td>0</td>\n",
              "      <td>0</td>\n",
              "      <td>0</td>\n",
              "      <td>1</td>\n",
              "      <td>0</td>\n",
              "      <td>0</td>\n",
              "      <td>0</td>\n",
              "      <td>0</td>\n",
              "      <td>0</td>\n",
              "      <td>0</td>\n",
              "      <td>0</td>\n",
              "      <td>0</td>\n",
              "      <td>0</td>\n",
              "      <td>0</td>\n",
              "      <td>0</td>\n",
              "      <td>Fordfigo</td>\n",
              "    </tr>\n",
              "    <tr>\n",
              "      <th>116</th>\n",
              "      <td>0</td>\n",
              "      <td>0</td>\n",
              "      <td>0</td>\n",
              "      <td>1</td>\n",
              "      <td>0</td>\n",
              "      <td>0</td>\n",
              "      <td>0</td>\n",
              "      <td>0</td>\n",
              "      <td>0</td>\n",
              "      <td>0</td>\n",
              "      <td>0</td>\n",
              "      <td>0</td>\n",
              "      <td>0</td>\n",
              "      <td>0</td>\n",
              "      <td>0</td>\n",
              "      <td>Fordfigo</td>\n",
              "    </tr>\n",
              "    <tr>\n",
              "      <th>117</th>\n",
              "      <td>0</td>\n",
              "      <td>0</td>\n",
              "      <td>0</td>\n",
              "      <td>1</td>\n",
              "      <td>0</td>\n",
              "      <td>0</td>\n",
              "      <td>0</td>\n",
              "      <td>0</td>\n",
              "      <td>0</td>\n",
              "      <td>0</td>\n",
              "      <td>0</td>\n",
              "      <td>0</td>\n",
              "      <td>0</td>\n",
              "      <td>0</td>\n",
              "      <td>0</td>\n",
              "      <td>Fordfigo</td>\n",
              "    </tr>\n",
              "    <tr>\n",
              "      <th>118</th>\n",
              "      <td>0</td>\n",
              "      <td>0</td>\n",
              "      <td>0</td>\n",
              "      <td>1</td>\n",
              "      <td>0</td>\n",
              "      <td>0</td>\n",
              "      <td>0</td>\n",
              "      <td>0</td>\n",
              "      <td>0</td>\n",
              "      <td>0</td>\n",
              "      <td>0</td>\n",
              "      <td>0</td>\n",
              "      <td>0</td>\n",
              "      <td>0</td>\n",
              "      <td>0</td>\n",
              "      <td>Fordfigo</td>\n",
              "    </tr>\n",
              "  </tbody>\n",
              "</table>\n",
              "</div>"
            ],
            "text/plain": [
              "     Hyundaii10  Hyundaisantro  ...  Hyundaieon         Brand\n",
              "109           0              0  ...           0  Fordecosport\n",
              "110           0              0  ...           0      Fordfigo\n",
              "111           0              0  ...           0      Fordfigo\n",
              "112           0              0  ...           0  Fordtitanium\n",
              "113           0              0  ...           0      Fordfigo\n",
              "114           0              0  ...           0      Fordfigo\n",
              "115           0              0  ...           0      Fordfigo\n",
              "116           0              0  ...           0      Fordfigo\n",
              "117           0              0  ...           0      Fordfigo\n",
              "118           0              0  ...           0      Fordfigo\n",
              "\n",
              "[10 rows x 16 columns]"
            ]
          },
          "metadata": {
            "tags": []
          },
          "execution_count": 2176
        }
      ]
    },
    {
      "cell_type": "code",
      "metadata": {
        "colab": {
          "base_uri": "https://localhost:8080/",
          "height": 258
        },
        "id": "VuidNRLoMiI8",
        "outputId": "5dd7452b-4857-4a8f-fcc7-b68f390c08d7"
      },
      "source": [
        "df.head() "
      ],
      "execution_count": 2177,
      "outputs": [
        {
          "output_type": "execute_result",
          "data": {
            "text/html": [
              "<div>\n",
              "<style scoped>\n",
              "    .dataframe tbody tr th:only-of-type {\n",
              "        vertical-align: middle;\n",
              "    }\n",
              "\n",
              "    .dataframe tbody tr th {\n",
              "        vertical-align: top;\n",
              "    }\n",
              "\n",
              "    .dataframe thead th {\n",
              "        text-align: right;\n",
              "    }\n",
              "</style>\n",
              "<table border=\"1\" class=\"dataframe\">\n",
              "  <thead>\n",
              "    <tr style=\"text-align: right;\">\n",
              "      <th></th>\n",
              "      <th>Brand</th>\n",
              "      <th>Model_year</th>\n",
              "      <th>Transmission</th>\n",
              "      <th>Engine_size(cc)</th>\n",
              "      <th>Drivetrain</th>\n",
              "      <th>Fuel_type</th>\n",
              "      <th>Lot_no</th>\n",
              "      <th>Kilometer</th>\n",
              "      <th>Price</th>\n",
              "      <th>Hyundaii10</th>\n",
              "      <th>Hyundaisantro</th>\n",
              "      <th>Maruti Suzukiswift</th>\n",
              "      <th>Fordfigo</th>\n",
              "      <th>Hyundaiasta</th>\n",
              "      <th>Maruti Suzukialto-800</th>\n",
              "      <th>Maruti Suzukialto-LXI</th>\n",
              "      <th>Kiapicanto</th>\n",
              "      <th>Hyundaitucson</th>\n",
              "      <th>Tataindica</th>\n",
              "      <th>Volkswagenpolo</th>\n",
              "      <th>Hyundaii20</th>\n",
              "      <th>Toyotacorolla</th>\n",
              "      <th>Hondacity</th>\n",
              "      <th>Hyundaieon</th>\n",
              "    </tr>\n",
              "  </thead>\n",
              "  <tbody>\n",
              "    <tr>\n",
              "      <th>0</th>\n",
              "      <td>Chevroletaveo</td>\n",
              "      <td>12</td>\n",
              "      <td>0</td>\n",
              "      <td>1150</td>\n",
              "      <td>0</td>\n",
              "      <td>0</td>\n",
              "      <td>6</td>\n",
              "      <td>200</td>\n",
              "      <td>975000</td>\n",
              "      <td>0</td>\n",
              "      <td>0</td>\n",
              "      <td>0</td>\n",
              "      <td>0</td>\n",
              "      <td>0</td>\n",
              "      <td>0</td>\n",
              "      <td>0</td>\n",
              "      <td>0</td>\n",
              "      <td>0</td>\n",
              "      <td>0</td>\n",
              "      <td>0</td>\n",
              "      <td>0</td>\n",
              "      <td>0</td>\n",
              "      <td>0</td>\n",
              "      <td>0</td>\n",
              "    </tr>\n",
              "    <tr>\n",
              "      <th>1</th>\n",
              "      <td>Chevroletcaptiva</td>\n",
              "      <td>6</td>\n",
              "      <td>1</td>\n",
              "      <td>2000</td>\n",
              "      <td>1</td>\n",
              "      <td>1</td>\n",
              "      <td>8</td>\n",
              "      <td>100</td>\n",
              "      <td>3000000</td>\n",
              "      <td>0</td>\n",
              "      <td>0</td>\n",
              "      <td>0</td>\n",
              "      <td>0</td>\n",
              "      <td>0</td>\n",
              "      <td>0</td>\n",
              "      <td>0</td>\n",
              "      <td>0</td>\n",
              "      <td>0</td>\n",
              "      <td>0</td>\n",
              "      <td>0</td>\n",
              "      <td>0</td>\n",
              "      <td>0</td>\n",
              "      <td>0</td>\n",
              "      <td>0</td>\n",
              "    </tr>\n",
              "    <tr>\n",
              "      <th>2</th>\n",
              "      <td>Chevroletaveo</td>\n",
              "      <td>12</td>\n",
              "      <td>0</td>\n",
              "      <td>1150</td>\n",
              "      <td>0</td>\n",
              "      <td>0</td>\n",
              "      <td>6</td>\n",
              "      <td>42000</td>\n",
              "      <td>975000</td>\n",
              "      <td>0</td>\n",
              "      <td>0</td>\n",
              "      <td>0</td>\n",
              "      <td>0</td>\n",
              "      <td>0</td>\n",
              "      <td>0</td>\n",
              "      <td>0</td>\n",
              "      <td>0</td>\n",
              "      <td>0</td>\n",
              "      <td>0</td>\n",
              "      <td>0</td>\n",
              "      <td>0</td>\n",
              "      <td>0</td>\n",
              "      <td>0</td>\n",
              "      <td>0</td>\n",
              "    </tr>\n",
              "    <tr>\n",
              "      <th>3</th>\n",
              "      <td>Chevroletcaptiva</td>\n",
              "      <td>11</td>\n",
              "      <td>1</td>\n",
              "      <td>2000</td>\n",
              "      <td>1</td>\n",
              "      <td>1</td>\n",
              "      <td>8</td>\n",
              "      <td>51000</td>\n",
              "      <td>3000000</td>\n",
              "      <td>0</td>\n",
              "      <td>0</td>\n",
              "      <td>0</td>\n",
              "      <td>0</td>\n",
              "      <td>0</td>\n",
              "      <td>0</td>\n",
              "      <td>0</td>\n",
              "      <td>0</td>\n",
              "      <td>0</td>\n",
              "      <td>0</td>\n",
              "      <td>0</td>\n",
              "      <td>0</td>\n",
              "      <td>0</td>\n",
              "      <td>0</td>\n",
              "      <td>0</td>\n",
              "    </tr>\n",
              "    <tr>\n",
              "      <th>4</th>\n",
              "      <td>Chevroletspark</td>\n",
              "      <td>9</td>\n",
              "      <td>0</td>\n",
              "      <td>1000</td>\n",
              "      <td>0</td>\n",
              "      <td>0</td>\n",
              "      <td>9</td>\n",
              "      <td>38000</td>\n",
              "      <td>1000000</td>\n",
              "      <td>0</td>\n",
              "      <td>0</td>\n",
              "      <td>0</td>\n",
              "      <td>0</td>\n",
              "      <td>0</td>\n",
              "      <td>0</td>\n",
              "      <td>0</td>\n",
              "      <td>0</td>\n",
              "      <td>0</td>\n",
              "      <td>0</td>\n",
              "      <td>0</td>\n",
              "      <td>0</td>\n",
              "      <td>0</td>\n",
              "      <td>0</td>\n",
              "      <td>0</td>\n",
              "    </tr>\n",
              "  </tbody>\n",
              "</table>\n",
              "</div>"
            ],
            "text/plain": [
              "              Brand  Model_year  ...  Hondacity  Hyundaieon\n",
              "0     Chevroletaveo          12  ...          0           0\n",
              "1  Chevroletcaptiva           6  ...          0           0\n",
              "2     Chevroletaveo          12  ...          0           0\n",
              "3  Chevroletcaptiva          11  ...          0           0\n",
              "4    Chevroletspark           9  ...          0           0\n",
              "\n",
              "[5 rows x 24 columns]"
            ]
          },
          "metadata": {
            "tags": []
          },
          "execution_count": 2177
        }
      ]
    },
    {
      "cell_type": "code",
      "metadata": {
        "id": "iyQfsq0gMiI8"
      },
      "source": [
        "# now there is no use of Brand column so lets drop it out\n",
        "df.drop(['Brand'], axis='columns', inplace=True)"
      ],
      "execution_count": 2178,
      "outputs": []
    },
    {
      "cell_type": "code",
      "metadata": {
        "colab": {
          "base_uri": "https://localhost:8080/",
          "height": 351
        },
        "id": "ocjAK1fHMiI8",
        "outputId": "5759d242-e9dc-4136-c9de-363700c05278"
      },
      "source": [
        "df.describe()"
      ],
      "execution_count": 2179,
      "outputs": [
        {
          "output_type": "execute_result",
          "data": {
            "text/html": [
              "<div>\n",
              "<style scoped>\n",
              "    .dataframe tbody tr th:only-of-type {\n",
              "        vertical-align: middle;\n",
              "    }\n",
              "\n",
              "    .dataframe tbody tr th {\n",
              "        vertical-align: top;\n",
              "    }\n",
              "\n",
              "    .dataframe thead th {\n",
              "        text-align: right;\n",
              "    }\n",
              "</style>\n",
              "<table border=\"1\" class=\"dataframe\">\n",
              "  <thead>\n",
              "    <tr style=\"text-align: right;\">\n",
              "      <th></th>\n",
              "      <th>Model_year</th>\n",
              "      <th>Transmission</th>\n",
              "      <th>Engine_size(cc)</th>\n",
              "      <th>Drivetrain</th>\n",
              "      <th>Fuel_type</th>\n",
              "      <th>Lot_no</th>\n",
              "      <th>Kilometer</th>\n",
              "      <th>Price</th>\n",
              "      <th>Hyundaii10</th>\n",
              "      <th>Hyundaisantro</th>\n",
              "      <th>Maruti Suzukiswift</th>\n",
              "      <th>Fordfigo</th>\n",
              "      <th>Hyundaiasta</th>\n",
              "      <th>Maruti Suzukialto-800</th>\n",
              "      <th>Maruti Suzukialto-LXI</th>\n",
              "      <th>Kiapicanto</th>\n",
              "      <th>Hyundaitucson</th>\n",
              "      <th>Tataindica</th>\n",
              "      <th>Volkswagenpolo</th>\n",
              "      <th>Hyundaii20</th>\n",
              "      <th>Toyotacorolla</th>\n",
              "      <th>Hondacity</th>\n",
              "      <th>Hyundaieon</th>\n",
              "    </tr>\n",
              "  </thead>\n",
              "  <tbody>\n",
              "    <tr>\n",
              "      <th>count</th>\n",
              "      <td>1532</td>\n",
              "      <td>1532</td>\n",
              "      <td>1532</td>\n",
              "      <td>1532</td>\n",
              "      <td>1532</td>\n",
              "      <td>1532</td>\n",
              "      <td>1532</td>\n",
              "      <td>1532</td>\n",
              "      <td>1532</td>\n",
              "      <td>1532</td>\n",
              "      <td>1532</td>\n",
              "      <td>1532</td>\n",
              "      <td>1532</td>\n",
              "      <td>1532</td>\n",
              "      <td>1532</td>\n",
              "      <td>1532</td>\n",
              "      <td>1532</td>\n",
              "      <td>1532</td>\n",
              "      <td>1532</td>\n",
              "      <td>1532</td>\n",
              "      <td>1532</td>\n",
              "      <td>1532</td>\n",
              "      <td>1532</td>\n",
              "    </tr>\n",
              "    <tr>\n",
              "      <th>mean</th>\n",
              "      <td>11</td>\n",
              "      <td>0</td>\n",
              "      <td>1259</td>\n",
              "      <td>0</td>\n",
              "      <td>0</td>\n",
              "      <td>8</td>\n",
              "      <td>35015</td>\n",
              "      <td>1695821</td>\n",
              "      <td>0</td>\n",
              "      <td>0</td>\n",
              "      <td>0</td>\n",
              "      <td>0</td>\n",
              "      <td>0</td>\n",
              "      <td>0</td>\n",
              "      <td>0</td>\n",
              "      <td>0</td>\n",
              "      <td>0</td>\n",
              "      <td>0</td>\n",
              "      <td>0</td>\n",
              "      <td>0</td>\n",
              "      <td>0</td>\n",
              "      <td>0</td>\n",
              "      <td>0</td>\n",
              "    </tr>\n",
              "    <tr>\n",
              "      <th>std</th>\n",
              "      <td>3</td>\n",
              "      <td>0</td>\n",
              "      <td>286</td>\n",
              "      <td>0</td>\n",
              "      <td>0</td>\n",
              "      <td>3</td>\n",
              "      <td>16636</td>\n",
              "      <td>786227</td>\n",
              "      <td>0</td>\n",
              "      <td>0</td>\n",
              "      <td>0</td>\n",
              "      <td>0</td>\n",
              "      <td>0</td>\n",
              "      <td>0</td>\n",
              "      <td>0</td>\n",
              "      <td>0</td>\n",
              "      <td>0</td>\n",
              "      <td>0</td>\n",
              "      <td>0</td>\n",
              "      <td>0</td>\n",
              "      <td>0</td>\n",
              "      <td>0</td>\n",
              "      <td>0</td>\n",
              "    </tr>\n",
              "    <tr>\n",
              "      <th>min</th>\n",
              "      <td>2</td>\n",
              "      <td>0</td>\n",
              "      <td>624</td>\n",
              "      <td>0</td>\n",
              "      <td>0</td>\n",
              "      <td>1</td>\n",
              "      <td>100</td>\n",
              "      <td>2011</td>\n",
              "      <td>0</td>\n",
              "      <td>0</td>\n",
              "      <td>0</td>\n",
              "      <td>0</td>\n",
              "      <td>0</td>\n",
              "      <td>0</td>\n",
              "      <td>0</td>\n",
              "      <td>0</td>\n",
              "      <td>0</td>\n",
              "      <td>0</td>\n",
              "      <td>0</td>\n",
              "      <td>0</td>\n",
              "      <td>0</td>\n",
              "      <td>0</td>\n",
              "      <td>0</td>\n",
              "    </tr>\n",
              "    <tr>\n",
              "      <th>25%</th>\n",
              "      <td>9</td>\n",
              "      <td>0</td>\n",
              "      <td>1100</td>\n",
              "      <td>0</td>\n",
              "      <td>0</td>\n",
              "      <td>6</td>\n",
              "      <td>24000</td>\n",
              "      <td>1200000</td>\n",
              "      <td>0</td>\n",
              "      <td>0</td>\n",
              "      <td>0</td>\n",
              "      <td>0</td>\n",
              "      <td>0</td>\n",
              "      <td>0</td>\n",
              "      <td>0</td>\n",
              "      <td>0</td>\n",
              "      <td>0</td>\n",
              "      <td>0</td>\n",
              "      <td>0</td>\n",
              "      <td>0</td>\n",
              "      <td>0</td>\n",
              "      <td>0</td>\n",
              "      <td>0</td>\n",
              "    </tr>\n",
              "    <tr>\n",
              "      <th>50%</th>\n",
              "      <td>11</td>\n",
              "      <td>0</td>\n",
              "      <td>1200</td>\n",
              "      <td>0</td>\n",
              "      <td>0</td>\n",
              "      <td>8</td>\n",
              "      <td>35000</td>\n",
              "      <td>1500000</td>\n",
              "      <td>0</td>\n",
              "      <td>0</td>\n",
              "      <td>0</td>\n",
              "      <td>0</td>\n",
              "      <td>0</td>\n",
              "      <td>0</td>\n",
              "      <td>0</td>\n",
              "      <td>0</td>\n",
              "      <td>0</td>\n",
              "      <td>0</td>\n",
              "      <td>0</td>\n",
              "      <td>0</td>\n",
              "      <td>0</td>\n",
              "      <td>0</td>\n",
              "      <td>0</td>\n",
              "    </tr>\n",
              "    <tr>\n",
              "      <th>75%</th>\n",
              "      <td>13</td>\n",
              "      <td>0</td>\n",
              "      <td>1400</td>\n",
              "      <td>0</td>\n",
              "      <td>0</td>\n",
              "      <td>10</td>\n",
              "      <td>45000</td>\n",
              "      <td>2056250</td>\n",
              "      <td>0</td>\n",
              "      <td>0</td>\n",
              "      <td>0</td>\n",
              "      <td>0</td>\n",
              "      <td>0</td>\n",
              "      <td>0</td>\n",
              "      <td>0</td>\n",
              "      <td>0</td>\n",
              "      <td>0</td>\n",
              "      <td>0</td>\n",
              "      <td>0</td>\n",
              "      <td>0</td>\n",
              "      <td>0</td>\n",
              "      <td>0</td>\n",
              "      <td>0</td>\n",
              "    </tr>\n",
              "    <tr>\n",
              "      <th>max</th>\n",
              "      <td>19</td>\n",
              "      <td>1</td>\n",
              "      <td>2000</td>\n",
              "      <td>1</td>\n",
              "      <td>1</td>\n",
              "      <td>22</td>\n",
              "      <td>85000</td>\n",
              "      <td>4200000</td>\n",
              "      <td>1</td>\n",
              "      <td>1</td>\n",
              "      <td>1</td>\n",
              "      <td>1</td>\n",
              "      <td>1</td>\n",
              "      <td>1</td>\n",
              "      <td>1</td>\n",
              "      <td>1</td>\n",
              "      <td>1</td>\n",
              "      <td>1</td>\n",
              "      <td>1</td>\n",
              "      <td>1</td>\n",
              "      <td>1</td>\n",
              "      <td>1</td>\n",
              "      <td>1</td>\n",
              "    </tr>\n",
              "  </tbody>\n",
              "</table>\n",
              "</div>"
            ],
            "text/plain": [
              "       Model_year  Transmission  ...  Hondacity  Hyundaieon\n",
              "count        1532          1532  ...       1532        1532\n",
              "mean           11             0  ...          0           0\n",
              "std             3             0  ...          0           0\n",
              "min             2             0  ...          0           0\n",
              "25%             9             0  ...          0           0\n",
              "50%            11             0  ...          0           0\n",
              "75%            13             0  ...          0           0\n",
              "max            19             1  ...          1           1\n",
              "\n",
              "[8 rows x 23 columns]"
            ]
          },
          "metadata": {
            "tags": []
          },
          "execution_count": 2179
        }
      ]
    },
    {
      "cell_type": "markdown",
      "metadata": {
        "id": "AOBKGVy4OeWY"
      },
      "source": [
        "### Separating Dependent and Independent Features"
      ]
    },
    {
      "cell_type": "code",
      "metadata": {
        "colab": {
          "base_uri": "https://localhost:8080/"
        },
        "id": "2GhwUi-DOlS2",
        "outputId": "f6df03ea-18de-4edc-ccb7-0e206b72af27"
      },
      "source": [
        "y=df['Price']\n",
        "X=df.drop('Price',axis=1)\n",
        "cols=X.columns\n",
        "cols"
      ],
      "execution_count": 2180,
      "outputs": [
        {
          "output_type": "execute_result",
          "data": {
            "text/plain": [
              "Index(['Model_year', 'Transmission', 'Engine_size(cc)', 'Drivetrain',\n",
              "       'Fuel_type', 'Lot_no', 'Kilometer', 'Hyundaii10', 'Hyundaisantro',\n",
              "       'Maruti Suzukiswift', 'Fordfigo', 'Hyundaiasta',\n",
              "       'Maruti Suzukialto-800', 'Maruti Suzukialto-LXI', 'Kiapicanto',\n",
              "       'Hyundaitucson', 'Tataindica', 'Volkswagenpolo', 'Hyundaii20',\n",
              "       'Toyotacorolla', 'Hondacity', 'Hyundaieon'],\n",
              "      dtype='object')"
            ]
          },
          "metadata": {
            "tags": []
          },
          "execution_count": 2180
        }
      ]
    },
    {
      "cell_type": "code",
      "metadata": {
        "id": "Z_QCt0gdqWJH"
      },
      "source": [
        "from sklearn.feature_selection import SelectKBest\n",
        "from sklearn.feature_selection import chi2 , f_classif\n",
        "\n",
        "FeatureSelection = SelectKBest(score_func= chi2 ,k=18) # score_func can = f_classif \n",
        "X = FeatureSelection.fit_transform(X, y)"
      ],
      "execution_count": 2181,
      "outputs": []
    },
    {
      "cell_type": "code",
      "metadata": {
        "colab": {
          "base_uri": "https://localhost:8080/"
        },
        "id": "nj4oodupqrIZ",
        "outputId": "db0dd0f6-675d-41c0-ffba-dc189f279358"
      },
      "source": [
        "#showing X Dimension \n",
        "print('X Shape is ' , X.shape)\n",
        "print('Selected Features are : ' , FeatureSelection.get_support())"
      ],
      "execution_count": 2182,
      "outputs": [
        {
          "output_type": "stream",
          "text": [
            "X Shape is  (1532, 18)\n",
            "Selected Features are :  [ True False  True  True  True  True  True  True  True  True False  True\n",
            "  True  True False  True  True  True  True  True False  True]\n"
          ],
          "name": "stdout"
        }
      ]
    },
    {
      "cell_type": "code",
      "metadata": {
        "id": "xzmI_rzEugo5"
      },
      "source": [
        "#Splitting data\n",
        "X_train, X_test, y_train, y_test = train_test_split(X, y, test_size=0.4, random_state=44, shuffle =True)"
      ],
      "execution_count": 2183,
      "outputs": []
    },
    {
      "cell_type": "code",
      "metadata": {
        "colab": {
          "base_uri": "https://localhost:8080/"
        },
        "id": "6maR-Ua1ugsm",
        "outputId": "48f8b853-08da-4499-88ea-a1e3f33d093c"
      },
      "source": [
        "#Splitted Data\n",
        "print('X_train shape is ' , X_train.shape)\n",
        "print('X_test shape is ' , X_test.shape)\n",
        "print('y_train shape is ' , y_train.shape)\n",
        "print('y_test shape is ' , y_test.shape)"
      ],
      "execution_count": 2184,
      "outputs": [
        {
          "output_type": "stream",
          "text": [
            "X_train shape is  (919, 18)\n",
            "X_test shape is  (613, 18)\n",
            "y_train shape is  (919,)\n",
            "y_test shape is  (613,)\n"
          ],
          "name": "stdout"
        }
      ]
    },
    {
      "cell_type": "code",
      "metadata": {
        "colab": {
          "base_uri": "https://localhost:8080/"
        },
        "id": "MdNamrZDugw7",
        "outputId": "04ece58d-a032-4c76-ab5c-2d776798b7ea"
      },
      "source": [
        "print('Original X Shape is ' , X.shape)"
      ],
      "execution_count": 2185,
      "outputs": [
        {
          "output_type": "stream",
          "text": [
            "Original X Shape is  (1532, 18)\n"
          ],
          "name": "stdout"
        }
      ]
    },
    {
      "cell_type": "markdown",
      "metadata": {
        "id": "gRJrT5VSS_-H"
      },
      "source": [
        "### Model Building"
      ]
    },
    {
      "cell_type": "code",
      "metadata": {
        "id": "ytn6KU-3TJGc"
      },
      "source": [
        "def predict(ml_model):          \n",
        "    model=ml_model.fit(X_train,y_train)\n",
        "    print('Training score : {}'.format(model.score(X_train,y_train)))\n",
        "    y_prediction=model.predict(X_test)\n",
        "    print('predictions are: \\n {}'.format(y_prediction[:10]))\n",
        "    print('\\n')\n",
        "    r2_score=metrics.r2_score(y_test,y_prediction)\n",
        "    print('r2 score: {}'.format(r2_score))\n",
        "    print('MAE:',metrics.mean_absolute_error(y_test,y_prediction))\n",
        "    print('MSE:',metrics.mean_squared_error(y_test,y_prediction))\n",
        "    print('RMSE:',np.sqrt(metrics.mean_squared_error(y_test,y_prediction)))\n",
        "    sns.distplot(y_test-y_prediction)\n"
      ],
      "execution_count": 2186,
      "outputs": []
    },
    {
      "cell_type": "markdown",
      "metadata": {
        "id": "wPsRawWRY6Rx"
      },
      "source": [
        "### RandomForest Regressor"
      ]
    },
    {
      "cell_type": "code",
      "metadata": {
        "colab": {
          "base_uri": "https://localhost:8080/",
          "height": 569
        },
        "id": "BCVdX9HAS67-",
        "outputId": "e95cc160-e44b-4908-e63c-5372a7f5959e"
      },
      "source": [
        "predict(RandomForestRegressor(ccp_alpha=0.1,n_estimators=50, max_depth = 70))"
      ],
      "execution_count": 2187,
      "outputs": [
        {
          "output_type": "stream",
          "text": [
            "Training score : 0.9535037779253339\n",
            "predictions are: \n",
            " [1155600.   1447000.    550720.    621920.   1223200.    974400.\n",
            " 1575260.   1426250.   2891700.   2852099.98]\n",
            "\n",
            "\n",
            "r2 score: 0.8034950709891164\n",
            "MAE: 219846.45015363846\n",
            "MSE: 125987113995.8193\n",
            "RMSE: 354946.6354197759\n"
          ],
          "name": "stdout"
        },
        {
          "output_type": "display_data",
          "data": {
            "image/png": "[encoded data removed]",
            "text/plain": [
              "<Figure size 576x432 with 1 Axes>"
            ]
          },
          "metadata": {
            "tags": [],
            "needs_background": "light"
          }
        }
      ]
    },
    {
      "cell_type": "markdown",
      "metadata": {
        "id": "B6reiz47T5vz"
      },
      "source": [
        "Here the parameter of RandomForest Regressor:\n",
        "+ ccp_alpha: Complexity parameter used for Minimal Cost-Complexity Pruning. The subtree with the largest cost complexity that is smaller than ccp_alpha will be chosen.Minimal cost-complexity pruning is an algorithm used to prune a tree to avoid over-fitting.\n",
        "\n",
        "+ n_estimators: No. of decision trees in  a forest\n",
        "+ max_depth: The maximum depth of the tree. If None, then nodes are expanded until all leaves are pure or until all leaves contain less than min_samples_split samples.\n"
      ]
    },
    {
      "cell_type": "markdown",
      "metadata": {
        "id": "0g3GG9SPZAcs"
      },
      "source": [
        "### DecisionTree Regressor"
      ]
    },
    {
      "cell_type": "code",
      "metadata": {
        "colab": {
          "base_uri": "https://localhost:8080/",
          "height": 569
        },
        "id": "qdSddO-lS-F7",
        "outputId": "576492be-f9b2-4e43-eb93-35273b2c9116"
      },
      "source": [
        "predict(DecisionTreeRegressor(max_depth=25,random_state=33))"
      ],
      "execution_count": 2188,
      "outputs": [
        {
          "output_type": "stream",
          "text": [
            "Training score : 0.9990637441857563\n",
            "predictions are: \n",
            " [ 600000. 1425000.  750000.  610000. 1225000. 1150000. 1765000. 1475000.\n",
            " 3700000. 2350000.]\n",
            "\n",
            "\n",
            "r2 score: 0.6746509247921271\n",
            "MAE: 266490.52528548124\n",
            "MSE: 208594213045.81332\n",
            "RMSE: 456721.15458539175\n"
          ],
          "name": "stdout"
        },
        {
          "output_type": "display_data",
          "data": {
            "image/png": "[encoded data removed]",
            "text/plain": [
              "<Figure size 576x432 with 1 Axes>"
            ]
          },
          "metadata": {
            "tags": [],
            "needs_background": "light"
          }
        }
      ]
    },
    {
      "cell_type": "markdown",
      "metadata": {
        "id": "a1NpiFrXeLq4"
      },
      "source": [
        "Here the parameter of DecisionTree Regressor:\n",
        "+ max_depth: The maximum depth of the tree. If None, then nodes are expanded until all leaves are pure or until all leaves contain less than min_samples_split samples."
      ]
    },
    {
      "cell_type": "markdown",
      "metadata": {
        "id": "LKu-ARTLclCU"
      },
      "source": [
        "### Linear Regression"
      ]
    },
    {
      "cell_type": "code",
      "metadata": {
        "colab": {
          "base_uri": "https://localhost:8080/",
          "height": 586
        },
        "id": "NMT-9UByY3JA",
        "outputId": "81897d3c-4c44-448d-ee03-de2a5669f8db"
      },
      "source": [
        "predict(LinearRegression())"
      ],
      "execution_count": 2189,
      "outputs": [
        {
          "output_type": "stream",
          "text": [
            "Training score : 0.7213305884828927\n",
            "predictions are: \n",
            " [1039250.01183976 1561587.7460734   420655.97079312  165593.52009557\n",
            " 1282958.41806711 1503170.12563934 1623687.26690137 1468659.51066031\n",
            " 2599802.88904033 2691049.806932  ]\n",
            "\n",
            "\n",
            "r2 score: 0.7435097015867886\n",
            "MAE: 266274.63443956524\n",
            "MSE: 164446116581.723\n",
            "RMSE: 405519.56374720443\n"
          ],
          "name": "stdout"
        },
        {
          "output_type": "display_data",
          "data": {
            "image/png": "[encoded data removed]",
            "text/plain": [
              "<Figure size 576x432 with 1 Axes>"
            ]
          },
          "metadata": {
            "tags": [],
            "needs_background": "light"
          }
        }
      ]
    },
    {
      "cell_type": "markdown",
      "metadata": {
        "id": "L1JPkV0RcqVV"
      },
      "source": [
        "### Gradient Boosting"
      ]
    },
    {
      "cell_type": "code",
      "metadata": {
        "colab": {
          "base_uri": "https://localhost:8080/",
          "height": 586
        },
        "id": "3JIoR651cw37",
        "outputId": "cf2d6e8a-f11d-4b08-c4be-a7d4b84025a5"
      },
      "source": [
        "predict(GradientBoostingRegressor(alpha=.9 , n_estimators=12,learning_rate=0.5, max_depth=12))"
      ],
      "execution_count": 2190,
      "outputs": [
        {
          "output_type": "stream",
          "text": [
            "Training score : 0.9990005653983957\n",
            "predictions are: \n",
            " [ 434663.69865959 1432131.08242937  750553.45482914  571071.21411318\n",
            " 1225849.8357274  1123948.23262977 1704327.22882535 1436393.53229787\n",
            " 3664855.54898452 2461232.69342759]\n",
            "\n",
            "\n",
            "r2 score: 0.7089750177008849\n",
            "MAE: 258038.327749875\n",
            "MSE: 186587673933.2028\n",
            "RMSE: 431957.9538950554\n"
          ],
          "name": "stdout"
        },
        {
          "output_type": "display_data",
          "data": {
            "image/png": "[encoded data removed]",
            "text/plain": [
              "<Figure size 576x432 with 1 Axes>"
            ]
          },
          "metadata": {
            "tags": [],
            "needs_background": "light"
          }
        }
      ]
    },
    {
      "cell_type": "markdown",
      "metadata": {
        "id": "5htkudmie9mk"
      },
      "source": [
        "Parameters of Gradient Boosting Algorithm:\n",
        "+ alphafloat, default=0.9:\n",
        "The alpha-quantile of the huber loss function and the quantile loss function. Only if loss='huber' or loss='quantile'.\n",
        "+ learning_rate:\n",
        "Learning rate shrinks the contribution of each tree by learning_rate. There is a trade-off between learning_rate and n_estimators.\n",
        "\n",
        "+ n_estimators:\n",
        "The number of boosting stages to perform. Gradient boosting is fairly robust to over-fitting so a large number usually results in better performance.\n",
        "\n",
        "+ max_depth: The maximum depth of the decision tree. In gradient boosting, decision tree is taken as a weak learner"
      ]
    },
    {
      "cell_type": "markdown",
      "metadata": {
        "id": "aiac2fAfdDVT"
      },
      "source": [
        "Here Decision, RandomForest and GradientBoosting algorithms model works better than linear regression or any other model. Because of following reasons:\n",
        "+ Ensemble model is not affected by outliers present in the dataset\n",
        "+ Ensemble model performs great in unbalance dataset\n",
        "+ Ensemble model is not affected by missing values."
      ]
    }
  ]
}