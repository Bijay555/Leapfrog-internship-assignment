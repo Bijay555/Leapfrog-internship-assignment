{
  "nbformat": 4,
  "nbformat_minor": 0,
  "metadata": {
    "kernelspec": {
      "display_name": "Python 3",
      "language": "python",
      "name": "python3"
    },
    "language_info": {
      "codemirror_mode": {
        "name": "ipython",
        "version": 3
      },
      "file_extension": ".py",
      "mimetype": "text/x-python",
      "name": "python",
      "nbconvert_exporter": "python",
      "pygments_lexer": "ipython3",
      "version": "3.8.2"
    },
    "colab": {
      "name": "Second hand car price prediction.ipynb",
      "provenance": [],
      "collapsed_sections": []
    }
  },
  "cells": [
    {
      "cell_type": "markdown",
      "metadata": {
        "id": "GHWGe4ZrMiId"
      },
      "source": [
        "### Project Description"
      ]
    },
    {
      "cell_type": "markdown",
      "metadata": {
        "id": "MyNoA2NzMiIe"
      },
      "source": [
        "The project is about building a price prediction model for used car . The dataset is collected from Open Data Nepal. The dataset consists of 12 features:\n",
        "1. Brand: The brand of the car\n",
        "2. Model: Car's model\n",
        "3. Model_year: The year when the car was manufactured\n",
        "4. Transmission: The transmission allows the vehicle to change gears,\n",
        "5. Engine_size(cc): the size of an engine refers to the total volume of air and fuel being pushed through the engine by the cylinders. It's measured in cubic centimetres (cc). \n",
        "6. Drivetrain: the system in a motor vehicle which connects the transmission to the drive axles. 2WD-Two Wheel Drive and 4WD-Four Wheel Drive\n",
        "7. Fuel_type: Car fuel type-Petrol or diesel\n",
        "8. Colour: Color of the car\n",
        "9. Lot_no: A lot number is an identification number assigned to a particular quantity like car. \n",
        "10. Kilometer: distance covered in kilometer\n",
        "11. Status: used or new car\n",
        "12. Price: price of the car"
      ]
    },
    {
      "cell_type": "markdown",
      "metadata": {
        "id": "s8CoE78PMiIg"
      },
      "source": [
        "### Importing packages"
      ]
    },
    {
      "cell_type": "code",
      "metadata": {
        "id": "yuRFqg7pMiIg"
      },
      "source": [
        "#import all the necessary modules\n",
        "import pandas as pd\n",
        "import numpy as np\n",
        "import matplotlib.pyplot as plt\n",
        "import seaborn as sns\n",
        "import plotly.express as px\n",
        "import warnings\n",
        "warnings.filterwarnings(\"ignore\")"
      ],
      "execution_count": null,
      "outputs": []
    },
    {
      "cell_type": "code",
      "metadata": {
        "colab": {
          "base_uri": "https://localhost:8080/",
          "height": 309
        },
        "id": "Ke3W3ncDMiIi",
        "outputId": "95c76724-8b5f-495c-ef4a-5c6b47375eda"
      },
      "source": [
        "df = pd.read_csv('used_car_data.csv')\n",
        "df.head()"
      ],
      "execution_count": null,
      "outputs": [
        {
          "output_type": "execute_result",
          "data": {
            "text/html": [
              "<div>\n",
              "<style scoped>\n",
              "    .dataframe tbody tr th:only-of-type {\n",
              "        vertical-align: middle;\n",
              "    }\n",
              "\n",
              "    .dataframe tbody tr th {\n",
              "        vertical-align: top;\n",
              "    }\n",
              "\n",
              "    .dataframe thead th {\n",
              "        text-align: right;\n",
              "    }\n",
              "</style>\n",
              "<table border=\"1\" class=\"dataframe\">\n",
              "  <thead>\n",
              "    <tr style=\"text-align: right;\">\n",
              "      <th></th>\n",
              "      <th>Brand</th>\n",
              "      <th>Model</th>\n",
              "      <th>Model_year</th>\n",
              "      <th>Transmission</th>\n",
              "      <th>Engine_size(cc)</th>\n",
              "      <th>Drivetrain</th>\n",
              "      <th>Fuel_type</th>\n",
              "      <th>Colour</th>\n",
              "      <th>Lot_no</th>\n",
              "      <th>Kilometer</th>\n",
              "      <th>Status</th>\n",
              "      <th>Price</th>\n",
              "    </tr>\n",
              "  </thead>\n",
              "  <tbody>\n",
              "    <tr>\n",
              "      <th>0</th>\n",
              "      <td>Chevrolet</td>\n",
              "      <td>aveo</td>\n",
              "      <td>2009.0</td>\n",
              "      <td>Manual</td>\n",
              "      <td>1150.0</td>\n",
              "      <td>2WD</td>\n",
              "      <td>Petrol</td>\n",
              "      <td>golden</td>\n",
              "      <td>6.0</td>\n",
              "      <td>200.0</td>\n",
              "      <td>USED</td>\n",
              "      <td>Rs. 975000</td>\n",
              "    </tr>\n",
              "    <tr>\n",
              "      <th>1</th>\n",
              "      <td>Chevrolet</td>\n",
              "      <td>captiva</td>\n",
              "      <td>2015.0</td>\n",
              "      <td>Automatic</td>\n",
              "      <td>2000.0</td>\n",
              "      <td>4WD</td>\n",
              "      <td>Diesel</td>\n",
              "      <td>Grey</td>\n",
              "      <td>8.0</td>\n",
              "      <td>100.0</td>\n",
              "      <td>USED</td>\n",
              "      <td>Rs. 3000000</td>\n",
              "    </tr>\n",
              "    <tr>\n",
              "      <th>2</th>\n",
              "      <td>Chevrolet</td>\n",
              "      <td>aveo</td>\n",
              "      <td>2009.0</td>\n",
              "      <td>Manual</td>\n",
              "      <td>1150.0</td>\n",
              "      <td>2WD</td>\n",
              "      <td>Petrol</td>\n",
              "      <td>golden</td>\n",
              "      <td>6.0</td>\n",
              "      <td>42000.0</td>\n",
              "      <td>USED</td>\n",
              "      <td>Rs. 975000</td>\n",
              "    </tr>\n",
              "    <tr>\n",
              "      <th>3</th>\n",
              "      <td>Chevrolet</td>\n",
              "      <td>captiva</td>\n",
              "      <td>2010.0</td>\n",
              "      <td>Automatic</td>\n",
              "      <td>2000.0</td>\n",
              "      <td>4WD</td>\n",
              "      <td>Diesel</td>\n",
              "      <td>Grey</td>\n",
              "      <td>8.0</td>\n",
              "      <td>51000.0</td>\n",
              "      <td>USED</td>\n",
              "      <td>Rs. 3000000</td>\n",
              "    </tr>\n",
              "    <tr>\n",
              "      <th>4</th>\n",
              "      <td>Chevrolet</td>\n",
              "      <td>spark</td>\n",
              "      <td>2012.0</td>\n",
              "      <td>Manual</td>\n",
              "      <td>1000.0</td>\n",
              "      <td>2WD</td>\n",
              "      <td>Petrol</td>\n",
              "      <td>Sky Blue</td>\n",
              "      <td>9.0</td>\n",
              "      <td>38000.0</td>\n",
              "      <td>USED</td>\n",
              "      <td>Rs. 1000000</td>\n",
              "    </tr>\n",
              "  </tbody>\n",
              "</table>\n",
              "</div>"
            ],
            "text/plain": [
              "       Brand    Model  Model_year  ... Kilometer  Status        Price\n",
              "0  Chevrolet     aveo      2009.0  ...     200.0    USED   Rs. 975000\n",
              "1  Chevrolet  captiva      2015.0  ...     100.0    USED  Rs. 3000000\n",
              "2  Chevrolet     aveo      2009.0  ...   42000.0    USED   Rs. 975000\n",
              "3  Chevrolet  captiva      2010.0  ...   51000.0    USED  Rs. 3000000\n",
              "4  Chevrolet    spark      2012.0  ...   38000.0    USED  Rs. 1000000\n",
              "\n",
              "[5 rows x 12 columns]"
            ]
          },
          "metadata": {
            "tags": []
          },
          "execution_count": 75
        }
      ]
    },
    {
      "cell_type": "code",
      "metadata": {
        "colab": {
          "base_uri": "https://localhost:8080/"
        },
        "id": "QLCuPDCdMiIj",
        "outputId": "d834381e-82a0-457a-f7f4-cbaa79e21720"
      },
      "source": [
        "df.shape"
      ],
      "execution_count": null,
      "outputs": [
        {
          "output_type": "execute_result",
          "data": {
            "text/plain": [
              "(2217, 12)"
            ]
          },
          "metadata": {
            "tags": []
          },
          "execution_count": 76
        }
      ]
    },
    {
      "cell_type": "code",
      "metadata": {
        "colab": {
          "base_uri": "https://localhost:8080/"
        },
        "id": "Fo9gQhqiMiIl",
        "outputId": "80f3ece3-7533-4d48-f706-a26c92c9d86e"
      },
      "source": [
        "df['Status'].unique()"
      ],
      "execution_count": null,
      "outputs": [
        {
          "output_type": "execute_result",
          "data": {
            "text/plain": [
              "array(['USED', nan], dtype=object)"
            ]
          },
          "metadata": {
            "tags": []
          },
          "execution_count": 77
        }
      ]
    },
    {
      "cell_type": "markdown",
      "metadata": {
        "id": "TyWekKYdMiIl"
      },
      "source": [
        "#####  Since we know that the vehicles are used vehicle so this column 'Status' has no use."
      ]
    },
    {
      "cell_type": "code",
      "metadata": {
        "id": "Rkh6vmXSMiIm"
      },
      "source": [
        "df.drop(['Status'], axis='columns', inplace=True)"
      ],
      "execution_count": null,
      "outputs": []
    },
    {
      "cell_type": "code",
      "metadata": {
        "colab": {
          "base_uri": "https://localhost:8080/",
          "height": 289
        },
        "id": "YNvRfKhjMiIn",
        "outputId": "de5036bc-4171-46f6-e6dd-a1ba37caa33c"
      },
      "source": [
        "df.head()"
      ],
      "execution_count": null,
      "outputs": [
        {
          "output_type": "execute_result",
          "data": {
            "text/html": [
              "<div>\n",
              "<style scoped>\n",
              "    .dataframe tbody tr th:only-of-type {\n",
              "        vertical-align: middle;\n",
              "    }\n",
              "\n",
              "    .dataframe tbody tr th {\n",
              "        vertical-align: top;\n",
              "    }\n",
              "\n",
              "    .dataframe thead th {\n",
              "        text-align: right;\n",
              "    }\n",
              "</style>\n",
              "<table border=\"1\" class=\"dataframe\">\n",
              "  <thead>\n",
              "    <tr style=\"text-align: right;\">\n",
              "      <th></th>\n",
              "      <th>Brand</th>\n",
              "      <th>Model</th>\n",
              "      <th>Model_year</th>\n",
              "      <th>Transmission</th>\n",
              "      <th>Engine_size(cc)</th>\n",
              "      <th>Drivetrain</th>\n",
              "      <th>Fuel_type</th>\n",
              "      <th>Colour</th>\n",
              "      <th>Lot_no</th>\n",
              "      <th>Kilometer</th>\n",
              "      <th>Price</th>\n",
              "    </tr>\n",
              "  </thead>\n",
              "  <tbody>\n",
              "    <tr>\n",
              "      <th>0</th>\n",
              "      <td>Chevrolet</td>\n",
              "      <td>aveo</td>\n",
              "      <td>2009.0</td>\n",
              "      <td>Manual</td>\n",
              "      <td>1150.0</td>\n",
              "      <td>2WD</td>\n",
              "      <td>Petrol</td>\n",
              "      <td>golden</td>\n",
              "      <td>6.0</td>\n",
              "      <td>200.0</td>\n",
              "      <td>Rs. 975000</td>\n",
              "    </tr>\n",
              "    <tr>\n",
              "      <th>1</th>\n",
              "      <td>Chevrolet</td>\n",
              "      <td>captiva</td>\n",
              "      <td>2015.0</td>\n",
              "      <td>Automatic</td>\n",
              "      <td>2000.0</td>\n",
              "      <td>4WD</td>\n",
              "      <td>Diesel</td>\n",
              "      <td>Grey</td>\n",
              "      <td>8.0</td>\n",
              "      <td>100.0</td>\n",
              "      <td>Rs. 3000000</td>\n",
              "    </tr>\n",
              "    <tr>\n",
              "      <th>2</th>\n",
              "      <td>Chevrolet</td>\n",
              "      <td>aveo</td>\n",
              "      <td>2009.0</td>\n",
              "      <td>Manual</td>\n",
              "      <td>1150.0</td>\n",
              "      <td>2WD</td>\n",
              "      <td>Petrol</td>\n",
              "      <td>golden</td>\n",
              "      <td>6.0</td>\n",
              "      <td>42000.0</td>\n",
              "      <td>Rs. 975000</td>\n",
              "    </tr>\n",
              "    <tr>\n",
              "      <th>3</th>\n",
              "      <td>Chevrolet</td>\n",
              "      <td>captiva</td>\n",
              "      <td>2010.0</td>\n",
              "      <td>Automatic</td>\n",
              "      <td>2000.0</td>\n",
              "      <td>4WD</td>\n",
              "      <td>Diesel</td>\n",
              "      <td>Grey</td>\n",
              "      <td>8.0</td>\n",
              "      <td>51000.0</td>\n",
              "      <td>Rs. 3000000</td>\n",
              "    </tr>\n",
              "    <tr>\n",
              "      <th>4</th>\n",
              "      <td>Chevrolet</td>\n",
              "      <td>spark</td>\n",
              "      <td>2012.0</td>\n",
              "      <td>Manual</td>\n",
              "      <td>1000.0</td>\n",
              "      <td>2WD</td>\n",
              "      <td>Petrol</td>\n",
              "      <td>Sky Blue</td>\n",
              "      <td>9.0</td>\n",
              "      <td>38000.0</td>\n",
              "      <td>Rs. 1000000</td>\n",
              "    </tr>\n",
              "  </tbody>\n",
              "</table>\n",
              "</div>"
            ],
            "text/plain": [
              "       Brand    Model  Model_year  ... Lot_no  Kilometer        Price\n",
              "0  Chevrolet     aveo      2009.0  ...    6.0      200.0   Rs. 975000\n",
              "1  Chevrolet  captiva      2015.0  ...    8.0      100.0  Rs. 3000000\n",
              "2  Chevrolet     aveo      2009.0  ...    6.0    42000.0   Rs. 975000\n",
              "3  Chevrolet  captiva      2010.0  ...    8.0    51000.0  Rs. 3000000\n",
              "4  Chevrolet    spark      2012.0  ...    9.0    38000.0  Rs. 1000000\n",
              "\n",
              "[5 rows x 11 columns]"
            ]
          },
          "metadata": {
            "tags": []
          },
          "execution_count": 79
        }
      ]
    },
    {
      "cell_type": "markdown",
      "metadata": {
        "id": "VL0hOIL8MiIn"
      },
      "source": [
        "### Handling Missing Values"
      ]
    },
    {
      "cell_type": "code",
      "metadata": {
        "colab": {
          "base_uri": "https://localhost:8080/"
        },
        "id": "il4iUe7fMiIn",
        "outputId": "4156e458-7d99-4ccd-c894-f460647e4194"
      },
      "source": [
        "df.isnull().sum()"
      ],
      "execution_count": null,
      "outputs": [
        {
          "output_type": "execute_result",
          "data": {
            "text/plain": [
              "Brand              316\n",
              "Model              316\n",
              "Model_year         316\n",
              "Transmission       316\n",
              "Engine_size(cc)    316\n",
              "Drivetrain         316\n",
              "Fuel_type          316\n",
              "Colour             316\n",
              "Lot_no             316\n",
              "Kilometer          316\n",
              "Price              316\n",
              "dtype: int64"
            ]
          },
          "metadata": {
            "tags": []
          },
          "execution_count": 80
        }
      ]
    },
    {
      "cell_type": "markdown",
      "metadata": {
        "id": "YaU2a8TMMiIo"
      },
      "source": [
        "###### There are equal no of missing values in all columns of the dataset. But when I see the dataset I found that these are not missing values but empty rows thatswhy all missing values are equal so we remove the these empty rows."
      ]
    },
    {
      "cell_type": "code",
      "metadata": {
        "colab": {
          "base_uri": "https://localhost:8080/"
        },
        "id": "rui5rRxrMiIo",
        "outputId": "5d0cbe47-a45e-494b-edfd-702893af6d5c"
      },
      "source": [
        "cols=['Brand','Model','Model_year','Transmission','Engine_size(cc)','Drivetrain','Fuel_type','Colour','Lot_no','Kilometer','Price']\n",
        "cols"
      ],
      "execution_count": null,
      "outputs": [
        {
          "output_type": "execute_result",
          "data": {
            "text/plain": [
              "['Brand',\n",
              " 'Model',\n",
              " 'Model_year',\n",
              " 'Transmission',\n",
              " 'Engine_size(cc)',\n",
              " 'Drivetrain',\n",
              " 'Fuel_type',\n",
              " 'Colour',\n",
              " 'Lot_no',\n",
              " 'Kilometer',\n",
              " 'Price']"
            ]
          },
          "metadata": {
            "tags": []
          },
          "execution_count": 81
        }
      ]
    },
    {
      "cell_type": "code",
      "metadata": {
        "scrolled": true,
        "colab": {
          "base_uri": "https://localhost:8080/",
          "height": 275
        },
        "id": "6eQLHyGAMiIo",
        "outputId": "74593bc8-1d1c-4368-f750-670138102a91"
      },
      "source": [
        "df.replace('',np.nan, inplace=True)\n",
        "df.tail()"
      ],
      "execution_count": null,
      "outputs": [
        {
          "output_type": "execute_result",
          "data": {
            "text/html": [
              "<div>\n",
              "<style scoped>\n",
              "    .dataframe tbody tr th:only-of-type {\n",
              "        vertical-align: middle;\n",
              "    }\n",
              "\n",
              "    .dataframe tbody tr th {\n",
              "        vertical-align: top;\n",
              "    }\n",
              "\n",
              "    .dataframe thead th {\n",
              "        text-align: right;\n",
              "    }\n",
              "</style>\n",
              "<table border=\"1\" class=\"dataframe\">\n",
              "  <thead>\n",
              "    <tr style=\"text-align: right;\">\n",
              "      <th></th>\n",
              "      <th>Brand</th>\n",
              "      <th>Model</th>\n",
              "      <th>Model_year</th>\n",
              "      <th>Transmission</th>\n",
              "      <th>Engine_size(cc)</th>\n",
              "      <th>Drivetrain</th>\n",
              "      <th>Fuel_type</th>\n",
              "      <th>Colour</th>\n",
              "      <th>Lot_no</th>\n",
              "      <th>Kilometer</th>\n",
              "      <th>Price</th>\n",
              "    </tr>\n",
              "  </thead>\n",
              "  <tbody>\n",
              "    <tr>\n",
              "      <th>2212</th>\n",
              "      <td>Volkswagen</td>\n",
              "      <td>passat</td>\n",
              "      <td>2010.0</td>\n",
              "      <td>Manual</td>\n",
              "      <td>1800.0</td>\n",
              "      <td>2WD</td>\n",
              "      <td>Petrol</td>\n",
              "      <td>black</td>\n",
              "      <td>8.0</td>\n",
              "      <td>11000.0</td>\n",
              "      <td>Rs. 5800000</td>\n",
              "    </tr>\n",
              "    <tr>\n",
              "      <th>2213</th>\n",
              "      <td>NaN</td>\n",
              "      <td>NaN</td>\n",
              "      <td>NaN</td>\n",
              "      <td>NaN</td>\n",
              "      <td>NaN</td>\n",
              "      <td>NaN</td>\n",
              "      <td>NaN</td>\n",
              "      <td>NaN</td>\n",
              "      <td>NaN</td>\n",
              "      <td>NaN</td>\n",
              "      <td>NaN</td>\n",
              "    </tr>\n",
              "    <tr>\n",
              "      <th>2214</th>\n",
              "      <td>Volkswagen</td>\n",
              "      <td>tiguan</td>\n",
              "      <td>2010.0</td>\n",
              "      <td>Manual</td>\n",
              "      <td>2000.0</td>\n",
              "      <td>2WD</td>\n",
              "      <td>Petrol</td>\n",
              "      <td>India blue</td>\n",
              "      <td>8.0</td>\n",
              "      <td>25000.0</td>\n",
              "      <td>Rs. 4900000</td>\n",
              "    </tr>\n",
              "    <tr>\n",
              "      <th>2215</th>\n",
              "      <td>NaN</td>\n",
              "      <td>NaN</td>\n",
              "      <td>NaN</td>\n",
              "      <td>NaN</td>\n",
              "      <td>NaN</td>\n",
              "      <td>NaN</td>\n",
              "      <td>NaN</td>\n",
              "      <td>NaN</td>\n",
              "      <td>NaN</td>\n",
              "      <td>NaN</td>\n",
              "      <td>NaN</td>\n",
              "    </tr>\n",
              "    <tr>\n",
              "      <th>2216</th>\n",
              "      <td>Volkswagen</td>\n",
              "      <td>vento</td>\n",
              "      <td>2012.0</td>\n",
              "      <td>Manual</td>\n",
              "      <td>1600.0</td>\n",
              "      <td>2WD</td>\n",
              "      <td>Diesel</td>\n",
              "      <td>Silver</td>\n",
              "      <td>11.0</td>\n",
              "      <td>14000.0</td>\n",
              "      <td>Rs. 3555555</td>\n",
              "    </tr>\n",
              "  </tbody>\n",
              "</table>\n",
              "</div>"
            ],
            "text/plain": [
              "           Brand   Model  Model_year  ... Lot_no  Kilometer        Price\n",
              "2212  Volkswagen  passat      2010.0  ...    8.0    11000.0  Rs. 5800000\n",
              "2213         NaN     NaN         NaN  ...    NaN        NaN          NaN\n",
              "2214  Volkswagen  tiguan      2010.0  ...    8.0    25000.0  Rs. 4900000\n",
              "2215         NaN     NaN         NaN  ...    NaN        NaN          NaN\n",
              "2216  Volkswagen   vento      2012.0  ...   11.0    14000.0  Rs. 3555555\n",
              "\n",
              "[5 rows x 11 columns]"
            ]
          },
          "metadata": {
            "tags": []
          },
          "execution_count": 82
        }
      ]
    },
    {
      "cell_type": "code",
      "metadata": {
        "colab": {
          "base_uri": "https://localhost:8080/",
          "height": 309
        },
        "id": "oOO-CDO4MiIp",
        "outputId": "86998bce-e799-45eb-e226-e1026652d8e1"
      },
      "source": [
        "df.dropna(subset=cols,inplace=True)\n",
        "df.tail()"
      ],
      "execution_count": null,
      "outputs": [
        {
          "output_type": "execute_result",
          "data": {
            "text/html": [
              "<div>\n",
              "<style scoped>\n",
              "    .dataframe tbody tr th:only-of-type {\n",
              "        vertical-align: middle;\n",
              "    }\n",
              "\n",
              "    .dataframe tbody tr th {\n",
              "        vertical-align: top;\n",
              "    }\n",
              "\n",
              "    .dataframe thead th {\n",
              "        text-align: right;\n",
              "    }\n",
              "</style>\n",
              "<table border=\"1\" class=\"dataframe\">\n",
              "  <thead>\n",
              "    <tr style=\"text-align: right;\">\n",
              "      <th></th>\n",
              "      <th>Brand</th>\n",
              "      <th>Model</th>\n",
              "      <th>Model_year</th>\n",
              "      <th>Transmission</th>\n",
              "      <th>Engine_size(cc)</th>\n",
              "      <th>Drivetrain</th>\n",
              "      <th>Fuel_type</th>\n",
              "      <th>Colour</th>\n",
              "      <th>Lot_no</th>\n",
              "      <th>Kilometer</th>\n",
              "      <th>Price</th>\n",
              "    </tr>\n",
              "  </thead>\n",
              "  <tbody>\n",
              "    <tr>\n",
              "      <th>2210</th>\n",
              "      <td>Volkswagen</td>\n",
              "      <td>polo</td>\n",
              "      <td>2013.0</td>\n",
              "      <td>Manual</td>\n",
              "      <td>1600.0</td>\n",
              "      <td>2WD</td>\n",
              "      <td>Petrol</td>\n",
              "      <td>Silver</td>\n",
              "      <td>11.0</td>\n",
              "      <td>6300.0</td>\n",
              "      <td>Rs. 2700000</td>\n",
              "    </tr>\n",
              "    <tr>\n",
              "      <th>2211</th>\n",
              "      <td>Volkswagen</td>\n",
              "      <td>beetle</td>\n",
              "      <td>2010.0</td>\n",
              "      <td>Manual</td>\n",
              "      <td>1595.0</td>\n",
              "      <td>2WD</td>\n",
              "      <td>Petrol</td>\n",
              "      <td>Maroon Red</td>\n",
              "      <td>8.0</td>\n",
              "      <td>19000.0</td>\n",
              "      <td>Rs. 3950000</td>\n",
              "    </tr>\n",
              "    <tr>\n",
              "      <th>2212</th>\n",
              "      <td>Volkswagen</td>\n",
              "      <td>passat</td>\n",
              "      <td>2010.0</td>\n",
              "      <td>Manual</td>\n",
              "      <td>1800.0</td>\n",
              "      <td>2WD</td>\n",
              "      <td>Petrol</td>\n",
              "      <td>black</td>\n",
              "      <td>8.0</td>\n",
              "      <td>11000.0</td>\n",
              "      <td>Rs. 5800000</td>\n",
              "    </tr>\n",
              "    <tr>\n",
              "      <th>2214</th>\n",
              "      <td>Volkswagen</td>\n",
              "      <td>tiguan</td>\n",
              "      <td>2010.0</td>\n",
              "      <td>Manual</td>\n",
              "      <td>2000.0</td>\n",
              "      <td>2WD</td>\n",
              "      <td>Petrol</td>\n",
              "      <td>India blue</td>\n",
              "      <td>8.0</td>\n",
              "      <td>25000.0</td>\n",
              "      <td>Rs. 4900000</td>\n",
              "    </tr>\n",
              "    <tr>\n",
              "      <th>2216</th>\n",
              "      <td>Volkswagen</td>\n",
              "      <td>vento</td>\n",
              "      <td>2012.0</td>\n",
              "      <td>Manual</td>\n",
              "      <td>1600.0</td>\n",
              "      <td>2WD</td>\n",
              "      <td>Diesel</td>\n",
              "      <td>Silver</td>\n",
              "      <td>11.0</td>\n",
              "      <td>14000.0</td>\n",
              "      <td>Rs. 3555555</td>\n",
              "    </tr>\n",
              "  </tbody>\n",
              "</table>\n",
              "</div>"
            ],
            "text/plain": [
              "           Brand   Model  Model_year  ... Lot_no  Kilometer        Price\n",
              "2210  Volkswagen    polo      2013.0  ...   11.0     6300.0  Rs. 2700000\n",
              "2211  Volkswagen  beetle      2010.0  ...    8.0    19000.0  Rs. 3950000\n",
              "2212  Volkswagen  passat      2010.0  ...    8.0    11000.0  Rs. 5800000\n",
              "2214  Volkswagen  tiguan      2010.0  ...    8.0    25000.0  Rs. 4900000\n",
              "2216  Volkswagen   vento      2012.0  ...   11.0    14000.0  Rs. 3555555\n",
              "\n",
              "[5 rows x 11 columns]"
            ]
          },
          "metadata": {
            "tags": []
          },
          "execution_count": 83
        }
      ]
    },
    {
      "cell_type": "code",
      "metadata": {
        "colab": {
          "base_uri": "https://localhost:8080/"
        },
        "id": "551CA9ynMiIq",
        "outputId": "cffc561e-afe7-4043-e59e-c9867204fe45"
      },
      "source": [
        "df.info()"
      ],
      "execution_count": null,
      "outputs": [
        {
          "output_type": "stream",
          "text": [
            "<class 'pandas.core.frame.DataFrame'>\n",
            "Int64Index: 1901 entries, 0 to 2216\n",
            "Data columns (total 11 columns):\n",
            " #   Column           Non-Null Count  Dtype  \n",
            "---  ------           --------------  -----  \n",
            " 0   Brand            1901 non-null   object \n",
            " 1   Model            1901 non-null   object \n",
            " 2   Model_year       1901 non-null   float64\n",
            " 3   Transmission     1901 non-null   object \n",
            " 4   Engine_size(cc)  1901 non-null   float64\n",
            " 5   Drivetrain       1901 non-null   object \n",
            " 6   Fuel_type        1901 non-null   object \n",
            " 7   Colour           1901 non-null   object \n",
            " 8   Lot_no           1901 non-null   float64\n",
            " 9   Kilometer        1901 non-null   float64\n",
            " 10  Price            1901 non-null   object \n",
            "dtypes: float64(4), object(7)\n",
            "memory usage: 178.2+ KB\n"
          ],
          "name": "stdout"
        }
      ]
    },
    {
      "cell_type": "markdown",
      "metadata": {
        "id": "eb_wB9YIMiIq"
      },
      "source": [
        "###### Price is an object datatype that is bacause of the 'Rs.' . Price column has 'Rs' in every row  so we remove 'Rs' and make it integer"
      ]
    },
    {
      "cell_type": "code",
      "metadata": {
        "colab": {
          "base_uri": "https://localhost:8080/"
        },
        "id": "9lZBNrkgMiIr",
        "outputId": "3cd92a1f-00b2-4b36-eac5-0cedfb43503c"
      },
      "source": [
        "df['Price'] = (df['Price'].str.strip('Rs. ').astype('int64'))\n",
        "df['Price'].head()"
      ],
      "execution_count": null,
      "outputs": [
        {
          "output_type": "execute_result",
          "data": {
            "text/plain": [
              "0     975000\n",
              "1    3000000\n",
              "2     975000\n",
              "3    3000000\n",
              "4    1000000\n",
              "Name: Price, dtype: int64"
            ]
          },
          "metadata": {
            "tags": []
          },
          "execution_count": 85
        }
      ]
    },
    {
      "cell_type": "markdown",
      "metadata": {
        "id": "vCGD1cftMiIr"
      },
      "source": [
        "###### Here we have both categorical and numerical data. lets separate numerical and categorical into 2 groups"
      ]
    },
    {
      "cell_type": "code",
      "metadata": {
        "colab": {
          "base_uri": "https://localhost:8080/"
        },
        "id": "TeHH8MQuMiIs",
        "outputId": "eacf9129-6e1d-4cbd-f18a-e9422174e55c"
      },
      "source": [
        "num_features=[col for col in df.columns if df[col].dtype!='O']\n",
        "num_features"
      ],
      "execution_count": null,
      "outputs": [
        {
          "output_type": "execute_result",
          "data": {
            "text/plain": [
              "['Model_year', 'Engine_size(cc)', 'Lot_no', 'Kilometer', 'Price']"
            ]
          },
          "metadata": {
            "tags": []
          },
          "execution_count": 86
        }
      ]
    },
    {
      "cell_type": "code",
      "metadata": {
        "colab": {
          "base_uri": "https://localhost:8080/"
        },
        "id": "CpKIZ9PAMiIs",
        "outputId": "2981635f-cf5e-450d-b612-47d61800152f"
      },
      "source": [
        "cat_features=[col for col in df.columns if df[col].dtype=='O']\n",
        "cat_features"
      ],
      "execution_count": null,
      "outputs": [
        {
          "output_type": "execute_result",
          "data": {
            "text/plain": [
              "['Brand', 'Model', 'Transmission', 'Drivetrain', 'Fuel_type', 'Colour']"
            ]
          },
          "metadata": {
            "tags": []
          },
          "execution_count": 87
        }
      ]
    },
    {
      "cell_type": "markdown",
      "metadata": {
        "id": "MOF8mZYwMiIt"
      },
      "source": [
        "### Numerical data analysis"
      ]
    },
    {
      "cell_type": "markdown",
      "metadata": {
        "id": "jxpreRzNMiIt"
      },
      "source": [
        "###### Model is in year date form . lets keep it in number of years (2021-year_date)"
      ]
    },
    {
      "cell_type": "code",
      "metadata": {
        "colab": {
          "base_uri": "https://localhost:8080/",
          "height": 204
        },
        "id": "RBt5xPYDMiIu",
        "outputId": "9c6ff05f-98c1-449e-b2c6-fbb8dbbc37ec"
      },
      "source": [
        "df.loc[:, \"Model_year\"] = df[\"Model_year\"].apply(lambda x: 2021-x) # Model_year is in year(date) form so converting it into no of year form.\n",
        "df.head()"
      ],
      "execution_count": null,
      "outputs": [
        {
          "output_type": "execute_result",
          "data": {
            "text/html": [
              "<div>\n",
              "<style scoped>\n",
              "    .dataframe tbody tr th:only-of-type {\n",
              "        vertical-align: middle;\n",
              "    }\n",
              "\n",
              "    .dataframe tbody tr th {\n",
              "        vertical-align: top;\n",
              "    }\n",
              "\n",
              "    .dataframe thead th {\n",
              "        text-align: right;\n",
              "    }\n",
              "</style>\n",
              "<table border=\"1\" class=\"dataframe\">\n",
              "  <thead>\n",
              "    <tr style=\"text-align: right;\">\n",
              "      <th></th>\n",
              "      <th>Brand</th>\n",
              "      <th>Model</th>\n",
              "      <th>Model_year</th>\n",
              "      <th>Transmission</th>\n",
              "      <th>Engine_size(cc)</th>\n",
              "      <th>Drivetrain</th>\n",
              "      <th>Fuel_type</th>\n",
              "      <th>Colour</th>\n",
              "      <th>Lot_no</th>\n",
              "      <th>Kilometer</th>\n",
              "      <th>Price</th>\n",
              "    </tr>\n",
              "  </thead>\n",
              "  <tbody>\n",
              "    <tr>\n",
              "      <th>0</th>\n",
              "      <td>Chevrolet</td>\n",
              "      <td>aveo</td>\n",
              "      <td>12.0</td>\n",
              "      <td>Manual</td>\n",
              "      <td>1150.0</td>\n",
              "      <td>2WD</td>\n",
              "      <td>Petrol</td>\n",
              "      <td>golden</td>\n",
              "      <td>6.0</td>\n",
              "      <td>200.0</td>\n",
              "      <td>975000</td>\n",
              "    </tr>\n",
              "    <tr>\n",
              "      <th>1</th>\n",
              "      <td>Chevrolet</td>\n",
              "      <td>captiva</td>\n",
              "      <td>6.0</td>\n",
              "      <td>Automatic</td>\n",
              "      <td>2000.0</td>\n",
              "      <td>4WD</td>\n",
              "      <td>Diesel</td>\n",
              "      <td>Grey</td>\n",
              "      <td>8.0</td>\n",
              "      <td>100.0</td>\n",
              "      <td>3000000</td>\n",
              "    </tr>\n",
              "    <tr>\n",
              "      <th>2</th>\n",
              "      <td>Chevrolet</td>\n",
              "      <td>aveo</td>\n",
              "      <td>12.0</td>\n",
              "      <td>Manual</td>\n",
              "      <td>1150.0</td>\n",
              "      <td>2WD</td>\n",
              "      <td>Petrol</td>\n",
              "      <td>golden</td>\n",
              "      <td>6.0</td>\n",
              "      <td>42000.0</td>\n",
              "      <td>975000</td>\n",
              "    </tr>\n",
              "    <tr>\n",
              "      <th>3</th>\n",
              "      <td>Chevrolet</td>\n",
              "      <td>captiva</td>\n",
              "      <td>11.0</td>\n",
              "      <td>Automatic</td>\n",
              "      <td>2000.0</td>\n",
              "      <td>4WD</td>\n",
              "      <td>Diesel</td>\n",
              "      <td>Grey</td>\n",
              "      <td>8.0</td>\n",
              "      <td>51000.0</td>\n",
              "      <td>3000000</td>\n",
              "    </tr>\n",
              "    <tr>\n",
              "      <th>4</th>\n",
              "      <td>Chevrolet</td>\n",
              "      <td>spark</td>\n",
              "      <td>9.0</td>\n",
              "      <td>Manual</td>\n",
              "      <td>1000.0</td>\n",
              "      <td>2WD</td>\n",
              "      <td>Petrol</td>\n",
              "      <td>Sky Blue</td>\n",
              "      <td>9.0</td>\n",
              "      <td>38000.0</td>\n",
              "      <td>1000000</td>\n",
              "    </tr>\n",
              "  </tbody>\n",
              "</table>\n",
              "</div>"
            ],
            "text/plain": [
              "       Brand    Model  Model_year  ... Lot_no  Kilometer    Price\n",
              "0  Chevrolet     aveo        12.0  ...    6.0      200.0   975000\n",
              "1  Chevrolet  captiva         6.0  ...    8.0      100.0  3000000\n",
              "2  Chevrolet     aveo        12.0  ...    6.0    42000.0   975000\n",
              "3  Chevrolet  captiva        11.0  ...    8.0    51000.0  3000000\n",
              "4  Chevrolet    spark         9.0  ...    9.0    38000.0  1000000\n",
              "\n",
              "[5 rows x 11 columns]"
            ]
          },
          "metadata": {
            "tags": []
          },
          "execution_count": 88
        }
      ]
    },
    {
      "cell_type": "code",
      "metadata": {
        "colab": {
          "base_uri": "https://localhost:8080/",
          "height": 297
        },
        "id": "EK3JRXAcMiIu",
        "outputId": "1a028728-114d-4e7f-8c7d-710f89a38bbf"
      },
      "source": [
        "df[num_features].describe()"
      ],
      "execution_count": null,
      "outputs": [
        {
          "output_type": "execute_result",
          "data": {
            "text/html": [
              "<div>\n",
              "<style scoped>\n",
              "    .dataframe tbody tr th:only-of-type {\n",
              "        vertical-align: middle;\n",
              "    }\n",
              "\n",
              "    .dataframe tbody tr th {\n",
              "        vertical-align: top;\n",
              "    }\n",
              "\n",
              "    .dataframe thead th {\n",
              "        text-align: right;\n",
              "    }\n",
              "</style>\n",
              "<table border=\"1\" class=\"dataframe\">\n",
              "  <thead>\n",
              "    <tr style=\"text-align: right;\">\n",
              "      <th></th>\n",
              "      <th>Model_year</th>\n",
              "      <th>Engine_size(cc)</th>\n",
              "      <th>Lot_no</th>\n",
              "      <th>Kilometer</th>\n",
              "      <th>Price</th>\n",
              "    </tr>\n",
              "  </thead>\n",
              "  <tbody>\n",
              "    <tr>\n",
              "      <th>count</th>\n",
              "      <td>1901.000000</td>\n",
              "      <td>1901.000000</td>\n",
              "      <td>1901.000000</td>\n",
              "      <td>1901.000000</td>\n",
              "      <td>1.901000e+03</td>\n",
              "    </tr>\n",
              "    <tr>\n",
              "      <th>mean</th>\n",
              "      <td>11.560231</td>\n",
              "      <td>1420.210416</td>\n",
              "      <td>8.264598</td>\n",
              "      <td>41094.897422</td>\n",
              "      <td>2.024845e+06</td>\n",
              "    </tr>\n",
              "    <tr>\n",
              "      <th>std</th>\n",
              "      <td>4.098546</td>\n",
              "      <td>507.546885</td>\n",
              "      <td>3.223753</td>\n",
              "      <td>38439.454222</td>\n",
              "      <td>1.797278e+06</td>\n",
              "    </tr>\n",
              "    <tr>\n",
              "      <th>min</th>\n",
              "      <td>2.000000</td>\n",
              "      <td>624.000000</td>\n",
              "      <td>1.000000</td>\n",
              "      <td>100.000000</td>\n",
              "      <td>2.011000e+03</td>\n",
              "    </tr>\n",
              "    <tr>\n",
              "      <th>25%</th>\n",
              "      <td>9.000000</td>\n",
              "      <td>1100.000000</td>\n",
              "      <td>6.000000</td>\n",
              "      <td>25000.000000</td>\n",
              "      <td>1.190000e+06</td>\n",
              "    </tr>\n",
              "    <tr>\n",
              "      <th>50%</th>\n",
              "      <td>11.000000</td>\n",
              "      <td>1200.000000</td>\n",
              "      <td>8.000000</td>\n",
              "      <td>36000.000000</td>\n",
              "      <td>1.575000e+06</td>\n",
              "    </tr>\n",
              "    <tr>\n",
              "      <th>75%</th>\n",
              "      <td>13.000000</td>\n",
              "      <td>1600.000000</td>\n",
              "      <td>10.000000</td>\n",
              "      <td>50000.000000</td>\n",
              "      <td>2.400000e+06</td>\n",
              "    </tr>\n",
              "    <tr>\n",
              "      <th>max</th>\n",
              "      <td>35.000000</td>\n",
              "      <td>4400.000000</td>\n",
              "      <td>22.000000</td>\n",
              "      <td>800000.000000</td>\n",
              "      <td>3.200000e+07</td>\n",
              "    </tr>\n",
              "  </tbody>\n",
              "</table>\n",
              "</div>"
            ],
            "text/plain": [
              "        Model_year  Engine_size(cc)       Lot_no      Kilometer         Price\n",
              "count  1901.000000      1901.000000  1901.000000    1901.000000  1.901000e+03\n",
              "mean     11.560231      1420.210416     8.264598   41094.897422  2.024845e+06\n",
              "std       4.098546       507.546885     3.223753   38439.454222  1.797278e+06\n",
              "min       2.000000       624.000000     1.000000     100.000000  2.011000e+03\n",
              "25%       9.000000      1100.000000     6.000000   25000.000000  1.190000e+06\n",
              "50%      11.000000      1200.000000     8.000000   36000.000000  1.575000e+06\n",
              "75%      13.000000      1600.000000    10.000000   50000.000000  2.400000e+06\n",
              "max      35.000000      4400.000000    22.000000  800000.000000  3.200000e+07"
            ]
          },
          "metadata": {
            "tags": []
          },
          "execution_count": 89
        }
      ]
    },
    {
      "cell_type": "markdown",
      "metadata": {
        "id": "0XZ_jsg5MiIv"
      },
      "source": [
        "Statistical Analysis:\n",
        "\n",
        "+ The used car are as old as 35 years and as new as 2 years.\n",
        "+ All features have mean and median almost equal so we can say that  dataset is perfectly symmetrical distribution.(normal distribution)\n",
        "+ For the features model_year, Kilometer and price,the difference in 75th percentile and max is too high. That means they have some outlier values.\n",
        "Since it is a Gaussian distribution so using empirical formula( mean-3*sd, mean, mean+3*sd). The presence of outlier can be determine without calculation"
      ]
    },
    {
      "cell_type": "code",
      "metadata": {
        "colab": {
          "base_uri": "https://localhost:8080/",
          "height": 204
        },
        "id": "q-BApYumMiIv",
        "outputId": "7535eead-ac28-466e-ec50-b81ac5840f8f"
      },
      "source": [
        "# corelation analysis\n",
        "co_relation=df.corr()\n",
        "co_relation"
      ],
      "execution_count": null,
      "outputs": [
        {
          "output_type": "execute_result",
          "data": {
            "text/html": [
              "<div>\n",
              "<style scoped>\n",
              "    .dataframe tbody tr th:only-of-type {\n",
              "        vertical-align: middle;\n",
              "    }\n",
              "\n",
              "    .dataframe tbody tr th {\n",
              "        vertical-align: top;\n",
              "    }\n",
              "\n",
              "    .dataframe thead th {\n",
              "        text-align: right;\n",
              "    }\n",
              "</style>\n",
              "<table border=\"1\" class=\"dataframe\">\n",
              "  <thead>\n",
              "    <tr style=\"text-align: right;\">\n",
              "      <th></th>\n",
              "      <th>Model_year</th>\n",
              "      <th>Engine_size(cc)</th>\n",
              "      <th>Lot_no</th>\n",
              "      <th>Kilometer</th>\n",
              "      <th>Price</th>\n",
              "    </tr>\n",
              "  </thead>\n",
              "  <tbody>\n",
              "    <tr>\n",
              "      <th>Model_year</th>\n",
              "      <td>1.000000</td>\n",
              "      <td>0.029666</td>\n",
              "      <td>-0.761381</td>\n",
              "      <td>0.361312</td>\n",
              "      <td>-0.247300</td>\n",
              "    </tr>\n",
              "    <tr>\n",
              "      <th>Engine_size(cc)</th>\n",
              "      <td>0.029666</td>\n",
              "      <td>1.000000</td>\n",
              "      <td>0.027301</td>\n",
              "      <td>0.219706</td>\n",
              "      <td>0.543577</td>\n",
              "    </tr>\n",
              "    <tr>\n",
              "      <th>Lot_no</th>\n",
              "      <td>-0.761381</td>\n",
              "      <td>0.027301</td>\n",
              "      <td>1.000000</td>\n",
              "      <td>-0.263498</td>\n",
              "      <td>0.223766</td>\n",
              "    </tr>\n",
              "    <tr>\n",
              "      <th>Kilometer</th>\n",
              "      <td>0.361312</td>\n",
              "      <td>0.219706</td>\n",
              "      <td>-0.263498</td>\n",
              "      <td>1.000000</td>\n",
              "      <td>-0.019350</td>\n",
              "    </tr>\n",
              "    <tr>\n",
              "      <th>Price</th>\n",
              "      <td>-0.247300</td>\n",
              "      <td>0.543577</td>\n",
              "      <td>0.223766</td>\n",
              "      <td>-0.019350</td>\n",
              "      <td>1.000000</td>\n",
              "    </tr>\n",
              "  </tbody>\n",
              "</table>\n",
              "</div>"
            ],
            "text/plain": [
              "                 Model_year  Engine_size(cc)    Lot_no  Kilometer     Price\n",
              "Model_year         1.000000         0.029666 -0.761381   0.361312 -0.247300\n",
              "Engine_size(cc)    0.029666         1.000000  0.027301   0.219706  0.543577\n",
              "Lot_no            -0.761381         0.027301  1.000000  -0.263498  0.223766\n",
              "Kilometer          0.361312         0.219706 -0.263498   1.000000 -0.019350\n",
              "Price             -0.247300         0.543577  0.223766  -0.019350  1.000000"
            ]
          },
          "metadata": {
            "tags": []
          },
          "execution_count": 90
        }
      ]
    },
    {
      "cell_type": "markdown",
      "metadata": {
        "id": "pXSk8_QgMiIv"
      },
      "source": [
        "+ Price has negative corelation with Model_year and Kilometer. \n",
        "+ The car with high kilometer travelled is supposed to be very old car over course of time so price should be low.\n",
        "+ The car manufactured long back ago will have greater model_year but is old so the price should be low.\n",
        "+ Price has positive corelation with Engine_size and lot_no\n",
        "+ Engine size higher means expenisve car so price is sufficiently high.\n",
        "+ lot no is positively corelated to price\n",
        "+ Model year and Lot no are negatively strong correlated as both represent the age of the vehivle but in opposite way."
      ]
    },
    {
      "cell_type": "code",
      "metadata": {
        "colab": {
          "base_uri": "https://localhost:8080/",
          "height": 396
        },
        "id": "QBroNEFEMiIw",
        "outputId": "3a5994c8-b041-4761-e663-72726379365f"
      },
      "source": [
        "plt.rcParams['figure.figsize'] = (8, 6)\n",
        "corr_df = df.corr()\n",
        "sns.heatmap(corr_df,annot=True)"
      ],
      "execution_count": null,
      "outputs": [
        {
          "output_type": "execute_result",
          "data": {
            "text/plain": [
              "<matplotlib.axes._subplots.AxesSubplot at 0x7f6f1f81ddd0>"
            ]
          },
          "metadata": {
            "tags": []
          },
          "execution_count": 91
        },
        {
          "output_type": "display_data",
          "data": {
            "image/png": "[encoded data removed]",
            "text/plain": [
              "<Figure size 576x432 with 2 Axes>"
            ]
          },
          "metadata": {
            "tags": [],
            "needs_background": "light"
          }
        }
      ]
    },
    {
      "cell_type": "code",
      "metadata": {
        "colab": {
          "base_uri": "https://localhost:8080/",
          "height": 403
        },
        "id": "XCqXeb4IMiIw",
        "outputId": "a0a3a1c8-fbdf-4fb8-88a7-18403176b9fb"
      },
      "source": [
        "for i,feature in enumerate(num_features):\n",
        "    plt.subplot(2,4,i+1 , facecolor='#ADD8E6' )\n",
        "    df[feature].hist()\n",
        "    plt.title(feature)"
      ],
      "execution_count": null,
      "outputs": [
        {
          "output_type": "display_data",
          "data": {
            "image/png": "[encoded data removed]",
            "text/plain": [
              "<Figure size 576x432 with 5 Axes>"
            ]
          },
          "metadata": {
            "tags": [],
            "needs_background": "light"
          }
        }
      ]
    },
    {
      "cell_type": "markdown",
      "metadata": {
        "id": "tBdNRiTIMiIw"
      },
      "source": [
        "By figure it looks like left skewed but is not as the mean is less than the median."
      ]
    },
    {
      "cell_type": "code",
      "metadata": {
        "id": "RELbyC48MiIx"
      },
      "source": [
        "# Defining box_plot and scatter plot & kde_plot functions\n",
        "\n",
        "def make_boxplot(feature):\n",
        "    plt.rcParams['figure.figsize'] = (8, 6)\n",
        "    sns.boxplot(x=df[feature])\n",
        "    \n",
        "\n",
        "def scatters(col1,col2):\n",
        "    plt.rcParams['figure.figsize'] = (6, 4)\n",
        "    fig = px.scatter(df, x=col1, y=col2 )\n",
        "    return fig.show()\n",
        "\n",
        "def make_kdeplot(feature) : \n",
        "    plt.rcParams['figure.figsize'] = (8, 6)\n",
        "    sns.kdeplot(df[feature], shade=True)"
      ],
      "execution_count": null,
      "outputs": []
    },
    {
      "cell_type": "code",
      "metadata": {
        "colab": {
          "base_uri": "https://localhost:8080/",
          "height": 399
        },
        "id": "_BGDLjg0MiIy",
        "outputId": "ff3bc6fb-33c2-4d48-f5df-a389d863a6bb"
      },
      "source": [
        "make_kdeplot('Price')"
      ],
      "execution_count": null,
      "outputs": [
        {
          "output_type": "display_data",
          "data": {
            "image/png": "[encoded data removed]",
            "text/plain": [
              "<Figure size 576x432 with 1 Axes>"
            ]
          },
          "metadata": {
            "tags": [],
            "needs_background": "light"
          }
        }
      ]
    },
    {
      "cell_type": "code",
      "metadata": {
        "colab": {
          "base_uri": "https://localhost:8080/",
          "height": 389
        },
        "id": "AAMc0NMQMiIy",
        "outputId": "85da053e-7f14-442b-9760-54870b7194a9"
      },
      "source": [
        "make_kdeplot('Model_year')"
      ],
      "execution_count": null,
      "outputs": [
        {
          "output_type": "display_data",
          "data": {
            "image/png": "[encoded data removed]",
            "text/plain": [
              "<Figure size 576x432 with 1 Axes>"
            ]
          },
          "metadata": {
            "tags": [],
            "needs_background": "light"
          }
        }
      ]
    },
    {
      "cell_type": "code",
      "metadata": {
        "colab": {
          "base_uri": "https://localhost:8080/",
          "height": 542
        },
        "id": "80Z7Ll6dMiIy",
        "outputId": "f3413f2a-f8c8-42b5-cd8d-9d2b821b49ac"
      },
      "source": [
        "scatters('Model_year','Price') "
      ],
      "execution_count": null,
      "outputs": [
        {
          "output_type": "display_data",
          "data": {
            "text/html": [
              "<html>\n",
              "<head><meta charset=\"utf-8\" /></head>\n",
              "<body>\n",
              "    <div>\n",
              "            <script src=\"https://cdnjs.cloudflare.com/ajax/libs/mathjax/2.7.5/MathJax.js?config=TeX-AMS-MML_SVG\"></script><script type=\"text/javascript\">if (window.MathJax) {MathJax.Hub.Config({SVG: {font: \"STIX-Web\"}});}</script>\n",
              "                <script type=\"text/javascript\">window.PlotlyConfig = {MathJaxConfig: 'local'};</script>\n",
              "        <script src=\"https://cdn.plot.ly/plotly-latest.min.js\"></script>    \n",
              "            <div id=\"5c0f5f09-1b14-43f3-8898-b24cd13acff8\" class=\"plotly-graph-div\" style=\"height:525px; width:100%;\"></div>\n",
              "            <script type=\"text/javascript\">\n",
              "                \n",
              "                    window.PLOTLYENV=window.PLOTLYENV || {};\n",
              "                    \n",
              "                if (document.getElementById(\"5c0f5f09-1b14-43f3-8898-b24cd13acff8\")) {\n",
              "                    Plotly.newPlot(\n",
              "                        '5c0f5f09-1b14-43f3-8898-b24cd13acff8',\n",
              "                        [{\"hoverlabel\": {\"namelength\": 0}, \"hovertemplate\": \"Model_year=%{x}<br>Price=%{y}\", \"legendgroup\": \"\", \"marker\": {\"color\": \"#636efa\", \"symbol\": \"circle\"}, \"mode\": \"markers\", \"name\": \"\", \"showlegend\": false, \"type\": \"scattergl\", \"x\": [12.0, 6.0, 12.0, 11.0, 9.0, 11.0, 10.0, 13.0, 9.0, 9.0, 11.0, 12.0, 9.0, 9.0, 12.0, 12.0, 9.0, 11.0, 11.0, 11.0, 12.0, 13.0, 11.0, 12.0, 12.0, 11.0, 12.0, 11.0, 12.0, 12.0, 12.0, 12.0, 12.0, 11.0, 10.0, 14.0, 10.0, 12.0, 11.0, 12.0, 12.0, 12.0, 11.0, 8.0, 11.0, 13.0, 12.0, 12.0, 10.0, 15.0, 14.0, 15.0, 9.0, 11.0, 10.0, 11.0, 12.0, 12.0, 11.0, 9.0, 12.0, 11.0, 13.0, 11.0, 10.0, 10.0, 11.0, 14.0, 6.0, 6.0, 9.0, 9.0, 6.0, 18.0, 10.0, 18.0, 22.0, 8.0, 11.0, 10.0, 9.0, 3.0, 7.0, 4.0, 5.0, 8.0, 5.0, 2.0, 8.0, 8.0, 7.0, 6.0, 6.0, 8.0, 7.0, 7.0, 7.0, 9.0, 9.0, 5.0, 3.0, 7.0, 7.0, 7.0, 7.0, 11.0, 7.0, 10.0, 8.0, 7.0, 7.0, 9.0, 9.0, 7.0, 11.0, 9.0, 9.0, 7.0, 10.0, 8.0, 9.0, 8.0, 10.0, 10.0, 7.0, 7.0, 9.0, 9.0, 7.0, 10.0, 9.0, 11.0, 8.0, 12.0, 10.0, 9.0, 8.0, 8.0, 7.0, 10.0, 10.0, 6.0, 9.0, 6.0, 9.0, 18.0, 9.0, 11.0, 6.0, 7.0, 10.0, 7.0, 7.0, 9.0, 7.0, 7.0, 7.0, 9.0, 7.0, 9.0, 11.0, 8.0, 9.0, 9.0, 11.0, 9.0, 15.0, 7.0, 11.0, 10.0, 10.0, 9.0, 9.0, 10.0, 9.0, 10.0, 8.0, 10.0, 7.0, 11.0, 7.0, 8.0, 7.0, 6.0, 9.0, 8.0, 8.0, 9.0, 7.0, 7.0, 7.0, 6.0, 10.0, 11.0, 11.0, 9.0, 7.0, 11.0, 9.0, 10.0, 8.0, 11.0, 11.0, 11.0, 8.0, 9.0, 9.0, 9.0, 8.0, 9.0, 9.0, 9.0, 9.0, 7.0, 11.0, 7.0, 10.0, 10.0, 8.0, 10.0, 7.0, 7.0, 11.0, 9.0, 8.0, 5.0, 13.0, 8.0, 11.0, 12.0, 7.0, 11.0, 13.0, 6.0, 12.0, 10.0, 14.0, 11.0, 11.0, 15.0, 15.0, 8.0, 17.0, 9.0, 9.0, 8.0, 15.0, 14.0, 14.0, 12.0, 6.0, 12.0, 12.0, 12.0, 9.0, 16.0, 9.0, 16.0, 15.0, 9.0, 7.0, 9.0, 12.0, 19.0, 11.0, 7.0, 14.0, 15.0, 17.0, 10.0, 16.0, 13.0, 8.0, 16.0, 12.0, 14.0, 13.0, 5.0, 8.0, 5.0, 5.0, 7.0, 13.0, 10.0, 11.0, 12.0, 14.0, 5.0, 11.0, 14.0, 12.0, 18.0, 8.0, 12.0, 11.0, 6.0, 12.0, 12.0, 12.0, 5.0, 7.0, 7.0, 7.0, 6.0, 11.0, 15.0, 9.0, 12.0, 5.0, 6.0, 8.0, 5.0, 3.0, 12.0, 5.0, 4.0, 8.0, 5.0, 10.0, 5.0, 7.0, 7.0, 3.0, 7.0, 8.0, 14.0, 12.0, 14.0, 7.0, 7.0, 7.0, 5.0, 14.0, 9.0, 8.0, 8.0, 5.0, 12.0, 12.0, 12.0, 19.0, 9.0, 11.0, 20.0, 4.0, 10.0, 12.0, 8.0, 7.0, 13.0, 12.0, 6.0, 20.0, 11.0, 12.0, 13.0, 11.0, 7.0, 15.0, 11.0, 12.0, 13.0, 12.0, 13.0, 13.0, 10.0, 13.0, 11.0, 11.0, 5.0, 12.0, 11.0, 13.0, 11.0, 21.0, 7.0, 14.0, 10.0, 7.0, 12.0, 14.0, 11.0, 12.0, 14.0, 12.0, 12.0, 6.0, 8.0, 12.0, 9.0, 18.0, 12.0, 8.0, 11.0, 11.0, 15.0, 12.0, 12.0, 14.0, 7.0, 11.0, 21.0, 13.0, 15.0, 13.0, 11.0, 11.0, 12.0, 12.0, 12.0, 12.0, 18.0, 13.0, 16.0, 12.0, 12.0, 12.0, 15.0, 8.0, 15.0, 10.0, 11.0, 9.0, 9.0, 12.0, 9.0, 13.0, 14.0, 14.0, 12.0, 12.0, 11.0, 11.0, 7.0, 21.0, 10.0, 7.0, 11.0, 12.0, 10.0, 11.0, 7.0, 14.0, 7.0, 15.0, 11.0, 11.0, 11.0, 7.0, 18.0, 17.0, 8.0, 12.0, 11.0, 13.0, 12.0, 10.0, 14.0, 8.0, 11.0, 9.0, 7.0, 13.0, 15.0, 12.0, 11.0, 12.0, 11.0, 11.0, 14.0, 12.0, 9.0, 13.0, 12.0, 12.0, 10.0, 13.0, 15.0, 10.0, 5.0, 14.0, 10.0, 14.0, 11.0, 11.0, 15.0, 7.0, 8.0, 8.0, 12.0, 11.0, 8.0, 8.0, 8.0, 8.0, 17.0, 8.0, 13.0, 8.0, 12.0, 8.0, 14.0, 11.0, 14.0, 8.0, 8.0, 13.0, 16.0, 12.0, 10.0, 10.0, 11.0, 13.0, 9.0, 12.0, 7.0, 15.0, 14.0, 14.0, 12.0, 9.0, 12.0, 15.0, 12.0, 11.0, 12.0, 13.0, 7.0, 8.0, 12.0, 13.0, 13.0, 19.0, 8.0, 12.0, 12.0, 12.0, 11.0, 17.0, 12.0, 8.0, 12.0, 13.0, 15.0, 7.0, 11.0, 11.0, 14.0, 7.0, 7.0, 11.0, 7.0, 15.0, 10.0, 12.0, 7.0, 10.0, 12.0, 9.0, 11.0, 12.0, 12.0, 12.0, 13.0, 11.0, 12.0, 11.0, 11.0, 26.0, 18.0, 7.0, 16.0, 14.0, 14.0, 7.0, 21.0, 12.0, 7.0, 8.0, 12.0, 8.0, 11.0, 12.0, 11.0, 8.0, 18.0, 13.0, 10.0, 18.0, 12.0, 12.0, 12.0, 21.0, 17.0, 7.0, 12.0, 12.0, 11.0, 7.0, 12.0, 11.0, 11.0, 12.0, 14.0, 16.0, 21.0, 12.0, 12.0, 12.0, 14.0, 12.0, 8.0, 10.0, 11.0, 12.0, 12.0, 14.0, 16.0, 13.0, 10.0, 12.0, 11.0, 12.0, 19.0, 13.0, 6.0, 12.0, 11.0, 12.0, 12.0, 15.0, 11.0, 12.0, 15.0, 12.0, 12.0, 11.0, 7.0, 9.0, 16.0, 14.0, 12.0, 12.0, 14.0, 20.0, 11.0, 15.0, 12.0, 15.0, 13.0, 11.0, 12.0, 12.0, 11.0, 15.0, 12.0, 11.0, 12.0, 11.0, 11.0, 15.0, 9.0, 14.0, 13.0, 9.0, 12.0, 10.0, 11.0, 9.0, 11.0, 12.0, 12.0, 20.0, 16.0, 9.0, 18.0, 14.0, 17.0, 12.0, 11.0, 12.0, 13.0, 12.0, 21.0, 21.0, 11.0, 12.0, 10.0, 11.0, 12.0, 10.0, 12.0, 13.0, 19.0, 12.0, 13.0, 15.0, 11.0, 11.0, 7.0, 7.0, 11.0, 11.0, 10.0, 9.0, 12.0, 16.0, 7.0, 9.0, 12.0, 12.0, 19.0, 12.0, 10.0, 7.0, 12.0, 17.0, 11.0, 21.0, 13.0, 8.0, 7.0, 20.0, 11.0, 12.0, 15.0, 11.0, 9.0, 7.0, 13.0, 11.0, 13.0, 13.0, 12.0, 12.0, 12.0, 10.0, 12.0, 12.0, 12.0, 9.0, 11.0, 9.0, 14.0, 8.0, 11.0, 12.0, 11.0, 13.0, 11.0, 7.0, 13.0, 15.0, 10.0, 11.0, 14.0, 17.0, 12.0, 15.0, 12.0, 11.0, 11.0, 11.0, 12.0, 18.0, 18.0, 12.0, 12.0, 20.0, 18.0, 10.0, 12.0, 12.0, 12.0, 21.0, 17.0, 12.0, 13.0, 20.0, 14.0, 12.0, 15.0, 7.0, 18.0, 11.0, 14.0, 16.0, 16.0, 12.0, 7.0, 9.0, 12.0, 10.0, 11.0, 9.0, 14.0, 12.0, 11.0, 15.0, 11.0, 16.0, 9.0, 19.0, 11.0, 8.0, 12.0, 10.0, 18.0, 18.0, 11.0, 11.0, 19.0, 13.0, 9.0, 9.0, 10.0, 12.0, 13.0, 15.0, 14.0, 13.0, 10.0, 9.0, 14.0, 14.0, 9.0, 10.0, 10.0, 14.0, 10.0, 12.0, 8.0, 10.0, 21.0, 10.0, 11.0, 14.0, 11.0, 16.0, 12.0, 8.0, 13.0, 9.0, 13.0, 11.0, 8.0, 12.0, 8.0, 21.0, 14.0, 12.0, 11.0, 11.0, 11.0, 11.0, 15.0, 16.0, 7.0, 13.0, 8.0, 7.0, 12.0, 14.0, 7.0, 11.0, 10.0, 11.0, 13.0, 14.0, 11.0, 14.0, 9.0, 8.0, 18.0, 12.0, 13.0, 9.0, 8.0, 12.0, 8.0, 9.0, 11.0, 12.0, 9.0, 14.0, 8.0, 15.0, 17.0, 12.0, 12.0, 13.0, 11.0, 14.0, 8.0, 16.0, 15.0, 7.0, 12.0, 11.0, 11.0, 11.0, 12.0, 12.0, 12.0, 16.0, 10.0, 12.0, 14.0, 11.0, 12.0, 18.0, 16.0, 11.0, 14.0, 14.0, 17.0, 12.0, 12.0, 12.0, 9.0, 11.0, 21.0, 13.0, 10.0, 13.0, 12.0, 15.0, 12.0, 12.0, 13.0, 10.0, 12.0, 15.0, 15.0, 18.0, 21.0, 8.0, 18.0, 11.0, 7.0, 12.0, 12.0, 14.0, 11.0, 11.0, 15.0, 10.0, 16.0, 15.0, 10.0, 11.0, 10.0, 10.0, 14.0, 16.0, 10.0, 18.0, 17.0, 11.0, 11.0, 10.0, 17.0, 17.0, 10.0, 17.0, 13.0, 18.0, 16.0, 20.0, 12.0, 13.0, 7.0, 10.0, 7.0, 13.0, 14.0, 10.0, 13.0, 11.0, 11.0, 10.0, 11.0, 10.0, 12.0, 9.0, 11.0, 15.0, 17.0, 18.0, 14.0, 12.0, 8.0, 16.0, 10.0, 18.0, 12.0, 14.0, 12.0, 10.0, 17.0, 17.0, 14.0, 13.0, 10.0, 17.0, 10.0, 6.0, 12.0, 10.0, 10.0, 15.0, 10.0, 14.0, 10.0, 22.0, 11.0, 13.0, 17.0, 11.0, 11.0, 11.0, 11.0, 13.0, 13.0, 12.0, 10.0, 10.0, 13.0, 10.0, 11.0, 18.0, 14.0, 16.0, 10.0, 14.0, 7.0, 18.0, 12.0, 18.0, 16.0, 11.0, 9.0, 20.0, 15.0, 15.0, 9.0, 10.0, 20.0, 14.0, 20.0, 11.0, 21.0, 10.0, 14.0, 13.0, 17.0, 13.0, 13.0, 18.0, 18.0, 15.0, 17.0, 11.0, 11.0, 11.0, 18.0, 18.0, 21.0, 15.0, 20.0, 9.0, 17.0, 16.0, 13.0, 14.0, 11.0, 12.0, 16.0, 11.0, 13.0, 25.0, 25.0, 12.0, 12.0, 25.0, 15.0, 12.0, 13.0, 13.0, 8.0, 7.0, 5.0, 6.0, 4.0, 3.0, 11.0, 6.0, 6.0, 6.0, 6.0, 8.0, 7.0, 17.0, 10.0, 12.0, 5.0, 4.0, 10.0, 3.0, 5.0, 4.0, 7.0, 7.0, 9.0, 4.0, 7.0, 7.0, 7.0, 5.0, 7.0, 9.0, 11.0, 11.0, 5.0, 5.0, 11.0, 14.0, 6.0, 6.0, 11.0, 16.0, 12.0, 8.0, 9.0, 7.0, 6.0, 14.0, 5.0, 7.0, 8.0, 8.0, 5.0, 7.0, 8.0, 7.0, 5.0, 13.0, 11.0, 7.0, 8.0, 9.0, 11.0, 12.0, 11.0, 8.0, 10.0, 8.0, 11.0, 10.0, 8.0, 11.0, 11.0, 11.0, 11.0, 10.0, 10.0, 19.0, 11.0, 8.0, 11.0, 9.0, 14.0, 7.0, 13.0, 8.0, 8.0, 15.0, 11.0, 10.0, 9.0, 14.0, 12.0, 8.0, 7.0, 16.0, 16.0, 12.0, 12.0, 9.0, 7.0, 10.0, 13.0, 16.0, 3.0, 15.0, 5.0, 10.0, 19.0, 11.0, 18.0, 5.0, 16.0, 6.0, 7.0, 12.0, 16.0, 24.0, 21.0, 3.0, 12.0, 5.0, 9.0, 6.0, 25.0, 5.0, 7.0, 6.0, 12.0, 20.0, 7.0, 5.0, 13.0, 9.0, 13.0, 12.0, 7.0, 16.0, 9.0, 7.0, 9.0, 8.0, 15.0, 6.0, 3.0, 3.0, 9.0, 12.0, 8.0, 3.0, 8.0, 8.0, 11.0, 14.0, 11.0, 21.0, 21.0, 7.0, 7.0, 9.0, 12.0, 11.0, 9.0, 9.0, 7.0, 11.0, 10.0, 17.0, 21.0, 18.0, 8.0, 11.0, 11.0, 11.0, 12.0, 14.0, 21.0, 7.0, 11.0, 9.0, 12.0, 20.0, 8.0, 7.0, 7.0, 16.0, 8.0, 10.0, 11.0, 9.0, 8.0, 11.0, 13.0, 11.0, 7.0, 8.0, 10.0, 7.0, 8.0, 22.0, 11.0, 9.0, 9.0, 14.0, 21.0, 7.0, 8.0, 12.0, 19.0, 19.0, 16.0, 9.0, 12.0, 14.0, 10.0, 10.0, 7.0, 11.0, 19.0, 20.0, 15.0, 8.0, 17.0, 8.0, 7.0, 13.0, 10.0, 11.0, 7.0, 10.0, 14.0, 14.0, 10.0, 11.0, 11.0, 9.0, 12.0, 11.0, 10.0, 12.0, 10.0, 7.0, 8.0, 10.0, 6.0, 7.0, 8.0, 14.0, 11.0, 7.0, 11.0, 16.0, 11.0, 15.0, 7.0, 8.0, 14.0, 13.0, 8.0, 20.0, 9.0, 8.0, 8.0, 11.0, 7.0, 7.0, 8.0, 7.0, 10.0, 11.0, 7.0, 12.0, 20.0, 7.0, 20.0, 10.0, 8.0, 13.0, 11.0, 7.0, 8.0, 6.0, 12.0, 13.0, 11.0, 15.0, 20.0, 10.0, 9.0, 9.0, 7.0, 12.0, 13.0, 12.0, 12.0, 11.0, 11.0, 12.0, 15.0, 12.0, 8.0, 10.0, 13.0, 12.0, 7.0, 13.0, 12.0, 11.0, 11.0, 15.0, 9.0, 8.0, 10.0, 26.0, 12.0, 17.0, 8.0, 8.0, 8.0, 8.0, 8.0, 9.0, 10.0, 7.0, 9.0, 12.0, 12.0, 13.0, 12.0, 10.0, 10.0, 12.0, 12.0, 12.0, 9.0, 23.0, 10.0, 10.0, 8.0, 8.0, 9.0, 12.0, 11.0, 13.0, 12.0, 16.0, 19.0, 12.0, 15.0, 15.0, 11.0, 7.0, 16.0, 7.0, 9.0, 12.0, 8.0, 12.0, 12.0, 16.0, 13.0, 12.0, 16.0, 9.0, 11.0, 16.0, 11.0, 11.0, 11.0, 7.0, 12.0, 15.0, 10.0, 11.0, 16.0, 7.0, 12.0, 12.0, 8.0, 9.0, 11.0, 10.0, 7.0, 21.0, 13.0, 13.0, 20.0, 10.0, 20.0, 8.0, 19.0, 11.0, 9.0, 14.0, 12.0, 8.0, 16.0, 12.0, 12.0, 9.0, 14.0, 12.0, 14.0, 8.0, 13.0, 19.0, 8.0, 12.0, 13.0, 16.0, 5.0, 19.0, 11.0, 13.0, 14.0, 14.0, 11.0, 16.0, 16.0, 8.0, 11.0, 11.0, 12.0, 8.0, 8.0, 9.0, 16.0, 8.0, 8.0, 16.0, 11.0, 8.0, 15.0, 16.0, 8.0, 16.0, 12.0, 8.0, 15.0, 14.0, 9.0, 11.0, 9.0, 12.0, 20.0, 18.0, 13.0, 6.0, 16.0, 19.0, 11.0, 13.0, 18.0, 11.0, 20.0, 8.0, 7.0, 24.0, 11.0, 23.0, 16.0, 19.0, 16.0, 14.0, 14.0, 14.0, 15.0, 14.0, 13.0, 11.0, 14.0, 8.0, 14.0, 23.0, 15.0, 17.0, 18.0, 15.0, 16.0, 15.0, 19.0, 14.0, 12.0, 12.0, 10.0, 10.0, 9.0, 8.0, 11.0, 10.0, 12.0, 8.0, 8.0, 12.0, 11.0, 10.0, 12.0, 12.0, 10.0, 10.0, 12.0, 7.0, 11.0, 10.0, 11.0, 12.0, 9.0, 9.0, 12.0, 11.0, 8.0, 12.0, 9.0, 9.0, 13.0, 4.0, 8.0, 8.0, 13.0, 5.0, 6.0, 4.0, 11.0, 7.0, 12.0, 11.0, 12.0, 11.0, 5.0, 8.0, 11.0, 8.0, 17.0, 9.0, 7.0, 7.0, 9.0, 7.0, 6.0, 21.0, 10.0, 9.0, 18.0, 9.0, 15.0, 10.0, 10.0, 8.0, 14.0, 14.0, 9.0, 18.0, 8.0, 9.0, 13.0, 16.0, 17.0, 5.0, 11.0, 16.0, 11.0, 9.0, 10.0, 11.0, 10.0, 7.0, 8.0, 11.0, 12.0, 11.0, 9.0, 11.0, 19.0, 19.0, 19.0, 10.0, 11.0, 8.0, 11.0, 7.0, 9.0, 10.0, 10.0, 14.0, 11.0, 15.0, 18.0, 14.0, 11.0, 19.0, 13.0, 11.0, 14.0, 16.0, 9.0, 10.0, 11.0, 14.0, 9.0, 13.0, 12.0, 11.0, 8.0, 20.0, 10.0, 14.0, 7.0, 7.0, 18.0, 16.0, 16.0, 8.0, 20.0, 13.0, 18.0, 10.0, 14.0, 14.0, 6.0, 12.0, 14.0, 12.0, 3.0, 11.0, 9.0, 6.0, 13.0, 24.0, 11.0, 25.0, 7.0, 20.0, 11.0, 25.0, 8.0, 10.0, 13.0, 14.0, 29.0, 13.0, 14.0, 15.0, 24.0, 21.0, 14.0, 14.0, 20.0, 12.0, 29.0, 19.0, 11.0, 12.0, 25.0, 9.0, 26.0, 11.0, 10.0, 14.0, 32.0, 11.0, 8.0, 18.0, 20.0, 9.0, 14.0, 14.0, 9.0, 14.0, 9.0, 11.0, 9.0, 14.0, 23.0, 9.0, 11.0, 15.0, 15.0, 19.0, 14.0, 13.0, 13.0, 13.0, 13.0, 15.0, 19.0, 11.0, 17.0, 9.0, 14.0, 14.0, 21.0, 6.0, 10.0, 6.0, 9.0, 11.0, 12.0, 12.0, 13.0, 10.0, 13.0, 11.0, 30.0, 11.0, 11.0, 8.0, 7.0, 14.0, 14.0, 10.0, 22.0, 10.0, 21.0, 32.0, 23.0, 14.0, 35.0, 24.0, 18.0, 14.0, 31.0, 18.0, 11.0, 31.0, 27.0, 22.0, 13.0, 13.0, 24.0, 19.0, 13.0, 12.0, 18.0, 10.0, 34.0, 22.0, 13.0, 13.0, 19.0, 34.0, 19.0, 7.0, 7.0, 10.0, 6.0, 11.0, 10.0, 10.0, 11.0, 10.0, 11.0, 6.0, 6.0, 11.0, 10.0, 6.0, 8.0, 8.0, 8.0, 9.0, 10.0, 8.0, 10.0, 8.0, 8.0, 10.0, 10.0, 7.0, 10.0, 11.0, 9.0, 11.0, 9.0, 11.0, 8.0, 8.0, 10.0, 9.0, 11.0, 10.0, 7.0, 8.0, 10.0, 11.0, 8.0, 10.0, 9.0, 8.0, 11.0, 9.0, 10.0, 10.0, 10.0, 11.0, 7.0, 9.0, 9.0, 10.0, 7.0, 9.0, 8.0, 9.0, 9.0, 9.0, 10.0, 7.0, 10.0, 8.0, 11.0, 11.0, 11.0, 9.0], \"xaxis\": \"x\", \"y\": [975000, 3000000, 975000, 3000000, 1000000, 1425000, 2700000, 1250000, 1475000, 1300000, 1150000, 925000, 1650000, 1100000, 975000, 975000, 1200000, 1075000, 1275000, 110000, 1450000, 1050000, 3500000, 5000000, 1200000, 1450000, 1400000, 1450000, 1100000, 1100000, 3750000, 4000000, 1450000, 1200000, 1600000, 1050000, 1650000, 1400000, 1700000, 1350000, 1550000, 1050000, 1695000, 2000000, 1200000, 1300000, 1200000, 4200000, 1150000, 1350000, 1575000, 1425000, 2300000, 5200000, 1600000, 1600000, 1200000, 1125000, 1725000, 2200000, 1500000, 4000000, 1325000, 6200000, 3000000, 1800000, 1800000, 1200000, 2300000, 2700000, 1499999, 2350000, 1800000, 550000, 1375000, 675000, 450000, 1425000, 1200000, 1250000, 1250000, 3300000, 2600000, 1050000, 17000, 1450000, 1850000, 3100000, 2400000, 1950000, 1400000, 2900000, 1450000, 2500000, 1700000, 1700000, 3100000, 2700000, 1500000, 260000, 3400000, 2250000, 4950000, 3100000, 1850000, 1200000, 3000000, 1375000, 1850000, 2800000, 2080000, 1750000, 2400000, 1525000, 1300000, 1350000, 1550000, 200000, 1350000, 1525000, 1375000, 3550000, 1435000, 1325000, 3400000, 3800000, 1750000, 1475000, 2450000, 1425000, 1375000, 1250000, 1650000, 4500000, 1450000, 1600000, 3275000, 1800000, 4350000, 1350000, 1500000, 2380000, 1650000, 3999000, 1600000, 425000, 2300000, 1550000, 3000000, 2200000, 1574997, 3400000, 3700000, 1400000, 1950000, 2800000, 2350000, 1850000, 2350000, 1400000, 1450000, 1400000, 2650000, 1725000, 2900000, 1600000, 3000000, 4150000, 1525000, 1575000, 1500000, 1775000, 7000000, 1425000, 1725000, 1575000, 1650000, 1550000, 2000000, 2700000, 1925000, 1650000, 4500000, 2025000, 2700000, 1900000, 2150000, 1650000, 3800000, 3250000, 3000000, 2000000, 1550000, 1425000, 4200000, 1550000, 3800000, 1450000, 2000000, 1750000, 1675000, 1600000, 1475000, 1600000, 4000000, 1800000, 2300000, 2300000, 7000000, 1850000, 1575000, 3000000, 1750000, 3500000, 1750000, 3350000, 1800000, 1950000, 4000000, 1700000, 3350000, 1650000, 1590000, 2850000, 3450000, 1000000, 1350000, 2400000, 2250000, 1650000, 1875000, 1800000, 1450000, 2800000, 1600000, 110000, 4151000, 3250000, 2325000, 1800000, 4200000, 2750000, 1250000, 2250000, 1775000, 3100000, 1800000, 4200000, 4600000, 1775000, 3500000, 2150000, 2150000, 2150000, 2600000, 1425000, 1750000, 1475000, 1700000, 1800000, 3100000, 1750000, 4900000, 1325000, 2550000, 3400000, 2000000, 1450000, 1200000, 3150000, 1400000, 1800000, 3000000, 1425000, 2650000, 4800000, 1350000, 2200000, 1450000, 29550000, 2150000, 1700000, 950000, 1750000, 1250000, 1125000, 1050000, 2950000, 1450000, 1150000, 1350000, 600000, 1850000, 1720000, 1475000, 2775000, 1215000, 1425000, 1325000, 2950000, 2175000, 1875000, 2050000, 2800000, 1600000, 1950000, 1575000, 1250000, 1950000, 2250000, 1225000, 4150000, 2975000, 1050000, 3000000, 3100000, 1450000, 3000000, 3700000, 3700000, 1850000, 1850000, 4000000, 1900000, 2100000, 1000000, 1200000, 2400000, 2196000, 1850000, 1850000, 3200000, 1000000, 1525000, 4200000, 1450000, 2300000, 1089996, 1180000, 1150000, 625000, 1250000, 1475000, 630000, 1350000, 1650000, 1550000, 1675000, 1850000, 2600000, 1150000, 2455000, 690000, 1750000, 1380000, 1235000, 1325000, 2025000, 2500000, 1525000, 1450000, 1150000, 3150000, 1410000, 1099999, 1325000, 1125000, 1775000, 1725000, 2400000, 1275000, 1750000, 2650000, 1725000, 525000, 2400000, 1125000, 675000, 2375000, 1475000, 1135000, 1475000, 1650000, 2900000, 1650000, 1225000, 2950000, 1850000, 1425000, 1695000, 750000, 1700000, 1450000, 1585000, 1575000, 975000, 1300000, 1275000, 850000, 2100000, 1790000, 590000, 3100000, 1100000, 1175000, 1750000, 1575000, 1375000, 1700000, 1225000, 1525000, 775000, 1100000, 950000, 1775000, 3349000, 1275000, 1000000, 1775000, 2600000, 1575000, 1795000, 1775000, 1090000, 1540000, 1665000, 1425000, 900000, 1150000, 1850000, 1850000, 1600000, 1525000, 2450000, 550000, 1550000, 2375000, 1725000, 1500000, 1575000, 1775000, 1875000, 1150000, 2200000, 1200000, 1500000, 1575000, 1575000, 2400000, 725000, 850000, 1860000, 1300000, 1575000, 1225000, 1325000, 1650000, 900000, 1600000, 1575000, 1350000, 3100000, 1325000, 1075000, 1445000, 1325000, 1400000, 1800000, 1310000, 1175000, 1650000, 1600000, 1425000, 1275000, 1400000, 1345000, 1550000, 1050000, 5800000, 3350000, 1150000, 2011, 1000000, 2000000, 1525000, 1025000, 2125000, 1600000, 1600000, 1350000, 1625000, 1500000, 1775000, 1550000, 1550000, 800000, 3100000, 1324999, 1600000, 1225000, 1875000, 2725000, 4800000, 1170000, 1600000, 1400000, 1175000, 850000, 1575000, 5050000, 1675000, 1525000, 1545000, 1675000, 1700000, 3199999, 1050000, 1150000, 2850000, 1225000, 1675000, 1435000, 1355000, 3300000, 1625000, 1360000, 1150000, 2455000, 1975000, 155000, 1175000, 1325000, 650000, 1850000, 1725000, 1725000, 1550000, 1850000, 1025000, 1550000, 6000000, 3300000, 1325000, 2650000, 2000000, 1300000, 1650000, 2650000, 2300000, 2450000, 1650000, 2000000, 1100000, 1350000, 1450000, 2076000, 5200000, 1575000, 5575000, 1475000, 1250000, 1250000, 3500000, 1350000, 1725000, 1390000, 1850000, 5800000, 250000, 700000, 2475000, 1100000, 1175000, 1175000, 2450000, 520000, 1250000, 2450000, 1300000, 1499999, 1400000, 1850000, 1250000, 1300000, 1775000, 825000, 3200000, 1675000, 725000, 1400000, 1175000, 1750000, 600000, 780000, 2450000, 1150000, 1150000, 1525000, 2000000, 1425000, 1225000, 1575000, 1625000, 1050000, 1000000, 525000, 1250000, 1725000, 1250000, 1175000, 3300000, 1250000, 1350000, 1550000, 1525000, 1750000, 1175000, 1025000, 1150000, 1680000, 1450000, 1475000, 1750000, 2450000, 1175000, 2150000, 3500000, 1250000, 1400000, 1250000, 1090000, 1850000, 1625000, 2600000, 1200000, 1750000, 1300000, 2450000, 1225000, 1025000, 1150000, 1550000, 1425000, 1150000, 510000, 1225000, 1550000, 1600000, 1300000, 3150000, 1520000, 1575000, 1705000, 1850000, 1100000, 1475000, 1750000, 1400000, 1824000, 1575000, 1075000, 1750000, 2850000, 1175000, 1275000, 1380000, 1350000, 1590000, 1450000, 1225000, 1360000, 1275000, 675000, 1050000, 1725000, 675000, 1200000, 950000, 1350000, 1825000, 1400000, 1275000, 1750000, 550000, 600000, 1775000, 1400000, 1725000, 1350000, 1200000, 2200000, 1400000, 1200000, 725000, 1400000, 1325000, 1100000, 1525000, 1590000, 2550000, 1700000, 1900000, 1325000, 1750000, 1725000, 1425000, 1050000, 2450000, 1800000, 1400000, 1225000, 750000, 3700000, 1750000, 2425000, 1200000, 2400000, 1575000, 650000, 1333333, 1450000, 2154993, 700000, 1825000, 3400000, 900000, 1800000, 1325000, 2150000, 1350000, 1550000, 850000, 1350000, 1825000, 1400000, 1400000, 1000000, 1650000, 1350000, 1350000, 1190000, 1500000, 1325000, 1500000, 1750000, 1525000, 1775000, 1550000, 3175000, 4000000, 2550000, 1700000, 1075000, 1675000, 1300000, 1200000, 845000, 1425000, 2900000, 1500000, 1500000, 1850000, 1575000, 1450000, 850000, 785000, 1175000, 3500000, 700000, 825000, 1750000, 1450000, 3700000, 3250000, 675000, 800000, 1375000, 1225000, 750000, 925000, 1315000, 2700000, 1765000, 700000, 1825000, 1150000, 1050000, 925000, 1250000, 170000, 2300000, 3400000, 1625000, 1375000, 1375000, 1200000, 1225000, 1850000, 950000, 1849000, 1025000, 1650000, 750000, 1375000, 1425000, 1375000, 1625000, 785000, 800000, 1450000, 1625000, 1450000, 3250000, 1325000, 1530000, 1650000, 1235000, 1000000, 975000, 1140000, 1275000, 1950000, 1875000, 1175000, 850000, 1425000, 1750000, 1625000, 1195000, 1775000, 1450000, 1475000, 1825000, 650000, 1950000, 1625000, 1150000, 1550000, 2550000, 1395000, 4800000, 1250000, 1425000, 1265000, 1290000, 1775000, 3450000, 1460000, 650000, 1050000, 1225000, 1575000, 1875000, 1625000, 1390000, 900000, 1425000, 2250000, 1300000, 5000000, 2499000, 1375000, 1550000, 1425000, 1340000, 1700000, 1899999, 3300000, 850000, 1475000, 1650000, 1250000, 1900000, 750000, 1325000, 1225000, 1725000, 1950000, 1850000, 1525000, 1575000, 1990000, 1380000, 1325000, 1150000, 2350000, 850000, 2450000, 1550000, 1440000, 1450000, 2050000, 1000000, 2325000, 102500, 1050000, 1700000, 1350000, 1575000, 1875000, 1725000, 1400000, 1425000, 1900000, 1450000, 1775000, 1240000, 1170000, 1515000, 1690000, 950000, 1050000, 2050000, 1150000, 1850000, 1000000, 1450000, 1425000, 3500000, 5600000, 2100000, 700000, 1350000, 1650000, 1190000, 1250000, 1125000, 1385000, 1250000, 1400000, 5700000, 1575000, 1225000, 1425000, 1000000, 650000, 1900000, 1250000, 1575000, 3600000, 1475000, 1600000, 1300000, 3250000, 3700000, 2050000, 4600000, 2175000, 870000, 4150000, 1050000, 1075000, 5200000, 900000, 925000, 5250000, 650000, 650000, 3200000, 1260000, 4400000, 750000, 875000, 4099999, 625000, 2850000, 1050000, 1150000, 1200000, 1000000, 1075000, 4200000, 1500000, 2375000, 1100000, 1100000, 1500000, 2850000, 1300000, 1225000, 1975000, 4400000, 5250000, 2300000, 2150000, 4600000, 875000, 725000, 625000, 975000, 1450000, 5600000, 750000, 5500000, 1350000, 1225000, 2850000, 1275000, 300000, 950000, 800000, 2850000, 1100000, 1650000, 825000, 1750000, 7500000, 1175000, 2000000, 2300000, 1475000, 1550000, 2900000, 4550000, 650000, 5100000, 850000, 880000, 5025000, 4200000, 4200000, 5700000, 3000000, 3000000, 1400000, 4600000, 4900000, 1150000, 1750000, 2499000, 1100000, 975000, 850000, 1475000, 1350000, 4900000, 1650000, 1600000, 1410000, 875000, 3000000, 2000000, 615000, 1600000, 1000000, 5750000, 5500000, 1000000, 1450000, 1200000, 5450000, 1250000, 3100000, 1500000, 3200000, 890000, 1175000, 1180000, 790000, 1600000, 1200000, 7700000, 3100000, 4500000, 1400000, 1600000, 1600000, 750000, 2600000, 1100000, 5000000, 975000, 950000, 8500000, 680000, 9800000, 9200000, 4500000, 7000000, 7000000, 1700000, 1750000, 1050000, 9800000, 1125000, 4800000, 8000000, 8500000, 7700000, 1150000, 1250000, 2100000, 4400000, 1500000, 5400000, 2450000, 3350000, 2650000, 2800000, 3800000, 1500000, 2600000, 1050000, 1300000, 1000000, 2200000, 4300000, 2650000, 2400000, 2400000, 5700000, 3250000, 32000000, 2250000, 2650000, 2275000, 3250000, 2450000, 2825000, 2650000, 2250000, 2900000, 2900000, 2600000, 3850000, 1050000, 2600000, 3600000, 1750000, 2900000, 1450000, 2975000, 4450000, 860000, 3000000, 2650000, 2600000, 2600000, 1600000, 4700000, 1700000, 2450000, 3000000, 4850000, 2700000, 2600000, 900000, 3149999, 3200000, 3100000, 3000000, 3100000, 1700000, 2250000, 4375000, 2350000, 3100000, 3100000, 2850000, 2750000, 1325000, 2250000, 2450000, 2450000, 1000000, 3400000, 1400000, 2350000, 2750000, 2475000, 2875000, 1050000, 3300000, 2650000, 2220000, 4400000, 1400000, 1600000, 1275000, 2900000, 3000000, 1300000, 1750000, 4500000, 1225000, 900000, 2050000, 1925000, 3950000, 2800000, 3600000, 1700000, 1250000, 2850000, 575000, 1725000, 1150000, 400000, 600000, 300000, 1500000, 550000, 675000, 117500, 710000, 350000, 250000, 350000, 975000, 1400000, 2479000, 750000, 960000, 225000, 2475000, 1900000, 1050000, 625000, 400000, 1900000, 1750000, 650000, 1025000, 1325000, 625000, 975000, 1000000, 525000, 2049000, 800000, 1150000, 700000, 2450000, 1479000, 1099000, 1025000, 1300000, 825000, 2199000, 2250000, 2300000, 1130000, 675000, 1850000, 424000, 425000, 2295000, 2350000, 1325000, 1399000, 925000, 1975000, 2250000, 2225000, 1500000, 1160000, 450000, 325000, 1225000, 1300000, 1875000, 1775000, 800000, 800000, 750000, 460000, 2450000, 875000, 1325000, 1000000, 550000, 1050000, 2475000, 2475000, 1050000, 1275000, 1200000, 1025000, 1250000, 1150000, 1750000, 1000000, 1125000, 2450000, 2175000, 625000, 1575000, 2300000, 390000, 975000, 2250000, 1875000, 775000, 465000, 1575000, 2275000, 1550000, 675000, 650000, 690000, 2250000, 1450000, 1325000, 600000, 1225000, 1375000, 1100000, 575000, 600000, 725000, 1525000, 600000, 2400000, 145000, 825000, 1000000, 1650000, 1275000, 1150000, 1200000, 775000, 1250000, 1500000, 875000, 915000, 900000, 1250000, 1250000, 1550000, 1150000, 2550000, 1525000, 1175000, 2650000, 2525000, 2375000, 800000, 1650000, 2490000, 1790000, 1150000, 1650000, 525000, 1375000, 2700000, 1275000, 1350000, 2350000, 555000, 600000, 1350000, 1350000, 1650000, 2350000, 1450000, 2175000, 1375000, 1025000, 1350000, 2575000, 925000, 575000, 1125000, 575000, 1225000, 2200000, 1400000, 825000, 1000000, 1390000, 2750000, 825000, 775000, 1650000, 725000, 675000, 1250000, 1275000, 2300000, 2600000, 1550000, 1475000, 1550000, 1525000, 1000000, 1300000, 1475000, 900000, 1175000, 1375000, 1250000, 1425000, 1175000, 2575000, 850000, 1199999, 1200000, 500000, 1200000, 1300000, 1350000, 1095000, 425000, 825000, 525000, 2000000, 1385000, 1200000, 2425000, 2350000, 2250000, 975000, 2650000, 1025000, 1600000, 1400000, 1450000, 1500000, 1150000, 1225000, 1575000, 950000, 1210000, 1450000, 200000, 1050000, 1225000, 1375000, 1425000, 2000000, 1425000, 950000, 1350000, 1600000, 1000000, 650000, 1600000, 750000, 650000, 1350000, 2350000, 950000, 1150000, 1400000, 1275000, 1425000, 1450000, 1250000, 675000, 1500000, 900000, 650000, 1350000, 1650000, 736000, 1350000, 1245000, 650000, 2350000, 1175000, 1800000, 1350000, 1450000, 725000, 1425000, 910000, 1425000, 1450000, 1325000, 1200000, 925000, 2150000, 460000, 1400000, 850000, 630000, 1300000, 625000, 1400000, 450000, 1900000, 2125000, 785000, 950000, 1075000, 900000, 1275000, 1625000, 1375000, 850000, 1625000, 825000, 2500000, 800000, 660000, 1375000, 1625000, 715000, 1100000, 475000, 625000, 1900000, 900000, 800000, 775000, 950000, 1125000, 1050000, 2850000, 1950000, 1850000, 1500000, 2450000, 1300000, 2400000, 1250000, 1499000, 1325000, 1200000, 1925000, 1500000, 750000, 850000, 2500000, 1325000, 1800000, 1400000, 775000, 880000, 1200000, 800000, 1600000, 1600000, 650000, 990000, 1800000, 2150000, 1550000, 1100000, 1850000, 1800000, 1300000, 2300000, 900000, 2850000, 3250000, 555000, 2000000, 650000, 1500000, 1100000, 1375000, 2000000, 1875000, 1800000, 1690000, 1700000, 2975000, 2300000, 1775000, 2900000, 1750000, 575000, 1725000, 1800000, 1650000, 2200000, 1650000, 1800000, 1250000, 2000000, 1125000, 900000, 3600000, 4000000, 2250000, 1850000, 3600000, 3800000, 1275000, 2250000, 2675000, 1425000, 3600000, 4200000, 5500000, 2750000, 4200000, 3800000, 1300000, 3300000, 6000000, 4300000, 1650000, 1625000, 5000000, 6000000, 3300000, 3650000, 5750000, 1575000, 2200000, 2400000, 2675000, 2700000, 2950000, 550000, 1300000, 2100000, 2000000, 1100000, 925000, 930000, 2500000, 900000, 900000, 2500000, 2950000, 2000000, 1300000, 2000000, 450000, 1325000, 4700000, 2850000, 475000, 2750000, 1050000, 350000, 450000, 600000, 499999, 1050000, 666666, 450000, 1850000, 2400000, 1650000, 550000, 425000, 850000, 2000000, 2050000, 2200000, 525000, 500000, 1200000, 1550000, 575000, 1500000, 1230000, 400000, 1350000, 400000, 3600000, 2450000, 800000, 875000, 1350000, 475000, 1550000, 565000, 437000, 645000, 1675000, 775000, 2300000, 1300000, 1400000, 1400000, 675000, 475000, 770000, 1200000, 1250000, 800000, 700000, 200000, 380000, 1300000, 1350000, 700000, 610000, 2250000, 575000, 1800000, 2200000, 525000, 1650000, 1050000, 1575000, 2450000, 450000, 1125000, 850000, 3650000, 2450000, 650000, 725000, 700000, 2750000, 480000, 1400000, 595000, 1600000, 725000, 2250000, 11500000, 6775000, 2600000, 6550000, 6500000, 6500000, 3500000, 6700000, 2850000, 3300000, 3700000, 700000, 2700000, 925000, 2400000, 700000, 2400000, 5045000, 3225000, 2650000, 1500000, 3150000, 2900000, 2975000, 3500000, 1000000, 2900000, 240000, 1150000, 3400000, 625000, 1075000, 4275000, 3900000, 725000, 5000000, 700000, 4400000, 2450000, 2750000, 455000, 3850000, 3000000, 1550000, 1050000, 5500000, 2475000, 9000000, 3500000, 2825000, 5275000, 4275000, 3500000, 2825000, 5300000, 9100000, 250000, 2100000, 2300000, 1125000, 3400000, 9500000, 3250000, 3400000, 3450000, 2175000, 16800000, 4200000, 1400000, 4850000, 9500000, 2850000, 1050000, 20000000, 4600000, 3150000, 5150000, 18975000, 3675000, 3675000, 3400000, 3200000, 2950000, 4075000, 390000, 4150000, 2500000, 2950000, 4800000, 2825000, 2450000, 2875000, 1050000, 4650000, 1125000, 475000, 4500000, 3150000, 700000, 3500000, 1475000, 4300000, 450000, 1150000, 4100000, 650000, 2500000, 4000000, 3200000, 3400000, 3400000, 5800000, 2500000, 4150000, 1700000, 4600000, 450000, 4400000, 17000000, 3550000, 9699000, 425000, 2950000, 2075000, 6500000, 2200000, 2500000, 3000000, 2000000, 2025000, 4100000, 1725000, 4750000, 2500000, 2650000, 6100000, 2025000, 3450000, 2800000, 2350000, 3480000, 2350000, 1975000, 2800000, 5350000, 2450000, 2150000, 2000000, 1950000, 2350000, 2125000, 6350000, 2100000, 4800000, 2450000, 8050000, 2650000, 2550000, 2250000, 1850000, 10000000, 2400000, 2650000, 2475000, 5500000, 3800000, 7450000, 2100000, 3000000, 2100000, 5650000, 2450000, 5700000, 2350000, 2100000, 5250000, 2550000, 2050000, 3000000, 6100000, 2650000, 1995000, 2650000, 2000000, 2550000, 2150000, 7000000, 2400000, 6175000, 2700000, 3950000, 5800000, 4900000, 3555555], \"yaxis\": \"y\"}],\n",
              "                        {\"legend\": {\"tracegroupgap\": 0}, \"margin\": {\"t\": 60}, \"template\": {\"data\": {\"bar\": [{\"error_x\": {\"color\": \"#2a3f5f\"}, \"error_y\": {\"color\": \"#2a3f5f\"}, \"marker\": {\"line\": {\"color\": \"#E5ECF6\", \"width\": 0.5}}, \"type\": \"bar\"}], \"barpolar\": [{\"marker\": {\"line\": {\"color\": \"#E5ECF6\", \"width\": 0.5}}, \"type\": \"barpolar\"}], \"carpet\": [{\"aaxis\": {\"endlinecolor\": \"#2a3f5f\", \"gridcolor\": \"white\", \"linecolor\": \"white\", \"minorgridcolor\": \"white\", \"startlinecolor\": \"#2a3f5f\"}, \"baxis\": {\"endlinecolor\": \"#2a3f5f\", \"gridcolor\": \"white\", \"linecolor\": \"white\", \"minorgridcolor\": \"white\", \"startlinecolor\": \"#2a3f5f\"}, \"type\": \"carpet\"}], \"choropleth\": [{\"colorbar\": {\"outlinewidth\": 0, \"ticks\": \"\"}, \"type\": \"choropleth\"}], \"contour\": [{\"colorbar\": {\"outlinewidth\": 0, \"ticks\": \"\"}, \"colorscale\": [[0.0, \"#0d0887\"], [0.1111111111111111, \"#46039f\"], [0.2222222222222222, \"#7201a8\"], [0.3333333333333333, \"#9c179e\"], [0.4444444444444444, \"#bd3786\"], [0.5555555555555556, \"#d8576b\"], [0.6666666666666666, \"#ed7953\"], [0.7777777777777778, \"#fb9f3a\"], [0.8888888888888888, \"#fdca26\"], [1.0, \"#f0f921\"]], \"type\": \"contour\"}], \"contourcarpet\": [{\"colorbar\": {\"outlinewidth\": 0, \"ticks\": \"\"}, \"type\": \"contourcarpet\"}], \"heatmap\": [{\"colorbar\": {\"outlinewidth\": 0, \"ticks\": \"\"}, \"colorscale\": [[0.0, \"#0d0887\"], [0.1111111111111111, \"#46039f\"], [0.2222222222222222, \"#7201a8\"], [0.3333333333333333, \"#9c179e\"], [0.4444444444444444, \"#bd3786\"], [0.5555555555555556, \"#d8576b\"], [0.6666666666666666, \"#ed7953\"], [0.7777777777777778, \"#fb9f3a\"], [0.8888888888888888, \"#fdca26\"], [1.0, \"#f0f921\"]], \"type\": \"heatmap\"}], \"heatmapgl\": [{\"colorbar\": {\"outlinewidth\": 0, \"ticks\": \"\"}, \"colorscale\": [[0.0, \"#0d0887\"], [0.1111111111111111, \"#46039f\"], [0.2222222222222222, \"#7201a8\"], [0.3333333333333333, \"#9c179e\"], [0.4444444444444444, \"#bd3786\"], [0.5555555555555556, \"#d8576b\"], [0.6666666666666666, \"#ed7953\"], [0.7777777777777778, \"#fb9f3a\"], [0.8888888888888888, \"#fdca26\"], [1.0, \"#f0f921\"]], \"type\": \"heatmapgl\"}], \"histogram\": [{\"marker\": {\"colorbar\": {\"outlinewidth\": 0, \"ticks\": \"\"}}, \"type\": \"histogram\"}], \"histogram2d\": [{\"colorbar\": {\"outlinewidth\": 0, \"ticks\": \"\"}, \"colorscale\": [[0.0, \"#0d0887\"], [0.1111111111111111, \"#46039f\"], [0.2222222222222222, \"#7201a8\"], [0.3333333333333333, \"#9c179e\"], [0.4444444444444444, \"#bd3786\"], [0.5555555555555556, \"#d8576b\"], [0.6666666666666666, \"#ed7953\"], [0.7777777777777778, \"#fb9f3a\"], [0.8888888888888888, \"#fdca26\"], [1.0, \"#f0f921\"]], \"type\": \"histogram2d\"}], \"histogram2dcontour\": [{\"colorbar\": {\"outlinewidth\": 0, \"ticks\": \"\"}, \"colorscale\": [[0.0, \"#0d0887\"], [0.1111111111111111, \"#46039f\"], [0.2222222222222222, \"#7201a8\"], [0.3333333333333333, \"#9c179e\"], [0.4444444444444444, \"#bd3786\"], [0.5555555555555556, \"#d8576b\"], [0.6666666666666666, \"#ed7953\"], [0.7777777777777778, \"#fb9f3a\"], [0.8888888888888888, \"#fdca26\"], [1.0, \"#f0f921\"]], \"type\": \"histogram2dcontour\"}], \"mesh3d\": [{\"colorbar\": {\"outlinewidth\": 0, \"ticks\": \"\"}, \"type\": \"mesh3d\"}], \"parcoords\": [{\"line\": {\"colorbar\": {\"outlinewidth\": 0, \"ticks\": \"\"}}, \"type\": \"parcoords\"}], \"pie\": [{\"automargin\": true, \"type\": \"pie\"}], \"scatter\": [{\"marker\": {\"colorbar\": {\"outlinewidth\": 0, \"ticks\": \"\"}}, \"type\": \"scatter\"}], \"scatter3d\": [{\"line\": {\"colorbar\": {\"outlinewidth\": 0, \"ticks\": \"\"}}, \"marker\": {\"colorbar\": {\"outlinewidth\": 0, \"ticks\": \"\"}}, \"type\": \"scatter3d\"}], \"scattercarpet\": [{\"marker\": {\"colorbar\": {\"outlinewidth\": 0, \"ticks\": \"\"}}, \"type\": \"scattercarpet\"}], \"scattergeo\": [{\"marker\": {\"colorbar\": {\"outlinewidth\": 0, \"ticks\": \"\"}}, \"type\": \"scattergeo\"}], \"scattergl\": [{\"marker\": {\"colorbar\": {\"outlinewidth\": 0, \"ticks\": \"\"}}, \"type\": \"scattergl\"}], \"scattermapbox\": [{\"marker\": {\"colorbar\": {\"outlinewidth\": 0, \"ticks\": \"\"}}, \"type\": \"scattermapbox\"}], \"scatterpolar\": [{\"marker\": {\"colorbar\": {\"outlinewidth\": 0, \"ticks\": \"\"}}, \"type\": \"scatterpolar\"}], \"scatterpolargl\": [{\"marker\": {\"colorbar\": {\"outlinewidth\": 0, \"ticks\": \"\"}}, \"type\": \"scatterpolargl\"}], \"scatterternary\": [{\"marker\": {\"colorbar\": {\"outlinewidth\": 0, \"ticks\": \"\"}}, \"type\": \"scatterternary\"}], \"surface\": [{\"colorbar\": {\"outlinewidth\": 0, \"ticks\": \"\"}, \"colorscale\": [[0.0, \"#0d0887\"], [0.1111111111111111, \"#46039f\"], [0.2222222222222222, \"#7201a8\"], [0.3333333333333333, \"#9c179e\"], [0.4444444444444444, \"#bd3786\"], [0.5555555555555556, \"#d8576b\"], [0.6666666666666666, \"#ed7953\"], [0.7777777777777778, \"#fb9f3a\"], [0.8888888888888888, \"#fdca26\"], [1.0, \"#f0f921\"]], \"type\": \"surface\"}], \"table\": [{\"cells\": {\"fill\": {\"color\": \"#EBF0F8\"}, \"line\": {\"color\": \"white\"}}, \"header\": {\"fill\": {\"color\": \"#C8D4E3\"}, \"line\": {\"color\": \"white\"}}, \"type\": \"table\"}]}, \"layout\": {\"annotationdefaults\": {\"arrowcolor\": \"#2a3f5f\", \"arrowhead\": 0, \"arrowwidth\": 1}, \"coloraxis\": {\"colorbar\": {\"outlinewidth\": 0, \"ticks\": \"\"}}, \"colorscale\": {\"diverging\": [[0, \"#8e0152\"], [0.1, \"#c51b7d\"], [0.2, \"#de77ae\"], [0.3, \"#f1b6da\"], [0.4, \"#fde0ef\"], [0.5, \"#f7f7f7\"], [0.6, \"#e6f5d0\"], [0.7, \"#b8e186\"], [0.8, \"#7fbc41\"], [0.9, \"#4d9221\"], [1, \"#276419\"]], \"sequential\": [[0.0, \"#0d0887\"], [0.1111111111111111, \"#46039f\"], [0.2222222222222222, \"#7201a8\"], [0.3333333333333333, \"#9c179e\"], [0.4444444444444444, \"#bd3786\"], [0.5555555555555556, \"#d8576b\"], [0.6666666666666666, \"#ed7953\"], [0.7777777777777778, \"#fb9f3a\"], [0.8888888888888888, \"#fdca26\"], [1.0, \"#f0f921\"]], \"sequentialminus\": [[0.0, \"#0d0887\"], [0.1111111111111111, \"#46039f\"], [0.2222222222222222, \"#7201a8\"], [0.3333333333333333, \"#9c179e\"], [0.4444444444444444, \"#bd3786\"], [0.5555555555555556, \"#d8576b\"], [0.6666666666666666, \"#ed7953\"], [0.7777777777777778, \"#fb9f3a\"], [0.8888888888888888, \"#fdca26\"], [1.0, \"#f0f921\"]]}, \"colorway\": [\"#636efa\", \"#EF553B\", \"#00cc96\", \"#ab63fa\", \"#FFA15A\", \"#19d3f3\", \"#FF6692\", \"#B6E880\", \"#FF97FF\", \"#FECB52\"], \"font\": {\"color\": \"#2a3f5f\"}, \"geo\": {\"bgcolor\": \"white\", \"lakecolor\": \"white\", \"landcolor\": \"#E5ECF6\", \"showlakes\": true, \"showland\": true, \"subunitcolor\": \"white\"}, \"hoverlabel\": {\"align\": \"left\"}, \"hovermode\": \"closest\", \"mapbox\": {\"style\": \"light\"}, \"paper_bgcolor\": \"white\", \"plot_bgcolor\": \"#E5ECF6\", \"polar\": {\"angularaxis\": {\"gridcolor\": \"white\", \"linecolor\": \"white\", \"ticks\": \"\"}, \"bgcolor\": \"#E5ECF6\", \"radialaxis\": {\"gridcolor\": \"white\", \"linecolor\": \"white\", \"ticks\": \"\"}}, \"scene\": {\"xaxis\": {\"backgroundcolor\": \"#E5ECF6\", \"gridcolor\": \"white\", \"gridwidth\": 2, \"linecolor\": \"white\", \"showbackground\": true, \"ticks\": \"\", \"zerolinecolor\": \"white\"}, \"yaxis\": {\"backgroundcolor\": \"#E5ECF6\", \"gridcolor\": \"white\", \"gridwidth\": 2, \"linecolor\": \"white\", \"showbackground\": true, \"ticks\": \"\", \"zerolinecolor\": \"white\"}, \"zaxis\": {\"backgroundcolor\": \"#E5ECF6\", \"gridcolor\": \"white\", \"gridwidth\": 2, \"linecolor\": \"white\", \"showbackground\": true, \"ticks\": \"\", \"zerolinecolor\": \"white\"}}, \"shapedefaults\": {\"line\": {\"color\": \"#2a3f5f\"}}, \"ternary\": {\"aaxis\": {\"gridcolor\": \"white\", \"linecolor\": \"white\", \"ticks\": \"\"}, \"baxis\": {\"gridcolor\": \"white\", \"linecolor\": \"white\", \"ticks\": \"\"}, \"bgcolor\": \"#E5ECF6\", \"caxis\": {\"gridcolor\": \"white\", \"linecolor\": \"white\", \"ticks\": \"\"}}, \"title\": {\"x\": 0.05}, \"xaxis\": {\"automargin\": true, \"gridcolor\": \"white\", \"linecolor\": \"white\", \"ticks\": \"\", \"title\": {\"standoff\": 15}, \"zerolinecolor\": \"white\", \"zerolinewidth\": 2}, \"yaxis\": {\"automargin\": true, \"gridcolor\": \"white\", \"linecolor\": \"white\", \"ticks\": \"\", \"title\": {\"standoff\": 15}, \"zerolinecolor\": \"white\", \"zerolinewidth\": 2}}}, \"xaxis\": {\"anchor\": \"y\", \"domain\": [0.0, 1.0], \"title\": {\"text\": \"Model_year\"}}, \"yaxis\": {\"anchor\": \"x\", \"domain\": [0.0, 1.0], \"title\": {\"text\": \"Price\"}}},\n",
              "                        {\"responsive\": true}\n",
              "                    ).then(function(){\n",
              "                            \n",
              "var gd = document.getElementById('5c0f5f09-1b14-43f3-8898-b24cd13acff8');\n",
              "var x = new MutationObserver(function (mutations, observer) {{\n",
              "        var display = window.getComputedStyle(gd).display;\n",
              "        if (!display || display === 'none') {{\n",
              "            console.log([gd, 'removed!']);\n",
              "            Plotly.purge(gd);\n",
              "            observer.disconnect();\n",
              "        }}\n",
              "}});\n",
              "\n",
              "// Listen for the removal of the full notebook cells\n",
              "var notebookContainer = gd.closest('#notebook-container');\n",
              "if (notebookContainer) {{\n",
              "    x.observe(notebookContainer, {childList: true});\n",
              "}}\n",
              "\n",
              "// Listen for the clearing of the current output cell\n",
              "var outputEl = gd.closest('.output');\n",
              "if (outputEl) {{\n",
              "    x.observe(outputEl, {childList: true});\n",
              "}}\n",
              "\n",
              "                        })\n",
              "                };\n",
              "                \n",
              "            </script>\n",
              "        </div>\n",
              "</body>\n",
              "</html>"
            ]
          },
          "metadata": {
            "tags": []
          }
        }
      ]
    },
    {
      "cell_type": "code",
      "metadata": {
        "colab": {
          "base_uri": "https://localhost:8080/",
          "height": 388
        },
        "id": "wS_pYWvLMiIz",
        "outputId": "ced01611-d3a5-4b0e-8f17-9b03dc0b26f7"
      },
      "source": [
        "make_boxplot('Price')"
      ],
      "execution_count": null,
      "outputs": [
        {
          "output_type": "display_data",
          "data": {
            "image/png": "[encoded data removed]",
            "text/plain": [
              "<Figure size 576x432 with 1 Axes>"
            ]
          },
          "metadata": {
            "tags": [],
            "needs_background": "light"
          }
        }
      ]
    },
    {
      "cell_type": "code",
      "metadata": {
        "colab": {
          "base_uri": "https://localhost:8080/",
          "height": 389
        },
        "id": "V0N02BqVMiIz",
        "outputId": "6b16c9a9-1edb-417e-d497-93a2571db4df"
      },
      "source": [
        "make_boxplot('Model_year')"
      ],
      "execution_count": null,
      "outputs": [
        {
          "output_type": "display_data",
          "data": {
            "image/png": "[encoded data removed]",
            "text/plain": [
              "<Figure size 576x432 with 1 Axes>"
            ]
          },
          "metadata": {
            "tags": [],
            "needs_background": "light"
          }
        }
      ]
    },
    {
      "cell_type": "code",
      "metadata": {
        "colab": {
          "base_uri": "https://localhost:8080/",
          "height": 389
        },
        "id": "yU-aL_yYMiIz",
        "outputId": "0dc4e615-7871-48b9-aff7-4a4238e545a3"
      },
      "source": [
        "make_boxplot('Engine_size(cc)')"
      ],
      "execution_count": null,
      "outputs": [
        {
          "output_type": "display_data",
          "data": {
            "image/png": "[encoded data removed]",
            "text/plain": [
              "<Figure size 576x432 with 1 Axes>"
            ]
          },
          "metadata": {
            "tags": [],
            "needs_background": "light"
          }
        }
      ]
    },
    {
      "cell_type": "code",
      "metadata": {
        "colab": {
          "base_uri": "https://localhost:8080/",
          "height": 389
        },
        "id": "1iIJWcu2MiI0",
        "outputId": "a5ec3363-d2b9-46a7-e3e1-72c53cfa1461"
      },
      "source": [
        "make_boxplot('Lot_no')"
      ],
      "execution_count": null,
      "outputs": [
        {
          "output_type": "display_data",
          "data": {
            "image/png": "[encoded data removed]",
            "text/plain": [
              "<Figure size 576x432 with 1 Axes>"
            ]
          },
          "metadata": {
            "tags": [],
            "needs_background": "light"
          }
        }
      ]
    },
    {
      "cell_type": "code",
      "metadata": {
        "colab": {
          "base_uri": "https://localhost:8080/",
          "height": 388
        },
        "id": "jQCDp2BkMiI0",
        "outputId": "354ee4ce-ec1c-4a11-ecb1-798ac094f333"
      },
      "source": [
        "make_boxplot('Kilometer')"
      ],
      "execution_count": null,
      "outputs": [
        {
          "output_type": "display_data",
          "data": {
            "image/png": "[encoded data removed]",
            "text/plain": [
              "<Figure size 576x432 with 1 Axes>"
            ]
          },
          "metadata": {
            "tags": [],
            "needs_background": "light"
          }
        }
      ]
    },
    {
      "cell_type": "code",
      "metadata": {
        "colab": {
          "base_uri": "https://localhost:8080/",
          "height": 542
        },
        "id": "ZaYfIUdeN_Hr",
        "outputId": "e6bec07b-e48b-40e0-bbe3-6d96a6ff3dcf"
      },
      "source": [
        "scatters('Kilometer','Price')"
      ],
      "execution_count": null,
      "outputs": [
        {
          "output_type": "display_data",
          "data": {
            "text/html": [
              "<html>\n",
              "<head><meta charset=\"utf-8\" /></head>\n",
              "<body>\n",
              "    <div>\n",
              "            <script src=\"https://cdnjs.cloudflare.com/ajax/libs/mathjax/2.7.5/MathJax.js?config=TeX-AMS-MML_SVG\"></script><script type=\"text/javascript\">if (window.MathJax) {MathJax.Hub.Config({SVG: {font: \"STIX-Web\"}});}</script>\n",
              "                <script type=\"text/javascript\">window.PlotlyConfig = {MathJaxConfig: 'local'};</script>\n",
              "        <script src=\"https://cdn.plot.ly/plotly-latest.min.js\"></script>    \n",
              "            <div id=\"7a0f91a0-3b9d-4baa-bf57-076bfc933aac\" class=\"plotly-graph-div\" style=\"height:525px; width:100%;\"></div>\n",
              "            <script type=\"text/javascript\">\n",
              "                \n",
              "                    window.PLOTLYENV=window.PLOTLYENV || {};\n",
              "                    \n",
              "                if (document.getElementById(\"7a0f91a0-3b9d-4baa-bf57-076bfc933aac\")) {\n",
              "                    Plotly.newPlot(\n",
              "                        '7a0f91a0-3b9d-4baa-bf57-076bfc933aac',\n",
              "                        [{\"hoverlabel\": {\"namelength\": 0}, \"hovertemplate\": \"Kilometer=%{x}<br>Price=%{y}\", \"legendgroup\": \"\", \"marker\": {\"color\": \"#636efa\", \"symbol\": \"circle\"}, \"mode\": \"markers\", \"name\": \"\", \"showlegend\": false, \"type\": \"scattergl\", \"x\": [200.0, 100.0, 42000.0, 51000.0, 38000.0, 15000.0, 35000.0, 36800.0, 26000.0, 70000.0, 45000.0, 45000.0, 17000.0, 40000.0, 27000.0, 40000.0, 34000.0, 36000.0, 35000.0, 53000.0, 30000.0, 41000.0, 62000.0, 46471.0, 50500.0, 34500.0, 30000.0, 48000.0, 38000.0, 53000.0, 51000.0, 52000.0, 46000.0, 30000.0, 35000.0, 40000.0, 25000.0, 35000.0, 52000.0, 60000.0, 40000.0, 34000.0, 50000.0, 3800.0, 30000.0, 61500.0, 25000.0, 48000.0, 30000.0, 40000.0, 45000.0, 43000.0, 13000.0, 29000.0, 26000.0, 32000.0, 26000.0, 34000.0, 28000.0, 19000.0, 35000.0, 30000.0, 50000.0, 35378.0, 50000.0, 9500.0, 42083.0, 42000.0, 22000.0, 10000.0, 18300.0, 26000.0, 20000.0, 60000.0, 28500.0, 79000.0, 83518.0, 47000.0, 30000.0, 41000.0, 60000.0, 16000.0, 37000.0, 90000.0, 72000.0, 47000.0, 31000.0, 7000.0, 40000.0, 90000.0, 33000.0, 40000.0, 35000.0, 43000.0, 16401.0, 12800.0, 52000.0, 41500.0, 23500.0, 30000.0, 5000.0, 55000.0, 15600.0, 52000.0, 12300.0, 55000.0, 44000.0, 32000.0, 42500.0, 25000.0, 4500.0, 16000.0, 34500.0, 20000.0, 39000.0, 20000.0, 20000.0, 8000.0, 40500.0, 42500.0, 47500.0, 18000.0, 33000.0, 25000.0, 22000.0, 26450.0, 42000.0, 7000.0, 11000.0, 38500.0, 18000.0, 35000.0, 22000.0, 37500.0, 40000.0, 29000.0, 28000.0, 20000.0, 7900.0, 31000.0, 36000.0, 300.0, 26000.0, 600.0, 30000.0, 60000.0, 27500.0, 32000.0, 300.0, 4300.0, 32000.0, 370.0, 5185.0, 31000.0, 4900.0, 1700.0, 2400.0, 42000.0, 2400.0, 21000.0, 45000.0, 16000.0, 27000.0, 13000.0, 60000.0, 23000.0, 30000.0, 17000.0, 35000.0, 23000.0, 20000.0, 35000.0, 18500.0, 40000.0, 22000.0, 35000.0, 25000.0, 35000.0, 5000.0, 60000.0, 18000.0, 23000.0, 14000.0, 6000.0, 23500.0, 95000.0, 4200.0, 22000.0, 6500.0, 14000.0, 6400.0, 6000.0, 35000.0, 27100.0, 65000.0, 24000.0, 4000.0, 25000.0, 29000.0, 26000.0, 9100.0, 22000.0, 23000.0, 27100.0, 13000.0, 29000.0, 10000.0, 20000.0, 7900.0, 29000.0, 15800.0, 40000.0, 22000.0, 12000.0, 21000.0, 2200.0, 25000.0, 10500.0, 18000.0, 17000.0, 14000.0, 14000.0, 20000.0, 27000.0, 8900.0, 8000.0, 63000.0, 37000.0, 37000.0, 40000.0, 13600.0, 45606.0, 52000.0, 2015.0, 42000.0, 37000.0, 57000.0, 44000.0, 29000.0, 50010.0, 55000.0, 19000.0, 50000.0, 10000.0, 27600.0, 49000.0, 50010.0, 55000.0, 56000.0, 49000.0, 4500.0, 33000.0, 40000.0, 38000.0, 41000.0, 55000.0, 20000.0, 45000.0, 47900.0, 27000.0, 20000.0, 15000.0, 39000.0, 72000.0, 32100.0, 7231.0, 30000.0, 50000.0, 36000.0, 12800.0, 45000.0, 37000.0, 35000.0, 31000.0, 35000.0, 38300.0, 95000.0, 28000.0, 45000.0, 30000.0, 29000.0, 62000.0, 40000.0, 40000.0, 40000.0, 45000.0, 80000.0, 31000.0, 41000.0, 70000.0, 50000.0, 47000.0, 37000.0, 75000.0, 50000.0, 30000.0, 50000.0, 45000.0, 45000.0, 29000.0, 38000.0, 36000.0, 39000.0, 28000.0, 45000.0, 82000.0, 41000.0, 52000.0, 25000.0, 40000.0, 31000.0, 38000.0, 9900.0, 60000.0, 25000.0, 15000.0, 38600.0, 34000.0, 59000.0, 20000.0, 27000.0, 27000.0, 11000.0, 27000.0, 43000.0, 65000.0, 45000.0, 60000.0, 40000.0, 27005.0, 42000.0, 7500.0, 65000.0, 36000.0, 31000.0, 45000.0, 18000.0, 47000.0, 45000.0, 60000.0, 65000.0, 50000.0, 31000.0, 61000.0, 25000.0, 33000.0, 48000.0, 38255.0, 34000.0, 53000.0, 49000.0, 5200.0, 61000.0, 35000.0, 30000.0, 34000.0, 20000.0, 25000.0, 74000.0, 32000.0, 44500.0, 35000.0, 65700.0, 38000.0, 59000.0, 35600.0, 55000.0, 43000.0, 32400.0, 13000.0, 46000.0, 39000.0, 51000.0, 32400.0, 85000.0, 5200.0, 53000.0, 57000.0, 15500.0, 67000.0, 56700.0, 39000.0, 37000.0, 77000.0, 27000.0, 40000.0, 9000.0, 23000.0, 26600.0, 27000.0, 79000.0, 30000.0, 10000.0, 42000.0, 41000.0, 80000.0, 25000.0, 18000.0, 52000.0, 22000.0, 46000.0, 51000.0, 56581.0, 49723.0, 34000.0, 38000.0, 42000.0, 46000.0, 27000.0, 40000.0, 32000.0, 26000.0, 40000.0, 50000.0, 32000.0, 45000.0, 30000.0, 50000.0, 21000.0, 56000.0, 26000.0, 25500.0, 28000.0, 29000.0, 43000.0, 33000.0, 40000.0, 40000.0, 40000.0, 40000.0, 43000.0, 26000.0, 31000.0, 16000.0, 60000.0, 23000.0, 14000.0, 37000.0, 26000.0, 30000.0, 30000.0, 14000.0, 40000.0, 15000.0, 60000.0, 32000.0, 30000.0, 30000.0, 25000.0, 50000.0, 53000.0, 43000.0, 50000.0, 37000.0, 50000.0, 50000.0, 29000.0, 52000.0, 25000.0, 30000.0, 64400.0, 13000.0, 40000.0, 50000.0, 35000.0, 32000.0, 38000.0, 30000.0, 37000.0, 53000.0, 34000.0, 35000.0, 35000.0, 40000.0, 37000.0, 22500.0, 42000.0, 55000.0, 53000.0, 400.0, 45000.0, 35000.0, 63000.0, 4500.0, 42000.0, 40000.0, 5500.0, 25000.0, 25000.0, 40000.0, 28000.0, 25000.0, 26000.0, 25000.0, 25000.0, 60000.0, 21000.0, 20000.0, 25000.0, 50000.0, 16000.0, 1991.0, 33000.0, 4000.0, 25000.0, 1500.0, 35000.0, 65000.0, 40000.0, 23000.0, 29000.0, 49000.0, 35000.0, 23000.0, 35000.0, 16000.0, 40000.0, 50000.0, 46000.0, 40000.0, 23000.0, 40000.0, 59000.0, 40000.0, 30000.0, 38000.0, 57000.0, 10900.0, 18000.0, 19200.0, 45000.0, 42000.0, 70000.0, 18000.0, 20000.0, 27000.0, 19200.0, 41000.0, 49000.0, 30000.0, 39000.0, 43000.0, 39000.0, 54000.0, 30400.0, 30000.0, 29000.0, 68600.0, 6000.0, 22000.0, 35500.0, 30450.0, 40000.0, 30000.0, 41000.0, 30000.0, 34000.0, 46000.0, 45000.0, 30000.0, 29000.0, 22000.0, 35000.0, 36000.0, 35000.0, 45000.0, 30000.0, 30000.0, 62000.0, 40000.0, 15000.0, 47000.0, 44000.0, 50000.0, 13000.0, 58564.0, 29000.0, 22000.0, 30000.0, 39000.0, 14000.0, 17000.0, 26000.0, 28000.0, 18000.0, 70000.0, 51000.0, 23000.0, 51000.0, 37000.0, 42000.0, 40000.0, 60000.0, 74000.0, 14000.0, 38000.0, 41000.0, 34000.0, 5000.0, 27900.0, 26000.0, 30000.0, 46000.0, 38000.0, 54000.0, 72000.0, 40000.0, 26000.0, 22000.0, 41000.0, 55000.0, 20000.0, 26000.0, 45000.0, 36000.0, 40000.0, 29000.0, 51000.0, 35000.0, 30000.0, 36000.0, 31200.0, 40000.0, 41300.0, 45000.0, 11000.0, 46700.0, 32000.0, 33000.0, 45000.0, 48000.0, 30000.0, 42000.0, 54000.0, 33000.0, 40000.0, 30000.0, 18000.0, 29000.0, 40000.0, 36000.0, 50000.0, 37000.0, 39000.0, 76000.0, 41000.0, 35000.0, 50000.0, 45000.0, 49000.0, 22000.0, 39000.0, 37000.0, 45000.0, 50000.0, 55000.0, 34000.0, 35000.0, 36000.0, 23000.0, 36000.0, 18000.0, 59000.0, 55000.0, 32000.0, 25000.0, 27000.0, 25100.0, 11700.0, 31000.0, 40000.0, 35000.0, 45000.0, 55000.0, 30000.0, 50000.0, 40000.0, 43000.0, 32000.0, 25000.0, 37000.0, 40000.0, 32000.0, 59675.0, 60000.0, 33000.0, 35000.0, 32000.0, 7100.0, 37000.0, 6500.0, 40000.0, 40000.0, 58000.0, 32000.0, 37000.0, 50000.0, 30000.0, 28000.0, 14000.0, 3000.0, 31442.0, 47000.0, 9000.0, 27000.0, 30000.0, 44000.0, 9000.0, 24000.0, 48000.0, 37000.0, 58000.0, 27000.0, 26000.0, 120000.0, 36000.0, 41000.0, 32000.0, 56000.0, 44000.0, 50000.0, 8000.0, 42000.0, 38000.0, 49000.0, 50000.0, 38000.0, 23000.0, 80000.0, 39000.0, 34000.0, 37000.0, 39000.0, 46000.0, 36000.0, 35600.0, 90000.0, 26000.0, 35000.0, 28000.0, 22000.0, 33000.0, 23000.0, 45000.0, 17000.0, 27950.0, 34000.0, 40000.0, 64272.0, 9000.0, 11000.0, 27000.0, 59000.0, 38000.0, 48000.0, 50000.0, 34000.0, 28000.0, 45890.0, 31000.0, 33000.0, 23000.0, 32000.0, 21000.0, 66000.0, 60000.0, 45000.0, 50000.0, 70000.0, 52000.0, 30000.0, 28000.0, 49000.0, 36195.0, 50000.0, 81000.0, 350000.0, 35000.0, 57000.0, 50000.0, 42000.0, 32000.0, 16000.0, 85000.0, 32000.0, 40000.0, 43000.0, 52000.0, 34000.0, 7000.0, 14135.0, 44000.0, 32000.0, 24000.0, 14000.0, 32000.0, 35000.0, 32000.0, 35000.0, 43000.0, 34000.0, 15000.0, 78000.0, 31000.0, 12000.0, 32000.0, 30000.0, 46000.0, 59336.0, 18000.0, 26000.0, 63100.0, 34000.0, 35000.0, 37000.0, 22000.0, 37000.0, 74000.0, 70000.0, 47000.0, 37000.0, 16630.0, 11000.0, 42000.0, 65000.0, 23000.0, 27000.0, 23000.0, 37000.0, 23000.0, 35000.0, 11000.0, 23000.0, 75000.0, 17000.0, 26000.0, 57000.0, 36000.0, 43000.0, 31000.0, 12000.0, 35000.0, 12500.0, 30000.0, 25000.0, 17000.0, 41000.0, 16000.0, 95000.0, 60000.0, 36000.0, 33000.0, 55000.0, 31800.0, 37000.0, 65000.0, 35000.0, 6660.0, 34000.0, 12000.0, 3500.0, 34000.0, 30000.0, 9000.0, 53000.0, 26000.0, 27000.0, 37000.0, 45000.0, 25000.0, 20000.0, 24000.0, 22000.0, 35000.0, 19000.0, 39000.0, 15000.0, 15000.0, 40000.0, 9500.0, 3700.0, 32000.0, 27000.0, 18000.0, 38000.0, 9000.0, 45000.0, 51000.0, 24500.0, 35000.0, 58000.0, 18000.0, 80000.0, 6700.0, 80000.0, 35000.0, 1200.0, 27050.0, 30000.0, 35000.0, 38000.0, 80000.0, 40000.0, 105000.0, 58000.0, 19000.0, 29000.0, 32000.0, 40000.0, 31000.0, 74000.0, 62000.0, 23000.0, 36000.0, 28000.0, 57000.0, 23000.0, 25000.0, 42000.0, 24000.0, 12700.0, 57000.0, 67000.0, 25800.0, 37500.0, 37000.0, 43000.0, 29000.0, 50000.0, 37500.0, 30000.0, 29000.0, 45000.0, 51115.0, 58400.0, 44000.0, 17000.0, 45000.0, 29660.0, 28338.0, 29376.0, 43623.0, 90000.0, 51000.0, 48000.0, 66000.0, 44000.0, 59000.0, 34859.0, 43000.0, 65000.0, 55000.0, 43000.0, 47500.0, 50000.0, 42000.0, 90000.0, 63000.0, 35000.0, 27500.0, 39000.0, 75000.0, 65000.0, 23000.0, 62500.0, 55000.0, 55000.0, 95014.0, 70000.0, 40000.0, 37000.0, 360000.0, 25000.0, 16000.0, 50000.0, 70000.0, 29000.0, 45000.0, 27000.0, 57000.0, 35000.0, 43000.0, 32000.0, 50000.0, 24000.0, 31000.0, 50000.0, 45000.0, 56700.0, 69000.0, 25000.0, 10000.0, 57000.0, 40000.0, 55000.0, 40000.0, 40000.0, 54000.0, 62000.0, 35400.0, 75000.0, 48000.0, 40000.0, 37000.0, 50000.0, 32000.0, 8500.0, 40000.0, 40000.0, 62000.0, 42000.0, 30000.0, 48000.0, 1995.0, 55000.0, 44000.0, 47251.0, 66000.0, 25000.0, 20800.0, 22000.0, 33500.0, 52000.0, 35000.0, 35000.0, 20000.0, 32287.0, 48074.0, 26000.0, 35000.0, 80000.0, 57000.0, 85000.0, 12500.0, 48000.0, 15000.0, 45000.0, 31000.0, 88000.0, 50000.0, 28500.0, 30000.0, 52000.0, 30450.0, 54000.0, 15000.0, 19750.0, 52000.0, 42000.0, 52000.0, 40000.0, 70000.0, 48000.0, 42000.0, 30000.0, 53000.0, 22000.0, 17500.0, 73000.0, 60000.0, 70000.0, 80000.0, 28000.0, 34000.0, 45000.0, 60000.0, 60000.0, 80000.0, 60300.0, 72363.0, 17000.0, 71118.0, 44436.0, 44500.0, 110000.0, 11000.0, 52000.0, 120000.0, 20000.0, 65000.0, 170000.0, 150000.0, 36000.0, 34000.0, 203000.0, 63812.0, 47649.0, 53000.0, 30000.0, 7800.0, 70000.0, 31000.0, 28000.0, 40000.0, 7000.0, 62000.0, 61000.0, 67874.0, 200000.0, 45000.0, 332000.0, 63000.0, 95000.0, 85000.0, 2800.0, 16000.0, 27984.0, 87000.0, 3500.0, 28000.0, 43000.0, 48000.0, 150000.0, 52000.0, 25000.0, 70000.0, 60000.0, 65500.0, 36000.0, 47000.0, 52000.0, 80000.0, 80000.0, 1000.0, 7000.0, 8000.0, 70000.0, 20000.0, 16000.0, 80000.0, 179000.0, 48000.0, 35000.0, 24500.0, 63000.0, 32000.0, 100000.0, 3200.0, 80000.0, 25000.0, 38000.0, 6000.0, 63000.0, 32000.0, 22000.0, 3200.0, 120000.0, 32000.0, 23000.0, 36000.0, 32000.0, 32000.0, 45000.0, 27000.0, 26000.0, 47000.0, 36000.0, 47000.0, 34000.0, 60000.0, 61000.0, 38000.0, 52000.0, 65000.0, 90000.0, 51000.0, 60264.0, 45000.0, 30000.0, 65000.0, 45000.0, 75000.0, 7000.0, 82000.0, 35000.0, 19000.0, 80000.0, 42000.0, 42000.0, 23000.0, 47570.0, 50000.0, 6500.0, 10000.0, 52000.0, 52000.0, 53000.0, 36893.0, 21000.0, 48000.0, 38000.0, 150000.0, 87000.0, 18000.0, 55000.0, 41000.0, 38000.0, 76342.0, 88000.0, 70000.0, 35000.0, 65000.0, 34000.0, 37000.0, 55000.0, 55000.0, 75000.0, 150000.0, 1500.0, 58000.0, 29500.0, 45000.0, 120000.0, 48536.0, 35000.0, 34000.0, 45000.0, 52000.0, 60000.0, 34000.0, 15000.0, 56000.0, 52000.0, 60000.0, 33000.0, 23000.0, 56000.0, 38000.0, 34000.0, 35000.0, 38600.0, 56000.0, 25000.0, 3000.0, 3500.0, 52000.0, 48000.0, 45000.0, 300.0, 8000.0, 18000.0, 39000.0, 60000.0, 31000.0, 77000.0, 77000.0, 21000.0, 21000.0, 26000.0, 39000.0, 40500.0, 34000.0, 23000.0, 18000.0, 57500.0, 37000.0, 8000.0, 48000.0, 46000.0, 20000.0, 35000.0, 38000.0, 20000.0, 34000.0, 37000.0, 40000.0, 18000.0, 41000.0, 20000.0, 13000.0, 70000.0, 10000.0, 26000.0, 11000.0, 50000.0, 20000.0, 40000.0, 25800.0, 18000.0, 21000.0, 42000.0, 85000.0, 26000.0, 12000.0, 27000.0, 20800.0, 22000.0, 17000.0, 50000.0, 30000.0, 20000.0, 35500.0, 51000.0, 65000.0, 22000.0, 17000.0, 32000.0, 52000.0, 68990.0, 68000.0, 34000.0, 35000.0, 51500.0, 40000.0, 35000.0, 15000.0, 40000.0, 60000.0, 50000.0, 55000.0, 14000.0, 80000.0, 18000.0, 20000.0, 50000.0, 40000.0, 35000.0, 25000.0, 33000.0, 37000.0, 40000.0, 20000.0, 49000.0, 22000.0, 25000.0, 27000.0, 35000.0, 20000.0, 46500.0, 25000.0, 18000.0, 25000.0, 35000.0, 8000.0, 12000.0, 21000.0, 24000.0, 32000.0, 13000.0, 34000.0, 50000.0, 32000.0, 48700.0, 18000.0, 7000.0, 51000.0, 41000.0, 19000.0, 55900.0, 22000.0, 14500.0, 27000.0, 31000.0, 26000.0, 6000.0, 18373.0, 14000.0, 21000.0, 40000.0, 23000.0, 30000.0, 30000.0, 1800.0, 60000.0, 31000.0, 28000.0, 33333.0, 32000.0, 35000.0, 20000.0, 1200.0, 58000.0, 69000.0, 36000.0, 39000.0, 4000.0, 38000.0, 22000.0, 18000.0, 3800.0, 34000.0, 35000.0, 46000.0, 45000.0, 40000.0, 46000.0, 32000.0, 55000.0, 40000.0, 15500.0, 28000.0, 40000.0, 56000.0, 12880.0, 68700.0, 45000.0, 34000.0, 40000.0, 33000.0, 20000.0, 17000.0, 20000.0, 63000.0, 35000.0, 34000.0, 30000.0, 17000.0, 21000.0, 18000.0, 17000.0, 20000.0, 40000.0, 5500.0, 12000.0, 41000.0, 39000.0, 45000.0, 40000.0, 17000.0, 23000.0, 40000.0, 35000.0, 40000.0, 23000.0, 26000.0, 32000.0, 25000.0, 23000.0, 13000.0, 15000.0, 37000.0, 73000.0, 42000.0, 33300.0, 140000.0, 65000.0, 38000.0, 51000.0, 25000.0, 34000.0, 12000.0, 45000.0, 6600.0, 25000.0, 48000.0, 20000.0, 38000.0, 42000.0, 55000.0, 40000.0, 31000.0, 38000.0, 32000.0, 25000.0, 36000.0, 33000.0, 39000.0, 35000.0, 4000.0, 35000.0, 50000.0, 20000.0, 10000.0, 695000.0, 3400.0, 17000.0, 34000.0, 7000.0, 37000.0, 16000.0, 26000.0, 5900.0, 73000.0, 33000.0, 36000.0, 68000.0, 24000.0, 46000.0, 27000.0, 50000.0, 35000.0, 25000.0, 55000.0, 30000.0, 25000.0, 50806.0, 39000.0, 31000.0, 17000.0, 45000.0, 34000.0, 50000.0, 25000.0, 28000.0, 75000.0, 14000.0, 31000.0, 37500.0, 43000.0, 52000.0, 75000.0, 40000.0, 40000.0, 24000.0, 24000.0, 19000.0, 41000.0, 45000.0, 13000.0, 15000.0, 35000.0, 40000.0, 30000.0, 12000.0, 5200.0, 58000.0, 9000.0, 180000.0, 100000.0, 40000.0, 24000.0, 39900.0, 69079.0, 9800.0, 36000.0, 28000.0, 9000.0, 67003.0, 33000.0, 16000.0, 61000.0, 26000.0, 21000.0, 26447.0, 58000.0, 53000.0, 26000.0, 46000.0, 85000.0, 39000.0, 53000.0, 42000.0, 38000.0, 41000.0, 24000.0, 17000.0, 59700.0, 39000.0, 150000.0, 39000.0, 79000.0, 39000.0, 30000.0, 46000.0, 56000.0, 43500.0, 30000.0, 29000.0, 31000.0, 12345.0, 19000.0, 48000.0, 100000.0, 32000.0, 64000.0, 57773.0, 61483.0, 43828.0, 19000.0, 37000.0, 58000.0, 42000.0, 45000.0, 35000.0, 42000.0, 65000.0, 32000.0, 49000.0, 50000.0, 54000.0, 22000.0, 18000.0, 40000.0, 47000.0, 53000.0, 46000.0, 57000.0, 53000.0, 45000.0, 40000.0, 13500.0, 20000.0, 30000.0, 35000.0, 33000.0, 7200.0, 20000.0, 43000.0, 40000.0, 9500.0, 29000.0, 9000.0, 7100.0, 34216.0, 72000.0, 45000.0, 40000.0, 65000.0, 36000.0, 150000.0, 48000.0, 70000.0, 35000.0, 95000.0, 60000.0, 41000.0, 35000.0, 7000.0, 35000.0, 20000.0, 35000.0, 62000.0, 52000.0, 11000.0, 45000.0, 5500.0, 45000.0, 16300.0, 100000.0, 20000.0, 44000.0, 100000.0, 40000.0, 36000.0, 8000.0, 800000.0, 25000.0, 98000.0, 52000.0, 10000.0, 33000.0, 100000.0, 40000.0, 110000.0, 52300.0, 60000.0, 5000.0, 55000.0, 55700.0, 48000.0, 13000.0, 40000.0, 40000.0, 25000.0, 20000.0, 25000.0, 35000.0, 45000.0, 40000.0, 23000.0, 30000.0, 76000.0, 22606.0, 75000.0, 35000.0, 19000.0, 50000.0, 36000.0, 11000.0, 32000.0, 6000.0, 21000.0, 43000.0, 35265.0, 60000.0, 31059.0, 73060.0, 15000.0, 60000.0, 55000.0, 40000.0, 38000.0, 72300.0, 25000.0, 31000.0, 65000.0, 80000.0, 20000.0, 100000.0, 35000.0, 64000.0, 15000.0, 58000.0, 32000.0, 70000.0, 6500.0, 15000.0, 92000.0, 69000.0, 75000.0, 85000.0, 70000.0, 100000.0, 54000.0, 11000.0, 67000.0, 85000.0, 37000.0, 58000.0, 42000.0, 78000.0, 500000.0, 92314.0, 35000.0, 37000.0, 52000.0, 98000.0, 40000.0, 109721.0, 7000.0, 72000.0, 50000.0, 109725.0, 31000.0, 65000.0, 42000.0, 42000.0, 180000.0, 37000.0, 38000.0, 53000.0, 94000.0, 70000.0, 38000.0, 12601.0, 60000.0, 64000.0, 150.0, 69000.0, 33000.0, 55000.0, 75000.0, 92000.0, 150000.0, 59000.0, 50000.0, 40000.0, 97800.0, 45000.0, 13000.0, 70000.0, 70000.0, 51000.0, 40500.0, 81000.0, 38000.0, 29000.0, 32000.0, 33000.0, 45000.0, 29000.0, 105700.0, 39000.0, 9000.0, 70000.0, 69000.0, 50000.0, 44000.0, 60000.0, 37200.0, 33000.0, 56000.0, 67000.0, 68000.0, 41000.0, 45000.0, 52000.0, 45000.0, 70000.0, 60000.0, 369.0, 23000.0, 8000.0, 29000.0, 25000.0, 45000.0, 58000.0, 55000.0, 23000.0, 44000.0, 60000.0, 120000.0, 40000.0, 45000.0, 8800.0, 9000.0, 35000.0, 80000.0, 28000.0, 90000.0, 34000.0, 84000.0, 118511.0, 50000.0, 55145.0, 200000.0, 200000.0, 60000.0, 515175.0, 100000.0, 90000.0, 58000.0, 90000.0, 100000.0, 100000.0, 32000.0, 35000.0, 200000.0, 93000.0, 40000.0, 30500.0, 104000.0, 55000.0, 120000.0, 101800.0, 40000.0, 31900.0, 67218.0, 50000.0, 65000.0, 32000.0, 52000.0, 11331.0, 27000.0, 30000.0, 35000.0, 40000.0, 43000.0, 51000.0, 43000.0, 27000.0, 35000.0, 47000.0, 26876.0, 10800.0, 27000.0, 28000.0, 15000.0, 25000.0, 32000.0, 43000.0, 35000.0, 23000.0, 25000.0, 58382.0, 21000.0, 13000.0, 27000.0, 41500.0, 25000.0, 49000.0, 50000.0, 52000.0, 24000.0, 30000.0, 28000.0, 23000.0, 38000.0, 24324.0, 10000.0, 24000.0, 30000.0, 19000.0, 20000.0, 36000.0, 23000.0, 22000.0, 12000.0, 21000.0, 48000.0, 19000.0, 17000.0, 30000.0, 14000.0, 17000.0, 30000.0, 20000.0, 10000.0, 20000.0, 6300.0, 20000.0, 9000.0, 8700.0, 32000.0, 7500.0, 26447.0, 6300.0, 19000.0, 11000.0, 25000.0, 14000.0], \"xaxis\": \"x\", \"y\": [975000, 3000000, 975000, 3000000, 1000000, 1425000, 2700000, 1250000, 1475000, 1300000, 1150000, 925000, 1650000, 1100000, 975000, 975000, 1200000, 1075000, 1275000, 110000, 1450000, 1050000, 3500000, 5000000, 1200000, 1450000, 1400000, 1450000, 1100000, 1100000, 3750000, 4000000, 1450000, 1200000, 1600000, 1050000, 1650000, 1400000, 1700000, 1350000, 1550000, 1050000, 1695000, 2000000, 1200000, 1300000, 1200000, 4200000, 1150000, 1350000, 1575000, 1425000, 2300000, 5200000, 1600000, 1600000, 1200000, 1125000, 1725000, 2200000, 1500000, 4000000, 1325000, 6200000, 3000000, 1800000, 1800000, 1200000, 2300000, 2700000, 1499999, 2350000, 1800000, 550000, 1375000, 675000, 450000, 1425000, 1200000, 1250000, 1250000, 3300000, 2600000, 1050000, 17000, 1450000, 1850000, 3100000, 2400000, 1950000, 1400000, 2900000, 1450000, 2500000, 1700000, 1700000, 3100000, 2700000, 1500000, 260000, 3400000, 2250000, 4950000, 3100000, 1850000, 1200000, 3000000, 1375000, 1850000, 2800000, 2080000, 1750000, 2400000, 1525000, 1300000, 1350000, 1550000, 200000, 1350000, 1525000, 1375000, 3550000, 1435000, 1325000, 3400000, 3800000, 1750000, 1475000, 2450000, 1425000, 1375000, 1250000, 1650000, 4500000, 1450000, 1600000, 3275000, 1800000, 4350000, 1350000, 1500000, 2380000, 1650000, 3999000, 1600000, 425000, 2300000, 1550000, 3000000, 2200000, 1574997, 3400000, 3700000, 1400000, 1950000, 2800000, 2350000, 1850000, 2350000, 1400000, 1450000, 1400000, 2650000, 1725000, 2900000, 1600000, 3000000, 4150000, 1525000, 1575000, 1500000, 1775000, 7000000, 1425000, 1725000, 1575000, 1650000, 1550000, 2000000, 2700000, 1925000, 1650000, 4500000, 2025000, 2700000, 1900000, 2150000, 1650000, 3800000, 3250000, 3000000, 2000000, 1550000, 1425000, 4200000, 1550000, 3800000, 1450000, 2000000, 1750000, 1675000, 1600000, 1475000, 1600000, 4000000, 1800000, 2300000, 2300000, 7000000, 1850000, 1575000, 3000000, 1750000, 3500000, 1750000, 3350000, 1800000, 1950000, 4000000, 1700000, 3350000, 1650000, 1590000, 2850000, 3450000, 1000000, 1350000, 2400000, 2250000, 1650000, 1875000, 1800000, 1450000, 2800000, 1600000, 110000, 4151000, 3250000, 2325000, 1800000, 4200000, 2750000, 1250000, 2250000, 1775000, 3100000, 1800000, 4200000, 4600000, 1775000, 3500000, 2150000, 2150000, 2150000, 2600000, 1425000, 1750000, 1475000, 1700000, 1800000, 3100000, 1750000, 4900000, 1325000, 2550000, 3400000, 2000000, 1450000, 1200000, 3150000, 1400000, 1800000, 3000000, 1425000, 2650000, 4800000, 1350000, 2200000, 1450000, 29550000, 2150000, 1700000, 950000, 1750000, 1250000, 1125000, 1050000, 2950000, 1450000, 1150000, 1350000, 600000, 1850000, 1720000, 1475000, 2775000, 1215000, 1425000, 1325000, 2950000, 2175000, 1875000, 2050000, 2800000, 1600000, 1950000, 1575000, 1250000, 1950000, 2250000, 1225000, 4150000, 2975000, 1050000, 3000000, 3100000, 1450000, 3000000, 3700000, 3700000, 1850000, 1850000, 4000000, 1900000, 2100000, 1000000, 1200000, 2400000, 2196000, 1850000, 1850000, 3200000, 1000000, 1525000, 4200000, 1450000, 2300000, 1089996, 1180000, 1150000, 625000, 1250000, 1475000, 630000, 1350000, 1650000, 1550000, 1675000, 1850000, 2600000, 1150000, 2455000, 690000, 1750000, 1380000, 1235000, 1325000, 2025000, 2500000, 1525000, 1450000, 1150000, 3150000, 1410000, 1099999, 1325000, 1125000, 1775000, 1725000, 2400000, 1275000, 1750000, 2650000, 1725000, 525000, 2400000, 1125000, 675000, 2375000, 1475000, 1135000, 1475000, 1650000, 2900000, 1650000, 1225000, 2950000, 1850000, 1425000, 1695000, 750000, 1700000, 1450000, 1585000, 1575000, 975000, 1300000, 1275000, 850000, 2100000, 1790000, 590000, 3100000, 1100000, 1175000, 1750000, 1575000, 1375000, 1700000, 1225000, 1525000, 775000, 1100000, 950000, 1775000, 3349000, 1275000, 1000000, 1775000, 2600000, 1575000, 1795000, 1775000, 1090000, 1540000, 1665000, 1425000, 900000, 1150000, 1850000, 1850000, 1600000, 1525000, 2450000, 550000, 1550000, 2375000, 1725000, 1500000, 1575000, 1775000, 1875000, 1150000, 2200000, 1200000, 1500000, 1575000, 1575000, 2400000, 725000, 850000, 1860000, 1300000, 1575000, 1225000, 1325000, 1650000, 900000, 1600000, 1575000, 1350000, 3100000, 1325000, 1075000, 1445000, 1325000, 1400000, 1800000, 1310000, 1175000, 1650000, 1600000, 1425000, 1275000, 1400000, 1345000, 1550000, 1050000, 5800000, 3350000, 1150000, 2011, 1000000, 2000000, 1525000, 1025000, 2125000, 1600000, 1600000, 1350000, 1625000, 1500000, 1775000, 1550000, 1550000, 800000, 3100000, 1324999, 1600000, 1225000, 1875000, 2725000, 4800000, 1170000, 1600000, 1400000, 1175000, 850000, 1575000, 5050000, 1675000, 1525000, 1545000, 1675000, 1700000, 3199999, 1050000, 1150000, 2850000, 1225000, 1675000, 1435000, 1355000, 3300000, 1625000, 1360000, 1150000, 2455000, 1975000, 155000, 1175000, 1325000, 650000, 1850000, 1725000, 1725000, 1550000, 1850000, 1025000, 1550000, 6000000, 3300000, 1325000, 2650000, 2000000, 1300000, 1650000, 2650000, 2300000, 2450000, 1650000, 2000000, 1100000, 1350000, 1450000, 2076000, 5200000, 1575000, 5575000, 1475000, 1250000, 1250000, 3500000, 1350000, 1725000, 1390000, 1850000, 5800000, 250000, 700000, 2475000, 1100000, 1175000, 1175000, 2450000, 520000, 1250000, 2450000, 1300000, 1499999, 1400000, 1850000, 1250000, 1300000, 1775000, 825000, 3200000, 1675000, 725000, 1400000, 1175000, 1750000, 600000, 780000, 2450000, 1150000, 1150000, 1525000, 2000000, 1425000, 1225000, 1575000, 1625000, 1050000, 1000000, 525000, 1250000, 1725000, 1250000, 1175000, 3300000, 1250000, 1350000, 1550000, 1525000, 1750000, 1175000, 1025000, 1150000, 1680000, 1450000, 1475000, 1750000, 2450000, 1175000, 2150000, 3500000, 1250000, 1400000, 1250000, 1090000, 1850000, 1625000, 2600000, 1200000, 1750000, 1300000, 2450000, 1225000, 1025000, 1150000, 1550000, 1425000, 1150000, 510000, 1225000, 1550000, 1600000, 1300000, 3150000, 1520000, 1575000, 1705000, 1850000, 1100000, 1475000, 1750000, 1400000, 1824000, 1575000, 1075000, 1750000, 2850000, 1175000, 1275000, 1380000, 1350000, 1590000, 1450000, 1225000, 1360000, 1275000, 675000, 1050000, 1725000, 675000, 1200000, 950000, 1350000, 1825000, 1400000, 1275000, 1750000, 550000, 600000, 1775000, 1400000, 1725000, 1350000, 1200000, 2200000, 1400000, 1200000, 725000, 1400000, 1325000, 1100000, 1525000, 1590000, 2550000, 1700000, 1900000, 1325000, 1750000, 1725000, 1425000, 1050000, 2450000, 1800000, 1400000, 1225000, 750000, 3700000, 1750000, 2425000, 1200000, 2400000, 1575000, 650000, 1333333, 1450000, 2154993, 700000, 1825000, 3400000, 900000, 1800000, 1325000, 2150000, 1350000, 1550000, 850000, 1350000, 1825000, 1400000, 1400000, 1000000, 1650000, 1350000, 1350000, 1190000, 1500000, 1325000, 1500000, 1750000, 1525000, 1775000, 1550000, 3175000, 4000000, 2550000, 1700000, 1075000, 1675000, 1300000, 1200000, 845000, 1425000, 2900000, 1500000, 1500000, 1850000, 1575000, 1450000, 850000, 785000, 1175000, 3500000, 700000, 825000, 1750000, 1450000, 3700000, 3250000, 675000, 800000, 1375000, 1225000, 750000, 925000, 1315000, 2700000, 1765000, 700000, 1825000, 1150000, 1050000, 925000, 1250000, 170000, 2300000, 3400000, 1625000, 1375000, 1375000, 1200000, 1225000, 1850000, 950000, 1849000, 1025000, 1650000, 750000, 1375000, 1425000, 1375000, 1625000, 785000, 800000, 1450000, 1625000, 1450000, 3250000, 1325000, 1530000, 1650000, 1235000, 1000000, 975000, 1140000, 1275000, 1950000, 1875000, 1175000, 850000, 1425000, 1750000, 1625000, 1195000, 1775000, 1450000, 1475000, 1825000, 650000, 1950000, 1625000, 1150000, 1550000, 2550000, 1395000, 4800000, 1250000, 1425000, 1265000, 1290000, 1775000, 3450000, 1460000, 650000, 1050000, 1225000, 1575000, 1875000, 1625000, 1390000, 900000, 1425000, 2250000, 1300000, 5000000, 2499000, 1375000, 1550000, 1425000, 1340000, 1700000, 1899999, 3300000, 850000, 1475000, 1650000, 1250000, 1900000, 750000, 1325000, 1225000, 1725000, 1950000, 1850000, 1525000, 1575000, 1990000, 1380000, 1325000, 1150000, 2350000, 850000, 2450000, 1550000, 1440000, 1450000, 2050000, 1000000, 2325000, 102500, 1050000, 1700000, 1350000, 1575000, 1875000, 1725000, 1400000, 1425000, 1900000, 1450000, 1775000, 1240000, 1170000, 1515000, 1690000, 950000, 1050000, 2050000, 1150000, 1850000, 1000000, 1450000, 1425000, 3500000, 5600000, 2100000, 700000, 1350000, 1650000, 1190000, 1250000, 1125000, 1385000, 1250000, 1400000, 5700000, 1575000, 1225000, 1425000, 1000000, 650000, 1900000, 1250000, 1575000, 3600000, 1475000, 1600000, 1300000, 3250000, 3700000, 2050000, 4600000, 2175000, 870000, 4150000, 1050000, 1075000, 5200000, 900000, 925000, 5250000, 650000, 650000, 3200000, 1260000, 4400000, 750000, 875000, 4099999, 625000, 2850000, 1050000, 1150000, 1200000, 1000000, 1075000, 4200000, 1500000, 2375000, 1100000, 1100000, 1500000, 2850000, 1300000, 1225000, 1975000, 4400000, 5250000, 2300000, 2150000, 4600000, 875000, 725000, 625000, 975000, 1450000, 5600000, 750000, 5500000, 1350000, 1225000, 2850000, 1275000, 300000, 950000, 800000, 2850000, 1100000, 1650000, 825000, 1750000, 7500000, 1175000, 2000000, 2300000, 1475000, 1550000, 2900000, 4550000, 650000, 5100000, 850000, 880000, 5025000, 4200000, 4200000, 5700000, 3000000, 3000000, 1400000, 4600000, 4900000, 1150000, 1750000, 2499000, 1100000, 975000, 850000, 1475000, 1350000, 4900000, 1650000, 1600000, 1410000, 875000, 3000000, 2000000, 615000, 1600000, 1000000, 5750000, 5500000, 1000000, 1450000, 1200000, 5450000, 1250000, 3100000, 1500000, 3200000, 890000, 1175000, 1180000, 790000, 1600000, 1200000, 7700000, 3100000, 4500000, 1400000, 1600000, 1600000, 750000, 2600000, 1100000, 5000000, 975000, 950000, 8500000, 680000, 9800000, 9200000, 4500000, 7000000, 7000000, 1700000, 1750000, 1050000, 9800000, 1125000, 4800000, 8000000, 8500000, 7700000, 1150000, 1250000, 2100000, 4400000, 1500000, 5400000, 2450000, 3350000, 2650000, 2800000, 3800000, 1500000, 2600000, 1050000, 1300000, 1000000, 2200000, 4300000, 2650000, 2400000, 2400000, 5700000, 3250000, 32000000, 2250000, 2650000, 2275000, 3250000, 2450000, 2825000, 2650000, 2250000, 2900000, 2900000, 2600000, 3850000, 1050000, 2600000, 3600000, 1750000, 2900000, 1450000, 2975000, 4450000, 860000, 3000000, 2650000, 2600000, 2600000, 1600000, 4700000, 1700000, 2450000, 3000000, 4850000, 2700000, 2600000, 900000, 3149999, 3200000, 3100000, 3000000, 3100000, 1700000, 2250000, 4375000, 2350000, 3100000, 3100000, 2850000, 2750000, 1325000, 2250000, 2450000, 2450000, 1000000, 3400000, 1400000, 2350000, 2750000, 2475000, 2875000, 1050000, 3300000, 2650000, 2220000, 4400000, 1400000, 1600000, 1275000, 2900000, 3000000, 1300000, 1750000, 4500000, 1225000, 900000, 2050000, 1925000, 3950000, 2800000, 3600000, 1700000, 1250000, 2850000, 575000, 1725000, 1150000, 400000, 600000, 300000, 1500000, 550000, 675000, 117500, 710000, 350000, 250000, 350000, 975000, 1400000, 2479000, 750000, 960000, 225000, 2475000, 1900000, 1050000, 625000, 400000, 1900000, 1750000, 650000, 1025000, 1325000, 625000, 975000, 1000000, 525000, 2049000, 800000, 1150000, 700000, 2450000, 1479000, 1099000, 1025000, 1300000, 825000, 2199000, 2250000, 2300000, 1130000, 675000, 1850000, 424000, 425000, 2295000, 2350000, 1325000, 1399000, 925000, 1975000, 2250000, 2225000, 1500000, 1160000, 450000, 325000, 1225000, 1300000, 1875000, 1775000, 800000, 800000, 750000, 460000, 2450000, 875000, 1325000, 1000000, 550000, 1050000, 2475000, 2475000, 1050000, 1275000, 1200000, 1025000, 1250000, 1150000, 1750000, 1000000, 1125000, 2450000, 2175000, 625000, 1575000, 2300000, 390000, 975000, 2250000, 1875000, 775000, 465000, 1575000, 2275000, 1550000, 675000, 650000, 690000, 2250000, 1450000, 1325000, 600000, 1225000, 1375000, 1100000, 575000, 600000, 725000, 1525000, 600000, 2400000, 145000, 825000, 1000000, 1650000, 1275000, 1150000, 1200000, 775000, 1250000, 1500000, 875000, 915000, 900000, 1250000, 1250000, 1550000, 1150000, 2550000, 1525000, 1175000, 2650000, 2525000, 2375000, 800000, 1650000, 2490000, 1790000, 1150000, 1650000, 525000, 1375000, 2700000, 1275000, 1350000, 2350000, 555000, 600000, 1350000, 1350000, 1650000, 2350000, 1450000, 2175000, 1375000, 1025000, 1350000, 2575000, 925000, 575000, 1125000, 575000, 1225000, 2200000, 1400000, 825000, 1000000, 1390000, 2750000, 825000, 775000, 1650000, 725000, 675000, 1250000, 1275000, 2300000, 2600000, 1550000, 1475000, 1550000, 1525000, 1000000, 1300000, 1475000, 900000, 1175000, 1375000, 1250000, 1425000, 1175000, 2575000, 850000, 1199999, 1200000, 500000, 1200000, 1300000, 1350000, 1095000, 425000, 825000, 525000, 2000000, 1385000, 1200000, 2425000, 2350000, 2250000, 975000, 2650000, 1025000, 1600000, 1400000, 1450000, 1500000, 1150000, 1225000, 1575000, 950000, 1210000, 1450000, 200000, 1050000, 1225000, 1375000, 1425000, 2000000, 1425000, 950000, 1350000, 1600000, 1000000, 650000, 1600000, 750000, 650000, 1350000, 2350000, 950000, 1150000, 1400000, 1275000, 1425000, 1450000, 1250000, 675000, 1500000, 900000, 650000, 1350000, 1650000, 736000, 1350000, 1245000, 650000, 2350000, 1175000, 1800000, 1350000, 1450000, 725000, 1425000, 910000, 1425000, 1450000, 1325000, 1200000, 925000, 2150000, 460000, 1400000, 850000, 630000, 1300000, 625000, 1400000, 450000, 1900000, 2125000, 785000, 950000, 1075000, 900000, 1275000, 1625000, 1375000, 850000, 1625000, 825000, 2500000, 800000, 660000, 1375000, 1625000, 715000, 1100000, 475000, 625000, 1900000, 900000, 800000, 775000, 950000, 1125000, 1050000, 2850000, 1950000, 1850000, 1500000, 2450000, 1300000, 2400000, 1250000, 1499000, 1325000, 1200000, 1925000, 1500000, 750000, 850000, 2500000, 1325000, 1800000, 1400000, 775000, 880000, 1200000, 800000, 1600000, 1600000, 650000, 990000, 1800000, 2150000, 1550000, 1100000, 1850000, 1800000, 1300000, 2300000, 900000, 2850000, 3250000, 555000, 2000000, 650000, 1500000, 1100000, 1375000, 2000000, 1875000, 1800000, 1690000, 1700000, 2975000, 2300000, 1775000, 2900000, 1750000, 575000, 1725000, 1800000, 1650000, 2200000, 1650000, 1800000, 1250000, 2000000, 1125000, 900000, 3600000, 4000000, 2250000, 1850000, 3600000, 3800000, 1275000, 2250000, 2675000, 1425000, 3600000, 4200000, 5500000, 2750000, 4200000, 3800000, 1300000, 3300000, 6000000, 4300000, 1650000, 1625000, 5000000, 6000000, 3300000, 3650000, 5750000, 1575000, 2200000, 2400000, 2675000, 2700000, 2950000, 550000, 1300000, 2100000, 2000000, 1100000, 925000, 930000, 2500000, 900000, 900000, 2500000, 2950000, 2000000, 1300000, 2000000, 450000, 1325000, 4700000, 2850000, 475000, 2750000, 1050000, 350000, 450000, 600000, 499999, 1050000, 666666, 450000, 1850000, 2400000, 1650000, 550000, 425000, 850000, 2000000, 2050000, 2200000, 525000, 500000, 1200000, 1550000, 575000, 1500000, 1230000, 400000, 1350000, 400000, 3600000, 2450000, 800000, 875000, 1350000, 475000, 1550000, 565000, 437000, 645000, 1675000, 775000, 2300000, 1300000, 1400000, 1400000, 675000, 475000, 770000, 1200000, 1250000, 800000, 700000, 200000, 380000, 1300000, 1350000, 700000, 610000, 2250000, 575000, 1800000, 2200000, 525000, 1650000, 1050000, 1575000, 2450000, 450000, 1125000, 850000, 3650000, 2450000, 650000, 725000, 700000, 2750000, 480000, 1400000, 595000, 1600000, 725000, 2250000, 11500000, 6775000, 2600000, 6550000, 6500000, 6500000, 3500000, 6700000, 2850000, 3300000, 3700000, 700000, 2700000, 925000, 2400000, 700000, 2400000, 5045000, 3225000, 2650000, 1500000, 3150000, 2900000, 2975000, 3500000, 1000000, 2900000, 240000, 1150000, 3400000, 625000, 1075000, 4275000, 3900000, 725000, 5000000, 700000, 4400000, 2450000, 2750000, 455000, 3850000, 3000000, 1550000, 1050000, 5500000, 2475000, 9000000, 3500000, 2825000, 5275000, 4275000, 3500000, 2825000, 5300000, 9100000, 250000, 2100000, 2300000, 1125000, 3400000, 9500000, 3250000, 3400000, 3450000, 2175000, 16800000, 4200000, 1400000, 4850000, 9500000, 2850000, 1050000, 20000000, 4600000, 3150000, 5150000, 18975000, 3675000, 3675000, 3400000, 3200000, 2950000, 4075000, 390000, 4150000, 2500000, 2950000, 4800000, 2825000, 2450000, 2875000, 1050000, 4650000, 1125000, 475000, 4500000, 3150000, 700000, 3500000, 1475000, 4300000, 450000, 1150000, 4100000, 650000, 2500000, 4000000, 3200000, 3400000, 3400000, 5800000, 2500000, 4150000, 1700000, 4600000, 450000, 4400000, 17000000, 3550000, 9699000, 425000, 2950000, 2075000, 6500000, 2200000, 2500000, 3000000, 2000000, 2025000, 4100000, 1725000, 4750000, 2500000, 2650000, 6100000, 2025000, 3450000, 2800000, 2350000, 3480000, 2350000, 1975000, 2800000, 5350000, 2450000, 2150000, 2000000, 1950000, 2350000, 2125000, 6350000, 2100000, 4800000, 2450000, 8050000, 2650000, 2550000, 2250000, 1850000, 10000000, 2400000, 2650000, 2475000, 5500000, 3800000, 7450000, 2100000, 3000000, 2100000, 5650000, 2450000, 5700000, 2350000, 2100000, 5250000, 2550000, 2050000, 3000000, 6100000, 2650000, 1995000, 2650000, 2000000, 2550000, 2150000, 7000000, 2400000, 6175000, 2700000, 3950000, 5800000, 4900000, 3555555], \"yaxis\": \"y\"}],\n",
              "                        {\"legend\": {\"tracegroupgap\": 0}, \"margin\": {\"t\": 60}, \"template\": {\"data\": {\"bar\": [{\"error_x\": {\"color\": \"#2a3f5f\"}, \"error_y\": {\"color\": \"#2a3f5f\"}, \"marker\": {\"line\": {\"color\": \"#E5ECF6\", \"width\": 0.5}}, \"type\": \"bar\"}], \"barpolar\": [{\"marker\": {\"line\": {\"color\": \"#E5ECF6\", \"width\": 0.5}}, \"type\": \"barpolar\"}], \"carpet\": [{\"aaxis\": {\"endlinecolor\": \"#2a3f5f\", \"gridcolor\": \"white\", \"linecolor\": \"white\", \"minorgridcolor\": \"white\", \"startlinecolor\": \"#2a3f5f\"}, \"baxis\": {\"endlinecolor\": \"#2a3f5f\", \"gridcolor\": \"white\", \"linecolor\": \"white\", \"minorgridcolor\": \"white\", \"startlinecolor\": \"#2a3f5f\"}, \"type\": \"carpet\"}], \"choropleth\": [{\"colorbar\": {\"outlinewidth\": 0, \"ticks\": \"\"}, \"type\": \"choropleth\"}], \"contour\": [{\"colorbar\": {\"outlinewidth\": 0, \"ticks\": \"\"}, \"colorscale\": [[0.0, \"#0d0887\"], [0.1111111111111111, \"#46039f\"], [0.2222222222222222, \"#7201a8\"], [0.3333333333333333, \"#9c179e\"], [0.4444444444444444, \"#bd3786\"], [0.5555555555555556, \"#d8576b\"], [0.6666666666666666, \"#ed7953\"], [0.7777777777777778, \"#fb9f3a\"], [0.8888888888888888, \"#fdca26\"], [1.0, \"#f0f921\"]], \"type\": \"contour\"}], \"contourcarpet\": [{\"colorbar\": {\"outlinewidth\": 0, \"ticks\": \"\"}, \"type\": \"contourcarpet\"}], \"heatmap\": [{\"colorbar\": {\"outlinewidth\": 0, \"ticks\": \"\"}, \"colorscale\": [[0.0, \"#0d0887\"], [0.1111111111111111, \"#46039f\"], [0.2222222222222222, \"#7201a8\"], [0.3333333333333333, \"#9c179e\"], [0.4444444444444444, \"#bd3786\"], [0.5555555555555556, \"#d8576b\"], [0.6666666666666666, \"#ed7953\"], [0.7777777777777778, \"#fb9f3a\"], [0.8888888888888888, \"#fdca26\"], [1.0, \"#f0f921\"]], \"type\": \"heatmap\"}], \"heatmapgl\": [{\"colorbar\": {\"outlinewidth\": 0, \"ticks\": \"\"}, \"colorscale\": [[0.0, \"#0d0887\"], [0.1111111111111111, \"#46039f\"], [0.2222222222222222, \"#7201a8\"], [0.3333333333333333, \"#9c179e\"], [0.4444444444444444, \"#bd3786\"], [0.5555555555555556, \"#d8576b\"], [0.6666666666666666, \"#ed7953\"], [0.7777777777777778, \"#fb9f3a\"], [0.8888888888888888, \"#fdca26\"], [1.0, \"#f0f921\"]], \"type\": \"heatmapgl\"}], \"histogram\": [{\"marker\": {\"colorbar\": {\"outlinewidth\": 0, \"ticks\": \"\"}}, \"type\": \"histogram\"}], \"histogram2d\": [{\"colorbar\": {\"outlinewidth\": 0, \"ticks\": \"\"}, \"colorscale\": [[0.0, \"#0d0887\"], [0.1111111111111111, \"#46039f\"], [0.2222222222222222, \"#7201a8\"], [0.3333333333333333, \"#9c179e\"], [0.4444444444444444, \"#bd3786\"], [0.5555555555555556, \"#d8576b\"], [0.6666666666666666, \"#ed7953\"], [0.7777777777777778, \"#fb9f3a\"], [0.8888888888888888, \"#fdca26\"], [1.0, \"#f0f921\"]], \"type\": \"histogram2d\"}], \"histogram2dcontour\": [{\"colorbar\": {\"outlinewidth\": 0, \"ticks\": \"\"}, \"colorscale\": [[0.0, \"#0d0887\"], [0.1111111111111111, \"#46039f\"], [0.2222222222222222, \"#7201a8\"], [0.3333333333333333, \"#9c179e\"], [0.4444444444444444, \"#bd3786\"], [0.5555555555555556, \"#d8576b\"], [0.6666666666666666, \"#ed7953\"], [0.7777777777777778, \"#fb9f3a\"], [0.8888888888888888, \"#fdca26\"], [1.0, \"#f0f921\"]], \"type\": \"histogram2dcontour\"}], \"mesh3d\": [{\"colorbar\": {\"outlinewidth\": 0, \"ticks\": \"\"}, \"type\": \"mesh3d\"}], \"parcoords\": [{\"line\": {\"colorbar\": {\"outlinewidth\": 0, \"ticks\": \"\"}}, \"type\": \"parcoords\"}], \"pie\": [{\"automargin\": true, \"type\": \"pie\"}], \"scatter\": [{\"marker\": {\"colorbar\": {\"outlinewidth\": 0, \"ticks\": \"\"}}, \"type\": \"scatter\"}], \"scatter3d\": [{\"line\": {\"colorbar\": {\"outlinewidth\": 0, \"ticks\": \"\"}}, \"marker\": {\"colorbar\": {\"outlinewidth\": 0, \"ticks\": \"\"}}, \"type\": \"scatter3d\"}], \"scattercarpet\": [{\"marker\": {\"colorbar\": {\"outlinewidth\": 0, \"ticks\": \"\"}}, \"type\": \"scattercarpet\"}], \"scattergeo\": [{\"marker\": {\"colorbar\": {\"outlinewidth\": 0, \"ticks\": \"\"}}, \"type\": \"scattergeo\"}], \"scattergl\": [{\"marker\": {\"colorbar\": {\"outlinewidth\": 0, \"ticks\": \"\"}}, \"type\": \"scattergl\"}], \"scattermapbox\": [{\"marker\": {\"colorbar\": {\"outlinewidth\": 0, \"ticks\": \"\"}}, \"type\": \"scattermapbox\"}], \"scatterpolar\": [{\"marker\": {\"colorbar\": {\"outlinewidth\": 0, \"ticks\": \"\"}}, \"type\": \"scatterpolar\"}], \"scatterpolargl\": [{\"marker\": {\"colorbar\": {\"outlinewidth\": 0, \"ticks\": \"\"}}, \"type\": \"scatterpolargl\"}], \"scatterternary\": [{\"marker\": {\"colorbar\": {\"outlinewidth\": 0, \"ticks\": \"\"}}, \"type\": \"scatterternary\"}], \"surface\": [{\"colorbar\": {\"outlinewidth\": 0, \"ticks\": \"\"}, \"colorscale\": [[0.0, \"#0d0887\"], [0.1111111111111111, \"#46039f\"], [0.2222222222222222, \"#7201a8\"], [0.3333333333333333, \"#9c179e\"], [0.4444444444444444, \"#bd3786\"], [0.5555555555555556, \"#d8576b\"], [0.6666666666666666, \"#ed7953\"], [0.7777777777777778, \"#fb9f3a\"], [0.8888888888888888, \"#fdca26\"], [1.0, \"#f0f921\"]], \"type\": \"surface\"}], \"table\": [{\"cells\": {\"fill\": {\"color\": \"#EBF0F8\"}, \"line\": {\"color\": \"white\"}}, \"header\": {\"fill\": {\"color\": \"#C8D4E3\"}, \"line\": {\"color\": \"white\"}}, \"type\": \"table\"}]}, \"layout\": {\"annotationdefaults\": {\"arrowcolor\": \"#2a3f5f\", \"arrowhead\": 0, \"arrowwidth\": 1}, \"coloraxis\": {\"colorbar\": {\"outlinewidth\": 0, \"ticks\": \"\"}}, \"colorscale\": {\"diverging\": [[0, \"#8e0152\"], [0.1, \"#c51b7d\"], [0.2, \"#de77ae\"], [0.3, \"#f1b6da\"], [0.4, \"#fde0ef\"], [0.5, \"#f7f7f7\"], [0.6, \"#e6f5d0\"], [0.7, \"#b8e186\"], [0.8, \"#7fbc41\"], [0.9, \"#4d9221\"], [1, \"#276419\"]], \"sequential\": [[0.0, \"#0d0887\"], [0.1111111111111111, \"#46039f\"], [0.2222222222222222, \"#7201a8\"], [0.3333333333333333, \"#9c179e\"], [0.4444444444444444, \"#bd3786\"], [0.5555555555555556, \"#d8576b\"], [0.6666666666666666, \"#ed7953\"], [0.7777777777777778, \"#fb9f3a\"], [0.8888888888888888, \"#fdca26\"], [1.0, \"#f0f921\"]], \"sequentialminus\": [[0.0, \"#0d0887\"], [0.1111111111111111, \"#46039f\"], [0.2222222222222222, \"#7201a8\"], [0.3333333333333333, \"#9c179e\"], [0.4444444444444444, \"#bd3786\"], [0.5555555555555556, \"#d8576b\"], [0.6666666666666666, \"#ed7953\"], [0.7777777777777778, \"#fb9f3a\"], [0.8888888888888888, \"#fdca26\"], [1.0, \"#f0f921\"]]}, \"colorway\": [\"#636efa\", \"#EF553B\", \"#00cc96\", \"#ab63fa\", \"#FFA15A\", \"#19d3f3\", \"#FF6692\", \"#B6E880\", \"#FF97FF\", \"#FECB52\"], \"font\": {\"color\": \"#2a3f5f\"}, \"geo\": {\"bgcolor\": \"white\", \"lakecolor\": \"white\", \"landcolor\": \"#E5ECF6\", \"showlakes\": true, \"showland\": true, \"subunitcolor\": \"white\"}, \"hoverlabel\": {\"align\": \"left\"}, \"hovermode\": \"closest\", \"mapbox\": {\"style\": \"light\"}, \"paper_bgcolor\": \"white\", \"plot_bgcolor\": \"#E5ECF6\", \"polar\": {\"angularaxis\": {\"gridcolor\": \"white\", \"linecolor\": \"white\", \"ticks\": \"\"}, \"bgcolor\": \"#E5ECF6\", \"radialaxis\": {\"gridcolor\": \"white\", \"linecolor\": \"white\", \"ticks\": \"\"}}, \"scene\": {\"xaxis\": {\"backgroundcolor\": \"#E5ECF6\", \"gridcolor\": \"white\", \"gridwidth\": 2, \"linecolor\": \"white\", \"showbackground\": true, \"ticks\": \"\", \"zerolinecolor\": \"white\"}, \"yaxis\": {\"backgroundcolor\": \"#E5ECF6\", \"gridcolor\": \"white\", \"gridwidth\": 2, \"linecolor\": \"white\", \"showbackground\": true, \"ticks\": \"\", \"zerolinecolor\": \"white\"}, \"zaxis\": {\"backgroundcolor\": \"#E5ECF6\", \"gridcolor\": \"white\", \"gridwidth\": 2, \"linecolor\": \"white\", \"showbackground\": true, \"ticks\": \"\", \"zerolinecolor\": \"white\"}}, \"shapedefaults\": {\"line\": {\"color\": \"#2a3f5f\"}}, \"ternary\": {\"aaxis\": {\"gridcolor\": \"white\", \"linecolor\": \"white\", \"ticks\": \"\"}, \"baxis\": {\"gridcolor\": \"white\", \"linecolor\": \"white\", \"ticks\": \"\"}, \"bgcolor\": \"#E5ECF6\", \"caxis\": {\"gridcolor\": \"white\", \"linecolor\": \"white\", \"ticks\": \"\"}}, \"title\": {\"x\": 0.05}, \"xaxis\": {\"automargin\": true, \"gridcolor\": \"white\", \"linecolor\": \"white\", \"ticks\": \"\", \"title\": {\"standoff\": 15}, \"zerolinecolor\": \"white\", \"zerolinewidth\": 2}, \"yaxis\": {\"automargin\": true, \"gridcolor\": \"white\", \"linecolor\": \"white\", \"ticks\": \"\", \"title\": {\"standoff\": 15}, \"zerolinecolor\": \"white\", \"zerolinewidth\": 2}}}, \"xaxis\": {\"anchor\": \"y\", \"domain\": [0.0, 1.0], \"title\": {\"text\": \"Kilometer\"}}, \"yaxis\": {\"anchor\": \"x\", \"domain\": [0.0, 1.0], \"title\": {\"text\": \"Price\"}}},\n",
              "                        {\"responsive\": true}\n",
              "                    ).then(function(){\n",
              "                            \n",
              "var gd = document.getElementById('7a0f91a0-3b9d-4baa-bf57-076bfc933aac');\n",
              "var x = new MutationObserver(function (mutations, observer) {{\n",
              "        var display = window.getComputedStyle(gd).display;\n",
              "        if (!display || display === 'none') {{\n",
              "            console.log([gd, 'removed!']);\n",
              "            Plotly.purge(gd);\n",
              "            observer.disconnect();\n",
              "        }}\n",
              "}});\n",
              "\n",
              "// Listen for the removal of the full notebook cells\n",
              "var notebookContainer = gd.closest('#notebook-container');\n",
              "if (notebookContainer) {{\n",
              "    x.observe(notebookContainer, {childList: true});\n",
              "}}\n",
              "\n",
              "// Listen for the clearing of the current output cell\n",
              "var outputEl = gd.closest('.output');\n",
              "if (outputEl) {{\n",
              "    x.observe(outputEl, {childList: true});\n",
              "}}\n",
              "\n",
              "                        })\n",
              "                };\n",
              "                \n",
              "            </script>\n",
              "        </div>\n",
              "</body>\n",
              "</html>"
            ]
          },
          "metadata": {
            "tags": []
          }
        }
      ]
    },
    {
      "cell_type": "markdown",
      "metadata": {
        "id": "xYDlVa4kOQ80"
      },
      "source": [
        "So there are few outliers car that has travelled longer distance but sold at low prices."
      ]
    },
    {
      "cell_type": "code",
      "metadata": {
        "id": "PdgrzKWdMiI1"
      },
      "source": [
        "# lets drop lot_no as it is highly corelated to model_year and also the corelation with other feature is similar to model_year\n",
        "df.drop(['Lot_no'], axis='columns', inplace=True)"
      ],
      "execution_count": null,
      "outputs": []
    },
    {
      "cell_type": "markdown",
      "metadata": {
        "id": "_puWkHhIMiI1"
      },
      "source": [
        "### Categorical Data Analysis"
      ]
    },
    {
      "cell_type": "code",
      "metadata": {
        "colab": {
          "base_uri": "https://localhost:8080/"
        },
        "id": "5ax4HjvZMiI1",
        "outputId": "bff73f50-d178-4f03-f940-293b3ec953bb"
      },
      "source": [
        "for column in cat_features:\n",
        "  print('{} has {} values '.format(column,df[column].unique()))\n",
        "  print('\\n')"
      ],
      "execution_count": null,
      "outputs": [
        {
          "output_type": "stream",
          "text": [
            "Brand has ['Chevrolet' 'Fiat' 'Ford' 'Honda' 'Hyundai' 'Kia' 'Land Rover' 'Mahindra'\n",
            " 'Maruti Suzuki' 'Nissan' 'Skoda' 'Tata' 'Toyota' 'Volkswagen'] values \n",
            "\n",
            "\n",
            "Model has ['aveo' 'captiva' 'spark' 'beat' 'u-va' 'uva' 'sedan' 'avventura' 'punto'\n",
            " 'linea' 'figo' 'palio' 'ecosport' 'titanium' 'fiesta' 'ranger' 'cr-v'\n",
            " 'city' 'jazz' 'brio' 'civic' 'crv' 'accent' 'i10' 'santro' 'i20' 'getz'\n",
            " 'asta' 'tucson' 'eon' 'creta' 'elite' 'elantra' 'sonata' 'sephia'\n",
            " 'sportage' 'picanto' 'rio' 'soul' 'carens' 'cerato' 'freelander'\n",
            " 'discovery' 'defender' 'bolero' 'Kuv' 'scorpio' 'swift' 'alto-800'\n",
            " 'celerio' 'alto-LXI' 'Omni' '800' 'eeco' 'astar' 'alto' 'dzire' 'a-star'\n",
            " 'saloon' 'sunny' 'tiida' 'fabia' 'laura' 'rapid' 'superb' 'octavia'\n",
            " 'sumo' 'safari' 'ace' 'indica' 'bolt' 'strome' 'nano' 'grande' 'manza'\n",
            " 'venture' 'indigo' 'corolla' 'fortuner' 'hilux' 'cruiser' 'etios' 'echo'\n",
            " 'avanza' 'camry' 'corona' 'prado' 'hiace' 'polo' 'tiguan' 'beetle'\n",
            " 'vento' 'touareg' 'passat'] values \n",
            "\n",
            "\n",
            "Transmission has [' Manual' ' Automatic'] values \n",
            "\n",
            "\n",
            "Drivetrain has [' 2WD' ' 4WD'] values \n",
            "\n",
            "\n",
            "Fuel_type has [' Petrol' ' Diesel'] values \n",
            "\n",
            "\n",
            "Colour has [' golden' ' Grey' ' Sky Blue ' ' Green' ' Red/Maroon' ' Maroon'\n",
            " ' royal black' ' metalic sky blue' ' Golden Silver ' ' Red'\n",
            " ' Lilene Beige' ' White' ' Bue' ' Light Golden' ' Silver' ' Sky blue'\n",
            " ' golden silver' ' silver' ' Metallic' ' Golden' ' Gray' ' Black'\n",
            " ' WHITE' ' Platinum Metallic' ' Dark Gray' ' Blue' ' black'\n",
            " ' Chocolate Grey' ' Caviar Black ' ' SILVER' ' white ' '  Pearl Silver'\n",
            " ' orange ' ' Velvet Red' ' Beige' ' sky blue' ' Caviar Black'\n",
            " ' Lenin Beige' ' Sandive grey' ' Silver ' ' Cream Blue' ' Off white '\n",
            " ' dark grey' ' maroon(red)' ' White ' ' Golden Grey' ' Moondust Silver'\n",
            " ' Mars Red' ' smoke grey' ' White Gold' ' Orange' ' Chilly Silver '\n",
            " ' grey' ' white' ' Sea greay' ' Space gray' ' FROGEN WHITE'\n",
            " ' Paprika Red' ' Chill' ' Sea gray ' ' Sea Grey' ' Siver'\n",
            " ' Diamond white' ' Dark grey' ' silky silver' ' Light Green'\n",
            " ' milky white' ' Beautiful White' ' squeeze ' ' Gray ' ' Metalic Grey'\n",
            " ' Paprika red ' ' red' ' gray' ' Diamond White' ' Pearl silver '\n",
            " ' diamond' ' Paprika red' ' Red ' ' Colorado Red' ' D.White' ' Squeeze '\n",
            " ' Silky silver ' ' SQUEEZE (GREEN)' ' Kinetic blue' ' Smoke' ' Sea Gray'\n",
            " ' Panther Black' ' maroon red' ' Maroon Red' ' black ' ' Navy Green'\n",
            " ' Navy green' ' Bluish Silver' ' Baidge' ' sliver' ' Light Blue' ' Blue '\n",
            " ' Dark Grey' ' maroon' ' tafeta white' ' mettalic grey'\n",
            " ' Metallic silver' ' Brown' ' yellow' ' Grey ' ' light green' ' blue'\n",
            " ' red & black' ' Real Earth' ' Golden ' ' Sky Blue' ' Maroon red' ' GREY'\n",
            " ' Carbon grey' ' Silky Brown ' ' Sleek silver' ' Metalic Silver'\n",
            " ' Blushing Red' ' Maroon ' ' Pearl White' ' Royal blue'\n",
            " ' Dark Grey Stardust' ' Champion Gold' ' Standard Black' ' Blushing red'\n",
            " ' BIue' ' SiIver' ' sky Blue' ' Aqua Silver' ' Marhoon' ' Crystal White'\n",
            " ' chympigyan gold' ' Whiskey BIue' ' light blue' ' Sleek Silver'\n",
            " ' Metallic Blue' ' champion gold' ' Stardust' ' SIVER' ' Amber grey'\n",
            " ' Wine Red' ' Bright Silver' ' Light Golden ' ' Sampion Gold'\n",
            " ' Black grey ' ' Silk Silver' ' gray ' ' silver green ' ' silver '\n",
            " ' Light Glden' '  Sleek Silver' ' `light golden' ' Metalic ' ' golden '\n",
            " ' Oyster grey' ' Metalic Blue' ' silver,green' ' Sliver' ' light golden'\n",
            " ' golden orange ' ' Black ' ' Grea' ' marron red' ' Shampion Gold'\n",
            " ' Silk silver' ' Midnight Gray' ' snow white' ' Brick red'\n",
            " ' Midnight grey' ' Sparkle Blue' ' champagyan gold' ' silver golden'\n",
            " ' Siliver' ' light gold' ' Marron' ' Forest Dew' ' Line Blue' ' Gold'\n",
            " ' shympain Gold' ' Milky white ' ' Blue sky ' ' sampion gold' ' BLUE'\n",
            " ' Whisky Blue' ' GRAY' ' teal blue' ' yellow ' ' siver' ' silk silver'\n",
            " ' Carbon Grey' ' DARK GREEN' ' blue sky' ' Light golden' ' blur'\n",
            " ' Red maron' ' Blue sky' ' silvar' ' real earth' ' CARBON GREY'\n",
            " ' maroon ' ' blue ' ' standard red' ' light grey metalic' ' dark blue '\n",
            " ' BG BLACK' ' grenyet red' ' LIGHT BLUE' ' RED' '  silver'\n",
            " ' Maroon metallic' ' Silky Silver' ' Creamy white' ' Silky silver'\n",
            " ' Light Gold' ' Troquoise Blue' ' Gray &Black' ' Creamy White' ' skyblue'\n",
            " ' berry red' ' Apline Blue' ' ldark skyblue' ' light blue  '\n",
            " ' Champen Gold' ' Sampain Gold' ' Cream' ' Mid nite grey' ' Dark Blue'\n",
            " ' light blue ' ' Teal Green' ' Metalic Red' ' Metallic Silver'\n",
            " ' Blue Metalic' ' PURPLE' ' Vanilla sake' ' Diamond Blue'\n",
            " ' Silver Metallic Smoke Grey ' ' Metalic Black' ' Titanium Silver'\n",
            " ' brown ' ' vintage blue' ' Mineral silver' ' Bright silver'\n",
            " ' Sand Track' ' SIlver Metallic Grey' ' Titanium ' ' Cafe Mocha'\n",
            " ' Royal black' ' MINARAL SILVER' ' metalic grey' ' BLACK'\n",
            " ' Metallic Bronze' ' coffee mocha' ' titanium silver ' ' blue metalic'\n",
            " ' Light Sky Blue' ' Chocolate' ' green' ' Metallic Grey' ' Royal Blue'\n",
            " ' blue,' ' Read' ' LIGHT GREY' ' Sea Green' ' Army' ' Dark red'\n",
            " ' mist silver' ' mist silver ' ' Army colour' ' coat red'\n",
            " ' black and silver' ' Java Brawn' ' Rocky Beige' ' Mist Silver'\n",
            " ' designer grey' ' light Green' ' granite red' ' creami white'\n",
            " ' silky silver ' ' Chocolate Brown ' ' Dark Red' ' alpine blue'\n",
            " ' Desert brown' ' artic white' ' Parasite Blue' ' Dazzling Red'\n",
            " ' golden yellow' ' DARK GREY' ' Silver golden' ' Purple Blue'\n",
            " ' cayenne orange' ' Metallic steel ' ' green ' ' purple'\n",
            " ' sillky siliver' ' dusky brown' ' orange' ' azure grey' ' Healing Green'\n",
            " ' GREEN' ' digital blue' ' Maroon/Orange' ' aqua blue' ' red '\n",
            " ' Copper Red ' ' METALLIC SILKY SILVER' ' Dark Blue ' ' pearl blue'\n",
            " ' metallic blue' ' Gret' ' healing green' ' Metalic Orange'\n",
            " ' Sunlight copper ' ' Silvery Blue' ' yelleow ' ' dark orange'\n",
            " ' golden brown' ' navy blue' ' kaleji red' ' Silver Gold'\n",
            " ' Blue And White' ' Shining White' ' Wine red' ' Arctic Silver'\n",
            " ' Marrone ' ' Golden brown' ' Golden silver ' ' Yellowish Silver'\n",
            " ' Capachine Baige' ' Chocolate colour' ' Light brown' ' Deep Black'\n",
            " ' Silver Grey' ' red/maroon' ' sky blue white' ' Cycus Grey' ' sea grey'\n",
            " ' Silver white' ' Res' ' Aqua green' ' Urban bronze' ' Yellow'\n",
            " ' Sardania Red' ' Burgandy royal' ' tyrine wine' ' Aqua Green'\n",
            " ' KARBON GREY' ' metallic silver' ' Carbon Black' ' Maroon Orange'\n",
            " ' Smokey Grey' ' walnut green' ' marin blue' ' Purple' ' matt black'\n",
            " ' Metalic Green' ' metallic silver ' ' SILVER METALIC' ' Dark Maroon'\n",
            " ' light blue metalic' ' Metallic Gray' ' Cocktail of golden & black'\n",
            " ' brown' ' Dark green' ' whit' ' Grey metallic' ' sleek silver'\n",
            " ' Giolden' ' Grey Metallic' ' Silver blue' ' toffee brown'\n",
            " ' Golden Beige' ' Red Flash' ' RID GREEN' ' Dark meta lick blue'\n",
            " ' India blue'] values \n",
            "\n",
            "\n"
          ],
          "name": "stdout"
        }
      ]
    },
    {
      "cell_type": "markdown",
      "metadata": {
        "id": "1vM2Z48uMiI2"
      },
      "source": [
        "###### For categorical variables which has only 2 classes can be converted to 0 and 1 . "
      ]
    },
    {
      "cell_type": "code",
      "metadata": {
        "colab": {
          "base_uri": "https://localhost:8080/"
        },
        "id": "2-nBxj0tMiI2",
        "outputId": "9bd37646-c147-4cff-e0df-2629bdadb400"
      },
      "source": [
        "df['Transmission'].unique()"
      ],
      "execution_count": null,
      "outputs": [
        {
          "output_type": "execute_result",
          "data": {
            "text/plain": [
              "array([' Manual', ' Automatic'], dtype=object)"
            ]
          },
          "metadata": {
            "tags": []
          },
          "execution_count": 108
        }
      ]
    },
    {
      "cell_type": "code",
      "metadata": {
        "colab": {
          "base_uri": "https://localhost:8080/"
        },
        "id": "_gT6zG_-MiI2",
        "outputId": "fc33e746-acc2-4a76-c0cc-4e036251689e"
      },
      "source": [
        "df['Transmission']=df['Transmission'].replace([' Manual',' Automatic'], [0,1])\n",
        "df['Transmission'].unique()"
      ],
      "execution_count": null,
      "outputs": [
        {
          "output_type": "execute_result",
          "data": {
            "text/plain": [
              "array([0, 1])"
            ]
          },
          "metadata": {
            "tags": []
          },
          "execution_count": 109
        }
      ]
    },
    {
      "cell_type": "code",
      "metadata": {
        "colab": {
          "base_uri": "https://localhost:8080/",
          "height": 542
        },
        "id": "34qbzgaIT1Iv",
        "outputId": "4e21a317-e8fe-4062-e030-0c5668c0b93b"
      },
      "source": [
        "scatters('Transmission','Price')"
      ],
      "execution_count": null,
      "outputs": [
        {
          "output_type": "display_data",
          "data": {
            "text/html": [
              "<html>\n",
              "<head><meta charset=\"utf-8\" /></head>\n",
              "<body>\n",
              "    <div>\n",
              "            <script src=\"https://cdnjs.cloudflare.com/ajax/libs/mathjax/2.7.5/MathJax.js?config=TeX-AMS-MML_SVG\"></script><script type=\"text/javascript\">if (window.MathJax) {MathJax.Hub.Config({SVG: {font: \"STIX-Web\"}});}</script>\n",
              "                <script type=\"text/javascript\">window.PlotlyConfig = {MathJaxConfig: 'local'};</script>\n",
              "        <script src=\"https://cdn.plot.ly/plotly-latest.min.js\"></script>    \n",
              "            <div id=\"439c8a94-71d9-4273-9f65-b3ee60515fcd\" class=\"plotly-graph-div\" style=\"height:525px; width:100%;\"></div>\n",
              "            <script type=\"text/javascript\">\n",
              "                \n",
              "                    window.PLOTLYENV=window.PLOTLYENV || {};\n",
              "                    \n",
              "                if (document.getElementById(\"439c8a94-71d9-4273-9f65-b3ee60515fcd\")) {\n",
              "                    Plotly.newPlot(\n",
              "                        '439c8a94-71d9-4273-9f65-b3ee60515fcd',\n",
              "                        [{\"hoverlabel\": {\"namelength\": 0}, \"hovertemplate\": \"Transmission=%{x}<br>Price=%{y}\", \"legendgroup\": \"\", \"marker\": {\"color\": \"#636efa\", \"symbol\": \"circle\"}, \"mode\": \"markers\", \"name\": \"\", \"showlegend\": false, \"type\": \"scattergl\", \"x\": [0, 1, 0, 1, 0, 0, 0, 0, 0, 0, 0, 0, 0, 0, 0, 0, 1, 0, 0, 1, 0, 0, 1, 1, 0, 0, 0, 0, 0, 0, 1, 1, 0, 0, 0, 0, 0, 0, 0, 0, 0, 0, 0, 0, 0, 0, 0, 1, 0, 0, 0, 0, 0, 1, 0, 0, 0, 0, 0, 0, 0, 0, 0, 0, 0, 1, 0, 0, 0, 0, 0, 1, 0, 0, 0, 0, 0, 0, 0, 0, 0, 0, 1, 0, 0, 0, 0, 0, 0, 0, 0, 0, 0, 0, 0, 0, 1, 1, 0, 0, 0, 0, 1, 1, 0, 0, 0, 0, 0, 0, 0, 0, 1, 0, 0, 0, 0, 0, 0, 0, 0, 0, 0, 0, 0, 0, 0, 0, 0, 0, 0, 0, 0, 1, 0, 0, 0, 0, 0, 0, 0, 0, 0, 0, 0, 0, 0, 0, 0, 0, 0, 0, 0, 0, 0, 0, 0, 0, 0, 0, 0, 0, 0, 0, 0, 0, 0, 0, 0, 0, 0, 0, 1, 0, 0, 0, 0, 0, 0, 0, 0, 0, 0, 0, 0, 0, 0, 0, 0, 0, 0, 0, 0, 0, 0, 0, 0, 0, 0, 0, 0, 0, 0, 0, 0, 0, 0, 0, 1, 0, 0, 0, 0, 0, 0, 0, 0, 0, 0, 0, 0, 0, 0, 0, 0, 1, 0, 0, 0, 0, 0, 0, 0, 0, 0, 0, 1, 0, 0, 0, 0, 0, 0, 0, 0, 0, 0, 1, 1, 0, 0, 0, 0, 0, 0, 0, 0, 0, 0, 0, 0, 0, 1, 0, 0, 0, 0, 0, 0, 0, 0, 0, 0, 0, 1, 0, 0, 0, 0, 0, 0, 0, 0, 0, 0, 0, 0, 0, 0, 0, 0, 0, 0, 0, 0, 0, 0, 0, 0, 0, 0, 0, 0, 0, 0, 0, 0, 0, 0, 0, 0, 0, 0, 0, 0, 0, 0, 0, 0, 0, 0, 0, 0, 0, 0, 0, 0, 0, 0, 0, 0, 0, 0, 0, 0, 0, 0, 0, 0, 0, 0, 0, 0, 0, 0, 0, 0, 0, 0, 0, 0, 0, 0, 0, 0, 0, 0, 0, 0, 0, 0, 0, 0, 0, 0, 0, 0, 0, 0, 0, 0, 0, 0, 0, 0, 0, 0, 0, 0, 0, 0, 0, 0, 0, 0, 0, 0, 0, 0, 0, 0, 0, 0, 0, 0, 0, 0, 0, 0, 1, 0, 0, 0, 0, 0, 0, 0, 0, 0, 0, 0, 0, 0, 0, 0, 0, 0, 0, 0, 0, 0, 0, 0, 0, 0, 0, 0, 0, 0, 1, 0, 0, 0, 0, 0, 0, 0, 0, 0, 0, 0, 0, 0, 0, 0, 0, 0, 0, 0, 0, 0, 0, 0, 0, 0, 0, 0, 0, 0, 0, 0, 0, 0, 0, 0, 0, 0, 0, 0, 0, 0, 0, 0, 0, 0, 0, 0, 0, 1, 0, 0, 0, 0, 0, 0, 0, 0, 0, 0, 0, 0, 0, 0, 0, 0, 0, 0, 0, 0, 0, 0, 0, 0, 0, 0, 1, 0, 0, 0, 0, 0, 0, 0, 0, 0, 0, 0, 0, 0, 0, 0, 0, 1, 0, 0, 0, 0, 0, 0, 0, 0, 0, 0, 0, 0, 0, 0, 0, 0, 1, 0, 0, 0, 0, 0, 0, 0, 0, 0, 0, 0, 0, 0, 0, 0, 0, 0, 1, 0, 0, 0, 0, 0, 0, 1, 0, 0, 0, 0, 0, 0, 0, 0, 0, 0, 0, 0, 0, 0, 0, 0, 0, 0, 0, 0, 0, 0, 0, 0, 0, 0, 0, 0, 0, 0, 0, 0, 0, 0, 0, 0, 0, 0, 0, 0, 0, 0, 0, 0, 0, 0, 0, 0, 0, 0, 0, 0, 0, 0, 0, 0, 0, 0, 1, 0, 0, 0, 0, 0, 0, 0, 0, 0, 0, 0, 0, 0, 0, 0, 0, 0, 0, 0, 0, 0, 0, 0, 0, 0, 0, 0, 0, 0, 0, 0, 0, 0, 0, 0, 0, 0, 0, 0, 0, 0, 0, 0, 0, 0, 0, 0, 0, 0, 0, 0, 0, 0, 0, 0, 0, 0, 0, 0, 0, 0, 0, 0, 0, 0, 0, 0, 0, 0, 0, 0, 0, 0, 0, 0, 0, 0, 0, 0, 0, 0, 0, 0, 0, 0, 0, 0, 0, 0, 0, 0, 0, 0, 0, 0, 0, 0, 0, 0, 0, 0, 0, 0, 0, 0, 0, 0, 0, 0, 0, 0, 0, 0, 0, 0, 0, 0, 0, 0, 0, 0, 0, 0, 0, 0, 0, 0, 0, 0, 0, 0, 0, 0, 0, 0, 0, 0, 0, 0, 1, 0, 0, 1, 0, 0, 0, 1, 0, 0, 0, 0, 0, 0, 0, 0, 0, 0, 0, 0, 0, 0, 0, 0, 0, 0, 0, 0, 0, 0, 0, 0, 0, 0, 0, 0, 0, 0, 0, 0, 0, 0, 0, 0, 0, 0, 0, 0, 0, 0, 0, 0, 0, 0, 0, 0, 0, 0, 0, 0, 0, 0, 0, 0, 0, 0, 0, 0, 0, 0, 0, 0, 0, 0, 0, 0, 0, 0, 0, 0, 0, 0, 0, 0, 0, 0, 0, 0, 0, 0, 0, 0, 0, 0, 0, 0, 0, 0, 0, 0, 0, 0, 0, 0, 0, 0, 0, 0, 0, 0, 0, 0, 0, 0, 0, 0, 0, 0, 0, 0, 0, 0, 0, 0, 0, 0, 0, 0, 0, 0, 0, 0, 0, 0, 0, 0, 0, 0, 0, 0, 0, 0, 0, 0, 0, 0, 0, 0, 0, 0, 0, 0, 0, 0, 0, 0, 0, 0, 0, 1, 0, 0, 0, 1, 0, 0, 0, 0, 0, 0, 0, 0, 0, 0, 0, 0, 0, 0, 0, 0, 0, 0, 0, 0, 0, 0, 0, 0, 0, 0, 0, 0, 0, 0, 0, 0, 0, 0, 0, 0, 0, 0, 0, 0, 0, 0, 0, 0, 0, 0, 1, 0, 0, 0, 0, 0, 0, 1, 0, 0, 0, 1, 0, 0, 0, 0, 0, 0, 0, 0, 0, 0, 0, 0, 0, 0, 0, 0, 0, 0, 0, 0, 0, 0, 0, 0, 0, 0, 0, 0, 0, 0, 0, 0, 0, 0, 0, 0, 1, 0, 0, 0, 0, 0, 0, 0, 0, 0, 0, 0, 0, 0, 0, 0, 0, 0, 0, 0, 0, 0, 0, 0, 0, 0, 1, 0, 1, 0, 0, 0, 0, 0, 0, 0, 1, 0, 0, 0, 0, 0, 0, 0, 0, 0, 0, 0, 0, 0, 0, 0, 0, 0, 1, 1, 0, 1, 0, 0, 0, 1, 1, 0, 0, 0, 1, 0, 0, 0, 0, 0, 0, 0, 0, 0, 0, 0, 0, 0, 0, 0, 0, 0, 0, 0, 0, 0, 0, 0, 0, 0, 0, 0, 0, 0, 0, 0, 0, 0, 0, 0, 0, 0, 0, 0, 0, 0, 0, 0, 0, 0, 0, 0, 0, 1, 0, 0, 0, 0, 0, 0, 0, 0, 0, 0, 0, 0, 0, 0, 0, 0, 0, 0, 0, 0, 0, 0, 0, 0, 0, 0, 0, 0, 0, 0, 0, 0, 0, 0, 0, 0, 0, 0, 0, 0, 0, 0, 0, 0, 0, 0, 0, 0, 0, 0, 0, 0, 0, 0, 1, 0, 0, 0, 0, 0, 0, 0, 0, 0, 0, 0, 0, 0, 0, 0, 0, 0, 0, 0, 0, 0, 0, 0, 0, 0, 0, 0, 0, 0, 0, 0, 0, 0, 0, 0, 0, 0, 0, 0, 0, 0, 0, 0, 0, 0, 0, 0, 0, 0, 0, 0, 0, 0, 0, 0, 0, 0, 0, 0, 0, 0, 0, 0, 0, 0, 0, 0, 0, 0, 0, 0, 0, 0, 0, 0, 0, 0, 0, 0, 0, 0, 0, 0, 0, 0, 0, 0, 0, 0, 0, 0, 0, 0, 0, 0, 0, 0, 0, 0, 0, 0, 0, 0, 0, 0, 0, 0, 0, 0, 0, 0, 0, 0, 0, 0, 0, 0, 0, 0, 0, 0, 0, 0, 0, 0, 0, 0, 0, 0, 0, 0, 0, 0, 0, 0, 0, 0, 0, 0, 0, 0, 0, 0, 0, 0, 0, 0, 0, 0, 0, 0, 0, 0, 1, 0, 0, 0, 0, 0, 0, 0, 0, 0, 0, 0, 0, 0, 0, 0, 0, 0, 0, 0, 0, 0, 0, 0, 0, 0, 0, 0, 0, 0, 0, 0, 0, 0, 0, 0, 0, 0, 0, 0, 0, 0, 0, 0, 0, 0, 0, 0, 0, 0, 0, 0, 0, 0, 0, 0, 0, 0, 0, 0, 0, 0, 0, 0, 0, 0, 0, 0, 0, 0, 0, 0, 0, 0, 0, 0, 0, 0, 0, 0, 0, 0, 0, 0, 0, 0, 0, 0, 0, 0, 0, 0, 0, 0, 0, 0, 0, 0, 0, 0, 0, 0, 0, 0, 0, 0, 0, 0, 0, 0, 0, 0, 0, 0, 0, 0, 0, 0, 0, 0, 0, 0, 0, 0, 0, 0, 1, 0, 0, 0, 0, 0, 0, 0, 0, 0, 0, 0, 0, 0, 0, 0, 0, 0, 0, 0, 0, 0, 0, 0, 0, 0, 0, 0, 0, 0, 0, 0, 0, 0, 0, 0, 0, 0, 0, 0, 0, 0, 0, 0, 0, 0, 0, 0, 0, 0, 0, 0, 0, 0, 0, 0, 0, 0, 0, 0, 0, 0, 0, 0, 0, 0, 1, 0, 0, 0, 0, 0, 0, 0, 0, 0, 0, 0, 0, 0, 0, 0, 0, 0, 0, 0, 0, 0, 0, 0, 0, 0, 0, 0, 0, 0, 0, 0, 0, 0, 0, 0, 0, 0, 1, 0, 0, 0, 0, 0, 0, 0, 0, 0, 1, 0, 0, 0, 0, 0, 1, 0, 0, 0, 0, 1, 0, 0, 0, 0, 0, 0, 0, 0, 0, 0, 0, 0, 0, 0, 0, 0, 0, 0, 0, 0, 0, 0, 0, 0, 0, 0, 0, 0, 0, 0, 0, 0, 0, 0, 0, 0, 0, 0, 0, 0, 0, 0, 0, 0, 0, 0, 0, 0, 0, 0, 0, 0, 0, 0, 0, 0, 0, 0, 0, 0, 0, 0, 0, 0, 0, 0, 0, 0, 0, 0, 0, 0, 0, 0, 0, 0, 0, 0, 0, 0, 0, 0, 0, 0, 0, 0, 0, 0, 0, 0, 0, 0, 0, 0, 0, 0, 0, 0, 0, 0, 0, 0, 0, 0, 1, 0, 0, 0, 0, 0, 0, 0, 0, 0, 0, 0, 0, 0, 0, 0, 0, 0, 0, 0, 0, 0, 0, 0, 0, 0, 0, 0, 0, 0, 0, 0, 0, 1, 0, 0, 1, 0, 0, 0, 0, 0, 1, 0, 0, 0, 0, 0, 0, 0, 0, 0, 0, 0, 0, 0, 0, 0, 0, 0, 0, 0, 0, 0, 0, 0, 0, 0, 0, 0, 0, 0, 0, 0, 0, 0, 0, 0, 0, 1, 1, 0, 0, 1, 0, 0, 0, 0, 0, 0, 0, 0, 0, 0, 0, 0, 0, 0, 0, 0, 0, 0, 0, 0, 0, 0, 0, 0, 0, 0, 0, 0, 0, 0, 0, 0, 0, 0, 0, 1, 0, 0, 0, 0, 0, 0, 0, 0, 0, 0, 0, 0, 0, 0, 0, 0, 0, 0, 0, 0, 0, 1, 0, 0, 0, 0, 0, 0, 0, 0, 0, 0, 0, 0, 0, 0, 0, 1, 0, 0, 0, 1, 0, 0, 0, 0, 1, 0, 0, 0, 0, 0, 0, 0, 0, 0, 0, 0, 0, 0, 0, 0, 0, 0, 0, 0, 0, 0, 0, 0, 0, 0, 1, 0, 0, 0, 0, 0, 0, 0], \"xaxis\": \"x\", \"y\": [975000, 3000000, 975000, 3000000, 1000000, 1425000, 2700000, 1250000, 1475000, 1300000, 1150000, 925000, 1650000, 1100000, 975000, 975000, 1200000, 1075000, 1275000, 110000, 1450000, 1050000, 3500000, 5000000, 1200000, 1450000, 1400000, 1450000, 1100000, 1100000, 3750000, 4000000, 1450000, 1200000, 1600000, 1050000, 1650000, 1400000, 1700000, 1350000, 1550000, 1050000, 1695000, 2000000, 1200000, 1300000, 1200000, 4200000, 1150000, 1350000, 1575000, 1425000, 2300000, 5200000, 1600000, 1600000, 1200000, 1125000, 1725000, 2200000, 1500000, 4000000, 1325000, 6200000, 3000000, 1800000, 1800000, 1200000, 2300000, 2700000, 1499999, 2350000, 1800000, 550000, 1375000, 675000, 450000, 1425000, 1200000, 1250000, 1250000, 3300000, 2600000, 1050000, 17000, 1450000, 1850000, 3100000, 2400000, 1950000, 1400000, 2900000, 1450000, 2500000, 1700000, 1700000, 3100000, 2700000, 1500000, 260000, 3400000, 2250000, 4950000, 3100000, 1850000, 1200000, 3000000, 1375000, 1850000, 2800000, 2080000, 1750000, 2400000, 1525000, 1300000, 1350000, 1550000, 200000, 1350000, 1525000, 1375000, 3550000, 1435000, 1325000, 3400000, 3800000, 1750000, 1475000, 2450000, 1425000, 1375000, 1250000, 1650000, 4500000, 1450000, 1600000, 3275000, 1800000, 4350000, 1350000, 1500000, 2380000, 1650000, 3999000, 1600000, 425000, 2300000, 1550000, 3000000, 2200000, 1574997, 3400000, 3700000, 1400000, 1950000, 2800000, 2350000, 1850000, 2350000, 1400000, 1450000, 1400000, 2650000, 1725000, 2900000, 1600000, 3000000, 4150000, 1525000, 1575000, 1500000, 1775000, 7000000, 1425000, 1725000, 1575000, 1650000, 1550000, 2000000, 2700000, 1925000, 1650000, 4500000, 2025000, 2700000, 1900000, 2150000, 1650000, 3800000, 3250000, 3000000, 2000000, 1550000, 1425000, 4200000, 1550000, 3800000, 1450000, 2000000, 1750000, 1675000, 1600000, 1475000, 1600000, 4000000, 1800000, 2300000, 2300000, 7000000, 1850000, 1575000, 3000000, 1750000, 3500000, 1750000, 3350000, 1800000, 1950000, 4000000, 1700000, 3350000, 1650000, 1590000, 2850000, 3450000, 1000000, 1350000, 2400000, 2250000, 1650000, 1875000, 1800000, 1450000, 2800000, 1600000, 110000, 4151000, 3250000, 2325000, 1800000, 4200000, 2750000, 1250000, 2250000, 1775000, 3100000, 1800000, 4200000, 4600000, 1775000, 3500000, 2150000, 2150000, 2150000, 2600000, 1425000, 1750000, 1475000, 1700000, 1800000, 3100000, 1750000, 4900000, 1325000, 2550000, 3400000, 2000000, 1450000, 1200000, 3150000, 1400000, 1800000, 3000000, 1425000, 2650000, 4800000, 1350000, 2200000, 1450000, 29550000, 2150000, 1700000, 950000, 1750000, 1250000, 1125000, 1050000, 2950000, 1450000, 1150000, 1350000, 600000, 1850000, 1720000, 1475000, 2775000, 1215000, 1425000, 1325000, 2950000, 2175000, 1875000, 2050000, 2800000, 1600000, 1950000, 1575000, 1250000, 1950000, 2250000, 1225000, 4150000, 2975000, 1050000, 3000000, 3100000, 1450000, 3000000, 3700000, 3700000, 1850000, 1850000, 4000000, 1900000, 2100000, 1000000, 1200000, 2400000, 2196000, 1850000, 1850000, 3200000, 1000000, 1525000, 4200000, 1450000, 2300000, 1089996, 1180000, 1150000, 625000, 1250000, 1475000, 630000, 1350000, 1650000, 1550000, 1675000, 1850000, 2600000, 1150000, 2455000, 690000, 1750000, 1380000, 1235000, 1325000, 2025000, 2500000, 1525000, 1450000, 1150000, 3150000, 1410000, 1099999, 1325000, 1125000, 1775000, 1725000, 2400000, 1275000, 1750000, 2650000, 1725000, 525000, 2400000, 1125000, 675000, 2375000, 1475000, 1135000, 1475000, 1650000, 2900000, 1650000, 1225000, 2950000, 1850000, 1425000, 1695000, 750000, 1700000, 1450000, 1585000, 1575000, 975000, 1300000, 1275000, 850000, 2100000, 1790000, 590000, 3100000, 1100000, 1175000, 1750000, 1575000, 1375000, 1700000, 1225000, 1525000, 775000, 1100000, 950000, 1775000, 3349000, 1275000, 1000000, 1775000, 2600000, 1575000, 1795000, 1775000, 1090000, 1540000, 1665000, 1425000, 900000, 1150000, 1850000, 1850000, 1600000, 1525000, 2450000, 550000, 1550000, 2375000, 1725000, 1500000, 1575000, 1775000, 1875000, 1150000, 2200000, 1200000, 1500000, 1575000, 1575000, 2400000, 725000, 850000, 1860000, 1300000, 1575000, 1225000, 1325000, 1650000, 900000, 1600000, 1575000, 1350000, 3100000, 1325000, 1075000, 1445000, 1325000, 1400000, 1800000, 1310000, 1175000, 1650000, 1600000, 1425000, 1275000, 1400000, 1345000, 1550000, 1050000, 5800000, 3350000, 1150000, 2011, 1000000, 2000000, 1525000, 1025000, 2125000, 1600000, 1600000, 1350000, 1625000, 1500000, 1775000, 1550000, 1550000, 800000, 3100000, 1324999, 1600000, 1225000, 1875000, 2725000, 4800000, 1170000, 1600000, 1400000, 1175000, 850000, 1575000, 5050000, 1675000, 1525000, 1545000, 1675000, 1700000, 3199999, 1050000, 1150000, 2850000, 1225000, 1675000, 1435000, 1355000, 3300000, 1625000, 1360000, 1150000, 2455000, 1975000, 155000, 1175000, 1325000, 650000, 1850000, 1725000, 1725000, 1550000, 1850000, 1025000, 1550000, 6000000, 3300000, 1325000, 2650000, 2000000, 1300000, 1650000, 2650000, 2300000, 2450000, 1650000, 2000000, 1100000, 1350000, 1450000, 2076000, 5200000, 1575000, 5575000, 1475000, 1250000, 1250000, 3500000, 1350000, 1725000, 1390000, 1850000, 5800000, 250000, 700000, 2475000, 1100000, 1175000, 1175000, 2450000, 520000, 1250000, 2450000, 1300000, 1499999, 1400000, 1850000, 1250000, 1300000, 1775000, 825000, 3200000, 1675000, 725000, 1400000, 1175000, 1750000, 600000, 780000, 2450000, 1150000, 1150000, 1525000, 2000000, 1425000, 1225000, 1575000, 1625000, 1050000, 1000000, 525000, 1250000, 1725000, 1250000, 1175000, 3300000, 1250000, 1350000, 1550000, 1525000, 1750000, 1175000, 1025000, 1150000, 1680000, 1450000, 1475000, 1750000, 2450000, 1175000, 2150000, 3500000, 1250000, 1400000, 1250000, 1090000, 1850000, 1625000, 2600000, 1200000, 1750000, 1300000, 2450000, 1225000, 1025000, 1150000, 1550000, 1425000, 1150000, 510000, 1225000, 1550000, 1600000, 1300000, 3150000, 1520000, 1575000, 1705000, 1850000, 1100000, 1475000, 1750000, 1400000, 1824000, 1575000, 1075000, 1750000, 2850000, 1175000, 1275000, 1380000, 1350000, 1590000, 1450000, 1225000, 1360000, 1275000, 675000, 1050000, 1725000, 675000, 1200000, 950000, 1350000, 1825000, 1400000, 1275000, 1750000, 550000, 600000, 1775000, 1400000, 1725000, 1350000, 1200000, 2200000, 1400000, 1200000, 725000, 1400000, 1325000, 1100000, 1525000, 1590000, 2550000, 1700000, 1900000, 1325000, 1750000, 1725000, 1425000, 1050000, 2450000, 1800000, 1400000, 1225000, 750000, 3700000, 1750000, 2425000, 1200000, 2400000, 1575000, 650000, 1333333, 1450000, 2154993, 700000, 1825000, 3400000, 900000, 1800000, 1325000, 2150000, 1350000, 1550000, 850000, 1350000, 1825000, 1400000, 1400000, 1000000, 1650000, 1350000, 1350000, 1190000, 1500000, 1325000, 1500000, 1750000, 1525000, 1775000, 1550000, 3175000, 4000000, 2550000, 1700000, 1075000, 1675000, 1300000, 1200000, 845000, 1425000, 2900000, 1500000, 1500000, 1850000, 1575000, 1450000, 850000, 785000, 1175000, 3500000, 700000, 825000, 1750000, 1450000, 3700000, 3250000, 675000, 800000, 1375000, 1225000, 750000, 925000, 1315000, 2700000, 1765000, 700000, 1825000, 1150000, 1050000, 925000, 1250000, 170000, 2300000, 3400000, 1625000, 1375000, 1375000, 1200000, 1225000, 1850000, 950000, 1849000, 1025000, 1650000, 750000, 1375000, 1425000, 1375000, 1625000, 785000, 800000, 1450000, 1625000, 1450000, 3250000, 1325000, 1530000, 1650000, 1235000, 1000000, 975000, 1140000, 1275000, 1950000, 1875000, 1175000, 850000, 1425000, 1750000, 1625000, 1195000, 1775000, 1450000, 1475000, 1825000, 650000, 1950000, 1625000, 1150000, 1550000, 2550000, 1395000, 4800000, 1250000, 1425000, 1265000, 1290000, 1775000, 3450000, 1460000, 650000, 1050000, 1225000, 1575000, 1875000, 1625000, 1390000, 900000, 1425000, 2250000, 1300000, 5000000, 2499000, 1375000, 1550000, 1425000, 1340000, 1700000, 1899999, 3300000, 850000, 1475000, 1650000, 1250000, 1900000, 750000, 1325000, 1225000, 1725000, 1950000, 1850000, 1525000, 1575000, 1990000, 1380000, 1325000, 1150000, 2350000, 850000, 2450000, 1550000, 1440000, 1450000, 2050000, 1000000, 2325000, 102500, 1050000, 1700000, 1350000, 1575000, 1875000, 1725000, 1400000, 1425000, 1900000, 1450000, 1775000, 1240000, 1170000, 1515000, 1690000, 950000, 1050000, 2050000, 1150000, 1850000, 1000000, 1450000, 1425000, 3500000, 5600000, 2100000, 700000, 1350000, 1650000, 1190000, 1250000, 1125000, 1385000, 1250000, 1400000, 5700000, 1575000, 1225000, 1425000, 1000000, 650000, 1900000, 1250000, 1575000, 3600000, 1475000, 1600000, 1300000, 3250000, 3700000, 2050000, 4600000, 2175000, 870000, 4150000, 1050000, 1075000, 5200000, 900000, 925000, 5250000, 650000, 650000, 3200000, 1260000, 4400000, 750000, 875000, 4099999, 625000, 2850000, 1050000, 1150000, 1200000, 1000000, 1075000, 4200000, 1500000, 2375000, 1100000, 1100000, 1500000, 2850000, 1300000, 1225000, 1975000, 4400000, 5250000, 2300000, 2150000, 4600000, 875000, 725000, 625000, 975000, 1450000, 5600000, 750000, 5500000, 1350000, 1225000, 2850000, 1275000, 300000, 950000, 800000, 2850000, 1100000, 1650000, 825000, 1750000, 7500000, 1175000, 2000000, 2300000, 1475000, 1550000, 2900000, 4550000, 650000, 5100000, 850000, 880000, 5025000, 4200000, 4200000, 5700000, 3000000, 3000000, 1400000, 4600000, 4900000, 1150000, 1750000, 2499000, 1100000, 975000, 850000, 1475000, 1350000, 4900000, 1650000, 1600000, 1410000, 875000, 3000000, 2000000, 615000, 1600000, 1000000, 5750000, 5500000, 1000000, 1450000, 1200000, 5450000, 1250000, 3100000, 1500000, 3200000, 890000, 1175000, 1180000, 790000, 1600000, 1200000, 7700000, 3100000, 4500000, 1400000, 1600000, 1600000, 750000, 2600000, 1100000, 5000000, 975000, 950000, 8500000, 680000, 9800000, 9200000, 4500000, 7000000, 7000000, 1700000, 1750000, 1050000, 9800000, 1125000, 4800000, 8000000, 8500000, 7700000, 1150000, 1250000, 2100000, 4400000, 1500000, 5400000, 2450000, 3350000, 2650000, 2800000, 3800000, 1500000, 2600000, 1050000, 1300000, 1000000, 2200000, 4300000, 2650000, 2400000, 2400000, 5700000, 3250000, 32000000, 2250000, 2650000, 2275000, 3250000, 2450000, 2825000, 2650000, 2250000, 2900000, 2900000, 2600000, 3850000, 1050000, 2600000, 3600000, 1750000, 2900000, 1450000, 2975000, 4450000, 860000, 3000000, 2650000, 2600000, 2600000, 1600000, 4700000, 1700000, 2450000, 3000000, 4850000, 2700000, 2600000, 900000, 3149999, 3200000, 3100000, 3000000, 3100000, 1700000, 2250000, 4375000, 2350000, 3100000, 3100000, 2850000, 2750000, 1325000, 2250000, 2450000, 2450000, 1000000, 3400000, 1400000, 2350000, 2750000, 2475000, 2875000, 1050000, 3300000, 2650000, 2220000, 4400000, 1400000, 1600000, 1275000, 2900000, 3000000, 1300000, 1750000, 4500000, 1225000, 900000, 2050000, 1925000, 3950000, 2800000, 3600000, 1700000, 1250000, 2850000, 575000, 1725000, 1150000, 400000, 600000, 300000, 1500000, 550000, 675000, 117500, 710000, 350000, 250000, 350000, 975000, 1400000, 2479000, 750000, 960000, 225000, 2475000, 1900000, 1050000, 625000, 400000, 1900000, 1750000, 650000, 1025000, 1325000, 625000, 975000, 1000000, 525000, 2049000, 800000, 1150000, 700000, 2450000, 1479000, 1099000, 1025000, 1300000, 825000, 2199000, 2250000, 2300000, 1130000, 675000, 1850000, 424000, 425000, 2295000, 2350000, 1325000, 1399000, 925000, 1975000, 2250000, 2225000, 1500000, 1160000, 450000, 325000, 1225000, 1300000, 1875000, 1775000, 800000, 800000, 750000, 460000, 2450000, 875000, 1325000, 1000000, 550000, 1050000, 2475000, 2475000, 1050000, 1275000, 1200000, 1025000, 1250000, 1150000, 1750000, 1000000, 1125000, 2450000, 2175000, 625000, 1575000, 2300000, 390000, 975000, 2250000, 1875000, 775000, 465000, 1575000, 2275000, 1550000, 675000, 650000, 690000, 2250000, 1450000, 1325000, 600000, 1225000, 1375000, 1100000, 575000, 600000, 725000, 1525000, 600000, 2400000, 145000, 825000, 1000000, 1650000, 1275000, 1150000, 1200000, 775000, 1250000, 1500000, 875000, 915000, 900000, 1250000, 1250000, 1550000, 1150000, 2550000, 1525000, 1175000, 2650000, 2525000, 2375000, 800000, 1650000, 2490000, 1790000, 1150000, 1650000, 525000, 1375000, 2700000, 1275000, 1350000, 2350000, 555000, 600000, 1350000, 1350000, 1650000, 2350000, 1450000, 2175000, 1375000, 1025000, 1350000, 2575000, 925000, 575000, 1125000, 575000, 1225000, 2200000, 1400000, 825000, 1000000, 1390000, 2750000, 825000, 775000, 1650000, 725000, 675000, 1250000, 1275000, 2300000, 2600000, 1550000, 1475000, 1550000, 1525000, 1000000, 1300000, 1475000, 900000, 1175000, 1375000, 1250000, 1425000, 1175000, 2575000, 850000, 1199999, 1200000, 500000, 1200000, 1300000, 1350000, 1095000, 425000, 825000, 525000, 2000000, 1385000, 1200000, 2425000, 2350000, 2250000, 975000, 2650000, 1025000, 1600000, 1400000, 1450000, 1500000, 1150000, 1225000, 1575000, 950000, 1210000, 1450000, 200000, 1050000, 1225000, 1375000, 1425000, 2000000, 1425000, 950000, 1350000, 1600000, 1000000, 650000, 1600000, 750000, 650000, 1350000, 2350000, 950000, 1150000, 1400000, 1275000, 1425000, 1450000, 1250000, 675000, 1500000, 900000, 650000, 1350000, 1650000, 736000, 1350000, 1245000, 650000, 2350000, 1175000, 1800000, 1350000, 1450000, 725000, 1425000, 910000, 1425000, 1450000, 1325000, 1200000, 925000, 2150000, 460000, 1400000, 850000, 630000, 1300000, 625000, 1400000, 450000, 1900000, 2125000, 785000, 950000, 1075000, 900000, 1275000, 1625000, 1375000, 850000, 1625000, 825000, 2500000, 800000, 660000, 1375000, 1625000, 715000, 1100000, 475000, 625000, 1900000, 900000, 800000, 775000, 950000, 1125000, 1050000, 2850000, 1950000, 1850000, 1500000, 2450000, 1300000, 2400000, 1250000, 1499000, 1325000, 1200000, 1925000, 1500000, 750000, 850000, 2500000, 1325000, 1800000, 1400000, 775000, 880000, 1200000, 800000, 1600000, 1600000, 650000, 990000, 1800000, 2150000, 1550000, 1100000, 1850000, 1800000, 1300000, 2300000, 900000, 2850000, 3250000, 555000, 2000000, 650000, 1500000, 1100000, 1375000, 2000000, 1875000, 1800000, 1690000, 1700000, 2975000, 2300000, 1775000, 2900000, 1750000, 575000, 1725000, 1800000, 1650000, 2200000, 1650000, 1800000, 1250000, 2000000, 1125000, 900000, 3600000, 4000000, 2250000, 1850000, 3600000, 3800000, 1275000, 2250000, 2675000, 1425000, 3600000, 4200000, 5500000, 2750000, 4200000, 3800000, 1300000, 3300000, 6000000, 4300000, 1650000, 1625000, 5000000, 6000000, 3300000, 3650000, 5750000, 1575000, 2200000, 2400000, 2675000, 2700000, 2950000, 550000, 1300000, 2100000, 2000000, 1100000, 925000, 930000, 2500000, 900000, 900000, 2500000, 2950000, 2000000, 1300000, 2000000, 450000, 1325000, 4700000, 2850000, 475000, 2750000, 1050000, 350000, 450000, 600000, 499999, 1050000, 666666, 450000, 1850000, 2400000, 1650000, 550000, 425000, 850000, 2000000, 2050000, 2200000, 525000, 500000, 1200000, 1550000, 575000, 1500000, 1230000, 400000, 1350000, 400000, 3600000, 2450000, 800000, 875000, 1350000, 475000, 1550000, 565000, 437000, 645000, 1675000, 775000, 2300000, 1300000, 1400000, 1400000, 675000, 475000, 770000, 1200000, 1250000, 800000, 700000, 200000, 380000, 1300000, 1350000, 700000, 610000, 2250000, 575000, 1800000, 2200000, 525000, 1650000, 1050000, 1575000, 2450000, 450000, 1125000, 850000, 3650000, 2450000, 650000, 725000, 700000, 2750000, 480000, 1400000, 595000, 1600000, 725000, 2250000, 11500000, 6775000, 2600000, 6550000, 6500000, 6500000, 3500000, 6700000, 2850000, 3300000, 3700000, 700000, 2700000, 925000, 2400000, 700000, 2400000, 5045000, 3225000, 2650000, 1500000, 3150000, 2900000, 2975000, 3500000, 1000000, 2900000, 240000, 1150000, 3400000, 625000, 1075000, 4275000, 3900000, 725000, 5000000, 700000, 4400000, 2450000, 2750000, 455000, 3850000, 3000000, 1550000, 1050000, 5500000, 2475000, 9000000, 3500000, 2825000, 5275000, 4275000, 3500000, 2825000, 5300000, 9100000, 250000, 2100000, 2300000, 1125000, 3400000, 9500000, 3250000, 3400000, 3450000, 2175000, 16800000, 4200000, 1400000, 4850000, 9500000, 2850000, 1050000, 20000000, 4600000, 3150000, 5150000, 18975000, 3675000, 3675000, 3400000, 3200000, 2950000, 4075000, 390000, 4150000, 2500000, 2950000, 4800000, 2825000, 2450000, 2875000, 1050000, 4650000, 1125000, 475000, 4500000, 3150000, 700000, 3500000, 1475000, 4300000, 450000, 1150000, 4100000, 650000, 2500000, 4000000, 3200000, 3400000, 3400000, 5800000, 2500000, 4150000, 1700000, 4600000, 450000, 4400000, 17000000, 3550000, 9699000, 425000, 2950000, 2075000, 6500000, 2200000, 2500000, 3000000, 2000000, 2025000, 4100000, 1725000, 4750000, 2500000, 2650000, 6100000, 2025000, 3450000, 2800000, 2350000, 3480000, 2350000, 1975000, 2800000, 5350000, 2450000, 2150000, 2000000, 1950000, 2350000, 2125000, 6350000, 2100000, 4800000, 2450000, 8050000, 2650000, 2550000, 2250000, 1850000, 10000000, 2400000, 2650000, 2475000, 5500000, 3800000, 7450000, 2100000, 3000000, 2100000, 5650000, 2450000, 5700000, 2350000, 2100000, 5250000, 2550000, 2050000, 3000000, 6100000, 2650000, 1995000, 2650000, 2000000, 2550000, 2150000, 7000000, 2400000, 6175000, 2700000, 3950000, 5800000, 4900000, 3555555], \"yaxis\": \"y\"}],\n",
              "                        {\"legend\": {\"tracegroupgap\": 0}, \"margin\": {\"t\": 60}, \"template\": {\"data\": {\"bar\": [{\"error_x\": {\"color\": \"#2a3f5f\"}, \"error_y\": {\"color\": \"#2a3f5f\"}, \"marker\": {\"line\": {\"color\": \"#E5ECF6\", \"width\": 0.5}}, \"type\": \"bar\"}], \"barpolar\": [{\"marker\": {\"line\": {\"color\": \"#E5ECF6\", \"width\": 0.5}}, \"type\": \"barpolar\"}], \"carpet\": [{\"aaxis\": {\"endlinecolor\": \"#2a3f5f\", \"gridcolor\": \"white\", \"linecolor\": \"white\", \"minorgridcolor\": \"white\", \"startlinecolor\": \"#2a3f5f\"}, \"baxis\": {\"endlinecolor\": \"#2a3f5f\", \"gridcolor\": \"white\", \"linecolor\": \"white\", \"minorgridcolor\": \"white\", \"startlinecolor\": \"#2a3f5f\"}, \"type\": \"carpet\"}], \"choropleth\": [{\"colorbar\": {\"outlinewidth\": 0, \"ticks\": \"\"}, \"type\": \"choropleth\"}], \"contour\": [{\"colorbar\": {\"outlinewidth\": 0, \"ticks\": \"\"}, \"colorscale\": [[0.0, \"#0d0887\"], [0.1111111111111111, \"#46039f\"], [0.2222222222222222, \"#7201a8\"], [0.3333333333333333, \"#9c179e\"], [0.4444444444444444, \"#bd3786\"], [0.5555555555555556, \"#d8576b\"], [0.6666666666666666, \"#ed7953\"], [0.7777777777777778, \"#fb9f3a\"], [0.8888888888888888, \"#fdca26\"], [1.0, \"#f0f921\"]], \"type\": \"contour\"}], \"contourcarpet\": [{\"colorbar\": {\"outlinewidth\": 0, \"ticks\": \"\"}, \"type\": \"contourcarpet\"}], \"heatmap\": [{\"colorbar\": {\"outlinewidth\": 0, \"ticks\": \"\"}, \"colorscale\": [[0.0, \"#0d0887\"], [0.1111111111111111, \"#46039f\"], [0.2222222222222222, \"#7201a8\"], [0.3333333333333333, \"#9c179e\"], [0.4444444444444444, \"#bd3786\"], [0.5555555555555556, \"#d8576b\"], [0.6666666666666666, \"#ed7953\"], [0.7777777777777778, \"#fb9f3a\"], [0.8888888888888888, \"#fdca26\"], [1.0, \"#f0f921\"]], \"type\": \"heatmap\"}], \"heatmapgl\": [{\"colorbar\": {\"outlinewidth\": 0, \"ticks\": \"\"}, \"colorscale\": [[0.0, \"#0d0887\"], [0.1111111111111111, \"#46039f\"], [0.2222222222222222, \"#7201a8\"], [0.3333333333333333, \"#9c179e\"], [0.4444444444444444, \"#bd3786\"], [0.5555555555555556, \"#d8576b\"], [0.6666666666666666, \"#ed7953\"], [0.7777777777777778, \"#fb9f3a\"], [0.8888888888888888, \"#fdca26\"], [1.0, \"#f0f921\"]], \"type\": \"heatmapgl\"}], \"histogram\": [{\"marker\": {\"colorbar\": {\"outlinewidth\": 0, \"ticks\": \"\"}}, \"type\": \"histogram\"}], \"histogram2d\": [{\"colorbar\": {\"outlinewidth\": 0, \"ticks\": \"\"}, \"colorscale\": [[0.0, \"#0d0887\"], [0.1111111111111111, \"#46039f\"], [0.2222222222222222, \"#7201a8\"], [0.3333333333333333, \"#9c179e\"], [0.4444444444444444, \"#bd3786\"], [0.5555555555555556, \"#d8576b\"], [0.6666666666666666, \"#ed7953\"], [0.7777777777777778, \"#fb9f3a\"], [0.8888888888888888, \"#fdca26\"], [1.0, \"#f0f921\"]], \"type\": \"histogram2d\"}], \"histogram2dcontour\": [{\"colorbar\": {\"outlinewidth\": 0, \"ticks\": \"\"}, \"colorscale\": [[0.0, \"#0d0887\"], [0.1111111111111111, \"#46039f\"], [0.2222222222222222, \"#7201a8\"], [0.3333333333333333, \"#9c179e\"], [0.4444444444444444, \"#bd3786\"], [0.5555555555555556, \"#d8576b\"], [0.6666666666666666, \"#ed7953\"], [0.7777777777777778, \"#fb9f3a\"], [0.8888888888888888, \"#fdca26\"], [1.0, \"#f0f921\"]], \"type\": \"histogram2dcontour\"}], \"mesh3d\": [{\"colorbar\": {\"outlinewidth\": 0, \"ticks\": \"\"}, \"type\": \"mesh3d\"}], \"parcoords\": [{\"line\": {\"colorbar\": {\"outlinewidth\": 0, \"ticks\": \"\"}}, \"type\": \"parcoords\"}], \"pie\": [{\"automargin\": true, \"type\": \"pie\"}], \"scatter\": [{\"marker\": {\"colorbar\": {\"outlinewidth\": 0, \"ticks\": \"\"}}, \"type\": \"scatter\"}], \"scatter3d\": [{\"line\": {\"colorbar\": {\"outlinewidth\": 0, \"ticks\": \"\"}}, \"marker\": {\"colorbar\": {\"outlinewidth\": 0, \"ticks\": \"\"}}, \"type\": \"scatter3d\"}], \"scattercarpet\": [{\"marker\": {\"colorbar\": {\"outlinewidth\": 0, \"ticks\": \"\"}}, \"type\": \"scattercarpet\"}], \"scattergeo\": [{\"marker\": {\"colorbar\": {\"outlinewidth\": 0, \"ticks\": \"\"}}, \"type\": \"scattergeo\"}], \"scattergl\": [{\"marker\": {\"colorbar\": {\"outlinewidth\": 0, \"ticks\": \"\"}}, \"type\": \"scattergl\"}], \"scattermapbox\": [{\"marker\": {\"colorbar\": {\"outlinewidth\": 0, \"ticks\": \"\"}}, \"type\": \"scattermapbox\"}], \"scatterpolar\": [{\"marker\": {\"colorbar\": {\"outlinewidth\": 0, \"ticks\": \"\"}}, \"type\": \"scatterpolar\"}], \"scatterpolargl\": [{\"marker\": {\"colorbar\": {\"outlinewidth\": 0, \"ticks\": \"\"}}, \"type\": \"scatterpolargl\"}], \"scatterternary\": [{\"marker\": {\"colorbar\": {\"outlinewidth\": 0, \"ticks\": \"\"}}, \"type\": \"scatterternary\"}], \"surface\": [{\"colorbar\": {\"outlinewidth\": 0, \"ticks\": \"\"}, \"colorscale\": [[0.0, \"#0d0887\"], [0.1111111111111111, \"#46039f\"], [0.2222222222222222, \"#7201a8\"], [0.3333333333333333, \"#9c179e\"], [0.4444444444444444, \"#bd3786\"], [0.5555555555555556, \"#d8576b\"], [0.6666666666666666, \"#ed7953\"], [0.7777777777777778, \"#fb9f3a\"], [0.8888888888888888, \"#fdca26\"], [1.0, \"#f0f921\"]], \"type\": \"surface\"}], \"table\": [{\"cells\": {\"fill\": {\"color\": \"#EBF0F8\"}, \"line\": {\"color\": \"white\"}}, \"header\": {\"fill\": {\"color\": \"#C8D4E3\"}, \"line\": {\"color\": \"white\"}}, \"type\": \"table\"}]}, \"layout\": {\"annotationdefaults\": {\"arrowcolor\": \"#2a3f5f\", \"arrowhead\": 0, \"arrowwidth\": 1}, \"coloraxis\": {\"colorbar\": {\"outlinewidth\": 0, \"ticks\": \"\"}}, \"colorscale\": {\"diverging\": [[0, \"#8e0152\"], [0.1, \"#c51b7d\"], [0.2, \"#de77ae\"], [0.3, \"#f1b6da\"], [0.4, \"#fde0ef\"], [0.5, \"#f7f7f7\"], [0.6, \"#e6f5d0\"], [0.7, \"#b8e186\"], [0.8, \"#7fbc41\"], [0.9, \"#4d9221\"], [1, \"#276419\"]], \"sequential\": [[0.0, \"#0d0887\"], [0.1111111111111111, \"#46039f\"], [0.2222222222222222, \"#7201a8\"], [0.3333333333333333, \"#9c179e\"], [0.4444444444444444, \"#bd3786\"], [0.5555555555555556, \"#d8576b\"], [0.6666666666666666, \"#ed7953\"], [0.7777777777777778, \"#fb9f3a\"], [0.8888888888888888, \"#fdca26\"], [1.0, \"#f0f921\"]], \"sequentialminus\": [[0.0, \"#0d0887\"], [0.1111111111111111, \"#46039f\"], [0.2222222222222222, \"#7201a8\"], [0.3333333333333333, \"#9c179e\"], [0.4444444444444444, \"#bd3786\"], [0.5555555555555556, \"#d8576b\"], [0.6666666666666666, \"#ed7953\"], [0.7777777777777778, \"#fb9f3a\"], [0.8888888888888888, \"#fdca26\"], [1.0, \"#f0f921\"]]}, \"colorway\": [\"#636efa\", \"#EF553B\", \"#00cc96\", \"#ab63fa\", \"#FFA15A\", \"#19d3f3\", \"#FF6692\", \"#B6E880\", \"#FF97FF\", \"#FECB52\"], \"font\": {\"color\": \"#2a3f5f\"}, \"geo\": {\"bgcolor\": \"white\", \"lakecolor\": \"white\", \"landcolor\": \"#E5ECF6\", \"showlakes\": true, \"showland\": true, \"subunitcolor\": \"white\"}, \"hoverlabel\": {\"align\": \"left\"}, \"hovermode\": \"closest\", \"mapbox\": {\"style\": \"light\"}, \"paper_bgcolor\": \"white\", \"plot_bgcolor\": \"#E5ECF6\", \"polar\": {\"angularaxis\": {\"gridcolor\": \"white\", \"linecolor\": \"white\", \"ticks\": \"\"}, \"bgcolor\": \"#E5ECF6\", \"radialaxis\": {\"gridcolor\": \"white\", \"linecolor\": \"white\", \"ticks\": \"\"}}, \"scene\": {\"xaxis\": {\"backgroundcolor\": \"#E5ECF6\", \"gridcolor\": \"white\", \"gridwidth\": 2, \"linecolor\": \"white\", \"showbackground\": true, \"ticks\": \"\", \"zerolinecolor\": \"white\"}, \"yaxis\": {\"backgroundcolor\": \"#E5ECF6\", \"gridcolor\": \"white\", \"gridwidth\": 2, \"linecolor\": \"white\", \"showbackground\": true, \"ticks\": \"\", \"zerolinecolor\": \"white\"}, \"zaxis\": {\"backgroundcolor\": \"#E5ECF6\", \"gridcolor\": \"white\", \"gridwidth\": 2, \"linecolor\": \"white\", \"showbackground\": true, \"ticks\": \"\", \"zerolinecolor\": \"white\"}}, \"shapedefaults\": {\"line\": {\"color\": \"#2a3f5f\"}}, \"ternary\": {\"aaxis\": {\"gridcolor\": \"white\", \"linecolor\": \"white\", \"ticks\": \"\"}, \"baxis\": {\"gridcolor\": \"white\", \"linecolor\": \"white\", \"ticks\": \"\"}, \"bgcolor\": \"#E5ECF6\", \"caxis\": {\"gridcolor\": \"white\", \"linecolor\": \"white\", \"ticks\": \"\"}}, \"title\": {\"x\": 0.05}, \"xaxis\": {\"automargin\": true, \"gridcolor\": \"white\", \"linecolor\": \"white\", \"ticks\": \"\", \"title\": {\"standoff\": 15}, \"zerolinecolor\": \"white\", \"zerolinewidth\": 2}, \"yaxis\": {\"automargin\": true, \"gridcolor\": \"white\", \"linecolor\": \"white\", \"ticks\": \"\", \"title\": {\"standoff\": 15}, \"zerolinecolor\": \"white\", \"zerolinewidth\": 2}}}, \"xaxis\": {\"anchor\": \"y\", \"domain\": [0.0, 1.0], \"title\": {\"text\": \"Transmission\"}}, \"yaxis\": {\"anchor\": \"x\", \"domain\": [0.0, 1.0], \"title\": {\"text\": \"Price\"}}},\n",
              "                        {\"responsive\": true}\n",
              "                    ).then(function(){\n",
              "                            \n",
              "var gd = document.getElementById('439c8a94-71d9-4273-9f65-b3ee60515fcd');\n",
              "var x = new MutationObserver(function (mutations, observer) {{\n",
              "        var display = window.getComputedStyle(gd).display;\n",
              "        if (!display || display === 'none') {{\n",
              "            console.log([gd, 'removed!']);\n",
              "            Plotly.purge(gd);\n",
              "            observer.disconnect();\n",
              "        }}\n",
              "}});\n",
              "\n",
              "// Listen for the removal of the full notebook cells\n",
              "var notebookContainer = gd.closest('#notebook-container');\n",
              "if (notebookContainer) {{\n",
              "    x.observe(notebookContainer, {childList: true});\n",
              "}}\n",
              "\n",
              "// Listen for the clearing of the current output cell\n",
              "var outputEl = gd.closest('.output');\n",
              "if (outputEl) {{\n",
              "    x.observe(outputEl, {childList: true});\n",
              "}}\n",
              "\n",
              "                        })\n",
              "                };\n",
              "                \n",
              "            </script>\n",
              "        </div>\n",
              "</body>\n",
              "</html>"
            ]
          },
          "metadata": {
            "tags": []
          }
        }
      ]
    },
    {
      "cell_type": "code",
      "metadata": {
        "colab": {
          "base_uri": "https://localhost:8080/",
          "height": 388
        },
        "id": "7RUkN-8AVOuZ",
        "outputId": "1d51fde2-c58e-4eb0-ddd7-35e2b45f1eee"
      },
      "source": [
        "make_kdeplot('Transmission')"
      ],
      "execution_count": null,
      "outputs": [
        {
          "output_type": "display_data",
          "data": {
            "image/png": "[encoded data removed]",
            "text/plain": [
              "<Figure size 576x432 with 1 Axes>"
            ]
          },
          "metadata": {
            "tags": [],
            "needs_background": "light"
          }
        }
      ]
    },
    {
      "cell_type": "markdown",
      "metadata": {
        "id": "n6ZCOHTjVX9E"
      },
      "source": [
        "There are many manual transmission type cars and very few automatic "
      ]
    },
    {
      "cell_type": "code",
      "metadata": {
        "colab": {
          "base_uri": "https://localhost:8080/"
        },
        "id": "D-k5J53DMiI2",
        "outputId": "3e6cc01e-5d30-4b7d-924c-88ffce8c7ac6"
      },
      "source": [
        "df['Drivetrain'].unique()"
      ],
      "execution_count": null,
      "outputs": [
        {
          "output_type": "execute_result",
          "data": {
            "text/plain": [
              "array([' 2WD', ' 4WD'], dtype=object)"
            ]
          },
          "metadata": {
            "tags": []
          },
          "execution_count": 110
        }
      ]
    },
    {
      "cell_type": "code",
      "metadata": {
        "id": "6DxOAmklMiI3"
      },
      "source": [
        "df['Drivetrain']=df['Drivetrain'].replace([' 2WD',' 4WD'], [0,1]) "
      ],
      "execution_count": null,
      "outputs": []
    },
    {
      "cell_type": "code",
      "metadata": {
        "colab": {
          "base_uri": "https://localhost:8080/",
          "height": 542
        },
        "id": "v9BeIruDUH3O",
        "outputId": "5a0729f5-1dfa-4474-d501-b37840e2be2e"
      },
      "source": [
        "scatters('Drivetrain','Price')"
      ],
      "execution_count": null,
      "outputs": [
        {
          "output_type": "display_data",
          "data": {
            "text/html": [
              "<html>\n",
              "<head><meta charset=\"utf-8\" /></head>\n",
              "<body>\n",
              "    <div>\n",
              "            <script src=\"https://cdnjs.cloudflare.com/ajax/libs/mathjax/2.7.5/MathJax.js?config=TeX-AMS-MML_SVG\"></script><script type=\"text/javascript\">if (window.MathJax) {MathJax.Hub.Config({SVG: {font: \"STIX-Web\"}});}</script>\n",
              "                <script type=\"text/javascript\">window.PlotlyConfig = {MathJaxConfig: 'local'};</script>\n",
              "        <script src=\"https://cdn.plot.ly/plotly-latest.min.js\"></script>    \n",
              "            <div id=\"f7addd66-da49-4d7a-84ef-41889f819be1\" class=\"plotly-graph-div\" style=\"height:525px; width:100%;\"></div>\n",
              "            <script type=\"text/javascript\">\n",
              "                \n",
              "                    window.PLOTLYENV=window.PLOTLYENV || {};\n",
              "                    \n",
              "                if (document.getElementById(\"f7addd66-da49-4d7a-84ef-41889f819be1\")) {\n",
              "                    Plotly.newPlot(\n",
              "                        'f7addd66-da49-4d7a-84ef-41889f819be1',\n",
              "                        [{\"hoverlabel\": {\"namelength\": 0}, \"hovertemplate\": \"Drivetrain=%{x}<br>Price=%{y}\", \"legendgroup\": \"\", \"marker\": {\"color\": \"#636efa\", \"symbol\": \"circle\"}, \"mode\": \"markers\", \"name\": \"\", \"showlegend\": false, \"type\": \"scattergl\", \"x\": [0, 1, 0, 1, 0, 0, 0, 0, 0, 0, 0, 0, 0, 0, 0, 0, 0, 0, 0, 0, 0, 0, 1, 1, 0, 0, 0, 0, 0, 0, 1, 1, 0, 0, 0, 0, 0, 0, 0, 0, 0, 0, 0, 1, 0, 0, 0, 1, 0, 0, 0, 0, 0, 1, 0, 0, 0, 0, 0, 0, 0, 0, 0, 0, 0, 0, 0, 0, 0, 0, 0, 0, 0, 0, 0, 0, 0, 0, 0, 0, 0, 0, 0, 1, 0, 0, 0, 0, 0, 0, 0, 0, 0, 0, 0, 0, 0, 0, 0, 0, 0, 0, 1, 0, 0, 0, 0, 0, 0, 0, 0, 0, 0, 0, 0, 0, 0, 0, 0, 0, 0, 0, 0, 0, 0, 0, 0, 0, 0, 0, 0, 0, 0, 1, 0, 0, 0, 0, 0, 0, 0, 0, 0, 0, 0, 0, 0, 0, 0, 0, 0, 0, 0, 0, 0, 0, 0, 0, 0, 0, 0, 0, 0, 0, 0, 0, 0, 0, 0, 0, 0, 0, 1, 0, 0, 0, 0, 0, 0, 0, 0, 0, 0, 0, 0, 0, 0, 0, 1, 0, 0, 0, 0, 0, 0, 0, 0, 0, 0, 0, 0, 0, 0, 0, 0, 0, 0, 0, 1, 0, 0, 0, 0, 0, 0, 0, 0, 0, 0, 0, 0, 0, 0, 0, 0, 0, 0, 0, 0, 0, 0, 0, 0, 0, 0, 0, 1, 0, 0, 0, 0, 0, 0, 0, 0, 0, 0, 0, 1, 0, 0, 0, 0, 0, 0, 0, 0, 0, 0, 0, 0, 0, 1, 0, 0, 0, 0, 0, 0, 0, 0, 0, 0, 0, 0, 1, 0, 0, 0, 0, 0, 0, 0, 0, 0, 0, 0, 0, 0, 0, 0, 0, 0, 0, 0, 0, 0, 0, 0, 0, 0, 0, 0, 0, 0, 0, 0, 0, 0, 0, 0, 0, 0, 0, 0, 0, 0, 0, 1, 0, 0, 0, 0, 0, 0, 0, 0, 1, 0, 0, 0, 0, 0, 0, 1, 0, 0, 0, 0, 0, 0, 0, 0, 0, 0, 0, 0, 0, 0, 1, 0, 0, 0, 0, 0, 0, 0, 0, 1, 0, 0, 0, 1, 0, 0, 0, 0, 0, 0, 1, 0, 0, 1, 0, 0, 0, 0, 0, 0, 0, 0, 0, 0, 1, 0, 0, 0, 0, 0, 0, 0, 0, 0, 0, 0, 0, 0, 0, 0, 0, 0, 0, 1, 0, 0, 0, 0, 0, 0, 0, 0, 0, 0, 0, 0, 1, 0, 0, 0, 1, 0, 0, 0, 0, 0, 0, 0, 0, 0, 0, 0, 0, 0, 0, 0, 0, 0, 0, 0, 0, 0, 0, 0, 0, 0, 0, 0, 0, 0, 0, 0, 0, 0, 0, 0, 0, 0, 0, 0, 0, 0, 0, 0, 0, 0, 0, 0, 0, 0, 0, 0, 0, 0, 0, 0, 0, 0, 0, 1, 0, 0, 0, 0, 0, 0, 0, 0, 0, 0, 0, 0, 0, 0, 0, 0, 0, 0, 0, 0, 0, 0, 0, 0, 0, 0, 0, 0, 0, 0, 1, 0, 0, 0, 0, 0, 0, 0, 0, 0, 0, 0, 0, 0, 1, 0, 0, 0, 0, 0, 0, 0, 0, 0, 0, 0, 0, 0, 0, 0, 0, 1, 0, 0, 0, 0, 0, 0, 1, 0, 0, 0, 0, 0, 0, 0, 0, 1, 0, 0, 0, 0, 0, 1, 0, 0, 0, 0, 1, 0, 0, 0, 0, 0, 0, 0, 0, 0, 0, 0, 0, 0, 0, 0, 0, 0, 0, 1, 0, 0, 0, 0, 0, 0, 0, 0, 0, 0, 0, 0, 0, 0, 0, 0, 0, 0, 0, 0, 0, 0, 0, 1, 0, 0, 0, 0, 0, 0, 0, 0, 0, 0, 0, 0, 1, 0, 0, 1, 0, 0, 0, 0, 0, 0, 1, 0, 0, 0, 0, 0, 0, 0, 0, 0, 0, 0, 0, 0, 0, 0, 1, 0, 0, 0, 0, 0, 0, 0, 0, 0, 0, 0, 0, 1, 0, 0, 0, 0, 0, 0, 0, 0, 0, 0, 0, 0, 0, 0, 0, 0, 0, 0, 0, 0, 0, 0, 0, 0, 0, 0, 0, 0, 0, 0, 0, 0, 0, 0, 0, 0, 0, 0, 0, 0, 0, 0, 0, 0, 0, 0, 0, 0, 0, 1, 0, 0, 0, 1, 0, 0, 0, 0, 0, 0, 0, 0, 0, 0, 0, 0, 0, 0, 0, 0, 0, 0, 0, 0, 0, 0, 0, 0, 0, 0, 0, 0, 0, 0, 0, 1, 0, 0, 0, 0, 0, 0, 0, 0, 0, 1, 0, 0, 0, 0, 0, 0, 0, 0, 0, 0, 0, 0, 0, 1, 1, 0, 0, 0, 0, 0, 0, 0, 1, 0, 0, 0, 0, 0, 0, 0, 0, 1, 1, 0, 0, 0, 0, 0, 0, 0, 0, 0, 0, 0, 0, 0, 0, 0, 0, 0, 0, 0, 1, 1, 0, 0, 0, 0, 0, 0, 0, 0, 0, 0, 0, 0, 0, 0, 0, 0, 0, 0, 0, 0, 0, 0, 0, 0, 0, 0, 0, 0, 0, 0, 0, 0, 0, 1, 0, 0, 0, 0, 0, 0, 0, 0, 0, 0, 0, 0, 0, 0, 0, 0, 0, 0, 0, 0, 1, 0, 0, 0, 0, 0, 0, 0, 0, 0, 0, 0, 0, 0, 0, 0, 0, 0, 0, 0, 1, 0, 0, 0, 0, 0, 0, 0, 0, 0, 0, 0, 0, 0, 0, 0, 0, 0, 0, 0, 0, 0, 0, 0, 0, 0, 0, 0, 0, 0, 0, 0, 1, 0, 0, 0, 0, 0, 0, 0, 0, 0, 0, 1, 0, 0, 0, 0, 0, 0, 0, 0, 1, 0, 0, 0, 0, 1, 1, 1, 1, 0, 1, 0, 0, 0, 0, 0, 1, 0, 0, 0, 0, 1, 0, 0, 1, 0, 1, 0, 0, 1, 0, 0, 0, 0, 0, 0, 0, 0, 0, 0, 0, 0, 1, 1, 0, 0, 1, 0, 0, 0, 0, 0, 1, 0, 1, 0, 0, 0, 0, 1, 0, 0, 0, 0, 0, 0, 0, 1, 0, 0, 1, 0, 0, 0, 1, 0, 1, 0, 0, 1, 1, 1, 1, 1, 1, 0, 1, 1, 0, 0, 0, 1, 0, 0, 0, 0, 0, 0, 0, 1, 0, 0, 0, 0, 0, 0, 0, 1, 1, 0, 1, 1, 1, 0, 0, 0, 0, 0, 0, 0, 1, 0, 0, 0, 0, 0, 1, 1, 0, 1, 0, 0, 0, 0, 1, 1, 1, 1, 0, 0, 1, 1, 1, 1, 0, 0, 1, 1, 1, 0, 1, 0, 0, 0, 1, 1, 1, 0, 0, 0, 1, 0, 0, 1, 0, 0, 0, 0, 1, 1, 0, 1, 0, 0, 0, 0, 0, 0, 0, 1, 1, 0, 1, 1, 0, 0, 0, 0, 0, 1, 1, 1, 0, 0, 0, 0, 1, 1, 0, 0, 1, 1, 0, 0, 1, 0, 0, 0, 1, 0, 0, 0, 1, 1, 0, 0, 0, 0, 1, 0, 0, 1, 0, 1, 0, 0, 1, 1, 0, 0, 0, 0, 1, 0, 1, 0, 0, 0, 1, 0, 0, 0, 1, 1, 1, 1, 1, 1, 0, 1, 1, 1, 1, 0, 0, 0, 0, 0, 0, 0, 0, 0, 0, 0, 0, 0, 0, 0, 0, 1, 0, 0, 0, 0, 1, 0, 0, 0, 0, 0, 0, 0, 0, 0, 0, 0, 0, 0, 0, 0, 0, 0, 0, 0, 0, 0, 0, 0, 0, 0, 0, 0, 0, 0, 0, 0, 0, 0, 0, 0, 0, 0, 0, 0, 0, 0, 0, 0, 0, 0, 0, 0, 0, 0, 0, 0, 0, 0, 0, 0, 0, 0, 0, 0, 0, 0, 0, 0, 0, 0, 0, 0, 0, 0, 0, 0, 0, 0, 0, 0, 0, 0, 0, 0, 0, 0, 0, 0, 0, 0, 0, 0, 0, 0, 0, 0, 0, 0, 0, 0, 0, 0, 0, 0, 0, 0, 0, 0, 0, 0, 0, 0, 0, 0, 0, 0, 0, 0, 0, 0, 0, 0, 0, 0, 0, 0, 0, 0, 0, 0, 0, 0, 0, 0, 0, 0, 0, 0, 0, 0, 0, 0, 0, 0, 0, 0, 0, 0, 0, 0, 0, 0, 0, 0, 0, 0, 0, 0, 0, 0, 0, 0, 0, 0, 0, 0, 0, 0, 0, 0, 0, 0, 0, 0, 0, 0, 0, 0, 0, 0, 0, 0, 0, 0, 0, 0, 0, 0, 0, 0, 0, 0, 0, 0, 0, 0, 0, 0, 0, 0, 0, 0, 0, 0, 0, 0, 0, 0, 0, 0, 0, 0, 0, 0, 0, 0, 0, 0, 0, 0, 0, 0, 0, 0, 0, 0, 0, 0, 0, 0, 0, 0, 0, 0, 0, 0, 0, 0, 0, 0, 0, 0, 0, 0, 0, 0, 0, 0, 0, 0, 0, 0, 0, 0, 0, 0, 0, 0, 0, 0, 0, 0, 0, 0, 0, 0, 0, 0, 0, 0, 0, 0, 0, 0, 0, 0, 0, 0, 0, 0, 0, 0, 0, 0, 0, 0, 0, 0, 0, 0, 0, 0, 0, 0, 0, 0, 0, 0, 0, 0, 0, 0, 0, 0, 0, 0, 0, 0, 0, 0, 0, 0, 0, 0, 0, 0, 0, 0, 0, 0, 0, 0, 0, 0, 0, 0, 0, 0, 0, 0, 0, 0, 0, 0, 0, 0, 0, 0, 0, 0, 0, 0, 0, 0, 0, 0, 0, 0, 0, 0, 0, 0, 0, 0, 0, 0, 0, 0, 0, 0, 0, 0, 0, 0, 0, 0, 0, 0, 0, 0, 0, 0, 0, 0, 0, 0, 0, 0, 0, 0, 0, 0, 0, 0, 0, 0, 0, 0, 0, 0, 0, 0, 0, 0, 0, 0, 0, 0, 0, 0, 0, 0, 0, 0, 1, 0, 0, 0, 0, 0, 0, 0, 0, 0, 0, 0, 0, 0, 0, 0, 0, 0, 0, 0, 0, 0, 0, 0, 1, 0, 0, 0, 0, 0, 0, 0, 0, 0, 0, 0, 0, 0, 0, 0, 0, 1, 0, 0, 0, 0, 0, 0, 0, 1, 0, 0, 0, 0, 0, 0, 0, 0, 0, 0, 0, 0, 0, 0, 0, 0, 0, 0, 0, 0, 0, 0, 0, 0, 0, 0, 0, 0, 0, 0, 0, 0, 0, 0, 0, 0, 0, 0, 0, 0, 0, 0, 0, 0, 1, 1, 0, 1, 1, 1, 1, 1, 0, 1, 0, 0, 0, 0, 0, 0, 0, 1, 0, 0, 0, 0, 0, 0, 1, 0, 0, 0, 0, 0, 0, 0, 0, 1, 0, 1, 0, 1, 0, 0, 1, 0, 0, 0, 0, 1, 0, 1, 0, 0, 1, 0, 0, 0, 1, 1, 1, 0, 0, 0, 1, 1, 0, 0, 1, 0, 1, 0, 0, 1, 1, 0, 0, 1, 0, 0, 1, 1, 1, 1, 1, 0, 0, 1, 0, 0, 0, 0, 0, 0, 0, 0, 0, 0, 0, 0, 0, 0, 0, 1, 0, 0, 0, 0, 1, 0, 1, 1, 0, 0, 1, 1, 0, 0, 0, 0, 0, 1, 1, 0, 1, 0, 0, 0, 1, 0, 0, 0, 0, 0, 1, 0, 0, 0, 0, 1, 0, 0, 0, 0, 0, 0, 0, 0, 1, 0, 0, 0, 0, 0, 0, 1, 0, 0, 0, 1, 0, 0, 0, 0, 1, 0, 0, 0, 1, 0, 1, 0, 0, 0, 0, 0, 1, 0, 0, 1, 0, 0, 0, 0, 0, 0, 0, 0, 0, 0, 1, 0, 0, 0, 0, 0, 0, 0], \"xaxis\": \"x\", \"y\": [975000, 3000000, 975000, 3000000, 1000000, 1425000, 2700000, 1250000, 1475000, 1300000, 1150000, 925000, 1650000, 1100000, 975000, 975000, 1200000, 1075000, 1275000, 110000, 1450000, 1050000, 3500000, 5000000, 1200000, 1450000, 1400000, 1450000, 1100000, 1100000, 3750000, 4000000, 1450000, 1200000, 1600000, 1050000, 1650000, 1400000, 1700000, 1350000, 1550000, 1050000, 1695000, 2000000, 1200000, 1300000, 1200000, 4200000, 1150000, 1350000, 1575000, 1425000, 2300000, 5200000, 1600000, 1600000, 1200000, 1125000, 1725000, 2200000, 1500000, 4000000, 1325000, 6200000, 3000000, 1800000, 1800000, 1200000, 2300000, 2700000, 1499999, 2350000, 1800000, 550000, 1375000, 675000, 450000, 1425000, 1200000, 1250000, 1250000, 3300000, 2600000, 1050000, 17000, 1450000, 1850000, 3100000, 2400000, 1950000, 1400000, 2900000, 1450000, 2500000, 1700000, 1700000, 3100000, 2700000, 1500000, 260000, 3400000, 2250000, 4950000, 3100000, 1850000, 1200000, 3000000, 1375000, 1850000, 2800000, 2080000, 1750000, 2400000, 1525000, 1300000, 1350000, 1550000, 200000, 1350000, 1525000, 1375000, 3550000, 1435000, 1325000, 3400000, 3800000, 1750000, 1475000, 2450000, 1425000, 1375000, 1250000, 1650000, 4500000, 1450000, 1600000, 3275000, 1800000, 4350000, 1350000, 1500000, 2380000, 1650000, 3999000, 1600000, 425000, 2300000, 1550000, 3000000, 2200000, 1574997, 3400000, 3700000, 1400000, 1950000, 2800000, 2350000, 1850000, 2350000, 1400000, 1450000, 1400000, 2650000, 1725000, 2900000, 1600000, 3000000, 4150000, 1525000, 1575000, 1500000, 1775000, 7000000, 1425000, 1725000, 1575000, 1650000, 1550000, 2000000, 2700000, 1925000, 1650000, 4500000, 2025000, 2700000, 1900000, 2150000, 1650000, 3800000, 3250000, 3000000, 2000000, 1550000, 1425000, 4200000, 1550000, 3800000, 1450000, 2000000, 1750000, 1675000, 1600000, 1475000, 1600000, 4000000, 1800000, 2300000, 2300000, 7000000, 1850000, 1575000, 3000000, 1750000, 3500000, 1750000, 3350000, 1800000, 1950000, 4000000, 1700000, 3350000, 1650000, 1590000, 2850000, 3450000, 1000000, 1350000, 2400000, 2250000, 1650000, 1875000, 1800000, 1450000, 2800000, 1600000, 110000, 4151000, 3250000, 2325000, 1800000, 4200000, 2750000, 1250000, 2250000, 1775000, 3100000, 1800000, 4200000, 4600000, 1775000, 3500000, 2150000, 2150000, 2150000, 2600000, 1425000, 1750000, 1475000, 1700000, 1800000, 3100000, 1750000, 4900000, 1325000, 2550000, 3400000, 2000000, 1450000, 1200000, 3150000, 1400000, 1800000, 3000000, 1425000, 2650000, 4800000, 1350000, 2200000, 1450000, 29550000, 2150000, 1700000, 950000, 1750000, 1250000, 1125000, 1050000, 2950000, 1450000, 1150000, 1350000, 600000, 1850000, 1720000, 1475000, 2775000, 1215000, 1425000, 1325000, 2950000, 2175000, 1875000, 2050000, 2800000, 1600000, 1950000, 1575000, 1250000, 1950000, 2250000, 1225000, 4150000, 2975000, 1050000, 3000000, 3100000, 1450000, 3000000, 3700000, 3700000, 1850000, 1850000, 4000000, 1900000, 2100000, 1000000, 1200000, 2400000, 2196000, 1850000, 1850000, 3200000, 1000000, 1525000, 4200000, 1450000, 2300000, 1089996, 1180000, 1150000, 625000, 1250000, 1475000, 630000, 1350000, 1650000, 1550000, 1675000, 1850000, 2600000, 1150000, 2455000, 690000, 1750000, 1380000, 1235000, 1325000, 2025000, 2500000, 1525000, 1450000, 1150000, 3150000, 1410000, 1099999, 1325000, 1125000, 1775000, 1725000, 2400000, 1275000, 1750000, 2650000, 1725000, 525000, 2400000, 1125000, 675000, 2375000, 1475000, 1135000, 1475000, 1650000, 2900000, 1650000, 1225000, 2950000, 1850000, 1425000, 1695000, 750000, 1700000, 1450000, 1585000, 1575000, 975000, 1300000, 1275000, 850000, 2100000, 1790000, 590000, 3100000, 1100000, 1175000, 1750000, 1575000, 1375000, 1700000, 1225000, 1525000, 775000, 1100000, 950000, 1775000, 3349000, 1275000, 1000000, 1775000, 2600000, 1575000, 1795000, 1775000, 1090000, 1540000, 1665000, 1425000, 900000, 1150000, 1850000, 1850000, 1600000, 1525000, 2450000, 550000, 1550000, 2375000, 1725000, 1500000, 1575000, 1775000, 1875000, 1150000, 2200000, 1200000, 1500000, 1575000, 1575000, 2400000, 725000, 850000, 1860000, 1300000, 1575000, 1225000, 1325000, 1650000, 900000, 1600000, 1575000, 1350000, 3100000, 1325000, 1075000, 1445000, 1325000, 1400000, 1800000, 1310000, 1175000, 1650000, 1600000, 1425000, 1275000, 1400000, 1345000, 1550000, 1050000, 5800000, 3350000, 1150000, 2011, 1000000, 2000000, 1525000, 1025000, 2125000, 1600000, 1600000, 1350000, 1625000, 1500000, 1775000, 1550000, 1550000, 800000, 3100000, 1324999, 1600000, 1225000, 1875000, 2725000, 4800000, 1170000, 1600000, 1400000, 1175000, 850000, 1575000, 5050000, 1675000, 1525000, 1545000, 1675000, 1700000, 3199999, 1050000, 1150000, 2850000, 1225000, 1675000, 1435000, 1355000, 3300000, 1625000, 1360000, 1150000, 2455000, 1975000, 155000, 1175000, 1325000, 650000, 1850000, 1725000, 1725000, 1550000, 1850000, 1025000, 1550000, 6000000, 3300000, 1325000, 2650000, 2000000, 1300000, 1650000, 2650000, 2300000, 2450000, 1650000, 2000000, 1100000, 1350000, 1450000, 2076000, 5200000, 1575000, 5575000, 1475000, 1250000, 1250000, 3500000, 1350000, 1725000, 1390000, 1850000, 5800000, 250000, 700000, 2475000, 1100000, 1175000, 1175000, 2450000, 520000, 1250000, 2450000, 1300000, 1499999, 1400000, 1850000, 1250000, 1300000, 1775000, 825000, 3200000, 1675000, 725000, 1400000, 1175000, 1750000, 600000, 780000, 2450000, 1150000, 1150000, 1525000, 2000000, 1425000, 1225000, 1575000, 1625000, 1050000, 1000000, 525000, 1250000, 1725000, 1250000, 1175000, 3300000, 1250000, 1350000, 1550000, 1525000, 1750000, 1175000, 1025000, 1150000, 1680000, 1450000, 1475000, 1750000, 2450000, 1175000, 2150000, 3500000, 1250000, 1400000, 1250000, 1090000, 1850000, 1625000, 2600000, 1200000, 1750000, 1300000, 2450000, 1225000, 1025000, 1150000, 1550000, 1425000, 1150000, 510000, 1225000, 1550000, 1600000, 1300000, 3150000, 1520000, 1575000, 1705000, 1850000, 1100000, 1475000, 1750000, 1400000, 1824000, 1575000, 1075000, 1750000, 2850000, 1175000, 1275000, 1380000, 1350000, 1590000, 1450000, 1225000, 1360000, 1275000, 675000, 1050000, 1725000, 675000, 1200000, 950000, 1350000, 1825000, 1400000, 1275000, 1750000, 550000, 600000, 1775000, 1400000, 1725000, 1350000, 1200000, 2200000, 1400000, 1200000, 725000, 1400000, 1325000, 1100000, 1525000, 1590000, 2550000, 1700000, 1900000, 1325000, 1750000, 1725000, 1425000, 1050000, 2450000, 1800000, 1400000, 1225000, 750000, 3700000, 1750000, 2425000, 1200000, 2400000, 1575000, 650000, 1333333, 1450000, 2154993, 700000, 1825000, 3400000, 900000, 1800000, 1325000, 2150000, 1350000, 1550000, 850000, 1350000, 1825000, 1400000, 1400000, 1000000, 1650000, 1350000, 1350000, 1190000, 1500000, 1325000, 1500000, 1750000, 1525000, 1775000, 1550000, 3175000, 4000000, 2550000, 1700000, 1075000, 1675000, 1300000, 1200000, 845000, 1425000, 2900000, 1500000, 1500000, 1850000, 1575000, 1450000, 850000, 785000, 1175000, 3500000, 700000, 825000, 1750000, 1450000, 3700000, 3250000, 675000, 800000, 1375000, 1225000, 750000, 925000, 1315000, 2700000, 1765000, 700000, 1825000, 1150000, 1050000, 925000, 1250000, 170000, 2300000, 3400000, 1625000, 1375000, 1375000, 1200000, 1225000, 1850000, 950000, 1849000, 1025000, 1650000, 750000, 1375000, 1425000, 1375000, 1625000, 785000, 800000, 1450000, 1625000, 1450000, 3250000, 1325000, 1530000, 1650000, 1235000, 1000000, 975000, 1140000, 1275000, 1950000, 1875000, 1175000, 850000, 1425000, 1750000, 1625000, 1195000, 1775000, 1450000, 1475000, 1825000, 650000, 1950000, 1625000, 1150000, 1550000, 2550000, 1395000, 4800000, 1250000, 1425000, 1265000, 1290000, 1775000, 3450000, 1460000, 650000, 1050000, 1225000, 1575000, 1875000, 1625000, 1390000, 900000, 1425000, 2250000, 1300000, 5000000, 2499000, 1375000, 1550000, 1425000, 1340000, 1700000, 1899999, 3300000, 850000, 1475000, 1650000, 1250000, 1900000, 750000, 1325000, 1225000, 1725000, 1950000, 1850000, 1525000, 1575000, 1990000, 1380000, 1325000, 1150000, 2350000, 850000, 2450000, 1550000, 1440000, 1450000, 2050000, 1000000, 2325000, 102500, 1050000, 1700000, 1350000, 1575000, 1875000, 1725000, 1400000, 1425000, 1900000, 1450000, 1775000, 1240000, 1170000, 1515000, 1690000, 950000, 1050000, 2050000, 1150000, 1850000, 1000000, 1450000, 1425000, 3500000, 5600000, 2100000, 700000, 1350000, 1650000, 1190000, 1250000, 1125000, 1385000, 1250000, 1400000, 5700000, 1575000, 1225000, 1425000, 1000000, 650000, 1900000, 1250000, 1575000, 3600000, 1475000, 1600000, 1300000, 3250000, 3700000, 2050000, 4600000, 2175000, 870000, 4150000, 1050000, 1075000, 5200000, 900000, 925000, 5250000, 650000, 650000, 3200000, 1260000, 4400000, 750000, 875000, 4099999, 625000, 2850000, 1050000, 1150000, 1200000, 1000000, 1075000, 4200000, 1500000, 2375000, 1100000, 1100000, 1500000, 2850000, 1300000, 1225000, 1975000, 4400000, 5250000, 2300000, 2150000, 4600000, 875000, 725000, 625000, 975000, 1450000, 5600000, 750000, 5500000, 1350000, 1225000, 2850000, 1275000, 300000, 950000, 800000, 2850000, 1100000, 1650000, 825000, 1750000, 7500000, 1175000, 2000000, 2300000, 1475000, 1550000, 2900000, 4550000, 650000, 5100000, 850000, 880000, 5025000, 4200000, 4200000, 5700000, 3000000, 3000000, 1400000, 4600000, 4900000, 1150000, 1750000, 2499000, 1100000, 975000, 850000, 1475000, 1350000, 4900000, 1650000, 1600000, 1410000, 875000, 3000000, 2000000, 615000, 1600000, 1000000, 5750000, 5500000, 1000000, 1450000, 1200000, 5450000, 1250000, 3100000, 1500000, 3200000, 890000, 1175000, 1180000, 790000, 1600000, 1200000, 7700000, 3100000, 4500000, 1400000, 1600000, 1600000, 750000, 2600000, 1100000, 5000000, 975000, 950000, 8500000, 680000, 9800000, 9200000, 4500000, 7000000, 7000000, 1700000, 1750000, 1050000, 9800000, 1125000, 4800000, 8000000, 8500000, 7700000, 1150000, 1250000, 2100000, 4400000, 1500000, 5400000, 2450000, 3350000, 2650000, 2800000, 3800000, 1500000, 2600000, 1050000, 1300000, 1000000, 2200000, 4300000, 2650000, 2400000, 2400000, 5700000, 3250000, 32000000, 2250000, 2650000, 2275000, 3250000, 2450000, 2825000, 2650000, 2250000, 2900000, 2900000, 2600000, 3850000, 1050000, 2600000, 3600000, 1750000, 2900000, 1450000, 2975000, 4450000, 860000, 3000000, 2650000, 2600000, 2600000, 1600000, 4700000, 1700000, 2450000, 3000000, 4850000, 2700000, 2600000, 900000, 3149999, 3200000, 3100000, 3000000, 3100000, 1700000, 2250000, 4375000, 2350000, 3100000, 3100000, 2850000, 2750000, 1325000, 2250000, 2450000, 2450000, 1000000, 3400000, 1400000, 2350000, 2750000, 2475000, 2875000, 1050000, 3300000, 2650000, 2220000, 4400000, 1400000, 1600000, 1275000, 2900000, 3000000, 1300000, 1750000, 4500000, 1225000, 900000, 2050000, 1925000, 3950000, 2800000, 3600000, 1700000, 1250000, 2850000, 575000, 1725000, 1150000, 400000, 600000, 300000, 1500000, 550000, 675000, 117500, 710000, 350000, 250000, 350000, 975000, 1400000, 2479000, 750000, 960000, 225000, 2475000, 1900000, 1050000, 625000, 400000, 1900000, 1750000, 650000, 1025000, 1325000, 625000, 975000, 1000000, 525000, 2049000, 800000, 1150000, 700000, 2450000, 1479000, 1099000, 1025000, 1300000, 825000, 2199000, 2250000, 2300000, 1130000, 675000, 1850000, 424000, 425000, 2295000, 2350000, 1325000, 1399000, 925000, 1975000, 2250000, 2225000, 1500000, 1160000, 450000, 325000, 1225000, 1300000, 1875000, 1775000, 800000, 800000, 750000, 460000, 2450000, 875000, 1325000, 1000000, 550000, 1050000, 2475000, 2475000, 1050000, 1275000, 1200000, 1025000, 1250000, 1150000, 1750000, 1000000, 1125000, 2450000, 2175000, 625000, 1575000, 2300000, 390000, 975000, 2250000, 1875000, 775000, 465000, 1575000, 2275000, 1550000, 675000, 650000, 690000, 2250000, 1450000, 1325000, 600000, 1225000, 1375000, 1100000, 575000, 600000, 725000, 1525000, 600000, 2400000, 145000, 825000, 1000000, 1650000, 1275000, 1150000, 1200000, 775000, 1250000, 1500000, 875000, 915000, 900000, 1250000, 1250000, 1550000, 1150000, 2550000, 1525000, 1175000, 2650000, 2525000, 2375000, 800000, 1650000, 2490000, 1790000, 1150000, 1650000, 525000, 1375000, 2700000, 1275000, 1350000, 2350000, 555000, 600000, 1350000, 1350000, 1650000, 2350000, 1450000, 2175000, 1375000, 1025000, 1350000, 2575000, 925000, 575000, 1125000, 575000, 1225000, 2200000, 1400000, 825000, 1000000, 1390000, 2750000, 825000, 775000, 1650000, 725000, 675000, 1250000, 1275000, 2300000, 2600000, 1550000, 1475000, 1550000, 1525000, 1000000, 1300000, 1475000, 900000, 1175000, 1375000, 1250000, 1425000, 1175000, 2575000, 850000, 1199999, 1200000, 500000, 1200000, 1300000, 1350000, 1095000, 425000, 825000, 525000, 2000000, 1385000, 1200000, 2425000, 2350000, 2250000, 975000, 2650000, 1025000, 1600000, 1400000, 1450000, 1500000, 1150000, 1225000, 1575000, 950000, 1210000, 1450000, 200000, 1050000, 1225000, 1375000, 1425000, 2000000, 1425000, 950000, 1350000, 1600000, 1000000, 650000, 1600000, 750000, 650000, 1350000, 2350000, 950000, 1150000, 1400000, 1275000, 1425000, 1450000, 1250000, 675000, 1500000, 900000, 650000, 1350000, 1650000, 736000, 1350000, 1245000, 650000, 2350000, 1175000, 1800000, 1350000, 1450000, 725000, 1425000, 910000, 1425000, 1450000, 1325000, 1200000, 925000, 2150000, 460000, 1400000, 850000, 630000, 1300000, 625000, 1400000, 450000, 1900000, 2125000, 785000, 950000, 1075000, 900000, 1275000, 1625000, 1375000, 850000, 1625000, 825000, 2500000, 800000, 660000, 1375000, 1625000, 715000, 1100000, 475000, 625000, 1900000, 900000, 800000, 775000, 950000, 1125000, 1050000, 2850000, 1950000, 1850000, 1500000, 2450000, 1300000, 2400000, 1250000, 1499000, 1325000, 1200000, 1925000, 1500000, 750000, 850000, 2500000, 1325000, 1800000, 1400000, 775000, 880000, 1200000, 800000, 1600000, 1600000, 650000, 990000, 1800000, 2150000, 1550000, 1100000, 1850000, 1800000, 1300000, 2300000, 900000, 2850000, 3250000, 555000, 2000000, 650000, 1500000, 1100000, 1375000, 2000000, 1875000, 1800000, 1690000, 1700000, 2975000, 2300000, 1775000, 2900000, 1750000, 575000, 1725000, 1800000, 1650000, 2200000, 1650000, 1800000, 1250000, 2000000, 1125000, 900000, 3600000, 4000000, 2250000, 1850000, 3600000, 3800000, 1275000, 2250000, 2675000, 1425000, 3600000, 4200000, 5500000, 2750000, 4200000, 3800000, 1300000, 3300000, 6000000, 4300000, 1650000, 1625000, 5000000, 6000000, 3300000, 3650000, 5750000, 1575000, 2200000, 2400000, 2675000, 2700000, 2950000, 550000, 1300000, 2100000, 2000000, 1100000, 925000, 930000, 2500000, 900000, 900000, 2500000, 2950000, 2000000, 1300000, 2000000, 450000, 1325000, 4700000, 2850000, 475000, 2750000, 1050000, 350000, 450000, 600000, 499999, 1050000, 666666, 450000, 1850000, 2400000, 1650000, 550000, 425000, 850000, 2000000, 2050000, 2200000, 525000, 500000, 1200000, 1550000, 575000, 1500000, 1230000, 400000, 1350000, 400000, 3600000, 2450000, 800000, 875000, 1350000, 475000, 1550000, 565000, 437000, 645000, 1675000, 775000, 2300000, 1300000, 1400000, 1400000, 675000, 475000, 770000, 1200000, 1250000, 800000, 700000, 200000, 380000, 1300000, 1350000, 700000, 610000, 2250000, 575000, 1800000, 2200000, 525000, 1650000, 1050000, 1575000, 2450000, 450000, 1125000, 850000, 3650000, 2450000, 650000, 725000, 700000, 2750000, 480000, 1400000, 595000, 1600000, 725000, 2250000, 11500000, 6775000, 2600000, 6550000, 6500000, 6500000, 3500000, 6700000, 2850000, 3300000, 3700000, 700000, 2700000, 925000, 2400000, 700000, 2400000, 5045000, 3225000, 2650000, 1500000, 3150000, 2900000, 2975000, 3500000, 1000000, 2900000, 240000, 1150000, 3400000, 625000, 1075000, 4275000, 3900000, 725000, 5000000, 700000, 4400000, 2450000, 2750000, 455000, 3850000, 3000000, 1550000, 1050000, 5500000, 2475000, 9000000, 3500000, 2825000, 5275000, 4275000, 3500000, 2825000, 5300000, 9100000, 250000, 2100000, 2300000, 1125000, 3400000, 9500000, 3250000, 3400000, 3450000, 2175000, 16800000, 4200000, 1400000, 4850000, 9500000, 2850000, 1050000, 20000000, 4600000, 3150000, 5150000, 18975000, 3675000, 3675000, 3400000, 3200000, 2950000, 4075000, 390000, 4150000, 2500000, 2950000, 4800000, 2825000, 2450000, 2875000, 1050000, 4650000, 1125000, 475000, 4500000, 3150000, 700000, 3500000, 1475000, 4300000, 450000, 1150000, 4100000, 650000, 2500000, 4000000, 3200000, 3400000, 3400000, 5800000, 2500000, 4150000, 1700000, 4600000, 450000, 4400000, 17000000, 3550000, 9699000, 425000, 2950000, 2075000, 6500000, 2200000, 2500000, 3000000, 2000000, 2025000, 4100000, 1725000, 4750000, 2500000, 2650000, 6100000, 2025000, 3450000, 2800000, 2350000, 3480000, 2350000, 1975000, 2800000, 5350000, 2450000, 2150000, 2000000, 1950000, 2350000, 2125000, 6350000, 2100000, 4800000, 2450000, 8050000, 2650000, 2550000, 2250000, 1850000, 10000000, 2400000, 2650000, 2475000, 5500000, 3800000, 7450000, 2100000, 3000000, 2100000, 5650000, 2450000, 5700000, 2350000, 2100000, 5250000, 2550000, 2050000, 3000000, 6100000, 2650000, 1995000, 2650000, 2000000, 2550000, 2150000, 7000000, 2400000, 6175000, 2700000, 3950000, 5800000, 4900000, 3555555], \"yaxis\": \"y\"}],\n",
              "                        {\"legend\": {\"tracegroupgap\": 0}, \"margin\": {\"t\": 60}, \"template\": {\"data\": {\"bar\": [{\"error_x\": {\"color\": \"#2a3f5f\"}, \"error_y\": {\"color\": \"#2a3f5f\"}, \"marker\": {\"line\": {\"color\": \"#E5ECF6\", \"width\": 0.5}}, \"type\": \"bar\"}], \"barpolar\": [{\"marker\": {\"line\": {\"color\": \"#E5ECF6\", \"width\": 0.5}}, \"type\": \"barpolar\"}], \"carpet\": [{\"aaxis\": {\"endlinecolor\": \"#2a3f5f\", \"gridcolor\": \"white\", \"linecolor\": \"white\", \"minorgridcolor\": \"white\", \"startlinecolor\": \"#2a3f5f\"}, \"baxis\": {\"endlinecolor\": \"#2a3f5f\", \"gridcolor\": \"white\", \"linecolor\": \"white\", \"minorgridcolor\": \"white\", \"startlinecolor\": \"#2a3f5f\"}, \"type\": \"carpet\"}], \"choropleth\": [{\"colorbar\": {\"outlinewidth\": 0, \"ticks\": \"\"}, \"type\": \"choropleth\"}], \"contour\": [{\"colorbar\": {\"outlinewidth\": 0, \"ticks\": \"\"}, \"colorscale\": [[0.0, \"#0d0887\"], [0.1111111111111111, \"#46039f\"], [0.2222222222222222, \"#7201a8\"], [0.3333333333333333, \"#9c179e\"], [0.4444444444444444, \"#bd3786\"], [0.5555555555555556, \"#d8576b\"], [0.6666666666666666, \"#ed7953\"], [0.7777777777777778, \"#fb9f3a\"], [0.8888888888888888, \"#fdca26\"], [1.0, \"#f0f921\"]], \"type\": \"contour\"}], \"contourcarpet\": [{\"colorbar\": {\"outlinewidth\": 0, \"ticks\": \"\"}, \"type\": \"contourcarpet\"}], \"heatmap\": [{\"colorbar\": {\"outlinewidth\": 0, \"ticks\": \"\"}, \"colorscale\": [[0.0, \"#0d0887\"], [0.1111111111111111, \"#46039f\"], [0.2222222222222222, \"#7201a8\"], [0.3333333333333333, \"#9c179e\"], [0.4444444444444444, \"#bd3786\"], [0.5555555555555556, \"#d8576b\"], [0.6666666666666666, \"#ed7953\"], [0.7777777777777778, \"#fb9f3a\"], [0.8888888888888888, \"#fdca26\"], [1.0, \"#f0f921\"]], \"type\": \"heatmap\"}], \"heatmapgl\": [{\"colorbar\": {\"outlinewidth\": 0, \"ticks\": \"\"}, \"colorscale\": [[0.0, \"#0d0887\"], [0.1111111111111111, \"#46039f\"], [0.2222222222222222, \"#7201a8\"], [0.3333333333333333, \"#9c179e\"], [0.4444444444444444, \"#bd3786\"], [0.5555555555555556, \"#d8576b\"], [0.6666666666666666, \"#ed7953\"], [0.7777777777777778, \"#fb9f3a\"], [0.8888888888888888, \"#fdca26\"], [1.0, \"#f0f921\"]], \"type\": \"heatmapgl\"}], \"histogram\": [{\"marker\": {\"colorbar\": {\"outlinewidth\": 0, \"ticks\": \"\"}}, \"type\": \"histogram\"}], \"histogram2d\": [{\"colorbar\": {\"outlinewidth\": 0, \"ticks\": \"\"}, \"colorscale\": [[0.0, \"#0d0887\"], [0.1111111111111111, \"#46039f\"], [0.2222222222222222, \"#7201a8\"], [0.3333333333333333, \"#9c179e\"], [0.4444444444444444, \"#bd3786\"], [0.5555555555555556, \"#d8576b\"], [0.6666666666666666, \"#ed7953\"], [0.7777777777777778, \"#fb9f3a\"], [0.8888888888888888, \"#fdca26\"], [1.0, \"#f0f921\"]], \"type\": \"histogram2d\"}], \"histogram2dcontour\": [{\"colorbar\": {\"outlinewidth\": 0, \"ticks\": \"\"}, \"colorscale\": [[0.0, \"#0d0887\"], [0.1111111111111111, \"#46039f\"], [0.2222222222222222, \"#7201a8\"], [0.3333333333333333, \"#9c179e\"], [0.4444444444444444, \"#bd3786\"], [0.5555555555555556, \"#d8576b\"], [0.6666666666666666, \"#ed7953\"], [0.7777777777777778, \"#fb9f3a\"], [0.8888888888888888, \"#fdca26\"], [1.0, \"#f0f921\"]], \"type\": \"histogram2dcontour\"}], \"mesh3d\": [{\"colorbar\": {\"outlinewidth\": 0, \"ticks\": \"\"}, \"type\": \"mesh3d\"}], \"parcoords\": [{\"line\": {\"colorbar\": {\"outlinewidth\": 0, \"ticks\": \"\"}}, \"type\": \"parcoords\"}], \"pie\": [{\"automargin\": true, \"type\": \"pie\"}], \"scatter\": [{\"marker\": {\"colorbar\": {\"outlinewidth\": 0, \"ticks\": \"\"}}, \"type\": \"scatter\"}], \"scatter3d\": [{\"line\": {\"colorbar\": {\"outlinewidth\": 0, \"ticks\": \"\"}}, \"marker\": {\"colorbar\": {\"outlinewidth\": 0, \"ticks\": \"\"}}, \"type\": \"scatter3d\"}], \"scattercarpet\": [{\"marker\": {\"colorbar\": {\"outlinewidth\": 0, \"ticks\": \"\"}}, \"type\": \"scattercarpet\"}], \"scattergeo\": [{\"marker\": {\"colorbar\": {\"outlinewidth\": 0, \"ticks\": \"\"}}, \"type\": \"scattergeo\"}], \"scattergl\": [{\"marker\": {\"colorbar\": {\"outlinewidth\": 0, \"ticks\": \"\"}}, \"type\": \"scattergl\"}], \"scattermapbox\": [{\"marker\": {\"colorbar\": {\"outlinewidth\": 0, \"ticks\": \"\"}}, \"type\": \"scattermapbox\"}], \"scatterpolar\": [{\"marker\": {\"colorbar\": {\"outlinewidth\": 0, \"ticks\": \"\"}}, \"type\": \"scatterpolar\"}], \"scatterpolargl\": [{\"marker\": {\"colorbar\": {\"outlinewidth\": 0, \"ticks\": \"\"}}, \"type\": \"scatterpolargl\"}], \"scatterternary\": [{\"marker\": {\"colorbar\": {\"outlinewidth\": 0, \"ticks\": \"\"}}, \"type\": \"scatterternary\"}], \"surface\": [{\"colorbar\": {\"outlinewidth\": 0, \"ticks\": \"\"}, \"colorscale\": [[0.0, \"#0d0887\"], [0.1111111111111111, \"#46039f\"], [0.2222222222222222, \"#7201a8\"], [0.3333333333333333, \"#9c179e\"], [0.4444444444444444, \"#bd3786\"], [0.5555555555555556, \"#d8576b\"], [0.6666666666666666, \"#ed7953\"], [0.7777777777777778, \"#fb9f3a\"], [0.8888888888888888, \"#fdca26\"], [1.0, \"#f0f921\"]], \"type\": \"surface\"}], \"table\": [{\"cells\": {\"fill\": {\"color\": \"#EBF0F8\"}, \"line\": {\"color\": \"white\"}}, \"header\": {\"fill\": {\"color\": \"#C8D4E3\"}, \"line\": {\"color\": \"white\"}}, \"type\": \"table\"}]}, \"layout\": {\"annotationdefaults\": {\"arrowcolor\": \"#2a3f5f\", \"arrowhead\": 0, \"arrowwidth\": 1}, \"coloraxis\": {\"colorbar\": {\"outlinewidth\": 0, \"ticks\": \"\"}}, \"colorscale\": {\"diverging\": [[0, \"#8e0152\"], [0.1, \"#c51b7d\"], [0.2, \"#de77ae\"], [0.3, \"#f1b6da\"], [0.4, \"#fde0ef\"], [0.5, \"#f7f7f7\"], [0.6, \"#e6f5d0\"], [0.7, \"#b8e186\"], [0.8, \"#7fbc41\"], [0.9, \"#4d9221\"], [1, \"#276419\"]], \"sequential\": [[0.0, \"#0d0887\"], [0.1111111111111111, \"#46039f\"], [0.2222222222222222, \"#7201a8\"], [0.3333333333333333, \"#9c179e\"], [0.4444444444444444, \"#bd3786\"], [0.5555555555555556, \"#d8576b\"], [0.6666666666666666, \"#ed7953\"], [0.7777777777777778, \"#fb9f3a\"], [0.8888888888888888, \"#fdca26\"], [1.0, \"#f0f921\"]], \"sequentialminus\": [[0.0, \"#0d0887\"], [0.1111111111111111, \"#46039f\"], [0.2222222222222222, \"#7201a8\"], [0.3333333333333333, \"#9c179e\"], [0.4444444444444444, \"#bd3786\"], [0.5555555555555556, \"#d8576b\"], [0.6666666666666666, \"#ed7953\"], [0.7777777777777778, \"#fb9f3a\"], [0.8888888888888888, \"#fdca26\"], [1.0, \"#f0f921\"]]}, \"colorway\": [\"#636efa\", \"#EF553B\", \"#00cc96\", \"#ab63fa\", \"#FFA15A\", \"#19d3f3\", \"#FF6692\", \"#B6E880\", \"#FF97FF\", \"#FECB52\"], \"font\": {\"color\": \"#2a3f5f\"}, \"geo\": {\"bgcolor\": \"white\", \"lakecolor\": \"white\", \"landcolor\": \"#E5ECF6\", \"showlakes\": true, \"showland\": true, \"subunitcolor\": \"white\"}, \"hoverlabel\": {\"align\": \"left\"}, \"hovermode\": \"closest\", \"mapbox\": {\"style\": \"light\"}, \"paper_bgcolor\": \"white\", \"plot_bgcolor\": \"#E5ECF6\", \"polar\": {\"angularaxis\": {\"gridcolor\": \"white\", \"linecolor\": \"white\", \"ticks\": \"\"}, \"bgcolor\": \"#E5ECF6\", \"radialaxis\": {\"gridcolor\": \"white\", \"linecolor\": \"white\", \"ticks\": \"\"}}, \"scene\": {\"xaxis\": {\"backgroundcolor\": \"#E5ECF6\", \"gridcolor\": \"white\", \"gridwidth\": 2, \"linecolor\": \"white\", \"showbackground\": true, \"ticks\": \"\", \"zerolinecolor\": \"white\"}, \"yaxis\": {\"backgroundcolor\": \"#E5ECF6\", \"gridcolor\": \"white\", \"gridwidth\": 2, \"linecolor\": \"white\", \"showbackground\": true, \"ticks\": \"\", \"zerolinecolor\": \"white\"}, \"zaxis\": {\"backgroundcolor\": \"#E5ECF6\", \"gridcolor\": \"white\", \"gridwidth\": 2, \"linecolor\": \"white\", \"showbackground\": true, \"ticks\": \"\", \"zerolinecolor\": \"white\"}}, \"shapedefaults\": {\"line\": {\"color\": \"#2a3f5f\"}}, \"ternary\": {\"aaxis\": {\"gridcolor\": \"white\", \"linecolor\": \"white\", \"ticks\": \"\"}, \"baxis\": {\"gridcolor\": \"white\", \"linecolor\": \"white\", \"ticks\": \"\"}, \"bgcolor\": \"#E5ECF6\", \"caxis\": {\"gridcolor\": \"white\", \"linecolor\": \"white\", \"ticks\": \"\"}}, \"title\": {\"x\": 0.05}, \"xaxis\": {\"automargin\": true, \"gridcolor\": \"white\", \"linecolor\": \"white\", \"ticks\": \"\", \"title\": {\"standoff\": 15}, \"zerolinecolor\": \"white\", \"zerolinewidth\": 2}, \"yaxis\": {\"automargin\": true, \"gridcolor\": \"white\", \"linecolor\": \"white\", \"ticks\": \"\", \"title\": {\"standoff\": 15}, \"zerolinecolor\": \"white\", \"zerolinewidth\": 2}}}, \"xaxis\": {\"anchor\": \"y\", \"domain\": [0.0, 1.0], \"title\": {\"text\": \"Drivetrain\"}}, \"yaxis\": {\"anchor\": \"x\", \"domain\": [0.0, 1.0], \"title\": {\"text\": \"Price\"}}},\n",
              "                        {\"responsive\": true}\n",
              "                    ).then(function(){\n",
              "                            \n",
              "var gd = document.getElementById('f7addd66-da49-4d7a-84ef-41889f819be1');\n",
              "var x = new MutationObserver(function (mutations, observer) {{\n",
              "        var display = window.getComputedStyle(gd).display;\n",
              "        if (!display || display === 'none') {{\n",
              "            console.log([gd, 'removed!']);\n",
              "            Plotly.purge(gd);\n",
              "            observer.disconnect();\n",
              "        }}\n",
              "}});\n",
              "\n",
              "// Listen for the removal of the full notebook cells\n",
              "var notebookContainer = gd.closest('#notebook-container');\n",
              "if (notebookContainer) {{\n",
              "    x.observe(notebookContainer, {childList: true});\n",
              "}}\n",
              "\n",
              "// Listen for the clearing of the current output cell\n",
              "var outputEl = gd.closest('.output');\n",
              "if (outputEl) {{\n",
              "    x.observe(outputEl, {childList: true});\n",
              "}}\n",
              "\n",
              "                        })\n",
              "                };\n",
              "                \n",
              "            </script>\n",
              "        </div>\n",
              "</body>\n",
              "</html>"
            ]
          },
          "metadata": {
            "tags": []
          }
        }
      ]
    },
    {
      "cell_type": "code",
      "metadata": {
        "colab": {
          "base_uri": "https://localhost:8080/",
          "height": 388
        },
        "id": "itLu_a_HUSwq",
        "outputId": "cc665a5e-6ab3-47cf-d74d-203eb69a3bdf"
      },
      "source": [
        "make_kdeplot('Drivetrain')"
      ],
      "execution_count": null,
      "outputs": [
        {
          "output_type": "display_data",
          "data": {
            "image/png": "[encoded data removed]",
            "text/plain": [
              "<Figure size 576x432 with 1 Axes>"
            ]
          },
          "metadata": {
            "tags": [],
            "needs_background": "light"
          }
        }
      ]
    },
    {
      "cell_type": "markdown",
      "metadata": {
        "id": "hvzGR0aqUiHp"
      },
      "source": [
        "From the figure it seems like there is more 2WD than 4WD. "
      ]
    },
    {
      "cell_type": "code",
      "metadata": {
        "colab": {
          "base_uri": "https://localhost:8080/"
        },
        "id": "5j0OjB6AMiI3",
        "outputId": "f1343489-9ee6-40ce-9e68-3af4f7374e5f"
      },
      "source": [
        "df['Fuel_type'].unique()"
      ],
      "execution_count": null,
      "outputs": [
        {
          "output_type": "execute_result",
          "data": {
            "text/plain": [
              "array([' Petrol', ' Diesel'], dtype=object)"
            ]
          },
          "metadata": {
            "tags": []
          },
          "execution_count": 112
        }
      ]
    },
    {
      "cell_type": "code",
      "metadata": {
        "id": "4A7zHfdPMiI3"
      },
      "source": [
        "df['Fuel_type']=df['Fuel_type'].replace([' Petrol', ' Diesel'],[0,1])"
      ],
      "execution_count": null,
      "outputs": []
    },
    {
      "cell_type": "code",
      "metadata": {
        "colab": {
          "base_uri": "https://localhost:8080/",
          "height": 389
        },
        "id": "okWFSwY3U1qf",
        "outputId": "2805863f-31c9-4400-afb1-2677b4871f59"
      },
      "source": [
        "make_kdeplot('Fuel_type')"
      ],
      "execution_count": null,
      "outputs": [
        {
          "output_type": "display_data",
          "data": {
            "image/png": "[encoded data removed]",
            "text/plain": [
              "<Figure size 576x432 with 1 Axes>"
            ]
          },
          "metadata": {
            "tags": [],
            "needs_background": "light"
          }
        }
      ]
    },
    {
      "cell_type": "markdown",
      "metadata": {
        "id": "29NoNbcdU89z"
      },
      "source": [
        "There are more petrol fuel vehicle  than diesel fueled vehicle. The data seems to be imbalanced among its classes."
      ]
    },
    {
      "cell_type": "code",
      "metadata": {
        "colab": {
          "base_uri": "https://localhost:8080/"
        },
        "id": "rk6l5DtNMiI3",
        "outputId": "ae2ad59c-6698-4d7e-f378-d7857fbfd8b1"
      },
      "source": [
        "df['Colour'].unique()"
      ],
      "execution_count": null,
      "outputs": [
        {
          "output_type": "execute_result",
          "data": {
            "text/plain": [
              "array([' golden', ' Grey', ' Sky Blue ', ' Green', ' Red/Maroon',\n",
              "       ' Maroon', ' royal black', ' metalic sky blue', ' Golden Silver ',\n",
              "       ' Red', ' Lilene Beige', ' White', ' Bue', ' Light Golden',\n",
              "       ' Silver', ' Sky blue', ' golden silver', ' silver', ' Metallic',\n",
              "       ' Golden', ' Gray', ' Black', ' WHITE', ' Platinum Metallic',\n",
              "       ' Dark Gray', ' Blue', ' black', ' Chocolate Grey',\n",
              "       ' Caviar Black ', ' SILVER', ' white ', '  Pearl Silver',\n",
              "       ' orange ', ' Velvet Red', ' Beige', ' sky blue', ' Caviar Black',\n",
              "       ' Lenin Beige', ' Sandive grey', ' Silver ', ' Cream Blue',\n",
              "       ' Off white ', ' dark grey', ' maroon(red)', ' White ',\n",
              "       ' Golden Grey', ' Moondust Silver', ' Mars Red', ' smoke grey',\n",
              "       ' White Gold', ' Orange', ' Chilly Silver ', ' grey', ' white',\n",
              "       ' Sea greay', ' Space gray', ' FROGEN WHITE', ' Paprika Red',\n",
              "       ' Chill', ' Sea gray ', ' Sea Grey', ' Siver', ' Diamond white',\n",
              "       ' Dark grey', ' silky silver', ' Light Green', ' milky white',\n",
              "       ' Beautiful White', ' squeeze ', ' Gray ', ' Metalic Grey',\n",
              "       ' Paprika red ', ' red', ' gray', ' Diamond White',\n",
              "       ' Pearl silver ', ' diamond', ' Paprika red', ' Red ',\n",
              "       ' Colorado Red', ' D.White', ' Squeeze ', ' Silky silver ',\n",
              "       ' SQUEEZE (GREEN)', ' Kinetic blue', ' Smoke', ' Sea Gray',\n",
              "       ' Panther Black', ' maroon red', ' Maroon Red', ' black ',\n",
              "       ' Navy Green', ' Navy green', ' Bluish Silver', ' Baidge',\n",
              "       ' sliver', ' Light Blue', ' Blue ', ' Dark Grey', ' maroon',\n",
              "       ' tafeta white', ' mettalic grey', ' Metallic silver', ' Brown',\n",
              "       ' yellow', ' Grey ', ' light green', ' blue', ' red & black',\n",
              "       ' Real Earth', ' Golden ', ' Sky Blue', ' Maroon red', ' GREY',\n",
              "       ' Carbon grey', ' Silky Brown ', ' Sleek silver',\n",
              "       ' Metalic Silver', ' Blushing Red', ' Maroon ', ' Pearl White',\n",
              "       ' Royal blue', ' Dark Grey Stardust', ' Champion Gold',\n",
              "       ' Standard Black', ' Blushing red', ' BIue', ' SiIver',\n",
              "       ' sky Blue', ' Aqua Silver', ' Marhoon', ' Crystal White',\n",
              "       ' chympigyan gold', ' Whiskey BIue', ' light blue',\n",
              "       ' Sleek Silver', ' Metallic Blue', ' champion gold', ' Stardust',\n",
              "       ' SIVER', ' Amber grey', ' Wine Red', ' Bright Silver',\n",
              "       ' Light Golden ', ' Sampion Gold', ' Black grey ', ' Silk Silver',\n",
              "       ' gray ', ' silver green ', ' silver ', ' Light Glden',\n",
              "       '  Sleek Silver', ' `light golden', ' Metalic ', ' golden ',\n",
              "       ' Oyster grey', ' Metalic Blue', ' silver,green', ' Sliver',\n",
              "       ' light golden', ' golden orange ', ' Black ', ' Grea',\n",
              "       ' marron red', ' Shampion Gold', ' Silk silver', ' Midnight Gray',\n",
              "       ' snow white', ' Brick red', ' Midnight grey', ' Sparkle Blue',\n",
              "       ' champagyan gold', ' silver golden', ' Siliver', ' light gold',\n",
              "       ' Marron', ' Forest Dew', ' Line Blue', ' Gold', ' shympain Gold',\n",
              "       ' Milky white ', ' Blue sky ', ' sampion gold', ' BLUE',\n",
              "       ' Whisky Blue', ' GRAY', ' teal blue', ' yellow ', ' siver',\n",
              "       ' silk silver', ' Carbon Grey', ' DARK GREEN', ' blue sky',\n",
              "       ' Light golden', ' blur', ' Red maron', ' Blue sky', ' silvar',\n",
              "       ' real earth', ' CARBON GREY', ' maroon ', ' blue ',\n",
              "       ' standard red', ' light grey metalic', ' dark blue ', ' BG BLACK',\n",
              "       ' grenyet red', ' LIGHT BLUE', ' RED', '  silver',\n",
              "       ' Maroon metallic', ' Silky Silver', ' Creamy white',\n",
              "       ' Silky silver', ' Light Gold', ' Troquoise Blue', ' Gray &Black',\n",
              "       ' Creamy White', ' skyblue', ' berry red', ' Apline Blue',\n",
              "       ' ldark skyblue', ' light blue  ', ' Champen Gold',\n",
              "       ' Sampain Gold', ' Cream', ' Mid nite grey', ' Dark Blue',\n",
              "       ' light blue ', ' Teal Green', ' Metalic Red', ' Metallic Silver',\n",
              "       ' Blue Metalic', ' PURPLE', ' Vanilla sake', ' Diamond Blue',\n",
              "       ' Silver Metallic Smoke Grey ', ' Metalic Black',\n",
              "       ' Titanium Silver', ' brown ', ' vintage blue', ' Mineral silver',\n",
              "       ' Bright silver', ' Sand Track', ' SIlver Metallic Grey',\n",
              "       ' Titanium ', ' Cafe Mocha', ' Royal black', ' MINARAL SILVER',\n",
              "       ' metalic grey', ' BLACK', ' Metallic Bronze', ' coffee mocha',\n",
              "       ' titanium silver ', ' blue metalic', ' Light Sky Blue',\n",
              "       ' Chocolate', ' green', ' Metallic Grey', ' Royal Blue', ' blue,',\n",
              "       ' Read', ' LIGHT GREY', ' Sea Green', ' Army', ' Dark red',\n",
              "       ' mist silver', ' mist silver ', ' Army colour', ' coat red',\n",
              "       ' black and silver', ' Java Brawn', ' Rocky Beige', ' Mist Silver',\n",
              "       ' designer grey', ' light Green', ' granite red', ' creami white',\n",
              "       ' silky silver ', ' Chocolate Brown ', ' Dark Red', ' alpine blue',\n",
              "       ' Desert brown', ' artic white', ' Parasite Blue', ' Dazzling Red',\n",
              "       ' golden yellow', ' DARK GREY', ' Silver golden', ' Purple Blue',\n",
              "       ' cayenne orange', ' Metallic steel ', ' green ', ' purple',\n",
              "       ' sillky siliver', ' dusky brown', ' orange', ' azure grey',\n",
              "       ' Healing Green', ' GREEN', ' digital blue', ' Maroon/Orange',\n",
              "       ' aqua blue', ' red ', ' Copper Red ', ' METALLIC SILKY SILVER',\n",
              "       ' Dark Blue ', ' pearl blue', ' metallic blue', ' Gret',\n",
              "       ' healing green', ' Metalic Orange', ' Sunlight copper ',\n",
              "       ' Silvery Blue', ' yelleow ', ' dark orange', ' golden brown',\n",
              "       ' navy blue', ' kaleji red', ' Silver Gold', ' Blue And White',\n",
              "       ' Shining White', ' Wine red', ' Arctic Silver', ' Marrone ',\n",
              "       ' Golden brown', ' Golden silver ', ' Yellowish Silver',\n",
              "       ' Capachine Baige', ' Chocolate colour', ' Light brown',\n",
              "       ' Deep Black', ' Silver Grey', ' red/maroon', ' sky blue white',\n",
              "       ' Cycus Grey', ' sea grey', ' Silver white', ' Res', ' Aqua green',\n",
              "       ' Urban bronze', ' Yellow', ' Sardania Red', ' Burgandy royal',\n",
              "       ' tyrine wine', ' Aqua Green', ' KARBON GREY', ' metallic silver',\n",
              "       ' Carbon Black', ' Maroon Orange', ' Smokey Grey', ' walnut green',\n",
              "       ' marin blue', ' Purple', ' matt black', ' Metalic Green',\n",
              "       ' metallic silver ', ' SILVER METALIC', ' Dark Maroon',\n",
              "       ' light blue metalic', ' Metallic Gray',\n",
              "       ' Cocktail of golden & black', ' brown', ' Dark green', ' whit',\n",
              "       ' Grey metallic', ' sleek silver', ' Giolden', ' Grey Metallic',\n",
              "       ' Silver blue', ' toffee brown', ' Golden Beige', ' Red Flash',\n",
              "       ' RID GREEN', ' Dark meta lick blue', ' India blue'], dtype=object)"
            ]
          },
          "metadata": {
            "tags": []
          },
          "execution_count": 114
        }
      ]
    },
    {
      "cell_type": "markdown",
      "metadata": {
        "id": "8Icg008wMiI3"
      },
      "source": [
        "##### Actually Color would have more impact if the problem was about which car would get sold faster but it is about predicting the price  and color is personal preference and  has no role in determining the price of the car so I am removing the 'Colour' column"
      ]
    },
    {
      "cell_type": "code",
      "metadata": {
        "id": "QEs-P5HRMiI3"
      },
      "source": [
        "df.drop(['Colour'],axis='columns',inplace=True)"
      ],
      "execution_count": null,
      "outputs": []
    },
    {
      "cell_type": "code",
      "metadata": {
        "colab": {
          "base_uri": "https://localhost:8080/"
        },
        "id": "072eLPXxRKHQ",
        "outputId": "0fab5b74-c924-4a95-ecb6-b7d1c22eb62c"
      },
      "source": [
        "df['Brand'].unique(), len(df['Brand'].unique())"
      ],
      "execution_count": null,
      "outputs": [
        {
          "output_type": "execute_result",
          "data": {
            "text/plain": [
              "array(['Chevroletaveo', 'Chevroletcaptiva', 'Chevroletspark',\n",
              "       'Chevroletbeat', 'Chevroletu-va', 'Chevroletuva', 'Chevroletsedan',\n",
              "       'Fiatavventura', 'Fiatpunto', 'Fiatlinea', 'Fiatfigo', 'Fiatpalio',\n",
              "       'Fordfigo', 'Fordecosport', 'Fordtitanium', 'Fordfiesta',\n",
              "       'Fordranger', 'Hondacr-v', 'Hondacity', 'Hondajazz', 'Hondabrio',\n",
              "       'Hondacivic', 'Hondacrv', 'Hyundaiaccent', 'Hyundaii10',\n",
              "       'Hyundaisantro', 'Hyundaii20', 'Hyundaigetz', 'Hyundaiasta',\n",
              "       'Hyundaitucson', 'Hyundaieon', 'Hyundaicreta', 'Hyundaielite',\n",
              "       'Hyundaielantra', 'Hyundaisonata', 'Kiasephia', 'Kiasportage',\n",
              "       'Kiapicanto', 'Kiario', 'Kiasoul', 'Kiacarens', 'Kiacerato',\n",
              "       'Land Roverfreelander', 'Land Roverdiscovery',\n",
              "       'Land Roverdefender', 'Mahindrabolero', 'MahindraKuv',\n",
              "       'Mahindrascorpio', 'Maruti Suzukiswift', 'Maruti Suzukialto-800',\n",
              "       'Maruti Suzukicelerio', 'Maruti Suzukialto-LXI',\n",
              "       'Maruti SuzukiOmni', 'Maruti Suzuki800', 'Maruti Suzukieeco',\n",
              "       'Maruti Suzukiastar', 'Maruti Suzukialto', 'Maruti Suzukidzire',\n",
              "       'Maruti Suzukia-star', 'Nissansaloon', 'Nissansunny',\n",
              "       'Nissantiida', 'Skodafabia', 'Skodalaura', 'Skodarapid',\n",
              "       'Skodasuperb', 'Skodaoctavia', 'Tatasumo', 'Tatasafari', 'Tataace',\n",
              "       'Tataindica', 'Tatabolt', 'Tatastrome', 'Tatanano', 'Tatagrande',\n",
              "       'Tatamanza', 'Tataventure', 'Tataindigo', 'Toyotacorolla',\n",
              "       'Toyotafortuner', 'Toyotahilux', 'Toyotacruiser', 'Toyotaetios',\n",
              "       'Toyotaecho', 'Toyotaavanza', 'Toyotacamry', 'Toyotacorona',\n",
              "       'Toyotaprado', 'Toyotahiace', 'Volkswagenpolo', 'Volkswagentiguan',\n",
              "       'Volkswagenbeetle', 'Volkswagenvento', 'Volkswagentouareg',\n",
              "       'Volkswagenpassat'], dtype=object)"
            ]
          },
          "metadata": {
            "tags": []
          },
          "execution_count": 123
        }
      ]
    },
    {
      "cell_type": "code",
      "metadata": {
        "colab": {
          "base_uri": "https://localhost:8080/",
          "height": 561
        },
        "id": "Hn3SsPAURKUG",
        "outputId": "5563a1f7-10c6-4032-9694-65f0ad3810a1"
      },
      "source": [
        "df['Model'].unique(),len(df['Model'].unique())"
      ],
      "execution_count": null,
      "outputs": [
        {
          "output_type": "error",
          "ename": "KeyError",
          "evalue": "ignored",
          "traceback": [
            "\u001b[0;31m---------------------------------------------------------------------------\u001b[0m",
            "\u001b[0;31mKeyError\u001b[0m                                  Traceback (most recent call last)",
            "\u001b[0;32m/usr/local/lib/python3.7/dist-packages/pandas/core/indexes/base.py\u001b[0m in \u001b[0;36mget_loc\u001b[0;34m(self, key, method, tolerance)\u001b[0m\n\u001b[1;32m   2897\u001b[0m             \u001b[0;32mtry\u001b[0m\u001b[0;34m:\u001b[0m\u001b[0;34m\u001b[0m\u001b[0;34m\u001b[0m\u001b[0m\n\u001b[0;32m-> 2898\u001b[0;31m                 \u001b[0;32mreturn\u001b[0m \u001b[0mself\u001b[0m\u001b[0;34m.\u001b[0m\u001b[0m_engine\u001b[0m\u001b[0;34m.\u001b[0m\u001b[0mget_loc\u001b[0m\u001b[0;34m(\u001b[0m\u001b[0mcasted_key\u001b[0m\u001b[0;34m)\u001b[0m\u001b[0;34m\u001b[0m\u001b[0;34m\u001b[0m\u001b[0m\n\u001b[0m\u001b[1;32m   2899\u001b[0m             \u001b[0;32mexcept\u001b[0m \u001b[0mKeyError\u001b[0m \u001b[0;32mas\u001b[0m \u001b[0merr\u001b[0m\u001b[0;34m:\u001b[0m\u001b[0;34m\u001b[0m\u001b[0;34m\u001b[0m\u001b[0m\n",
            "\u001b[0;32mpandas/_libs/index.pyx\u001b[0m in \u001b[0;36mpandas._libs.index.IndexEngine.get_loc\u001b[0;34m()\u001b[0m\n",
            "\u001b[0;32mpandas/_libs/index.pyx\u001b[0m in \u001b[0;36mpandas._libs.index.IndexEngine.get_loc\u001b[0;34m()\u001b[0m\n",
            "\u001b[0;32mpandas/_libs/hashtable_class_helper.pxi\u001b[0m in \u001b[0;36mpandas._libs.hashtable.PyObjectHashTable.get_item\u001b[0;34m()\u001b[0m\n",
            "\u001b[0;32mpandas/_libs/hashtable_class_helper.pxi\u001b[0m in \u001b[0;36mpandas._libs.hashtable.PyObjectHashTable.get_item\u001b[0;34m()\u001b[0m\n",
            "\u001b[0;31mKeyError\u001b[0m: 'Model'",
            "\nThe above exception was the direct cause of the following exception:\n",
            "\u001b[0;31mKeyError\u001b[0m                                  Traceback (most recent call last)",
            "\u001b[0;32m<ipython-input-124-98a1ce303ead>\u001b[0m in \u001b[0;36m<module>\u001b[0;34m()\u001b[0m\n\u001b[0;32m----> 1\u001b[0;31m \u001b[0mdf\u001b[0m\u001b[0;34m[\u001b[0m\u001b[0;34m'Model'\u001b[0m\u001b[0;34m]\u001b[0m\u001b[0;34m.\u001b[0m\u001b[0munique\u001b[0m\u001b[0;34m(\u001b[0m\u001b[0;34m)\u001b[0m\u001b[0;34m,\u001b[0m\u001b[0mlen\u001b[0m\u001b[0;34m(\u001b[0m\u001b[0mdf\u001b[0m\u001b[0;34m[\u001b[0m\u001b[0;34m'Model'\u001b[0m\u001b[0;34m]\u001b[0m\u001b[0;34m.\u001b[0m\u001b[0munique\u001b[0m\u001b[0;34m(\u001b[0m\u001b[0;34m)\u001b[0m\u001b[0;34m)\u001b[0m\u001b[0;34m\u001b[0m\u001b[0;34m\u001b[0m\u001b[0m\n\u001b[0m",
            "\u001b[0;32m/usr/local/lib/python3.7/dist-packages/pandas/core/frame.py\u001b[0m in \u001b[0;36m__getitem__\u001b[0;34m(self, key)\u001b[0m\n\u001b[1;32m   2904\u001b[0m             \u001b[0;32mif\u001b[0m \u001b[0mself\u001b[0m\u001b[0;34m.\u001b[0m\u001b[0mcolumns\u001b[0m\u001b[0;34m.\u001b[0m\u001b[0mnlevels\u001b[0m \u001b[0;34m>\u001b[0m \u001b[0;36m1\u001b[0m\u001b[0;34m:\u001b[0m\u001b[0;34m\u001b[0m\u001b[0;34m\u001b[0m\u001b[0m\n\u001b[1;32m   2905\u001b[0m                 \u001b[0;32mreturn\u001b[0m \u001b[0mself\u001b[0m\u001b[0;34m.\u001b[0m\u001b[0m_getitem_multilevel\u001b[0m\u001b[0;34m(\u001b[0m\u001b[0mkey\u001b[0m\u001b[0;34m)\u001b[0m\u001b[0;34m\u001b[0m\u001b[0;34m\u001b[0m\u001b[0m\n\u001b[0;32m-> 2906\u001b[0;31m             \u001b[0mindexer\u001b[0m \u001b[0;34m=\u001b[0m \u001b[0mself\u001b[0m\u001b[0;34m.\u001b[0m\u001b[0mcolumns\u001b[0m\u001b[0;34m.\u001b[0m\u001b[0mget_loc\u001b[0m\u001b[0;34m(\u001b[0m\u001b[0mkey\u001b[0m\u001b[0;34m)\u001b[0m\u001b[0;34m\u001b[0m\u001b[0;34m\u001b[0m\u001b[0m\n\u001b[0m\u001b[1;32m   2907\u001b[0m             \u001b[0;32mif\u001b[0m \u001b[0mis_integer\u001b[0m\u001b[0;34m(\u001b[0m\u001b[0mindexer\u001b[0m\u001b[0;34m)\u001b[0m\u001b[0;34m:\u001b[0m\u001b[0;34m\u001b[0m\u001b[0;34m\u001b[0m\u001b[0m\n\u001b[1;32m   2908\u001b[0m                 \u001b[0mindexer\u001b[0m \u001b[0;34m=\u001b[0m \u001b[0;34m[\u001b[0m\u001b[0mindexer\u001b[0m\u001b[0;34m]\u001b[0m\u001b[0;34m\u001b[0m\u001b[0;34m\u001b[0m\u001b[0m\n",
            "\u001b[0;32m/usr/local/lib/python3.7/dist-packages/pandas/core/indexes/base.py\u001b[0m in \u001b[0;36mget_loc\u001b[0;34m(self, key, method, tolerance)\u001b[0m\n\u001b[1;32m   2898\u001b[0m                 \u001b[0;32mreturn\u001b[0m \u001b[0mself\u001b[0m\u001b[0;34m.\u001b[0m\u001b[0m_engine\u001b[0m\u001b[0;34m.\u001b[0m\u001b[0mget_loc\u001b[0m\u001b[0;34m(\u001b[0m\u001b[0mcasted_key\u001b[0m\u001b[0;34m)\u001b[0m\u001b[0;34m\u001b[0m\u001b[0;34m\u001b[0m\u001b[0m\n\u001b[1;32m   2899\u001b[0m             \u001b[0;32mexcept\u001b[0m \u001b[0mKeyError\u001b[0m \u001b[0;32mas\u001b[0m \u001b[0merr\u001b[0m\u001b[0;34m:\u001b[0m\u001b[0;34m\u001b[0m\u001b[0;34m\u001b[0m\u001b[0m\n\u001b[0;32m-> 2900\u001b[0;31m                 \u001b[0;32mraise\u001b[0m \u001b[0mKeyError\u001b[0m\u001b[0;34m(\u001b[0m\u001b[0mkey\u001b[0m\u001b[0;34m)\u001b[0m \u001b[0;32mfrom\u001b[0m \u001b[0merr\u001b[0m\u001b[0;34m\u001b[0m\u001b[0;34m\u001b[0m\u001b[0m\n\u001b[0m\u001b[1;32m   2901\u001b[0m \u001b[0;34m\u001b[0m\u001b[0m\n\u001b[1;32m   2902\u001b[0m         \u001b[0;32mif\u001b[0m \u001b[0mtolerance\u001b[0m \u001b[0;32mis\u001b[0m \u001b[0;32mnot\u001b[0m \u001b[0;32mNone\u001b[0m\u001b[0;34m:\u001b[0m\u001b[0;34m\u001b[0m\u001b[0;34m\u001b[0m\u001b[0m\n",
            "\u001b[0;31mKeyError\u001b[0m: 'Model'"
          ]
        }
      ]
    },
    {
      "cell_type": "markdown",
      "metadata": {
        "id": "3ToI2TotRkX_"
      },
      "source": [
        "There are lot of classes in Brand and Models. "
      ]
    },
    {
      "cell_type": "markdown",
      "metadata": {
        "id": "1zl8z_8-MiI4"
      },
      "source": [
        "###### Each brand have their own different models . Model and brand have  similar in terms of impact on buying cars.  so instead of two separate features we can change 'Brand' and 'Model' to one single feature."
      ]
    },
    {
      "cell_type": "code",
      "metadata": {
        "id": "viBez9vAMiI4"
      },
      "source": [
        "df['Brand']=df['Brand']+df['Model']"
      ],
      "execution_count": null,
      "outputs": []
    },
    {
      "cell_type": "code",
      "metadata": {
        "id": "MQHcqoApMiI4"
      },
      "source": [
        "df = df.drop(['Model'], axis = 1)"
      ],
      "execution_count": null,
      "outputs": []
    },
    {
      "cell_type": "code",
      "metadata": {
        "colab": {
          "base_uri": "https://localhost:8080/"
        },
        "id": "sf7s3HdfMiI4",
        "outputId": "eda00de4-c771-4899-b6dd-6c806a4955d7"
      },
      "source": [
        "df.info()"
      ],
      "execution_count": null,
      "outputs": [
        {
          "output_type": "stream",
          "text": [
            "<class 'pandas.core.frame.DataFrame'>\n",
            "Int64Index: 1901 entries, 0 to 2216\n",
            "Data columns (total 8 columns):\n",
            " #   Column           Non-Null Count  Dtype  \n",
            "---  ------           --------------  -----  \n",
            " 0   Brand            1901 non-null   object \n",
            " 1   Model_year       1901 non-null   float64\n",
            " 2   Transmission     1901 non-null   int64  \n",
            " 3   Engine_size(cc)  1901 non-null   float64\n",
            " 4   Drivetrain       1901 non-null   int64  \n",
            " 5   Fuel_type        1901 non-null   int64  \n",
            " 6   Kilometer        1901 non-null   float64\n",
            " 7   Price            1901 non-null   int64  \n",
            "dtypes: float64(3), int64(4), object(1)\n",
            "memory usage: 133.7+ KB\n"
          ],
          "name": "stdout"
        }
      ]
    },
    {
      "cell_type": "code",
      "metadata": {
        "id": "7cB0vE3iMiI5"
      },
      "source": [
        ""
      ],
      "execution_count": null,
      "outputs": []
    },
    {
      "cell_type": "code",
      "metadata": {
        "colab": {
          "base_uri": "https://localhost:8080/"
        },
        "id": "dq3QhKdDMiI5",
        "outputId": "1cc18daf-bcda-4593-f994-0fe1876a710a"
      },
      "source": [
        "df[['Transmission','Kilometer','Price']] = df[['Transmission','Kilometer','Price']].apply(pd.to_numeric)\n",
        "df.dtypes"
      ],
      "execution_count": null,
      "outputs": [
        {
          "output_type": "execute_result",
          "data": {
            "text/plain": [
              "Brand               object\n",
              "Model_year         float64\n",
              "Transmission         int64\n",
              "Engine_size(cc)    float64\n",
              "Drivetrain           int64\n",
              "Fuel_type            int64\n",
              "Kilometer          float64\n",
              "Price                int64\n",
              "dtype: object"
            ]
          },
          "metadata": {
            "tags": []
          },
          "execution_count": 120
        }
      ]
    },
    {
      "cell_type": "code",
      "metadata": {
        "colab": {
          "base_uri": "https://localhost:8080/"
        },
        "id": "2-wL0qzNMiI6",
        "outputId": "29ea0a96-e662-48e5-c09a-fffd3cda8df5"
      },
      "source": [
        "df.info()"
      ],
      "execution_count": null,
      "outputs": [
        {
          "output_type": "stream",
          "text": [
            "<class 'pandas.core.frame.DataFrame'>\n",
            "Int64Index: 1901 entries, 0 to 2216\n",
            "Data columns (total 8 columns):\n",
            " #   Column           Non-Null Count  Dtype  \n",
            "---  ------           --------------  -----  \n",
            " 0   Brand            1901 non-null   object \n",
            " 1   Model_year       1901 non-null   float64\n",
            " 2   Transmission     1901 non-null   int64  \n",
            " 3   Engine_size(cc)  1901 non-null   float64\n",
            " 4   Drivetrain       1901 non-null   int64  \n",
            " 5   Fuel_type        1901 non-null   int64  \n",
            " 6   Kilometer        1901 non-null   float64\n",
            " 7   Price            1901 non-null   int64  \n",
            "dtypes: float64(3), int64(4), object(1)\n",
            "memory usage: 133.7+ KB\n"
          ],
          "name": "stdout"
        }
      ]
    },
    {
      "cell_type": "code",
      "metadata": {
        "colab": {
          "base_uri": "https://localhost:8080/"
        },
        "id": "Yfg41zVrMiI6",
        "outputId": "9cff9254-434d-4e3a-f128-be457827430f"
      },
      "source": [
        "# finding the top 20 categories\n",
        "df.Brand.value_counts().sort_values(ascending=False).head(22)"
      ],
      "execution_count": null,
      "outputs": [
        {
          "output_type": "execute_result",
          "data": {
            "text/plain": [
              "Hyundaii10               214\n",
              "Hyundaisantro            194\n",
              "Maruti Suzukiswift       121\n",
              "Fordfigo                  90\n",
              "Maruti Suzukialto-800     86\n",
              "Hyundaiasta               80\n",
              "Maruti Suzukialto-LXI     72\n",
              "Mahindrascorpio           66\n",
              "Hyundaitucson             54\n",
              "Kiasportage               50\n",
              "Toyotacorolla             48\n",
              "Kiapicanto                46\n",
              "Tataindica                45\n",
              "Volkswagenpolo            41\n",
              "Hyundaii20                39\n",
              "Hondacity                 33\n",
              "Mahindrabolero            30\n",
              "Chevroletaveo             29\n",
              "Hyundaieon                29\n",
              "Fordtitanium              27\n",
              "Hyundaigetz               24\n",
              "Hyundaiaccent             22\n",
              "Name: Brand, dtype: int64"
            ]
          },
          "metadata": {
            "tags": []
          },
          "execution_count": 125
        }
      ]
    },
    {
      "cell_type": "markdown",
      "metadata": {
        "id": "p9Pv2z_ZMiI6"
      },
      "source": [
        "###### Top 15 car model which is maximum sold as a second hand car are:"
      ]
    },
    {
      "cell_type": "code",
      "metadata": {
        "colab": {
          "base_uri": "https://localhost:8080/"
        },
        "id": "5PFUKvSZMiI7",
        "outputId": "0265823c-4d43-4434-9068-914268906bcc"
      },
      "source": [
        "# make list with top 10 variables\n",
        "top_15 = [x for x in df.Brand.value_counts().sort_values(ascending=False).head(15).index]\n",
        "top_15"
      ],
      "execution_count": null,
      "outputs": [
        {
          "output_type": "execute_result",
          "data": {
            "text/plain": [
              "['Hyundaii10',\n",
              " 'Hyundaisantro',\n",
              " 'Maruti Suzukiswift',\n",
              " 'Fordfigo',\n",
              " 'Maruti Suzukialto-800',\n",
              " 'Hyundaiasta',\n",
              " 'Maruti Suzukialto-LXI',\n",
              " 'Mahindrascorpio',\n",
              " 'Hyundaitucson',\n",
              " 'Kiasportage',\n",
              " 'Toyotacorolla',\n",
              " 'Kiapicanto',\n",
              " 'Tataindica',\n",
              " 'Volkswagenpolo',\n",
              " 'Hyundaii20']"
            ]
          },
          "metadata": {
            "tags": []
          },
          "execution_count": 126
        }
      ]
    },
    {
      "cell_type": "markdown",
      "metadata": {
        "id": "4WQPB5r3MiI7"
      },
      "source": [
        "lets make top 15 classes of Brand as a separate features and include it in dataframe using One Hot encoding technique."
      ]
    },
    {
      "cell_type": "code",
      "metadata": {
        "id": "HZnrYZMvMiI7"
      },
      "source": [
        "for categories in top_15:\n",
        "    df[categories]=np.where(df['Brand']==categories,1,0)\n",
        "top_15.append('Brand')"
      ],
      "execution_count": null,
      "outputs": []
    },
    {
      "cell_type": "code",
      "metadata": {
        "colab": {
          "base_uri": "https://localhost:8080/",
          "height": 413
        },
        "id": "KbXFELT9MiI7",
        "outputId": "0f441af6-3840-452a-fde2-38a3631c4a6c"
      },
      "source": [
        "df[top_15][100:110] #we can verify the one hot encoding values with Brand classes"
      ],
      "execution_count": null,
      "outputs": [
        {
          "output_type": "execute_result",
          "data": {
            "text/html": [
              "<div>\n",
              "<style scoped>\n",
              "    .dataframe tbody tr th:only-of-type {\n",
              "        vertical-align: middle;\n",
              "    }\n",
              "\n",
              "    .dataframe tbody tr th {\n",
              "        vertical-align: top;\n",
              "    }\n",
              "\n",
              "    .dataframe thead th {\n",
              "        text-align: right;\n",
              "    }\n",
              "</style>\n",
              "<table border=\"1\" class=\"dataframe\">\n",
              "  <thead>\n",
              "    <tr style=\"text-align: right;\">\n",
              "      <th></th>\n",
              "      <th>Hyundaii10</th>\n",
              "      <th>Hyundaisantro</th>\n",
              "      <th>Maruti Suzukiswift</th>\n",
              "      <th>Fordfigo</th>\n",
              "      <th>Maruti Suzukialto-800</th>\n",
              "      <th>Hyundaiasta</th>\n",
              "      <th>Maruti Suzukialto-LXI</th>\n",
              "      <th>Mahindrascorpio</th>\n",
              "      <th>Hyundaitucson</th>\n",
              "      <th>Kiasportage</th>\n",
              "      <th>Toyotacorolla</th>\n",
              "      <th>Kiapicanto</th>\n",
              "      <th>Tataindica</th>\n",
              "      <th>Volkswagenpolo</th>\n",
              "      <th>Hyundaii20</th>\n",
              "      <th>Brand</th>\n",
              "    </tr>\n",
              "  </thead>\n",
              "  <tbody>\n",
              "    <tr>\n",
              "      <th>100</th>\n",
              "      <td>0</td>\n",
              "      <td>0</td>\n",
              "      <td>0</td>\n",
              "      <td>0</td>\n",
              "      <td>0</td>\n",
              "      <td>0</td>\n",
              "      <td>0</td>\n",
              "      <td>0</td>\n",
              "      <td>0</td>\n",
              "      <td>0</td>\n",
              "      <td>0</td>\n",
              "      <td>0</td>\n",
              "      <td>0</td>\n",
              "      <td>0</td>\n",
              "      <td>0</td>\n",
              "      <td>Fordecosport</td>\n",
              "    </tr>\n",
              "    <tr>\n",
              "      <th>101</th>\n",
              "      <td>0</td>\n",
              "      <td>0</td>\n",
              "      <td>0</td>\n",
              "      <td>0</td>\n",
              "      <td>0</td>\n",
              "      <td>0</td>\n",
              "      <td>0</td>\n",
              "      <td>0</td>\n",
              "      <td>0</td>\n",
              "      <td>0</td>\n",
              "      <td>0</td>\n",
              "      <td>0</td>\n",
              "      <td>0</td>\n",
              "      <td>0</td>\n",
              "      <td>0</td>\n",
              "      <td>Fordfiesta</td>\n",
              "    </tr>\n",
              "    <tr>\n",
              "      <th>102</th>\n",
              "      <td>0</td>\n",
              "      <td>0</td>\n",
              "      <td>0</td>\n",
              "      <td>0</td>\n",
              "      <td>0</td>\n",
              "      <td>0</td>\n",
              "      <td>0</td>\n",
              "      <td>0</td>\n",
              "      <td>0</td>\n",
              "      <td>0</td>\n",
              "      <td>0</td>\n",
              "      <td>0</td>\n",
              "      <td>0</td>\n",
              "      <td>0</td>\n",
              "      <td>0</td>\n",
              "      <td>Fordtitanium</td>\n",
              "    </tr>\n",
              "    <tr>\n",
              "      <th>103</th>\n",
              "      <td>0</td>\n",
              "      <td>0</td>\n",
              "      <td>0</td>\n",
              "      <td>0</td>\n",
              "      <td>0</td>\n",
              "      <td>0</td>\n",
              "      <td>0</td>\n",
              "      <td>0</td>\n",
              "      <td>0</td>\n",
              "      <td>0</td>\n",
              "      <td>0</td>\n",
              "      <td>0</td>\n",
              "      <td>0</td>\n",
              "      <td>0</td>\n",
              "      <td>0</td>\n",
              "      <td>Fordecosport</td>\n",
              "    </tr>\n",
              "    <tr>\n",
              "      <th>104</th>\n",
              "      <td>0</td>\n",
              "      <td>0</td>\n",
              "      <td>0</td>\n",
              "      <td>1</td>\n",
              "      <td>0</td>\n",
              "      <td>0</td>\n",
              "      <td>0</td>\n",
              "      <td>0</td>\n",
              "      <td>0</td>\n",
              "      <td>0</td>\n",
              "      <td>0</td>\n",
              "      <td>0</td>\n",
              "      <td>0</td>\n",
              "      <td>0</td>\n",
              "      <td>0</td>\n",
              "      <td>Fordfigo</td>\n",
              "    </tr>\n",
              "    <tr>\n",
              "      <th>105</th>\n",
              "      <td>0</td>\n",
              "      <td>0</td>\n",
              "      <td>0</td>\n",
              "      <td>0</td>\n",
              "      <td>0</td>\n",
              "      <td>0</td>\n",
              "      <td>0</td>\n",
              "      <td>0</td>\n",
              "      <td>0</td>\n",
              "      <td>0</td>\n",
              "      <td>0</td>\n",
              "      <td>0</td>\n",
              "      <td>0</td>\n",
              "      <td>0</td>\n",
              "      <td>0</td>\n",
              "      <td>Fordecosport</td>\n",
              "    </tr>\n",
              "    <tr>\n",
              "      <th>106</th>\n",
              "      <td>0</td>\n",
              "      <td>0</td>\n",
              "      <td>0</td>\n",
              "      <td>0</td>\n",
              "      <td>0</td>\n",
              "      <td>0</td>\n",
              "      <td>0</td>\n",
              "      <td>0</td>\n",
              "      <td>0</td>\n",
              "      <td>0</td>\n",
              "      <td>0</td>\n",
              "      <td>0</td>\n",
              "      <td>0</td>\n",
              "      <td>0</td>\n",
              "      <td>0</td>\n",
              "      <td>Fordtitanium</td>\n",
              "    </tr>\n",
              "    <tr>\n",
              "      <th>107</th>\n",
              "      <td>0</td>\n",
              "      <td>0</td>\n",
              "      <td>0</td>\n",
              "      <td>1</td>\n",
              "      <td>0</td>\n",
              "      <td>0</td>\n",
              "      <td>0</td>\n",
              "      <td>0</td>\n",
              "      <td>0</td>\n",
              "      <td>0</td>\n",
              "      <td>0</td>\n",
              "      <td>0</td>\n",
              "      <td>0</td>\n",
              "      <td>0</td>\n",
              "      <td>0</td>\n",
              "      <td>Fordfigo</td>\n",
              "    </tr>\n",
              "    <tr>\n",
              "      <th>108</th>\n",
              "      <td>0</td>\n",
              "      <td>0</td>\n",
              "      <td>0</td>\n",
              "      <td>0</td>\n",
              "      <td>0</td>\n",
              "      <td>0</td>\n",
              "      <td>0</td>\n",
              "      <td>0</td>\n",
              "      <td>0</td>\n",
              "      <td>0</td>\n",
              "      <td>0</td>\n",
              "      <td>0</td>\n",
              "      <td>0</td>\n",
              "      <td>0</td>\n",
              "      <td>0</td>\n",
              "      <td>Fordtitanium</td>\n",
              "    </tr>\n",
              "    <tr>\n",
              "      <th>109</th>\n",
              "      <td>0</td>\n",
              "      <td>0</td>\n",
              "      <td>0</td>\n",
              "      <td>0</td>\n",
              "      <td>0</td>\n",
              "      <td>0</td>\n",
              "      <td>0</td>\n",
              "      <td>0</td>\n",
              "      <td>0</td>\n",
              "      <td>0</td>\n",
              "      <td>0</td>\n",
              "      <td>0</td>\n",
              "      <td>0</td>\n",
              "      <td>0</td>\n",
              "      <td>0</td>\n",
              "      <td>Fordecosport</td>\n",
              "    </tr>\n",
              "  </tbody>\n",
              "</table>\n",
              "</div>"
            ],
            "text/plain": [
              "     Hyundaii10  Hyundaisantro  ...  Hyundaii20         Brand\n",
              "100           0              0  ...           0  Fordecosport\n",
              "101           0              0  ...           0    Fordfiesta\n",
              "102           0              0  ...           0  Fordtitanium\n",
              "103           0              0  ...           0  Fordecosport\n",
              "104           0              0  ...           0      Fordfigo\n",
              "105           0              0  ...           0  Fordecosport\n",
              "106           0              0  ...           0  Fordtitanium\n",
              "107           0              0  ...           0      Fordfigo\n",
              "108           0              0  ...           0  Fordtitanium\n",
              "109           0              0  ...           0  Fordecosport\n",
              "\n",
              "[10 rows x 16 columns]"
            ]
          },
          "metadata": {
            "tags": []
          },
          "execution_count": 128
        }
      ]
    },
    {
      "cell_type": "code",
      "metadata": {
        "colab": {
          "base_uri": "https://localhost:8080/",
          "height": 258
        },
        "id": "VuidNRLoMiI8",
        "outputId": "a8a9bc99-fa47-416a-f17d-7c91feca1dac"
      },
      "source": [
        "df.head() "
      ],
      "execution_count": null,
      "outputs": [
        {
          "output_type": "execute_result",
          "data": {
            "text/html": [
              "<div>\n",
              "<style scoped>\n",
              "    .dataframe tbody tr th:only-of-type {\n",
              "        vertical-align: middle;\n",
              "    }\n",
              "\n",
              "    .dataframe tbody tr th {\n",
              "        vertical-align: top;\n",
              "    }\n",
              "\n",
              "    .dataframe thead th {\n",
              "        text-align: right;\n",
              "    }\n",
              "</style>\n",
              "<table border=\"1\" class=\"dataframe\">\n",
              "  <thead>\n",
              "    <tr style=\"text-align: right;\">\n",
              "      <th></th>\n",
              "      <th>Brand</th>\n",
              "      <th>Model_year</th>\n",
              "      <th>Transmission</th>\n",
              "      <th>Engine_size(cc)</th>\n",
              "      <th>Drivetrain</th>\n",
              "      <th>Fuel_type</th>\n",
              "      <th>Kilometer</th>\n",
              "      <th>Price</th>\n",
              "      <th>Hyundaii10</th>\n",
              "      <th>Hyundaisantro</th>\n",
              "      <th>Maruti Suzukiswift</th>\n",
              "      <th>Fordfigo</th>\n",
              "      <th>Maruti Suzukialto-800</th>\n",
              "      <th>Hyundaiasta</th>\n",
              "      <th>Maruti Suzukialto-LXI</th>\n",
              "      <th>Mahindrascorpio</th>\n",
              "      <th>Hyundaitucson</th>\n",
              "      <th>Kiasportage</th>\n",
              "      <th>Toyotacorolla</th>\n",
              "      <th>Kiapicanto</th>\n",
              "      <th>Tataindica</th>\n",
              "      <th>Volkswagenpolo</th>\n",
              "      <th>Hyundaii20</th>\n",
              "    </tr>\n",
              "  </thead>\n",
              "  <tbody>\n",
              "    <tr>\n",
              "      <th>0</th>\n",
              "      <td>Chevroletaveo</td>\n",
              "      <td>12</td>\n",
              "      <td>0</td>\n",
              "      <td>1150</td>\n",
              "      <td>0</td>\n",
              "      <td>0</td>\n",
              "      <td>200.0</td>\n",
              "      <td>975000</td>\n",
              "      <td>0</td>\n",
              "      <td>0</td>\n",
              "      <td>0</td>\n",
              "      <td>0</td>\n",
              "      <td>0</td>\n",
              "      <td>0</td>\n",
              "      <td>0</td>\n",
              "      <td>0</td>\n",
              "      <td>0</td>\n",
              "      <td>0</td>\n",
              "      <td>0</td>\n",
              "      <td>0</td>\n",
              "      <td>0</td>\n",
              "      <td>0</td>\n",
              "      <td>0</td>\n",
              "    </tr>\n",
              "    <tr>\n",
              "      <th>1</th>\n",
              "      <td>Chevroletcaptiva</td>\n",
              "      <td>6</td>\n",
              "      <td>1</td>\n",
              "      <td>2000</td>\n",
              "      <td>1</td>\n",
              "      <td>1</td>\n",
              "      <td>100.0</td>\n",
              "      <td>3000000</td>\n",
              "      <td>0</td>\n",
              "      <td>0</td>\n",
              "      <td>0</td>\n",
              "      <td>0</td>\n",
              "      <td>0</td>\n",
              "      <td>0</td>\n",
              "      <td>0</td>\n",
              "      <td>0</td>\n",
              "      <td>0</td>\n",
              "      <td>0</td>\n",
              "      <td>0</td>\n",
              "      <td>0</td>\n",
              "      <td>0</td>\n",
              "      <td>0</td>\n",
              "      <td>0</td>\n",
              "    </tr>\n",
              "    <tr>\n",
              "      <th>2</th>\n",
              "      <td>Chevroletaveo</td>\n",
              "      <td>12</td>\n",
              "      <td>0</td>\n",
              "      <td>1150</td>\n",
              "      <td>0</td>\n",
              "      <td>0</td>\n",
              "      <td>42000.0</td>\n",
              "      <td>975000</td>\n",
              "      <td>0</td>\n",
              "      <td>0</td>\n",
              "      <td>0</td>\n",
              "      <td>0</td>\n",
              "      <td>0</td>\n",
              "      <td>0</td>\n",
              "      <td>0</td>\n",
              "      <td>0</td>\n",
              "      <td>0</td>\n",
              "      <td>0</td>\n",
              "      <td>0</td>\n",
              "      <td>0</td>\n",
              "      <td>0</td>\n",
              "      <td>0</td>\n",
              "      <td>0</td>\n",
              "    </tr>\n",
              "    <tr>\n",
              "      <th>3</th>\n",
              "      <td>Chevroletcaptiva</td>\n",
              "      <td>11</td>\n",
              "      <td>1</td>\n",
              "      <td>2000</td>\n",
              "      <td>1</td>\n",
              "      <td>1</td>\n",
              "      <td>51000.0</td>\n",
              "      <td>3000000</td>\n",
              "      <td>0</td>\n",
              "      <td>0</td>\n",
              "      <td>0</td>\n",
              "      <td>0</td>\n",
              "      <td>0</td>\n",
              "      <td>0</td>\n",
              "      <td>0</td>\n",
              "      <td>0</td>\n",
              "      <td>0</td>\n",
              "      <td>0</td>\n",
              "      <td>0</td>\n",
              "      <td>0</td>\n",
              "      <td>0</td>\n",
              "      <td>0</td>\n",
              "      <td>0</td>\n",
              "    </tr>\n",
              "    <tr>\n",
              "      <th>4</th>\n",
              "      <td>Chevroletspark</td>\n",
              "      <td>9</td>\n",
              "      <td>0</td>\n",
              "      <td>1000</td>\n",
              "      <td>0</td>\n",
              "      <td>0</td>\n",
              "      <td>38000.0</td>\n",
              "      <td>1000000</td>\n",
              "      <td>0</td>\n",
              "      <td>0</td>\n",
              "      <td>0</td>\n",
              "      <td>0</td>\n",
              "      <td>0</td>\n",
              "      <td>0</td>\n",
              "      <td>0</td>\n",
              "      <td>0</td>\n",
              "      <td>0</td>\n",
              "      <td>0</td>\n",
              "      <td>0</td>\n",
              "      <td>0</td>\n",
              "      <td>0</td>\n",
              "      <td>0</td>\n",
              "      <td>0</td>\n",
              "    </tr>\n",
              "  </tbody>\n",
              "</table>\n",
              "</div>"
            ],
            "text/plain": [
              "              Brand  Model_year  ...  Volkswagenpolo  Hyundaii20\n",
              "0     Chevroletaveo          12  ...               0           0\n",
              "1  Chevroletcaptiva           6  ...               0           0\n",
              "2     Chevroletaveo          12  ...               0           0\n",
              "3  Chevroletcaptiva          11  ...               0           0\n",
              "4    Chevroletspark           9  ...               0           0\n",
              "\n",
              "[5 rows x 23 columns]"
            ]
          },
          "metadata": {
            "tags": []
          },
          "execution_count": 129
        }
      ]
    },
    {
      "cell_type": "code",
      "metadata": {
        "id": "iyQfsq0gMiI8"
      },
      "source": [
        "# now there is no use of Brand column so lets drop it out\n",
        "df.drop(['Brand'], axis='columns', inplace=True)"
      ],
      "execution_count": null,
      "outputs": []
    },
    {
      "cell_type": "code",
      "metadata": {
        "colab": {
          "base_uri": "https://localhost:8080/",
          "height": 351
        },
        "id": "ocjAK1fHMiI8",
        "outputId": "69ea3649-5b2e-4022-c9c4-1036bf0ada5d"
      },
      "source": [
        "df.describe()"
      ],
      "execution_count": null,
      "outputs": [
        {
          "output_type": "execute_result",
          "data": {
            "text/html": [
              "<div>\n",
              "<style scoped>\n",
              "    .dataframe tbody tr th:only-of-type {\n",
              "        vertical-align: middle;\n",
              "    }\n",
              "\n",
              "    .dataframe tbody tr th {\n",
              "        vertical-align: top;\n",
              "    }\n",
              "\n",
              "    .dataframe thead th {\n",
              "        text-align: right;\n",
              "    }\n",
              "</style>\n",
              "<table border=\"1\" class=\"dataframe\">\n",
              "  <thead>\n",
              "    <tr style=\"text-align: right;\">\n",
              "      <th></th>\n",
              "      <th>Model_year</th>\n",
              "      <th>Transmission</th>\n",
              "      <th>Engine_size(cc)</th>\n",
              "      <th>Drivetrain</th>\n",
              "      <th>Fuel_type</th>\n",
              "      <th>Kilometer</th>\n",
              "      <th>Price</th>\n",
              "      <th>Hyundaii10</th>\n",
              "      <th>Hyundaisantro</th>\n",
              "      <th>Maruti Suzukiswift</th>\n",
              "      <th>Fordfigo</th>\n",
              "      <th>Maruti Suzukialto-800</th>\n",
              "      <th>Hyundaiasta</th>\n",
              "      <th>Maruti Suzukialto-LXI</th>\n",
              "      <th>Mahindrascorpio</th>\n",
              "      <th>Hyundaitucson</th>\n",
              "      <th>Kiasportage</th>\n",
              "      <th>Toyotacorolla</th>\n",
              "      <th>Kiapicanto</th>\n",
              "      <th>Tataindica</th>\n",
              "      <th>Volkswagenpolo</th>\n",
              "      <th>Hyundaii20</th>\n",
              "    </tr>\n",
              "  </thead>\n",
              "  <tbody>\n",
              "    <tr>\n",
              "      <th>count</th>\n",
              "      <td>1901.000000</td>\n",
              "      <td>1901.000000</td>\n",
              "      <td>1901.000000</td>\n",
              "      <td>1901.000000</td>\n",
              "      <td>1901.000000</td>\n",
              "      <td>1901.000000</td>\n",
              "      <td>1.901000e+03</td>\n",
              "      <td>1901.000000</td>\n",
              "      <td>1901.000000</td>\n",
              "      <td>1901.000000</td>\n",
              "      <td>1901.000000</td>\n",
              "      <td>1901.000000</td>\n",
              "      <td>1901.000000</td>\n",
              "      <td>1901.000000</td>\n",
              "      <td>1901.000000</td>\n",
              "      <td>1901.000000</td>\n",
              "      <td>1901.000000</td>\n",
              "      <td>1901.000000</td>\n",
              "      <td>1901.000000</td>\n",
              "      <td>1901.000000</td>\n",
              "      <td>1901.000000</td>\n",
              "      <td>1901.000000</td>\n",
              "    </tr>\n",
              "    <tr>\n",
              "      <th>mean</th>\n",
              "      <td>11.560231</td>\n",
              "      <td>0.039979</td>\n",
              "      <td>1420.210416</td>\n",
              "      <td>0.113098</td>\n",
              "      <td>0.195160</td>\n",
              "      <td>41094.897422</td>\n",
              "      <td>2.024845e+06</td>\n",
              "      <td>0.112572</td>\n",
              "      <td>0.102052</td>\n",
              "      <td>0.063651</td>\n",
              "      <td>0.047344</td>\n",
              "      <td>0.045239</td>\n",
              "      <td>0.042083</td>\n",
              "      <td>0.037875</td>\n",
              "      <td>0.034719</td>\n",
              "      <td>0.028406</td>\n",
              "      <td>0.026302</td>\n",
              "      <td>0.025250</td>\n",
              "      <td>0.024198</td>\n",
              "      <td>0.023672</td>\n",
              "      <td>0.021568</td>\n",
              "      <td>0.020516</td>\n",
              "    </tr>\n",
              "    <tr>\n",
              "      <th>std</th>\n",
              "      <td>4.098546</td>\n",
              "      <td>0.195961</td>\n",
              "      <td>507.546885</td>\n",
              "      <td>0.316796</td>\n",
              "      <td>0.396428</td>\n",
              "      <td>38439.454222</td>\n",
              "      <td>1.797278e+06</td>\n",
              "      <td>0.316152</td>\n",
              "      <td>0.302796</td>\n",
              "      <td>0.244194</td>\n",
              "      <td>0.212428</td>\n",
              "      <td>0.207883</td>\n",
              "      <td>0.200832</td>\n",
              "      <td>0.190944</td>\n",
              "      <td>0.183114</td>\n",
              "      <td>0.166174</td>\n",
              "      <td>0.160074</td>\n",
              "      <td>0.156924</td>\n",
              "      <td>0.153703</td>\n",
              "      <td>0.152064</td>\n",
              "      <td>0.145305</td>\n",
              "      <td>0.141793</td>\n",
              "    </tr>\n",
              "    <tr>\n",
              "      <th>min</th>\n",
              "      <td>2.000000</td>\n",
              "      <td>0.000000</td>\n",
              "      <td>624.000000</td>\n",
              "      <td>0.000000</td>\n",
              "      <td>0.000000</td>\n",
              "      <td>100.000000</td>\n",
              "      <td>2.011000e+03</td>\n",
              "      <td>0.000000</td>\n",
              "      <td>0.000000</td>\n",
              "      <td>0.000000</td>\n",
              "      <td>0.000000</td>\n",
              "      <td>0.000000</td>\n",
              "      <td>0.000000</td>\n",
              "      <td>0.000000</td>\n",
              "      <td>0.000000</td>\n",
              "      <td>0.000000</td>\n",
              "      <td>0.000000</td>\n",
              "      <td>0.000000</td>\n",
              "      <td>0.000000</td>\n",
              "      <td>0.000000</td>\n",
              "      <td>0.000000</td>\n",
              "      <td>0.000000</td>\n",
              "    </tr>\n",
              "    <tr>\n",
              "      <th>25%</th>\n",
              "      <td>9.000000</td>\n",
              "      <td>0.000000</td>\n",
              "      <td>1100.000000</td>\n",
              "      <td>0.000000</td>\n",
              "      <td>0.000000</td>\n",
              "      <td>25000.000000</td>\n",
              "      <td>1.190000e+06</td>\n",
              "      <td>0.000000</td>\n",
              "      <td>0.000000</td>\n",
              "      <td>0.000000</td>\n",
              "      <td>0.000000</td>\n",
              "      <td>0.000000</td>\n",
              "      <td>0.000000</td>\n",
              "      <td>0.000000</td>\n",
              "      <td>0.000000</td>\n",
              "      <td>0.000000</td>\n",
              "      <td>0.000000</td>\n",
              "      <td>0.000000</td>\n",
              "      <td>0.000000</td>\n",
              "      <td>0.000000</td>\n",
              "      <td>0.000000</td>\n",
              "      <td>0.000000</td>\n",
              "    </tr>\n",
              "    <tr>\n",
              "      <th>50%</th>\n",
              "      <td>11.000000</td>\n",
              "      <td>0.000000</td>\n",
              "      <td>1200.000000</td>\n",
              "      <td>0.000000</td>\n",
              "      <td>0.000000</td>\n",
              "      <td>36000.000000</td>\n",
              "      <td>1.575000e+06</td>\n",
              "      <td>0.000000</td>\n",
              "      <td>0.000000</td>\n",
              "      <td>0.000000</td>\n",
              "      <td>0.000000</td>\n",
              "      <td>0.000000</td>\n",
              "      <td>0.000000</td>\n",
              "      <td>0.000000</td>\n",
              "      <td>0.000000</td>\n",
              "      <td>0.000000</td>\n",
              "      <td>0.000000</td>\n",
              "      <td>0.000000</td>\n",
              "      <td>0.000000</td>\n",
              "      <td>0.000000</td>\n",
              "      <td>0.000000</td>\n",
              "      <td>0.000000</td>\n",
              "    </tr>\n",
              "    <tr>\n",
              "      <th>75%</th>\n",
              "      <td>13.000000</td>\n",
              "      <td>0.000000</td>\n",
              "      <td>1600.000000</td>\n",
              "      <td>0.000000</td>\n",
              "      <td>0.000000</td>\n",
              "      <td>50000.000000</td>\n",
              "      <td>2.400000e+06</td>\n",
              "      <td>0.000000</td>\n",
              "      <td>0.000000</td>\n",
              "      <td>0.000000</td>\n",
              "      <td>0.000000</td>\n",
              "      <td>0.000000</td>\n",
              "      <td>0.000000</td>\n",
              "      <td>0.000000</td>\n",
              "      <td>0.000000</td>\n",
              "      <td>0.000000</td>\n",
              "      <td>0.000000</td>\n",
              "      <td>0.000000</td>\n",
              "      <td>0.000000</td>\n",
              "      <td>0.000000</td>\n",
              "      <td>0.000000</td>\n",
              "      <td>0.000000</td>\n",
              "    </tr>\n",
              "    <tr>\n",
              "      <th>max</th>\n",
              "      <td>35.000000</td>\n",
              "      <td>1.000000</td>\n",
              "      <td>4400.000000</td>\n",
              "      <td>1.000000</td>\n",
              "      <td>1.000000</td>\n",
              "      <td>800000.000000</td>\n",
              "      <td>3.200000e+07</td>\n",
              "      <td>1.000000</td>\n",
              "      <td>1.000000</td>\n",
              "      <td>1.000000</td>\n",
              "      <td>1.000000</td>\n",
              "      <td>1.000000</td>\n",
              "      <td>1.000000</td>\n",
              "      <td>1.000000</td>\n",
              "      <td>1.000000</td>\n",
              "      <td>1.000000</td>\n",
              "      <td>1.000000</td>\n",
              "      <td>1.000000</td>\n",
              "      <td>1.000000</td>\n",
              "      <td>1.000000</td>\n",
              "      <td>1.000000</td>\n",
              "      <td>1.000000</td>\n",
              "    </tr>\n",
              "  </tbody>\n",
              "</table>\n",
              "</div>"
            ],
            "text/plain": [
              "        Model_year  Transmission  ...  Volkswagenpolo   Hyundaii20\n",
              "count  1901.000000   1901.000000  ...     1901.000000  1901.000000\n",
              "mean     11.560231      0.039979  ...        0.021568     0.020516\n",
              "std       4.098546      0.195961  ...        0.145305     0.141793\n",
              "min       2.000000      0.000000  ...        0.000000     0.000000\n",
              "25%       9.000000      0.000000  ...        0.000000     0.000000\n",
              "50%      11.000000      0.000000  ...        0.000000     0.000000\n",
              "75%      13.000000      0.000000  ...        0.000000     0.000000\n",
              "max      35.000000      1.000000  ...        1.000000     1.000000\n",
              "\n",
              "[8 rows x 22 columns]"
            ]
          },
          "metadata": {
            "tags": []
          },
          "execution_count": 131
        }
      ]
    },
    {
      "cell_type": "code",
      "metadata": {
        "colab": {
          "base_uri": "https://localhost:8080/"
        },
        "id": "wn39NZdRSwiI",
        "outputId": "b68054bd-6325-4042-eafb-8e365bb9291e"
      },
      "source": [
        "df.shape"
      ],
      "execution_count": null,
      "outputs": [
        {
          "output_type": "execute_result",
          "data": {
            "text/plain": [
              "(1901, 22)"
            ]
          },
          "metadata": {
            "tags": []
          },
          "execution_count": 132
        }
      ]
    },
    {
      "cell_type": "code",
      "metadata": {
        "id": "jQXzPASIS3Zy"
      },
      "source": [
        ""
      ],
      "execution_count": null,
      "outputs": []
    },
    {
      "cell_type": "markdown",
      "metadata": {
        "id": "gRJrT5VSS_-H"
      },
      "source": [
        "### Model Building"
      ]
    },
    {
      "cell_type": "code",
      "metadata": {
        "id": "ytn6KU-3TJGc"
      },
      "source": [
        ""
      ],
      "execution_count": null,
      "outputs": []
    }
  ]
}